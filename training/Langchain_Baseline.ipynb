{
 "cells": [
  {
   "cell_type": "code",
   "execution_count": 1,
   "id": "fa0d3b68-9daf-4c2d-9e5e-2ad61b5f7c9f",
   "metadata": {},
   "outputs": [],
   "source": [
    "%load_ext autoreload\n",
    "%autoreload 2"
   ]
  },
  {
   "cell_type": "markdown",
   "id": "c72ddba8-599c-408c-bf51-94dd5ae894e8",
   "metadata": {},
   "source": [
    "### Baseline LLM text-classification with Langchain"
   ]
  },
  {
   "cell_type": "markdown",
   "id": "fa7d3a23-df19-4e67-888e-ef6a600c2b5a",
   "metadata": {},
   "source": [
    "**test à faire**\n",
    "- model :\n",
    "    - pipeline_kwargs\n",
    "        - temperature, do_sample\n",
    "        - max_new_tokens\n",
    "    - benchmark differents modeles\n",
    "- dataset : truncated quotes vs not\n",
    "- prompt : engineering\n",
    "\n",
    "- ajouter efficiency metrics : time and emissions"
   ]
  },
  {
   "cell_type": "code",
   "execution_count": 2,
   "id": "fb9c33ec-f865-4394-b8d3-18ca5e96e424",
   "metadata": {},
   "outputs": [],
   "source": [
    "from frugalai.utils.efficiency_tracker import FunctionTimer\n",
    "\n",
    "timer = FunctionTimer()"
   ]
  },
  {
   "cell_type": "markdown",
   "id": "680ce1ed-b610-4456-b581-e398ea18c5af",
   "metadata": {},
   "source": [
    "##### **Load dataset**"
   ]
  },
  {
   "cell_type": "code",
   "execution_count": 3,
   "id": "2a41a70e-ece6-4660-becc-61a79f500439",
   "metadata": {},
   "outputs": [
    {
     "name": "stdout",
     "output_type": "stream",
     "text": [
      "\n",
      "⏳ FunctionTimer : load_dataset_train executed in 3.8537 seconds\n",
      "\n",
      "<class 'datasets.arrow_dataset.Dataset'>\n",
      "(4872, 2)\n",
      "\n",
      "CPU times: user 1.67 s, sys: 792 ms, total: 2.46 s\n",
      "Wall time: 11 s\n"
     ]
    }
   ],
   "source": [
    "%%time\n",
    "from datasets import load_dataset\n",
    "\n",
    "@timer.track\n",
    "def load_dataset_train():\n",
    "    ds = load_dataset(\"QuotaClimat/frugalaichallenge-text-train\")\n",
    "    ds = ds.select_columns(['quote', 'label'])\n",
    "    ds = ds['train']\n",
    "    return ds\n",
    "\n",
    "ds = load_dataset_train()\n",
    "print(type(ds))\n",
    "print(ds.shape)\n",
    "print()"
   ]
  },
  {
   "cell_type": "markdown",
   "id": "4a4af937-f0fd-438b-a9e1-076c829784ea",
   "metadata": {},
   "source": [
    "##### **Sample a balanced subset**"
   ]
  },
  {
   "cell_type": "code",
   "execution_count": 4,
   "id": "d8017185-40a6-4389-ba45-1fbe1f529296",
   "metadata": {},
   "outputs": [
    {
     "name": "stdout",
     "output_type": "stream",
     "text": [
      "\n",
      "🔹 Label distribution (dataset.Dataset):\n",
      "Category                                Count     Percentage\n",
      "------------------------------------------------------------\n",
      "0_not_relevant                          1311      26.91%\n",
      "1_not_happening                         587       12.05%\n",
      "2_not_human                             565       11.6%\n",
      "3_not_bad                               289       5.93%\n",
      "4_solutions_harmful_unnecessary         614       12.6%\n",
      "5_science_unreliable                    641       13.16%\n",
      "6_proponents_biased                     643       13.2%\n",
      "7_fossil_fuels_needed                   222       4.56%\n"
     ]
    }
   ],
   "source": [
    "from frugalai.utils.analytics import print_distribution\n",
    "\n",
    "print_distribution(ds)"
   ]
  },
  {
   "cell_type": "code",
   "execution_count": 5,
   "id": "09390876-66ee-4b9c-9f3e-b86d4503ff0a",
   "metadata": {},
   "outputs": [
    {
     "name": "stdout",
     "output_type": "stream",
     "text": [
      "Dataset({\n",
      "    features: ['quote', 'label'],\n",
      "    num_rows: 48\n",
      "})\n",
      "\n",
      "🔹 Label distribution (dataset.Dataset):\n",
      "Category                                Count     Percentage\n",
      "------------------------------------------------------------\n",
      "0_not_relevant                          6         12.5%\n",
      "1_not_happening                         6         12.5%\n",
      "2_not_human                             6         12.5%\n",
      "3_not_bad                               6         12.5%\n",
      "4_solutions_harmful_unnecessary         6         12.5%\n",
      "5_science_unreliable                    6         12.5%\n",
      "6_proponents_biased                     6         12.5%\n",
      "7_fossil_fuels_needed                   6         12.5%\n"
     ]
    }
   ],
   "source": [
    "from frugalai.utils.sampling import sample_balanced_subset\n",
    "\n",
    "subset_ds = sample_balanced_subset(ds)\n",
    "\n",
    "print(subset_ds)\n",
    "print_distribution(subset_ds)"
   ]
  },
  {
   "cell_type": "markdown",
   "id": "77c1f964-f515-4f2c-9040-26782e4c6c1f",
   "metadata": {},
   "source": [
    "##### **Limit quote size**"
   ]
  },
  {
   "cell_type": "code",
   "execution_count": 6,
   "id": "570fd8d5-35f8-4edc-8f77-d1a523bb5366",
   "metadata": {},
   "outputs": [
    {
     "data": {
      "text/plain": [
       "Dataset({\n",
       "    features: ['quote', 'label', 'trunc_quote'],\n",
       "    num_rows: 48\n",
       "})"
      ]
     },
     "execution_count": 6,
     "metadata": {},
     "output_type": "execute_result"
    }
   ],
   "source": [
    "threshold = 750\n",
    "\n",
    "# Add a truncated quote column\n",
    "def add_truncated_quote(example):\n",
    "    example[\"trunc_quote\"] = example[\"quote\"][:threshold]\n",
    "    return example\n",
    "\n",
    "subset_ds = subset_ds.map(add_truncated_quote)\n",
    "subset_ds"
   ]
  },
  {
   "cell_type": "code",
   "execution_count": 7,
   "id": "7a9cb21c-989e-44fd-aa81-463b7386a5cb",
   "metadata": {},
   "outputs": [
    {
     "data": {
      "text/plain": [
       "(48, 48)"
      ]
     },
     "execution_count": 7,
     "metadata": {},
     "output_type": "execute_result"
    }
   ],
   "source": [
    "X_test = subset_ds[\"quote\"]\n",
    "y_test = subset_ds[\"label\"]\n",
    "len(X_test), len(y_test)"
   ]
  },
  {
   "cell_type": "markdown",
   "id": "8ad6fe9c-20a2-4700-99b0-7bf8f2a3eade",
   "metadata": {},
   "source": [
    "##### **Load model**"
   ]
  },
  {
   "cell_type": "code",
   "execution_count": 8,
   "id": "0ce0edf9-fa30-49ec-afbb-add2d5f91cdb",
   "metadata": {},
   "outputs": [
    {
     "data": {
      "text/plain": [
       "'microsoft/Phi-3-mini-4k-instruct'"
      ]
     },
     "execution_count": 8,
     "metadata": {},
     "output_type": "execute_result"
    }
   ],
   "source": [
    "# Select Model\n",
    "MODEL_NAMES = {\n",
    "    \"mistral\": \"mistralai/Mistral-7B-Instruct-v0.1\",\n",
    "    \"phi3\": \"microsoft/Phi-3-mini-4k-instruct\",\n",
    "    \"qwen\": \"Qwen/Qwen2.5-0.5B\"\n",
    "}\n",
    "selected_model = \"phi3\"\n",
    "model_name = MODEL_NAMES[selected_model]\n",
    "model_name"
   ]
  },
  {
   "cell_type": "code",
   "execution_count": 9,
   "id": "43d8eb12-2ce4-4ba3-848f-cf421bfc8a1a",
   "metadata": {},
   "outputs": [
    {
     "data": {
      "application/vnd.jupyter.widget-view+json": {
       "model_id": "b647e573ec334aabbdd23079f22ba287",
       "version_major": 2,
       "version_minor": 0
      },
      "text/plain": [
       "Loading checkpoint shards:   0%|          | 0/2 [00:00<?, ?it/s]"
      ]
     },
     "metadata": {},
     "output_type": "display_data"
    },
    {
     "name": "stderr",
     "output_type": "stream",
     "text": [
      "Device set to use mps:0\n"
     ]
    },
    {
     "name": "stdout",
     "output_type": "stream",
     "text": [
      "\n",
      "⏳ FunctionTimer : load_model executed in 89.0175 seconds\n",
      "\n",
      "<class 'langchain_huggingface.chat_models.huggingface.ChatHuggingFace'>\n",
      "\n",
      "CPU times: user 11 s, sys: 12.4 s, total: 23.4 s\n",
      "Wall time: 1min 35s\n"
     ]
    }
   ],
   "source": [
    "%%time\n",
    "\n",
    "from langchain_huggingface import HuggingFacePipeline\n",
    "from langchain_huggingface import ChatHuggingFace\n",
    "import torch\n",
    "\n",
    "pipeline_kwargs={\n",
    "    \"max_new_tokens\": 20, #1\n",
    "    \"top_k\": 50,\n",
    "    #\"device_map\":\"auto\",\n",
    "    #\"batch_size\": 8,  # Process 8 quotes at a time\n",
    "    #repetition_penalty=1.03,\n",
    "}\n",
    "\n",
    "# deterministic (do_sample = False, temperature = 0)\n",
    "@timer.track\n",
    "def load_model(model_name):\n",
    "    torch.mps.empty_cache()\n",
    "    llm = HuggingFacePipeline.from_model_id(\n",
    "        model_id=model_name,\n",
    "        task=\"text-generation\",\n",
    "        pipeline_kwargs=pipeline_kwargs,\n",
    "    )\n",
    "    llm_engine = ChatHuggingFace(llm=llm)\n",
    "    return llm_engine\n",
    "\n",
    "model = load_model(model_name)\n",
    "print(type(model))\n",
    "print()"
   ]
  },
  {
   "cell_type": "code",
   "execution_count": 10,
   "id": "e4b7402f-b61c-4c0c-b03a-7966dbd35127",
   "metadata": {},
   "outputs": [
    {
     "name": "stdout",
     "output_type": "stream",
     "text": [
      "📁 Hugging Face Model Cache: /Users/a.villa.massone/.cache/huggingface/hub\n",
      "\n",
      "📌 28.97 GB\t| models--mistralai--Mistral-7B-Instruct-v0.1\n",
      "📌 15.29 GB\t| models--microsoft--Phi-3-mini-4k-instruct\n",
      "📌 3.26 GB\t| models--facebook--bart-large-mnli\n",
      "📌 0.02 GB\t| models--Qwen--Qwen2.5-0.5B\n",
      "📌 30.49 GB\t| models--Qwen--Qwen2.5-7B\n",
      "📌 7.12 GB\t| models--deepseek-ai--DeepSeek-R1-Distill-Qwen-1.5B\n",
      "\n",
      "🛑 Total Cache Size: 85.16 GB\n"
     ]
    }
   ],
   "source": [
    "from frugalai.utils.monitoring import model_cache_state\n",
    "\n",
    "model_cache_state()"
   ]
  },
  {
   "cell_type": "code",
   "execution_count": 11,
   "id": "1cd945eb-7c59-4959-b736-979a36b36794",
   "metadata": {},
   "outputs": [
    {
     "data": {
      "text/plain": [
       "{'model_name': 'microsoft/Phi-3-mini-4k-instruct',\n",
       " 'model_type': transformers.models.phi3.modeling_phi3.Phi3ForCausalLM,\n",
       " 'total_params_Billion': 3.82,\n",
       " 'precision': torch.float32,\n",
       " 'estimated_memory_gb': 15.28}"
      ]
     },
     "execution_count": 11,
     "metadata": {},
     "output_type": "execute_result"
    }
   ],
   "source": [
    "from frugalai.utils.monitoring import model_memory_need\n",
    "\n",
    "model_memory_need(model=model)"
   ]
  },
  {
   "cell_type": "code",
   "execution_count": 12,
   "id": "f6f5b86a-1ea4-45ea-858d-18d44fd6b08d",
   "metadata": {},
   "outputs": [
    {
     "name": "stdout",
     "output_type": "stream",
     "text": [
      "Allocated by MPS: 15.28 GB\n",
      "Allocated by driver: 16.11 GB\n",
      "Available system memory: 4.43 GB\n"
     ]
    }
   ],
   "source": [
    "from frugalai.utils.monitoring import pytorch_print_cache\n",
    "\n",
    "pytorch_print_cache()"
   ]
  },
  {
   "cell_type": "markdown",
   "id": "44eb1555-9e3a-42c8-b303-0617038afbd7",
   "metadata": {
    "jp-MarkdownHeadingCollapsed": true
   },
   "source": [
    "##### **Tests**"
   ]
  },
  {
   "cell_type": "code",
   "execution_count": 13,
   "id": "561422c5-8943-46fc-a8b6-105a253ebd02",
   "metadata": {},
   "outputs": [
    {
     "name": "stdout",
     "output_type": "stream",
     "text": [
      "\n",
      "output type :\n",
      " <class 'langchain_core.messages.ai.AIMessage'>\n",
      "\n",
      "full output :\n",
      " content='<|user|>\\nHugging Face is<|end|>\\n<|assistant|>\\n Hugging Face is a company that provides AI models and tools for natural language processing (N' additional_kwargs={} response_metadata={} id='run-3659600f-821b-40fc-91a6-d89041de75cd-0'\n",
      "\n",
      "content :\n",
      " <|user|>\n",
      "Hugging Face is<|end|>\n",
      "<|assistant|>\n",
      " Hugging Face is a company that provides AI models and tools for natural language processing (N\n",
      "\n",
      "CPU times: user 1.37 s, sys: 5.65 s, total: 7.02 s\n",
      "Wall time: 28.2 s\n"
     ]
    }
   ],
   "source": [
    "%%time\n",
    "# Test with basic message\n",
    "response = model.invoke(\"Hugging Face is\")\n",
    "print(\"\\noutput type :\\n\", type(response))\n",
    "print(\"\\nfull output :\\n\", response)\n",
    "print(\"\\ncontent :\\n\", response.content)\n",
    "print()"
   ]
  },
  {
   "cell_type": "code",
   "execution_count": 14,
   "id": "aad4729e-87ca-4693-a0e7-bf790abce817",
   "metadata": {},
   "outputs": [
    {
     "name": "stdout",
     "output_type": "stream",
     "text": [
      "\n",
      "output type :\n",
      " <class 'langchain_core.messages.ai.AIMessage'>\n",
      "\n",
      "full output :\n",
      " content=\"<|system|>\\nYou're a helpful assistant<|end|>\\n<|user|>\\nHugging Face is<|end|>\\n<|assistant|>\\n Hugging Face is a company that provides AI models and tools for natural language processing (N\" additional_kwargs={} response_metadata={} id='run-d9636c1c-e33b-4925-a9b6-82ec76b0a1ff-0'\n",
      "\n",
      "content :\n",
      " <|system|>\n",
      "You're a helpful assistant<|end|>\n",
      "<|user|>\n",
      "Hugging Face is<|end|>\n",
      "<|assistant|>\n",
      " Hugging Face is a company that provides AI models and tools for natural language processing (N\n",
      "\n",
      "CPU times: user 1.08 s, sys: 119 ms, total: 1.2 s\n",
      "Wall time: 3.73 s\n"
     ]
    }
   ],
   "source": [
    "%%time\n",
    "# Test with structured messages and system message\n",
    "from langchain_core.messages import (\n",
    "    HumanMessage,\n",
    "    SystemMessage,\n",
    ")\n",
    "\n",
    "messages = [\n",
    "    SystemMessage(content=\"You're a helpful assistant\"),\n",
    "    HumanMessage(\n",
    "        content=\"Hugging Face is\"\n",
    "    ),\n",
    "]\n",
    "\n",
    "ai_msg = model.invoke(messages)\n",
    "print(\"\\noutput type :\\n\", type(ai_msg))\n",
    "print(\"\\nfull output :\\n\", ai_msg)\n",
    "print(\"\\ncontent :\\n\", ai_msg.content)\n",
    "print()"
   ]
  },
  {
   "cell_type": "code",
   "execution_count": 15,
   "id": "ff8e89e7-0f62-4d42-a1ff-ddc78a8ecfb1",
   "metadata": {},
   "outputs": [
    {
     "name": "stdout",
     "output_type": "stream",
     "text": [
      "\n",
      "output type :\n",
      " <class 'str'>\n",
      "\n",
      "full output :\n",
      " <|user|>\n",
      "Hugging Face is<|end|>\n",
      "<|assistant|>\n",
      " Hugging Face is a company that provides AI models and tools for natural language processing (N\n",
      "\n",
      "CPU times: user 1.05 s, sys: 114 ms, total: 1.16 s\n",
      "Wall time: 3.61 s\n"
     ]
    }
   ],
   "source": [
    "%%time\n",
    "# Test with chained Output parser\n",
    "from langchain_core.output_parsers import StrOutputParser\n",
    "\n",
    "chain = (\n",
    "    model\n",
    "    | StrOutputParser()\n",
    ")\n",
    "output = chain.invoke(\"Hugging Face is\")\n",
    "print(\"\\noutput type :\\n\", type(output))\n",
    "print(\"\\nfull output :\\n\", output)\n",
    "print()"
   ]
  },
  {
   "cell_type": "markdown",
   "id": "d1a84535-6f39-4f43-b505-8a8f95ccf10c",
   "metadata": {},
   "source": [
    "##### **Prompt template**"
   ]
  },
  {
   "cell_type": "code",
   "execution_count": 16,
   "id": "47479ffd-45dd-46d1-a956-a15ba4e407db",
   "metadata": {},
   "outputs": [],
   "source": [
    "# PromptTemplate\n",
    "from langchain_core.prompts import PromptTemplate\n",
    "\n",
    "# Define the classification prompt\n",
    "prompt_template = f\"\"\"\n",
    "<instruction>\n",
    "Classify the following statement into one of these 8 categories:\n",
    "Respond STRICTLY with only the corresponding number. \n",
    "DO NOT INCLUDE ANY OTHER TEXT.\n",
    "If you do not know the answer, make your best guess.\n",
    "</instruction>\n",
    "\n",
    "<categories>\n",
    "0 - Not relevant: No climate-related claims or doesn't fit other categories\n",
    "1 - Denial: Claims climate change is not happening\n",
    "2 - Attribution denial: Claims human activity is not causing climate change\n",
    "3 - Impact minimization: Claims climate change impacts are minimal or beneficial\n",
    "4 - Solution opposition: Claims solutions to climate change are harmful\n",
    "5 - Science skepticism: Challenges climate science validity or methods\n",
    "6 - Actor criticism: Attacks credibility of climate scientists or activists\n",
    "7 - Fossil fuel promotion: Asserts importance of fossil fuels\n",
    "</categories>\n",
    "\n",
    "<statement>\n",
    "Statement: \"{{quote}}\"\n",
    "</statement>\n",
    "\n",
    "Category number:\"\"\"\n",
    "\n",
    "# Create the prompt template\n",
    "prompt = PromptTemplate(template=prompt_template, input_variables=[\"quote\"])"
   ]
  },
  {
   "cell_type": "markdown",
   "id": "86fdd06e-af80-44da-b28a-261559c65502",
   "metadata": {},
   "source": [
    "##### **Output parser**"
   ]
  },
  {
   "cell_type": "code",
   "execution_count": 17,
   "id": "31343115-bc1c-4035-bd18-e2e4c0fe14f2",
   "metadata": {},
   "outputs": [],
   "source": [
    "# StrOutputParser\n",
    "from langchain_core.output_parsers import StrOutputParser\n",
    "\n",
    "# Class Labels\n",
    "CLASS_LABELS = [\n",
    "    \"0_not_relevant\", \"1_not_happening\", \"2_not_human\", \"3_not_bad\",\n",
    "    \"4_solutions_harmful_unnecessary\", \"5_science_unreliable\",\n",
    "    \"6_proponents_biased\", \"7_fossil_fuels_needed\"\n",
    "]\n",
    "\n",
    "# Define an output parser for cleaning up the response\n",
    "class CustomOutputParser(StrOutputParser):\n",
    "    def parse(self, text: str) -> int:\n",
    "        parts = text.split('<|assistant|>')\n",
    "        if len(parts) > 1:\n",
    "            response = parts[1].strip()\n",
    "            if response.isdigit() and int(response) in range(8):  \n",
    "                return CLASS_LABELS[int(response)]\n",
    "            if response == \"?\":\n",
    "                return \"unknown\"\n",
    "        return '-1'\n",
    "\n",
    "    \n",
    "# Create the output parser\n",
    "output_parser = CustomOutputParser()"
   ]
  },
  {
   "cell_type": "markdown",
   "id": "590818ba-6fd4-498a-a4ac-471e5983e5f8",
   "metadata": {},
   "source": [
    "##### **Chain**"
   ]
  },
  {
   "cell_type": "code",
   "execution_count": 18,
   "id": "17fb13a7-a7a7-42fa-9cc9-46883af72b3e",
   "metadata": {},
   "outputs": [
    {
     "data": {
      "text/plain": [
       "langchain_core.runnables.base.RunnableSequence"
      ]
     },
     "execution_count": 18,
     "metadata": {},
     "output_type": "execute_result"
    }
   ],
   "source": [
    "# Chain\n",
    "chain = prompt | model | output_parser\n",
    "type(chain)"
   ]
  },
  {
   "cell_type": "markdown",
   "id": "e4c09552-8fb9-4df9-bdea-96aede67ad84",
   "metadata": {
    "jp-MarkdownHeadingCollapsed": true
   },
   "source": [
    "##### **tests on chain**"
   ]
  },
  {
   "cell_type": "code",
   "execution_count": 19,
   "id": "833a32a1-23dc-4f5a-9700-bff3febe5066",
   "metadata": {},
   "outputs": [
    {
     "name": "stdout",
     "output_type": "stream",
     "text": [
      "\n",
      "statement :\n",
      " Climate change is just a hoax created to control people.\n",
      "\n",
      "output type : <class 'str'>\n",
      "\n",
      "category : 1_not_happening\n",
      "\n",
      "CPU times: user 279 ms, sys: 337 ms, total: 616 ms\n",
      "Wall time: 1.59 s\n"
     ]
    }
   ],
   "source": [
    "%%time\n",
    "# Example statement\n",
    "statement = \"Climate change is just a hoax created to control people.\"\n",
    "output = chain.invoke({\"quote\": statement})\n",
    "\n",
    "print(\"\\nstatement :\\n\", statement)\n",
    "print(\"\\noutput type :\", type(output))\n",
    "print(\"\\ncategory :\", output)\n",
    "print()"
   ]
  },
  {
   "cell_type": "code",
   "execution_count": 20,
   "id": "9592ebec-1f2a-4518-81d5-48b52770db83",
   "metadata": {},
   "outputs": [
    {
     "name": "stdout",
     "output_type": "stream",
     "text": [
      "quote :\n",
      " State attorneys general are supposed to enforce the law and serve the public interest, but instead these Republican officials have hung a ‘For Sale’ sale on their door, and the fossil fuel industry proved to be the highest bidder,” said Surgey. “It’s no coincidence that GOP attorneys general have mounted an aggressive fight alongside the fossil fuel industry to block the Clean Power Plan – that appears to be exactly what the industry paid for. Together, these documents reveal a sustained pattern of collusion between the fossil fuel industry and the Republican attorneys general on climate change obstructionism.\n",
      "label : 0_not_relevant\n",
      "\n",
      "prediction : 7_fossil_fuels_needed\n",
      "\n",
      "CPU times: user 241 ms, sys: 527 ms, total: 768 ms\n",
      "Wall time: 1.85 s\n"
     ]
    }
   ],
   "source": [
    "%%time\n",
    "# test for one quote\n",
    "for x, y in zip(X_test, y_test):\n",
    "    quote = x\n",
    "    label = y\n",
    "    break\n",
    "print(\"quote :\\n\", quote)\n",
    "print(\"label :\", label)\n",
    "\n",
    "response = chain.invoke({\"quote\": quote})\n",
    "print(\"\\nprediction :\", response)\n",
    "print()"
   ]
  },
  {
   "cell_type": "markdown",
   "id": "0d023534-71ff-49de-9d04-57624fe7597e",
   "metadata": {},
   "source": [
    "##### **Batch inference**"
   ]
  },
  {
   "cell_type": "code",
   "execution_count": 21,
   "id": "74a74a90-f43f-4cae-9def-5d397d416c61",
   "metadata": {},
   "outputs": [
    {
     "name": "stderr",
     "output_type": "stream",
     "text": [
      "Inference on X_test: 100%|██████████████████████████████████████████████████████████████████████████████████████████| 48/48 [01:45<00:00,  2.19s/it]"
     ]
    },
    {
     "name": "stdout",
     "output_type": "stream",
     "text": [
      "\n",
      "\n",
      "⏳ FunctionTimer : inference executed in 105.0943 seconds\n",
      "\n",
      "CPU times: user 13.2 s, sys: 29.2 s, total: 42.5 s\n",
      "Wall time: 1min 45s\n"
     ]
    },
    {
     "name": "stderr",
     "output_type": "stream",
     "text": [
      "\n"
     ]
    }
   ],
   "source": [
    "%%time\n",
    "from tqdm import tqdm\n",
    "\n",
    "@timer.track\n",
    "def inference(quotes):\n",
    "    y_pred = []\n",
    "    for quote in tqdm(quotes, desc=\"Inference on X_test\"):\n",
    "        y_pred.append(chain.invoke({\"quote\": quote}))\n",
    "    print()\n",
    "    return y_pred\n",
    "\n",
    "y_pred = inference(X_test)"
   ]
  },
  {
   "cell_type": "code",
   "execution_count": 22,
   "id": "efd457cc-3d23-477f-891d-db75d4207151",
   "metadata": {},
   "outputs": [],
   "source": [
    "# batch prend bcp trop de temps\n",
    "#%%time\n",
    "#import pandas as pd\n",
    "\n",
    "#batch_X_test = pd.Series(X_test).apply(lambda quote : {\"quote\": quote})\n",
    "#print('batch_X_test', type(batch_X_test), len(batch_X_test))\n",
    "#batch_X_test[:5]\n",
    "#y_pred = chain.batch(batch_X_test.tolist())\n",
    "\n",
    "#y_pred_s = pd.Series(y_pred)\n",
    "#y_pred_s"
   ]
  },
  {
   "cell_type": "markdown",
   "id": "fdd043e2-fcb7-47df-9b8b-ce3c08a59c7a",
   "metadata": {},
   "source": [
    "##### **Evaluation**"
   ]
  },
  {
   "cell_type": "code",
   "execution_count": 23,
   "id": "8e6b8a95-340b-4e3a-b514-515da52f4917",
   "metadata": {},
   "outputs": [
    {
     "data": {
      "text/html": [
       "<div>\n",
       "<style scoped>\n",
       "    .dataframe tbody tr th:only-of-type {\n",
       "        vertical-align: middle;\n",
       "    }\n",
       "\n",
       "    .dataframe tbody tr th {\n",
       "        vertical-align: top;\n",
       "    }\n",
       "\n",
       "    .dataframe thead th {\n",
       "        text-align: right;\n",
       "    }\n",
       "</style>\n",
       "<table border=\"1\" class=\"dataframe\">\n",
       "  <thead>\n",
       "    <tr style=\"text-align: right;\">\n",
       "      <th></th>\n",
       "      <th>X_test</th>\n",
       "      <th>y_test</th>\n",
       "      <th>y_pred</th>\n",
       "      <th>correct</th>\n",
       "    </tr>\n",
       "  </thead>\n",
       "  <tbody>\n",
       "    <tr>\n",
       "      <th>0</th>\n",
       "      <td>State attorneys general are supposed to enforc...</td>\n",
       "      <td>0_not_relevant</td>\n",
       "      <td>7_fossil_fuels_needed</td>\n",
       "      <td>False</td>\n",
       "    </tr>\n",
       "    <tr>\n",
       "      <th>1</th>\n",
       "      <td>ExxonMobil is currently the worst of the oil g...</td>\n",
       "      <td>0_not_relevant</td>\n",
       "      <td>7_fossil_fuels_needed</td>\n",
       "      <td>False</td>\n",
       "    </tr>\n",
       "    <tr>\n",
       "      <th>2</th>\n",
       "      <td>Call it the new Great New Reset, New World Ord...</td>\n",
       "      <td>0_not_relevant</td>\n",
       "      <td>0_not_relevant</td>\n",
       "      <td>True</td>\n",
       "    </tr>\n",
       "    <tr>\n",
       "      <th>3</th>\n",
       "      <td>Cool Clouded Fact: The idea of climate change ...</td>\n",
       "      <td>0_not_relevant</td>\n",
       "      <td>1_not_happening</td>\n",
       "      <td>False</td>\n",
       "    </tr>\n",
       "    <tr>\n",
       "      <th>4</th>\n",
       "      <td>Oil money has also contributed to the network ...</td>\n",
       "      <td>0_not_relevant</td>\n",
       "      <td>7_fossil_fuels_needed</td>\n",
       "      <td>False</td>\n",
       "    </tr>\n",
       "  </tbody>\n",
       "</table>\n",
       "</div>"
      ],
      "text/plain": [
       "                                              X_test          y_test  \\\n",
       "0  State attorneys general are supposed to enforc...  0_not_relevant   \n",
       "1  ExxonMobil is currently the worst of the oil g...  0_not_relevant   \n",
       "2  Call it the new Great New Reset, New World Ord...  0_not_relevant   \n",
       "3  Cool Clouded Fact: The idea of climate change ...  0_not_relevant   \n",
       "4  Oil money has also contributed to the network ...  0_not_relevant   \n",
       "\n",
       "                  y_pred  correct  \n",
       "0  7_fossil_fuels_needed    False  \n",
       "1  7_fossil_fuels_needed    False  \n",
       "2         0_not_relevant     True  \n",
       "3        1_not_happening    False  \n",
       "4  7_fossil_fuels_needed    False  "
      ]
     },
     "execution_count": 23,
     "metadata": {},
     "output_type": "execute_result"
    }
   ],
   "source": [
    "from frugalai.utils.evaluation import create_results_df\n",
    "\n",
    "results_df = create_results_df(X_test, y_test, y_pred)\n",
    "results_df.head()"
   ]
  },
  {
   "cell_type": "code",
   "execution_count": 24,
   "id": "a8b52032-9dfc-47d7-b96f-e00b9ae79e29",
   "metadata": {},
   "outputs": [
    {
     "data": {
      "text/html": [
       "<div>\n",
       "<style scoped>\n",
       "    .dataframe tbody tr th:only-of-type {\n",
       "        vertical-align: middle;\n",
       "    }\n",
       "\n",
       "    .dataframe tbody tr th {\n",
       "        vertical-align: top;\n",
       "    }\n",
       "\n",
       "    .dataframe thead th {\n",
       "        text-align: right;\n",
       "    }\n",
       "</style>\n",
       "<table border=\"1\" class=\"dataframe\">\n",
       "  <thead>\n",
       "    <tr style=\"text-align: right;\">\n",
       "      <th></th>\n",
       "      <th>Outcome</th>\n",
       "      <th>Count</th>\n",
       "    </tr>\n",
       "  </thead>\n",
       "  <tbody>\n",
       "    <tr>\n",
       "      <th>0</th>\n",
       "      <td>Correct</td>\n",
       "      <td>25</td>\n",
       "    </tr>\n",
       "    <tr>\n",
       "      <th>1</th>\n",
       "      <td>Incorrect</td>\n",
       "      <td>23</td>\n",
       "    </tr>\n",
       "    <tr>\n",
       "      <th>2</th>\n",
       "      <td>Unknown</td>\n",
       "      <td>0</td>\n",
       "    </tr>\n",
       "    <tr>\n",
       "      <th>3</th>\n",
       "      <td>Error</td>\n",
       "      <td>0</td>\n",
       "    </tr>\n",
       "  </tbody>\n",
       "</table>\n",
       "</div>"
      ],
      "text/plain": [
       "     Outcome  Count\n",
       "0    Correct     25\n",
       "1  Incorrect     23\n",
       "2    Unknown      0\n",
       "3      Error      0"
      ]
     },
     "execution_count": 24,
     "metadata": {},
     "output_type": "execute_result"
    }
   ],
   "source": [
    "from frugalai.utils.evaluation import performance_breakdown\n",
    "\n",
    "performance = performance_breakdown(results_df)\n",
    "performance"
   ]
  },
  {
   "cell_type": "code",
   "execution_count": 25,
   "id": "a963fe44-dbf9-4481-a1eb-283364de7d5e",
   "metadata": {},
   "outputs": [
    {
     "name": "stdout",
     "output_type": "stream",
     "text": [
      "\n",
      "🔹 Label distribution (list):\n",
      "Category                                Count     Percentage\n",
      "------------------------------------------------------------\n",
      "0_not_relevant                          6         12.5%\n",
      "1_not_happening                         6         12.5%\n",
      "2_not_human                             6         12.5%\n",
      "3_not_bad                               6         12.5%\n",
      "4_solutions_harmful_unnecessary         6         12.5%\n",
      "5_science_unreliable                    6         12.5%\n",
      "6_proponents_biased                     6         12.5%\n",
      "7_fossil_fuels_needed                   6         12.5%\n",
      "\n",
      "🔹 Label distribution (list):\n",
      "Category                                Count     Percentage\n",
      "------------------------------------------------------------\n",
      "0_not_relevant                          2         4.17%\n",
      "1_not_happening                         7         14.58%\n",
      "2_not_human                             2         4.17%\n",
      "3_not_bad                               6         12.5%\n",
      "4_solutions_harmful_unnecessary         3         6.25%\n",
      "5_science_unreliable                    12        25.0%\n",
      "6_proponents_biased                     6         12.5%\n",
      "7_fossil_fuels_needed                   10        20.83%\n"
     ]
    }
   ],
   "source": [
    "print_distribution(y_test)\n",
    "print_distribution(y_pred)"
   ]
  },
  {
   "cell_type": "code",
   "execution_count": 26,
   "id": "1c5e0712-3680-4310-8ace-12662315af6a",
   "metadata": {},
   "outputs": [
    {
     "name": "stdout",
     "output_type": "stream",
     "text": [
      "accuracy : 0.52\n"
     ]
    }
   ],
   "source": [
    "from frugalai.utils.evaluation import evaluation\n",
    "\n",
    "accuracy, metrics_df = evaluation(y_test, y_pred)\n",
    "\n",
    "print('accuracy :', round(accuracy, 2))"
   ]
  },
  {
   "cell_type": "code",
   "execution_count": 27,
   "id": "92ebb731-8440-4c93-afc8-0fba4b8232b4",
   "metadata": {},
   "outputs": [
    {
     "name": "stdout",
     "output_type": "stream",
     "text": [
      "\n"
     ]
    },
    {
     "data": {
      "image/png": "[encoded data removed]",
      "text/plain": [
       "<Figure size 800x500 with 1 Axes>"
      ]
     },
     "metadata": {},
     "output_type": "display_data"
    },
    {
     "name": "stdout",
     "output_type": "stream",
     "text": [
      "Category metrics\n",
      "                          Category  Precision  Recall  F1 Score\n",
      "0                   0_not_relevant       0.50    0.17      0.25\n",
      "1                  1_not_happening       0.57    0.67      0.62\n",
      "2                      2_not_human       0.50    0.17      0.25\n",
      "3                        3_not_bad       0.67    0.67      0.67\n",
      "4  4_solutions_harmful_unnecessary       0.33    0.17      0.22\n",
      "5             5_science_unreliable       0.42    0.83      0.56\n",
      "6              6_proponents_biased       0.83    0.83      0.83\n",
      "7            7_fossil_fuels_needed       0.40    0.67      0.50\n",
      "\n"
     ]
    }
   ],
   "source": [
    "from frugalai.utils.evaluation import plot_metrics\n",
    "\n",
    "plot_metrics(accuracy, metrics_df)"
   ]
  },
  {
   "cell_type": "code",
   "execution_count": 28,
   "id": "397eeed9-1290-4c5e-8260-31baef5603e4",
   "metadata": {},
   "outputs": [
    {
     "data": {
      "image/png": "[encoded data removed]",
      "text/plain": [
       "<Figure size 500x300 with 2 Axes>"
      ]
     },
     "metadata": {},
     "output_type": "display_data"
    }
   ],
   "source": [
    "from frugalai.utils.evaluation import plot_confusion_matrix\n",
    "\n",
    "plot_confusion_matrix(y_test, y_pred)"
   ]
  },
  {
   "cell_type": "markdown",
   "id": "64cd1d2e-ed3a-4876-baa2-c3edb57e6c97",
   "metadata": {},
   "source": [
    "##### **Experiment recording**"
   ]
  },
  {
   "cell_type": "code",
   "execution_count": 29,
   "id": "819190ab-71a8-4fe4-a980-3ddc9d28159f",
   "metadata": {},
   "outputs": [
    {
     "data": {
      "text/plain": [
       "'2025-02-19_17:06:38'"
      ]
     },
     "execution_count": 29,
     "metadata": {},
     "output_type": "execute_result"
    }
   ],
   "source": [
    "import datetime\n",
    "timestamp = datetime.datetime.now().strftime(\"%Y-%m-%d_%H:%M:%S\")\n",
    "timestamp"
   ]
  },
  {
   "cell_type": "code",
   "execution_count": 30,
   "id": "1d15f518-05b6-4e5b-a14f-3d56aa23525a",
   "metadata": {},
   "outputs": [
    {
     "name": "stdout",
     "output_type": "stream",
     "text": [
      "{'model_name': 'microsoft/Phi-3-mini-4k-instruct',\n",
      " 'accuracy': 0.52,\n",
      " 'timestamp': '2025-02-19_17:06:38',\n",
      " 'model_details': {'model_name': 'microsoft/Phi-3-mini-4k-instruct',\n",
      "                   'model_type': <class 'transformers.models.phi3.modeling_phi3.Phi3ForCausalLM'>,\n",
      "                   'total_params_Billion': 3.82,\n",
      "                   'precision': torch.float32,\n",
      "                   'estimated_memory_gb': 15.28},\n",
      " 'pipeline_kwargs': {'max_new_tokens': 20, 'top_k': 50},\n",
      " 'quote_len_truncated': False,\n",
      " 'prompt_template': '\\n'\n",
      "                    '<instruction>\\n'\n",
      "                    'Classify the following statement into one of these 8 categories:\\n'\n",
      "                    'Respond STRICTLY with only the corresponding number. \\n'\n",
      "                    'DO NOT INCLUDE ANY OTHER TEXT.\\n'\n",
      "                    'If you do not know the answer, make your best guess.\\n'\n",
      "                    '</instruction>\\n'\n",
      "                    '\\n'\n",
      "                    '<categories>\\n'\n",
      "                    \"0 - Not relevant: No climate-related claims or doesn't fit other categories\\n\"\n",
      "                    '1 - Denial: Claims climate change is not happening\\n'\n",
      "                    '2 - Attribution denial: Claims human activity is not causing climate change\\n'\n",
      "                    '3 - Impact minimization: Claims climate change impacts are minimal or '\n",
      "                    'beneficial\\n'\n",
      "                    '4 - Solution opposition: Claims solutions to climate change are harmful\\n'\n",
      "                    '5 - Science skepticism: Challenges climate science validity or methods\\n'\n",
      "                    '6 - Actor criticism: Attacks credibility of climate scientists or activists\\n'\n",
      "                    '7 - Fossil fuel promotion: Asserts importance of fossil fuels\\n'\n",
      "                    '</categories>\\n'\n",
      "                    '\\n'\n",
      "                    '<statement>\\n'\n",
      "                    'Statement: \"{quote}\"\\n'\n",
      "                    '</statement>\\n'\n",
      "                    '\\n'\n",
      "                    'Category number:',\n",
      " 'performance': {'Outcome': {0: 'Correct', 1: 'Incorrect', 2: 'Unknown', 3: 'Error'},\n",
      "                 'Count': {0: 25, 1: 23, 2: 0, 3: 0}},\n",
      " 'model_pipeline': ChatHuggingFace(llm=HuggingFacePipeline(pipeline=<transformers.pipelines.text_generation.TextGenerationPipeline object at 0x123bbe9f0>, model_id='microsoft/Phi-3-mini-4k-instruct', model_kwargs={}, pipeline_kwargs={'max_new_tokens': 20, 'top_k': 50}), tokenizer=LlamaTokenizerFast(name_or_path='microsoft/Phi-3-mini-4k-instruct', vocab_size=32000, model_max_length=4096, is_fast=True, padding_side='left', truncation_side='right', special_tokens={'bos_token': '<s>', 'eos_token': '<|endoftext|>', 'unk_token': '<unk>', 'pad_token': '<|endoftext|>'}, clean_up_tokenization_spaces=False, added_tokens_decoder={\n",
      "\t0: AddedToken(\"<unk>\", rstrip=False, lstrip=False, single_word=False, normalized=False, special=True),\n",
      "\t1: AddedToken(\"<s>\", rstrip=False, lstrip=False, single_word=False, normalized=False, special=True),\n",
      "\t2: AddedToken(\"</s>\", rstrip=True, lstrip=False, single_word=False, normalized=False, special=False),\n",
      "\t32000: AddedToken(\"<|endoftext|>\", rstrip=False, lstrip=False, single_word=False, normalized=False, special=True),\n",
      "\t32001: AddedToken(\"<|assistant|>\", rstrip=True, lstrip=False, single_word=False, normalized=False, special=True),\n",
      "\t32002: AddedToken(\"<|placeholder1|>\", rstrip=True, lstrip=False, single_word=False, normalized=False, special=True),\n",
      "\t32003: AddedToken(\"<|placeholder2|>\", rstrip=True, lstrip=False, single_word=False, normalized=False, special=True),\n",
      "\t32004: AddedToken(\"<|placeholder3|>\", rstrip=True, lstrip=False, single_word=False, normalized=False, special=True),\n",
      "\t32005: AddedToken(\"<|placeholder4|>\", rstrip=True, lstrip=False, single_word=False, normalized=False, special=True),\n",
      "\t32006: AddedToken(\"<|system|>\", rstrip=True, lstrip=False, single_word=False, normalized=False, special=True),\n",
      "\t32007: AddedToken(\"<|end|>\", rstrip=True, lstrip=False, single_word=False, normalized=False, special=True),\n",
      "\t32008: AddedToken(\"<|placeholder5|>\", rstrip=True, lstrip=False, single_word=False, normalized=False, special=True),\n",
      "\t32009: AddedToken(\"<|placeholder6|>\", rstrip=True, lstrip=False, single_word=False, normalized=False, special=True),\n",
      "\t32010: AddedToken(\"<|user|>\", rstrip=True, lstrip=False, single_word=False, normalized=False, special=True),\n",
      "}\n",
      "), model_id='microsoft/Phi-3-mini-4k-instruct')}\n"
     ]
    }
   ],
   "source": [
    "import json\n",
    "import pprint\n",
    "\n",
    "meta_data = {\n",
    "    \"model_name\": model_name,\n",
    "    \"accuracy\": round(accuracy, 2),\n",
    "    \"timestamp\": timestamp,\n",
    "    \n",
    "    \"model_details\": model_memory_need(model=model),\n",
    "    \"pipeline_kwargs\": pipeline_kwargs,\n",
    "\n",
    "    \"quote_len_truncated\": False if (max(results_df['X_test'].apply(len)) < threshold) == False else threshold,\n",
    "    \n",
    "    \"prompt_template\": prompt_template,\n",
    "    \n",
    "    \"performance\": performance.to_dict(),\n",
    "    \"model_pipeline\" : model\n",
    "}\n",
    "\n",
    "pprint.pprint(meta_data, width=100, sort_dicts=False) "
   ]
  },
  {
   "cell_type": "code",
   "execution_count": 31,
   "id": "9a67b488-5caa-4984-9f1d-26790c82c37e",
   "metadata": {},
   "outputs": [
    {
     "name": "stdout",
     "output_type": "stream",
     "text": [
      "experiments/metrics/microsoft_Phi-3-mini-4k-instruct_accuracy_52_dt_20250219_170638.json\n",
      "experiments/data/microsoft_Phi-3-mini-4k-instruct_accuracy_52_dt_20250219_170638.csv\n"
     ]
    }
   ],
   "source": [
    "import os\n",
    "import json\n",
    "\n",
    "# Define experiment directories\n",
    "experiment_dir = \"experiments\"\n",
    "data_dir = os.path.join(experiment_dir, \"data\")\n",
    "metrics_dir = os.path.join(experiment_dir, \"metrics\")\n",
    "\n",
    "# Ensure directories exist\n",
    "os.makedirs(data_dir, exist_ok=True)\n",
    "os.makedirs(metrics_dir, exist_ok=True)\n",
    "\n",
    "# Define file names\n",
    "filename = (\n",
    "    f\"{'_'.join(model_name.split('/'))}\"\n",
    "    f\"_accuracy_{round(accuracy * 100)}\"\n",
    "    f\"_dt_{timestamp.replace(':', '').replace('-', '')}\"\n",
    ")\n",
    "\n",
    "filename_meta = os.path.join(metrics_dir, filename + \".json\")\n",
    "filename_data = os.path.join(data_dir, filename + \".csv\")\n",
    "print(filename_meta)\n",
    "print(filename_data)"
   ]
  },
  {
   "cell_type": "code",
   "execution_count": 32,
   "id": "4da7283e-3c95-4ef0-a240-1f07741c9171",
   "metadata": {},
   "outputs": [
    {
     "name": "stdout",
     "output_type": "stream",
     "text": [
      "✅ Metrics saved to: experiments/metrics/microsoft_Phi-3-mini-4k-instruct_accuracy_52_dt_20250219_170638.json\n"
     ]
    }
   ],
   "source": [
    "# Save JSON file\n",
    "with open(filename_meta, \"w\") as f:\n",
    "    json.dump(meta_data, f, indent=4, default=str)\n",
    "    print(f\"✅ Metrics saved to: {filename_meta}\")"
   ]
  },
  {
   "cell_type": "code",
   "execution_count": 33,
   "id": "88a4841e-d6a4-4c96-8f4a-b4e2183edfed",
   "metadata": {},
   "outputs": [
    {
     "name": "stdout",
     "output_type": "stream",
     "text": [
      "✅ Data saved to experiments/data/microsoft_Phi-3-mini-4k-instruct_accuracy_52_dt_20250219_170638.csv\n"
     ]
    }
   ],
   "source": [
    "results_df.to_csv(filename_data)\n",
    "print(f\"✅ Data saved to {filename_data}\")"
   ]
  }
 ],
 "metadata": {
  "kernelspec": {
   "display_name": "frugalai",
   "language": "python",
   "name": "frugalai"
  },
  "language_info": {
   "codemirror_mode": {
    "name": "ipython",
    "version": 3
   },
   "file_extension": ".py",
   "mimetype": "text/x-python",
   "name": "python",
   "nbconvert_exporter": "python",
   "pygments_lexer": "ipython3",
   "version": "3.12.8"
  }
 },
 "nbformat": 4,
 "nbformat_minor": 5
}

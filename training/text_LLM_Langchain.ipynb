{
 "cells": [
  {
   "cell_type": "markdown",
   "id": "c6a5dade-b369-4b4a-aa62-c4903fc566eb",
   "metadata": {
    "jp-MarkdownHeadingCollapsed": true
   },
   "source": [
    "##### **Before starting ...**"
   ]
  },
  {
   "cell_type": "markdown",
   "id": "ac9d3e0c-ee7e-49e0-8a7f-49510268baa5",
   "metadata": {},
   "source": [
    "Checking we are using frugal-notebooks-env conda environment"
   ]
  },
  {
   "cell_type": "code",
   "execution_count": 1,
   "id": "ecb9e1f2-1013-48b5-9b08-2b8ccb65b3f6",
   "metadata": {},
   "outputs": [
    {
     "name": "stdout",
     "output_type": "stream",
     "text": [
      "/Users/a.villa.massone/miniconda3/envs/frugal-notebooks-env/bin/python\n"
     ]
    }
   ],
   "source": [
    "!which python"
   ]
  },
  {
   "cell_type": "markdown",
   "id": "49ec74cc-50ae-41e2-9c2e-7096d05d2e26",
   "metadata": {},
   "source": [
    "Checking the python version is 3.9 (compatibility with frugal AI codebase)"
   ]
  },
  {
   "cell_type": "code",
   "execution_count": 2,
   "id": "43c17006-1494-4255-a8b4-58a66fb137f2",
   "metadata": {},
   "outputs": [
    {
     "name": "stdout",
     "output_type": "stream",
     "text": [
      "Python 3.9.21\n"
     ]
    }
   ],
   "source": [
    "!python --version"
   ]
  },
  {
   "cell_type": "markdown",
   "id": "19951a5b-cd29-4154-8ca5-12e41c8dec88",
   "metadata": {},
   "source": [
    "Checking the pytorch version is > 1.12+ (compatibility with MPS)"
   ]
  },
  {
   "cell_type": "code",
   "execution_count": 3,
   "id": "020ae9c3-5d4d-4568-ade5-6e3e3015394c",
   "metadata": {},
   "outputs": [
    {
     "name": "stdout",
     "output_type": "stream",
     "text": [
      "2.5.1.post201\n"
     ]
    }
   ],
   "source": [
    "import torch\n",
    "print(torch.__version__)"
   ]
  },
  {
   "cell_type": "markdown",
   "id": "0e0476d9-94e8-40a8-8cf4-bdf7f70a3301",
   "metadata": {},
   "source": [
    "Imports"
   ]
  },
  {
   "cell_type": "code",
   "execution_count": 4,
   "id": "1d2eb284-d832-4b5c-b473-3df42a05af0b",
   "metadata": {},
   "outputs": [],
   "source": [
    "import os\n",
    "import random\n",
    "import pandas as pd\n",
    "import numpy as np\n",
    "import matplotlib.pyplot as plt\n",
    "import plotly.express as px"
   ]
  },
  {
   "cell_type": "markdown",
   "id": "51276a7e-dcd6-4121-ad58-912b942acb3e",
   "metadata": {},
   "source": [
    "# Using LLMs"
   ]
  },
  {
   "cell_type": "markdown",
   "id": "122658a4-2acc-4b74-b7d7-206f63ed014c",
   "metadata": {},
   "source": [
    "## 1. **Dataset exploration**"
   ]
  },
  {
   "cell_type": "markdown",
   "id": "8ee538d8-fb3a-49da-ad2f-9de1149e774a",
   "metadata": {},
   "source": [
    "**Loading the dataset**"
   ]
  },
  {
   "cell_type": "code",
   "execution_count": 5,
   "id": "d62fb4ee-732d-43d2-87f5-2b701f3a1ef7",
   "metadata": {},
   "outputs": [],
   "source": [
    "df = pd.read_parquet(\"hf://datasets/QuotaClimat/frugalaichallenge-text-train/train.parquet\")"
   ]
  },
  {
   "cell_type": "code",
   "execution_count": 6,
   "id": "3e8e8b51-754c-4de5-8509-6ca4713920d2",
   "metadata": {},
   "outputs": [
    {
     "data": {
      "text/html": [
       "<div>\n",
       "<style scoped>\n",
       "    .dataframe tbody tr th:only-of-type {\n",
       "        vertical-align: middle;\n",
       "    }\n",
       "\n",
       "    .dataframe tbody tr th {\n",
       "        vertical-align: top;\n",
       "    }\n",
       "\n",
       "    .dataframe thead th {\n",
       "        text-align: right;\n",
       "    }\n",
       "</style>\n",
       "<table border=\"1\" class=\"dataframe\">\n",
       "  <thead>\n",
       "    <tr style=\"text-align: right;\">\n",
       "      <th></th>\n",
       "      <th>quote</th>\n",
       "      <th>label</th>\n",
       "    </tr>\n",
       "  </thead>\n",
       "  <tbody>\n",
       "    <tr>\n",
       "      <th>0</th>\n",
       "      <td>There is clear, compelling evidence that many ...</td>\n",
       "      <td>5_science_unreliable</td>\n",
       "    </tr>\n",
       "    <tr>\n",
       "      <th>1</th>\n",
       "      <td>For most of the Holocene (last 10k years), sea...</td>\n",
       "      <td>1_not_happening</td>\n",
       "    </tr>\n",
       "    <tr>\n",
       "      <th>2</th>\n",
       "      <td>China, which hosts U.N. climate talks next wee...</td>\n",
       "      <td>4_solutions_harmful_unnecessary</td>\n",
       "    </tr>\n",
       "    <tr>\n",
       "      <th>3</th>\n",
       "      <td>And the fabricated documents (which Dr. Mann a...</td>\n",
       "      <td>0_not_relevant</td>\n",
       "    </tr>\n",
       "    <tr>\n",
       "      <th>4</th>\n",
       "      <td>It's going to be 42 here today and the hottest...</td>\n",
       "      <td>1_not_happening</td>\n",
       "    </tr>\n",
       "  </tbody>\n",
       "</table>\n",
       "</div>"
      ],
      "text/plain": [
       "                                               quote  \\\n",
       "0  There is clear, compelling evidence that many ...   \n",
       "1  For most of the Holocene (last 10k years), sea...   \n",
       "2  China, which hosts U.N. climate talks next wee...   \n",
       "3  And the fabricated documents (which Dr. Mann a...   \n",
       "4  It's going to be 42 here today and the hottest...   \n",
       "\n",
       "                             label  \n",
       "0             5_science_unreliable  \n",
       "1                  1_not_happening  \n",
       "2  4_solutions_harmful_unnecessary  \n",
       "3                   0_not_relevant  \n",
       "4                  1_not_happening  "
      ]
     },
     "execution_count": 6,
     "metadata": {},
     "output_type": "execute_result"
    }
   ],
   "source": [
    "df = df[['quote', 'label']]\n",
    "df.head()"
   ]
  },
  {
   "cell_type": "markdown",
   "id": "44583e43-3572-42fb-98f6-70b27ee54488",
   "metadata": {},
   "source": [
    "**The label have 8 classes**"
   ]
  },
  {
   "cell_type": "code",
   "execution_count": 7,
   "id": "80a4ee62-9b16-46a7-8a0f-605a808216fb",
   "metadata": {},
   "outputs": [
    {
     "name": "stdout",
     "output_type": "stream",
     "text": [
      "unique values:\n",
      "label\n",
      " ['5_science_unreliable' '1_not_happening'\n",
      " '4_solutions_harmful_unnecessary' '0_not_relevant' '6_proponents_biased'\n",
      " '7_fossil_fuels_needed' '2_not_human' '3_not_bad']\n"
     ]
    }
   ],
   "source": [
    "print('unique values:')\n",
    "print('label\\n', df['label'].unique())"
   ]
  },
  {
   "cell_type": "markdown",
   "id": "cca93249-0020-429b-ac54-29e222f33d6b",
   "metadata": {},
   "source": [
    "**We might need to crop for max tokens / clarity of prompt**"
   ]
  },
  {
   "cell_type": "code",
   "execution_count": 8,
   "id": "ed6dcf12-b146-4179-add1-c33b60accaf6",
   "metadata": {},
   "outputs": [
    {
     "name": "stdout",
     "output_type": "stream",
     "text": [
      "count    6091.000000\n",
      "mean      293.528485\n",
      "std       258.330755\n",
      "min        19.000000\n",
      "25%       139.000000\n",
      "50%       228.000000\n",
      "75%       365.000000\n",
      "max      4703.000000\n",
      "Name: text_length, dtype: float64\n"
     ]
    }
   ],
   "source": [
    "df['text_length'] = df['quote'].str.len()\n",
    "print(df['text_length'].describe())"
   ]
  },
  {
   "cell_type": "code",
   "execution_count": 9,
   "id": "ae22f6ee-1051-4415-9f6c-3e95cfbd79da",
   "metadata": {},
   "outputs": [
    {
     "data": {
      "text/html": [
       "<iframe\n",
       "    scrolling=\"no\"\n",
       "    width=\"820px\"\n",
       "    height=\"420\"\n",
       "    src=\"iframe_figures/figure_9.html\"\n",
       "    frameborder=\"0\"\n",
       "    allowfullscreen\n",
       "></iframe>\n"
      ]
     },
     "metadata": {},
     "output_type": "display_data"
    }
   ],
   "source": [
    "fig = px.histogram(df, x='text_length', nbins=50)\n",
    "fig.update_layout(width=800, height=400, title=\"Sentence Length Distribution\")\n",
    "fig.show(renderer='iframe')"
   ]
  },
  {
   "cell_type": "code",
   "execution_count": 10,
   "id": "cf6c6999-0b40-4791-bb8f-34bd3011b744",
   "metadata": {},
   "outputs": [
    {
     "data": {
      "text/plain": [
       "722.5"
      ]
     },
     "execution_count": 10,
     "metadata": {},
     "output_type": "execute_result"
    }
   ],
   "source": [
    "threshold = np.percentile(df['text_length'], 95)\n",
    "threshold"
   ]
  },
  {
   "cell_type": "code",
   "execution_count": 11,
   "id": "27c20701-cdc2-4bff-8f53-03f7804680df",
   "metadata": {},
   "outputs": [
    {
     "name": "stdout",
     "output_type": "stream",
     "text": [
      "Number of quotes above threshold:  305\n"
     ]
    }
   ],
   "source": [
    "long_quotes = df[df['text_length'] > threshold]\n",
    "print('Number of quotes above threshold: ', long_quotes.shape[0])"
   ]
  },
  {
   "cell_type": "code",
   "execution_count": 12,
   "id": "9e0256ca-b634-4065-a9ad-14b016fecb33",
   "metadata": {},
   "outputs": [
    {
     "data": {
      "text/html": [
       "<div>\n",
       "<style scoped>\n",
       "    .dataframe tbody tr th:only-of-type {\n",
       "        vertical-align: middle;\n",
       "    }\n",
       "\n",
       "    .dataframe tbody tr th {\n",
       "        vertical-align: top;\n",
       "    }\n",
       "\n",
       "    .dataframe thead th {\n",
       "        text-align: right;\n",
       "    }\n",
       "</style>\n",
       "<table border=\"1\" class=\"dataframe\">\n",
       "  <thead>\n",
       "    <tr style=\"text-align: right;\">\n",
       "      <th></th>\n",
       "      <th>quote</th>\n",
       "      <th>label</th>\n",
       "      <th>text_length</th>\n",
       "      <th>truncated_quote</th>\n",
       "    </tr>\n",
       "  </thead>\n",
       "  <tbody>\n",
       "    <tr>\n",
       "      <th>0</th>\n",
       "      <td>There is clear, compelling evidence that many ...</td>\n",
       "      <td>5_science_unreliable</td>\n",
       "      <td>277</td>\n",
       "      <td>There is clear, compelling evidence that many ...</td>\n",
       "    </tr>\n",
       "    <tr>\n",
       "      <th>1</th>\n",
       "      <td>For most of the Holocene (last 10k years), sea...</td>\n",
       "      <td>1_not_happening</td>\n",
       "      <td>279</td>\n",
       "      <td>For most of the Holocene (last 10k years), sea...</td>\n",
       "    </tr>\n",
       "    <tr>\n",
       "      <th>2</th>\n",
       "      <td>China, which hosts U.N. climate talks next wee...</td>\n",
       "      <td>4_solutions_harmful_unnecessary</td>\n",
       "      <td>286</td>\n",
       "      <td>China, which hosts U.N. climate talks next wee...</td>\n",
       "    </tr>\n",
       "    <tr>\n",
       "      <th>3</th>\n",
       "      <td>And the fabricated documents (which Dr. Mann a...</td>\n",
       "      <td>0_not_relevant</td>\n",
       "      <td>146</td>\n",
       "      <td>And the fabricated documents (which Dr. Mann a...</td>\n",
       "    </tr>\n",
       "    <tr>\n",
       "      <th>4</th>\n",
       "      <td>It's going to be 42 here today and the hottest...</td>\n",
       "      <td>1_not_happening</td>\n",
       "      <td>123</td>\n",
       "      <td>It's going to be 42 here today and the hottest...</td>\n",
       "    </tr>\n",
       "  </tbody>\n",
       "</table>\n",
       "</div>"
      ],
      "text/plain": [
       "                                               quote  \\\n",
       "0  There is clear, compelling evidence that many ...   \n",
       "1  For most of the Holocene (last 10k years), sea...   \n",
       "2  China, which hosts U.N. climate talks next wee...   \n",
       "3  And the fabricated documents (which Dr. Mann a...   \n",
       "4  It's going to be 42 here today and the hottest...   \n",
       "\n",
       "                             label  text_length  \\\n",
       "0             5_science_unreliable          277   \n",
       "1                  1_not_happening          279   \n",
       "2  4_solutions_harmful_unnecessary          286   \n",
       "3                   0_not_relevant          146   \n",
       "4                  1_not_happening          123   \n",
       "\n",
       "                                     truncated_quote  \n",
       "0  There is clear, compelling evidence that many ...  \n",
       "1  For most of the Holocene (last 10k years), sea...  \n",
       "2  China, which hosts U.N. climate talks next wee...  \n",
       "3  And the fabricated documents (which Dr. Mann a...  \n",
       "4  It's going to be 42 here today and the hottest...  "
      ]
     },
     "execution_count": 12,
     "metadata": {},
     "output_type": "execute_result"
    }
   ],
   "source": [
    "df['truncated_quote'] = df['quote'].str.slice(0, int(threshold))\n",
    "df.head()"
   ]
  },
  {
   "cell_type": "markdown",
   "id": "7627d2c5-397f-40e1-bf74-f1181cc149bf",
   "metadata": {},
   "source": [
    "## 2. **Baseline**"
   ]
  },
  {
   "cell_type": "code",
   "execution_count": 13,
   "id": "58363a98-d869-431a-a340-8cfd81743e08",
   "metadata": {},
   "outputs": [],
   "source": [
    "# mistral, phi2, qwen\n",
    "\n",
    "selected_model = \"mistral\""
   ]
  },
  {
   "cell_type": "markdown",
   "id": "b2b32451-a44e-4e96-931d-f0c53ed24cf9",
   "metadata": {},
   "source": [
    "### **Model set-up**"
   ]
  },
  {
   "cell_type": "code",
   "execution_count": 14,
   "id": "66c455db-46ca-4751-b31b-b28e4b331257",
   "metadata": {},
   "outputs": [],
   "source": [
    "from transformers import AutoTokenizer, AutoModelForCausalLM"
   ]
  },
  {
   "cell_type": "code",
   "execution_count": 15,
   "id": "412e4c5f-e099-4102-b07f-f2fd17391a32",
   "metadata": {},
   "outputs": [],
   "source": [
    "MODEL_NAMES = {\n",
    "    \"mistral\": \"mistralai/Mistral-7B-Instruct-v0.1\",\n",
    "    \"phi2\": \"microsoft/phi-2\",\n",
    "    \"qwen\": \"Qwen/Qwen2.5-0.5B\",\n",
    "    \"deepseek\": \"deepseek-ai/DeepSeek-R1-Distill-Qwen-1.5B\",\n",
    "}\n",
    "# deepseek-ai/DeepSeek-R1-Distill-Qwen-7B\n",
    "# \"Qwen/Qwen2.5-7B\"\n",
    "# \"Qwen/Qwen2.5-0.5B\"\n",
    "# \"Qwen/Qwen2.5-1.5B\"\n",
    "\n",
    "CLASS_LABELS = [\n",
    "    \"0_not_relevant\",\n",
    "    \"1_not_happening\",\n",
    "    \"2_not_human\",\n",
    "    \"3_not_bad\",\n",
    "    \"4_solutions_harmful_unnecessary\",\n",
    "    \"5_science_unreliable\",\n",
    "    \"6_proponents_biased\",\n",
    "    \"7_fossil_fuels_needed\"\n",
    "]"
   ]
  },
  {
   "cell_type": "code",
   "execution_count": 16,
   "id": "674f7fd6-0b9f-4d52-969f-65026841129e",
   "metadata": {},
   "outputs": [],
   "source": [
    "from langchain_huggingface import ChatHuggingFace, HuggingFaceEndpoint\n",
    "\n",
    "def load_model(model_name):\n",
    "    llm = HuggingFaceEndpoint(\n",
    "        repo_id=model_name,\n",
    "        task=\"text-generation\",\n",
    "        max_new_tokens=512,\n",
    "        do_sample=False,\n",
    "        repetition_penalty=1.03,\n",
    "    )\n",
    "\n",
    "#    chat_model = ChatHuggingFace(llm=llm)\n",
    "    return llm"
   ]
  },
  {
   "cell_type": "markdown",
   "id": "1f9f0654-c0b6-4ca8-b513-662ef0fe05f7",
   "metadata": {},
   "source": [
    "**Loading the model**"
   ]
  },
  {
   "cell_type": "code",
   "execution_count": 17,
   "id": "91e460d7-5792-44b8-9dc0-b3022f3601de",
   "metadata": {},
   "outputs": [
    {
     "data": {
      "application/vnd.jupyter.widget-view+json": {
       "model_id": "ffcc9526315043f6be7ce6ec73027259",
       "version_major": 2,
       "version_minor": 0
      },
      "text/plain": [
       "Loading checkpoint shards:   0%|          | 0/2 [00:00<?, ?it/s]"
      ]
     },
     "metadata": {},
     "output_type": "display_data"
    },
    {
     "name": "stdout",
     "output_type": "stream",
     "text": [
      "CPU times: user 10.8 s, sys: 7.14 s, total: 17.9 s\n",
      "Wall time: 28.5 s\n"
     ]
    }
   ],
   "source": [
    "%%time\n",
    "model_name = MODEL_NAMES[selected_model]\n",
    "tokenizer, model = load_model(model_name)"
   ]
  },
  {
   "cell_type": "code",
   "execution_count": 18,
   "id": "b02e64cd-e6e2-4057-bee8-91572d516f01",
   "metadata": {},
   "outputs": [
    {
     "name": "stdout",
     "output_type": "stream",
     "text": [
      "\u001b[1m\u001b[36mmodels--Qwen--Qwen2.5-0.5B\u001b[m\u001b[m\n",
      "\u001b[1m\u001b[36mmodels--Qwen--Qwen2.5-7B\u001b[m\u001b[m\n",
      "\u001b[1m\u001b[36mmodels--deepseek-ai--DeepSeek-R1-Distill-Qwen-1.5B\u001b[m\u001b[m\n",
      "\u001b[1m\u001b[36mmodels--mistralai--Mistral-7B-Instruct-v0.1\u001b[m\u001b[m\n",
      "version.txt\n"
     ]
    }
   ],
   "source": [
    "!ls ~/.cache/huggingface/hub/"
   ]
  },
  {
   "cell_type": "code",
   "execution_count": 19,
   "id": "3a77072b-6dd8-4c7a-9435-1c80ef8c44c3",
   "metadata": {},
   "outputs": [
    {
     "name": "stdout",
     "output_type": "stream",
     "text": [
      " 13G\t/Users/a.villa.massone/.cache/huggingface/hub/models--mistralai--Mistral-7B-Instruct-v0.1\n"
     ]
    }
   ],
   "source": [
    "!du -sh ~/.cache/huggingface/hub/models--mistralai--Mistral-7B-Instruct-v0.1"
   ]
  },
  {
   "cell_type": "code",
   "execution_count": 20,
   "id": "5210f463-4c10-41ea-80ca-92f60cf4aefc",
   "metadata": {},
   "outputs": [],
   "source": [
    "# to clear the cache\n",
    "# from huggingface_hub.utils import hf_hub_download\n",
    "# hf_hub_download.clear_cache()"
   ]
  },
  {
   "cell_type": "code",
   "execution_count": 21,
   "id": "0192873d-f71c-4325-b23d-616bf0c9a3a5",
   "metadata": {},
   "outputs": [
    {
     "data": {
      "text/plain": [
       "LlamaTokenizerFast(name_or_path='mistralai/Mistral-7B-Instruct-v0.1', vocab_size=32000, model_max_length=1000000000000000019884624838656, is_fast=True, padding_side='left', truncation_side='right', special_tokens={'bos_token': '<s>', 'eos_token': '</s>', 'unk_token': '<unk>'}, clean_up_tokenization_spaces=False),  added_tokens_decoder={\n",
       "\t0: AddedToken(\"<unk>\", rstrip=False, lstrip=False, single_word=False, normalized=False, special=True),\n",
       "\t1: AddedToken(\"<s>\", rstrip=False, lstrip=False, single_word=False, normalized=False, special=True),\n",
       "\t2: AddedToken(\"</s>\", rstrip=False, lstrip=False, single_word=False, normalized=False, special=True),\n",
       "}"
      ]
     },
     "execution_count": 21,
     "metadata": {},
     "output_type": "execute_result"
    }
   ],
   "source": [
    "tokenizer"
   ]
  },
  {
   "cell_type": "code",
   "execution_count": 22,
   "id": "6126e7fe-b773-4894-8870-cbbde1f4a1ee",
   "metadata": {},
   "outputs": [
    {
     "data": {
      "text/plain": [
       "MistralForCausalLM(\n",
       "  (model): MistralModel(\n",
       "    (embed_tokens): Embedding(32000, 4096)\n",
       "    (layers): ModuleList(\n",
       "      (0-31): 32 x MistralDecoderLayer(\n",
       "        (self_attn): MistralSdpaAttention(\n",
       "          (q_proj): Linear(in_features=4096, out_features=4096, bias=False)\n",
       "          (k_proj): Linear(in_features=4096, out_features=1024, bias=False)\n",
       "          (v_proj): Linear(in_features=4096, out_features=1024, bias=False)\n",
       "          (o_proj): Linear(in_features=4096, out_features=4096, bias=False)\n",
       "          (rotary_emb): MistralRotaryEmbedding()\n",
       "        )\n",
       "        (mlp): MistralMLP(\n",
       "          (gate_proj): Linear(in_features=4096, out_features=14336, bias=False)\n",
       "          (up_proj): Linear(in_features=4096, out_features=14336, bias=False)\n",
       "          (down_proj): Linear(in_features=14336, out_features=4096, bias=False)\n",
       "          (act_fn): SiLU()\n",
       "        )\n",
       "        (input_layernorm): MistralRMSNorm((4096,), eps=1e-05)\n",
       "        (post_attention_layernorm): MistralRMSNorm((4096,), eps=1e-05)\n",
       "      )\n",
       "    )\n",
       "    (norm): MistralRMSNorm((4096,), eps=1e-05)\n",
       "  )\n",
       "  (lm_head): Linear(in_features=4096, out_features=32000, bias=False)\n",
       ")"
      ]
     },
     "execution_count": 22,
     "metadata": {},
     "output_type": "execute_result"
    }
   ],
   "source": [
    "model"
   ]
  },
  {
   "cell_type": "markdown",
   "id": "85a532f7-85d9-4b28-abb0-9372b54d3f37",
   "metadata": {},
   "source": [
    "### **Prompt**"
   ]
  },
  {
   "cell_type": "markdown",
   "id": "bfd0b573-e775-40a6-b97c-d203ae2cde22",
   "metadata": {},
   "source": [
    "# minimal\n",
    "\n",
    "def create_prompt(text):\n",
    "    return f\"\"\"\n",
    "<instruction>\n",
    "Classify this statement into ONE climate change category (0-7). Respond STRICTLY with only the corresponding number.\n",
    "</instruction>\n",
    "\n",
    "<categories>\n",
    "0 - Not relevant to climate change:\n",
    "1 - Climate change is not happening:\n",
    "2 - Climate change is not caused by humans:\n",
    "3 - Climate change is not bad:\n",
    "4 - Climate solutions are harmful:\n",
    "5 - Climate science is unreliable:\n",
    "6 - Climate actors are untrustworthy:\n",
    "7 - Fossil fuels are essential:\n",
    "</categories>\n",
    "\n",
    "<statement>\n",
    "{text}\n",
    "</statement>\n",
    "\n",
    "Category number:\"\"\""
   ]
  },
  {
   "cell_type": "markdown",
   "id": "edbfcdcb-c0b6-4aaa-a7e9-af41fd788d70",
   "metadata": {},
   "source": [
    "def create_prompt(text):\n",
    "    return f\"\"\"\n",
    "<instruction>\n",
    "Classify this statement into ONE climate change category (0-7). Respond STRICTLY with only the corresponding number.\n",
    "</instruction>\n",
    "\n",
    "<categories>\n",
    "0 - Not relevant to climate change : \n",
    "No relevant claim detected or claims that don't fit other categories\n",
    "\n",
    "1 - Climate change is not happening : \n",
    "Claims denying the occurrence of global warming and its effects - Global warming is not happening. \n",
    "Climate change is NOT leading to melting ice (such as glaciers, sea ice, and permafrost), increased extreme weather, or rising sea levels. Cold weather also shows that climate change is not happening\n",
    "\n",
    "2 - Climate change is not caused by humans.\n",
    "Claims denying human responsibility in climate change.\n",
    "Greenhouse gases from humans are not the causing climate change.\n",
    "\n",
    "3 - Climate change is not bad.\n",
    "Claims minimizing or denying negative impacts of climate change.\n",
    "The impacts of climate change will not be bad and might even be beneficial.\n",
    "\n",
    "4 - Solutions to climate change are bad.\n",
    "Claims against climate solutions.\n",
    "Climate solutions are harmful or unnecessary\n",
    "\n",
    "5 - Science is unreliable.\n",
    "Claims questioning climate science validity\n",
    "Climate science is uncertain, unsound, unreliable, or biased.\n",
    "\n",
    "6 - Climate activists are bad.\n",
    "Claims attacking climate scientists and activists\n",
    "Climate scientists and proponents of climate action are alarmist, biased, wrong, hypocritical, corrupt, and/or politically motivated.\n",
    "\n",
    "7 - Fossil fuels are a necessity.\n",
    "Claims promoting fossil fuel necessity\n",
    "We need fossil fuels for economic growth, prosperity, and to maintain our standard of living.\n",
    "</categories>\n",
    "\n",
    "<statement>\n",
    "{text}\n",
    "</statement>\n",
    "\n",
    "Category number:\"\"\""
   ]
  },
  {
   "cell_type": "markdown",
   "id": "3f59f14f-1bf9-4cca-ab47-27e4d850f221",
   "metadata": {},
   "source": [
    "def create_prompt(text):\n",
    "    return f\"\"\"\n",
    "<instruction>\n",
    "Your objective is to detect climate disinformation categories based on text from news articles.\n",
    "Classify the <statement> into a <category> (0-7). \n",
    "Respond STRICTLY with only the corresponding number.\n",
    "</instruction>\n",
    "\n",
    "<categories>\n",
    "0 - Statement is not relevant to climate change.\n",
    "1 - Statement denies or minimize the existence of Climate change.\n",
    "2 - Statement denies or minimize Human responsibility in climate change.\n",
    "3 - Statement denies or minimize the negative impact of climate change.\n",
    "4 - Statement challenges solutions to climate change.\n",
    "5 - Statement challenges scientific evidence.\n",
    "6 - Statement challenges climate actors' credibility/motives.\n",
    "7 - Suggests fossil fuels are good\n",
    "</categories>\n",
    "\n",
    "<statement>\n",
    "{text}\n",
    "</statement>\n",
    "\n",
    "Category number:\"\"\""
   ]
  },
  {
   "cell_type": "markdown",
   "id": "f7e7a3e5-7377-454d-a9e1-88c341001cfc",
   "metadata": {},
   "source": [
    "def create_prompt(text):\n",
    "    return f\"\"\"\n",
    "<instruction>\n",
    "Your objective is to detect climate disinformation categories based on text from news articles.\n",
    "Classify the <statement> into a <category> (0-7). \n",
    "Respond STRICTLY with only the corresponding number.\n",
    "</instruction>\n",
    "\n",
    "<categories>\n",
    "0 - Not relevant to climate change:\n",
    "No relevant climate-related claims detected, or claims that don't fit other categories\n",
    "\\\"New sports stadium approved\\\" | \\\"Latest smartphone features\\\"\n",
    "\n",
    "1 - Climate change is not happening:\n",
    "Denies global warming occurrence or its impacts.\n",
    "(e.g., rejects links to melting ice, extreme weather, sea level rise, or uses cold weather as counter-evidence).\n",
    "\\\"Global warming stopped in 2016\\\" | \\\"Record cold proves no climate change\\\"\n",
    "\n",
    "2 - Human activity is not causing climate change:\n",
    "Claims denying human responsibility in climate change.\n",
    "Attributes climate change primarily to natural causes, denying anthropogenic greenhouse gas influence.\n",
    "\\\"CO2 doesn't affect climate\\\" | \\\"Climate changes are natural cycles\\\"\n",
    "\n",
    "3 - Climate change may not be that bad:\n",
    "Claims minimizing or denying negative impacts of climate change or even claims benefits from climate change.\n",
    "\\\"Warmer winters will be better\\\" | \\\"CO2 helps plant growth\\\"\n",
    "\n",
    "4 - Solutions to climate change could be bad:\n",
    "Opposes mitigation strategies as unnecessary, harmful, or counterproductive.\n",
    "\\\"Solar power ruins economies\\\" | \\\"EVs cause more pollution\\\"\n",
    "\n",
    "5 - Science is bad:\n",
    "Challenges scientific consensus, methods, or motives in climate research.\n",
    "Claims questioning climate science validity\n",
    "Climate science is uncertain, unsound, unreliable, or biased.\n",
    "\\\"Climate models are guesses\\\" | \\\"Temperature data is fake\\\"\n",
    "\n",
    "6 - Climate actors are bad:\n",
    "Attacks credibility/motives of scientists, activists, or institutions promoting climate action.\n",
    "\\\"Scientists are lying for grants\\\" | \\\"Activists want to control us\\\"\n",
    "\n",
    "7 - Fossil fuels are good:\n",
    "Asserts fossil fuels are critical for economic stability and quality of life.\n",
    "\\\"Oil is essential for progress\\\" | \\\"Coal keeps lights on\\\"\n",
    "</categories>\n",
    "\n",
    "<statement>\n",
    "{text}\n",
    "</statement>\n",
    "\n",
    "Category number:\"\"\""
   ]
  },
  {
   "cell_type": "code",
   "execution_count": 23,
   "id": "58b773db-1e05-4730-80b0-d32ce6218d7a",
   "metadata": {},
   "outputs": [],
   "source": [
    "def create_prompt(text):\n",
    "    return f\"\"\"\n",
    "<instruction>\n",
    "Classify the following statement into one of these 8 categories:\n",
    "Respond STRICTLY with only the corresponding number (0-7).\n",
    "</instruction>\n",
    "\n",
    "<categories>\n",
    "0 - Not relevant: No climate-related claims or doesn't fit other categories\n",
    "1 - Denial: Claims climate change is not happening\n",
    "2 - Attribution denial: Claims human activity is not causing climate change\n",
    "3 - Impact minimization: Claims climate change impacts are minimal or beneficial\n",
    "4 - Solution opposition: Claims solutions to climate change are harmful\n",
    "5 - Science skepticism: Challenges climate science validity or methods\n",
    "6 - Actor criticism: Attacks credibility of climate scientists or activists\n",
    "7 - Fossil fuel promotion: Asserts importance of fossil fuels\n",
    "</categories>\n",
    "\n",
    "<statement>\n",
    "Statement: \"{text}\"\n",
    "</statement>\n",
    "\n",
    "Category number:\"\"\""
   ]
  },
  {
   "cell_type": "markdown",
   "id": "849e23d6-45e7-42b0-aaf7-4edcfb6c8ae7",
   "metadata": {},
   "source": [
    "### **Prediction function**"
   ]
  },
  {
   "cell_type": "code",
   "execution_count": 24,
   "id": "dc20f104-24b7-4f84-b1f7-472e3a7f9ad4",
   "metadata": {},
   "outputs": [],
   "source": [
    "from codecarbon import EmissionsTracker\n",
    "\n",
    "def classify_text(text, tokenizer, model):\n",
    "    prompt = create_prompt(text)\n",
    "    inputs = tokenizer(prompt, return_tensors=\"pt\").to(model.device)\n",
    "\n",
    "    tracker = EmissionsTracker(log_level=\"error\")\n",
    "    tracker.start()\n",
    "    \n",
    "    with torch.no_grad():\n",
    "        outputs = model.generate(\n",
    "            inputs.input_ids,\n",
    "            max_new_tokens=2,\n",
    "            do_sample=False,\n",
    "            pad_token_id=tokenizer.eos_token_id\n",
    "        )\n",
    "\n",
    "    inference_emissions = tracker.stop()\n",
    "    inference_time = tracker.final_emissions_data.duration\n",
    "    inference_energy_conso = tracker.final_emissions_data.energy_consumed\n",
    "\n",
    "    inf_efficiency_metrics_df = pd.DataFrame.from_dict([{\n",
    "        \"sample_latency_sec\": inference_time,\n",
    "        \"sample_energy_conso_kWh\": inference_energy_conso,\n",
    "        \"sample_emissions_kgCO2eq\": inference_emissions\n",
    "    }])\n",
    "\n",
    "    response = tokenizer.decode(outputs[0], skip_special_tokens=True)\n",
    "\n",
    "    return response, inf_efficiency_metrics_df"
   ]
  },
  {
   "cell_type": "code",
   "execution_count": 25,
   "id": "a8c969db-06a8-4421-9506-9566c1e85f39",
   "metadata": {},
   "outputs": [],
   "source": [
    "def parse_output(response):\n",
    "    prediction = response.split(\"Category number:\")[-1].strip()\n",
    "    prediction = ''.join(filter(str.isdigit, prediction))\n",
    "    \n",
    "    if prediction.isdigit() and int(prediction) in range(8):\n",
    "        return CLASS_LABELS[int(prediction)]\n",
    "    return \"error\""
   ]
  },
  {
   "cell_type": "markdown",
   "id": "dbc532fc-f3cd-47cb-a77e-2785e96573c0",
   "metadata": {},
   "source": [
    "### **Testing on a single sample**"
   ]
  },
  {
   "cell_type": "code",
   "execution_count": 26,
   "id": "6b658ecf-a35e-450e-8289-3dd40d904ca0",
   "metadata": {},
   "outputs": [
    {
     "data": {
      "text/plain": [
       "'mistralai/Mistral-7B-Instruct-v0.1'"
      ]
     },
     "execution_count": 26,
     "metadata": {},
     "output_type": "execute_result"
    }
   ],
   "source": [
    "model_name"
   ]
  },
  {
   "cell_type": "code",
   "execution_count": 27,
   "id": "44cf634a-efd7-4a7f-8744-fbfe7781299b",
   "metadata": {},
   "outputs": [
    {
     "name": "stdout",
     "output_type": "stream",
     "text": [
      "Model device: mps:0\n"
     ]
    }
   ],
   "source": [
    "print(f\"Model device: {model.device}\")"
   ]
  },
  {
   "cell_type": "markdown",
   "id": "266c40df-eceb-4880-8e73-fbb088ed360b",
   "metadata": {},
   "source": [
    "**Sample**"
   ]
  },
  {
   "cell_type": "code",
   "execution_count": 28,
   "id": "79c16aee-26c7-469d-9805-7a13c2074ed1",
   "metadata": {},
   "outputs": [
    {
     "data": {
      "text/plain": [
       "'There is clear, compelling evidence that many of the major conclusions of the IPCC, your new religions constantly-changing Holy Book, are based on evidence that has been fabricated. The hockey stick graph that purported to abolish the mediaeval warm period is just one example.'"
      ]
     },
     "execution_count": 28,
     "metadata": {},
     "output_type": "execute_result"
    }
   ],
   "source": [
    "sample_text = df['quote'][0]\n",
    "sample_text"
   ]
  },
  {
   "cell_type": "markdown",
   "id": "253ae11d-a9e5-4e02-b329-ab30257891c3",
   "metadata": {},
   "source": [
    "**Inference**"
   ]
  },
  {
   "cell_type": "code",
   "execution_count": 29,
   "id": "e3828837-8e87-4ff0-b76e-f0d7ad1439fc",
   "metadata": {},
   "outputs": [
    {
     "name": "stderr",
     "output_type": "stream",
     "text": [
      "The attention mask is not set and cannot be inferred from input because pad token is same as eos token. As a consequence, you may observe unexpected behavior. Please pass your input's `attention_mask` to obtain reliable results.\n"
     ]
    }
   ],
   "source": [
    "single_raw_prediction, single_metrics_df = classify_text(sample_text, tokenizer, model)"
   ]
  },
  {
   "cell_type": "code",
   "execution_count": 30,
   "id": "f184a578-86c4-47f7-86a4-31183c544bf0",
   "metadata": {},
   "outputs": [
    {
     "name": "stdout",
     "output_type": "stream",
     "text": [
      "Raw prediction:\n",
      "\n",
      " \n",
      "<instruction>\n",
      "Classify the following statement into one of these 8 categories:\n",
      "Respond STRICTLY with only the corresponding number (0-7).\n",
      "</instruction>\n",
      "\n",
      "<categories>\n",
      "0 - Not relevant: No climate-related claims or doesn't fit other categories\n",
      "1 - Denial: Claims climate change is not happening\n",
      "2 - Attribution denial: Claims human activity is not causing climate change\n",
      "3 - Impact minimization: Claims climate change impacts are minimal or beneficial\n",
      "4 - Solution opposition: Claims solutions to climate change are harmful\n",
      "5 - Science skepticism: Challenges climate science validity or methods\n",
      "6 - Actor criticism: Attacks credibility of climate scientists or activists\n",
      "7 - Fossil fuel promotion: Asserts importance of fossil fuels\n",
      "</categories>\n",
      "\n",
      "<statement>\n",
      "Statement: \"There is clear, compelling evidence that many of the major conclusions of the IPCC, your new religions constantly-changing Holy Book, are based on evidence that has been fabricated. The hockey stick graph that purported to abolish the mediaeval warm period is just one example.\"\n",
      "</statement>\n",
      "\n",
      "Category number: 6\n",
      "Quote:\n",
      "There is clear, compelling evidence that many of the major conclusions of the IPCC, your new religions constantly-changing Holy Book, are based on evidence that has been fabricated. The hockey stick graph that purported to abolish the mediaeval warm period is just one example.\n",
      "\n",
      "Prediction: 6_proponents_biased\n",
      "True label: 5_science_unreliable\n",
      "\n"
     ]
    },
    {
     "data": {
      "text/html": [
       "<div>\n",
       "<style scoped>\n",
       "    .dataframe tbody tr th:only-of-type {\n",
       "        vertical-align: middle;\n",
       "    }\n",
       "\n",
       "    .dataframe tbody tr th {\n",
       "        vertical-align: top;\n",
       "    }\n",
       "\n",
       "    .dataframe thead th {\n",
       "        text-align: right;\n",
       "    }\n",
       "</style>\n",
       "<table border=\"1\" class=\"dataframe\">\n",
       "  <thead>\n",
       "    <tr style=\"text-align: right;\">\n",
       "      <th></th>\n",
       "      <th>sample_latency_sec</th>\n",
       "      <th>sample_energy_conso_kWh</th>\n",
       "      <th>sample_emissions_kgCO2eq</th>\n",
       "    </tr>\n",
       "  </thead>\n",
       "  <tbody>\n",
       "    <tr>\n",
       "      <th>0</th>\n",
       "      <td>12.382259</td>\n",
       "      <td>0.000177</td>\n",
       "      <td>0.00001</td>\n",
       "    </tr>\n",
       "  </tbody>\n",
       "</table>\n",
       "</div>"
      ],
      "text/plain": [
       "   sample_latency_sec  sample_energy_conso_kWh  sample_emissions_kgCO2eq\n",
       "0           12.382259                 0.000177                   0.00001"
      ]
     },
     "execution_count": 30,
     "metadata": {},
     "output_type": "execute_result"
    }
   ],
   "source": [
    "print('Raw prediction:\\n\\n', single_raw_prediction)\n",
    "\n",
    "single_prediction = parse_output(single_raw_prediction)\n",
    "print(f'Quote:\\n{sample_text}')\n",
    "print(f'\\nPrediction: {single_prediction}')\n",
    "print(f\"True label: {df['label'][0]}\")\n",
    "print()\n",
    "single_metrics_df.head()"
   ]
  },
  {
   "cell_type": "markdown",
   "id": "5de4d4bc-fc72-434c-b43e-e8f13d57556a",
   "metadata": {},
   "source": [
    "### **Testing on a larger sample size**"
   ]
  },
  {
   "cell_type": "markdown",
   "id": "cac1e15c-61ad-4581-a54b-37c38ac3575c",
   "metadata": {},
   "source": [
    "##### **Sample**"
   ]
  },
  {
   "cell_type": "code",
   "execution_count": 31,
   "id": "35ab0ac7-cf45-4966-8b8c-899fb70e11ee",
   "metadata": {},
   "outputs": [
    {
     "data": {
      "text/plain": [
       "['Mann could be said to be the Jerry Sandusky of climate science, except for instead of molesting children, he has molested and tortured data in the service of politicized science that could have dire economic consequences for the nation and planet,” Rand Simberg wrote in\\xa0National Review\\xa0article in\\xa02012.',\n",
       " 'The reality is that the infra-red active gases act more like an umbrella providing the Earths surface with shade to keep it cool than like a greenhouse to keep it warmer. It is a much more realistic description of the infra-red active gases to call them shade gases, rather than greenhouse gases.',\n",
       " '“Late 20th century and early 21st century global warming, they show, is neither dramatic, nor unusual, nor scary. Here … are just some of the charts to prove it.”',\n",
       " 'Our research has shown that the concentration of carbon dioxide in the atmosphere has no impact on global temperatures, or the climate.',\n",
       " 'I am speaking only as a layman who observes that there is plenty of snow in our winters these days, and who wonders whether it might be time for government to start taking seriously the possibility — however remote — that [Piers] Corbyn is right,']"
      ]
     },
     "execution_count": 31,
     "metadata": {},
     "output_type": "execute_result"
    }
   ],
   "source": [
    "random.seed(42)\n",
    "torch.manual_seed(42)\n",
    "\n",
    "N_SAMPLES = 50\n",
    "\n",
    "df_test = df.sample(N_SAMPLES, random_state=42)\n",
    "X_test = df_test['quote'].tolist()\n",
    "y_test = df_test['label'].tolist()\n",
    "\n",
    "X_test[:5]"
   ]
  },
  {
   "cell_type": "markdown",
   "id": "70b24865-0f18-4465-aa74-d38bb65a2fdd",
   "metadata": {},
   "source": [
    "##### **Inference function**"
   ]
  },
  {
   "cell_type": "code",
   "execution_count": 32,
   "id": "6c491599-1975-40a3-a08c-f134ca0b4165",
   "metadata": {},
   "outputs": [],
   "source": [
    "def batch_inference(model, tokenizer, X_test):\n",
    "    predictions = []\n",
    "    metrics_list = []\n",
    "    errors = 0\n",
    "    \n",
    "    for i, quote in enumerate(X_test):\n",
    "        print(f'Progress : quote {i}/{len(X_test)} | {round(i/len(X_test)*100, 2)}%')\n",
    "        try:\n",
    "            pred, metrics_df = classify_text(quote, tokenizer, model)\n",
    "            pred = parse_output(pred)\n",
    "            predictions.append(pred)\n",
    "            metrics_list.append(metrics_df.iloc[0])\n",
    "    \n",
    "            if pred == \"error\":\n",
    "                errors += 1\n",
    "        except Exception as e:\n",
    "            predictions.append(\"error\")\n",
    "            errors += 1\n",
    "            print(f\"Error processing: {text[:50]}... -> {str(e)}\")\n",
    "\n",
    "    if metrics_list:\n",
    "        batch_metrics_df = pd.DataFrame(metrics_list, columns=[\n",
    "            \"sample_latency_sec\",\n",
    "            \"sample_energy_conso_kWh\",\n",
    "            \"sample_emissions_kgCO2eq\"\n",
    "        ])\n",
    "        inf_efficiency_metrics = {\n",
    "            \"total_latency_sec\": np.sum(batch_metrics_df['sample_latency_sec']),\n",
    "            \"sample_latency_sec\": np.mean(batch_metrics_df['sample_latency_sec']),\n",
    "            \"total_energy_conso_kWh\": np.sum(batch_metrics_df['sample_energy_conso_kWh']),\n",
    "            \"sample_energy_conso_kWh\": np.mean(batch_metrics_df['sample_energy_conso_kWh']),\n",
    "            \"total_emissions_kgCO2eq\": np.sum(batch_metrics_df['sample_emissions_kgCO2eq'])\n",
    "        }\n",
    "    if errors:\n",
    "        print(f\"Total errors: {errors}\")\n",
    "\n",
    "    return predictions, inf_efficiency_metrics"
   ]
  },
  {
   "cell_type": "markdown",
   "id": "e1cbe048-c044-480a-946c-e41faa73d18a",
   "metadata": {},
   "source": [
    "##### **Inference**"
   ]
  },
  {
   "cell_type": "code",
   "execution_count": 33,
   "id": "70580771-71b1-4535-8171-db721cff860c",
   "metadata": {},
   "outputs": [
    {
     "data": {
      "text/plain": [
       "'mistralai/Mistral-7B-Instruct-v0.1'"
      ]
     },
     "execution_count": 33,
     "metadata": {},
     "output_type": "execute_result"
    }
   ],
   "source": [
    "model_name"
   ]
  },
  {
   "cell_type": "code",
   "execution_count": 34,
   "id": "b2a04387-1c30-4c95-82c0-751a983589ce",
   "metadata": {},
   "outputs": [
    {
     "data": {
      "text/plain": [
       "'\\n<instruction>\\nClassify the following statement into one of these 8 categories:\\nRespond STRICTLY with only the corresponding number (0-7).\\n</instruction>\\n\\n<categories>\\n0 - Not relevant: No climate-related claims or doesn\\'t fit other categories\\n1 - Denial: Claims climate change is not happening\\n2 - Attribution denial: Claims human activity is not causing climate change\\n3 - Impact minimization: Claims climate change impacts are minimal or beneficial\\n4 - Solution opposition: Claims solutions to climate change are harmful\\n5 - Science skepticism: Challenges climate science validity or methods\\n6 - Actor criticism: Attacks credibility of climate scientists or activists\\n7 - Fossil fuel promotion: Asserts importance of fossil fuels\\n</categories>\\n\\n<statement>\\nStatement: \"\"\\n</statement>\\n\\nCategory number:'"
      ]
     },
     "execution_count": 34,
     "metadata": {},
     "output_type": "execute_result"
    }
   ],
   "source": [
    "create_prompt('')"
   ]
  },
  {
   "cell_type": "code",
   "execution_count": 35,
   "id": "77b2a43d-6f57-47b9-b1b5-ce37c935c9d0",
   "metadata": {},
   "outputs": [
    {
     "name": "stdout",
     "output_type": "stream",
     "text": [
      "original dataset : 1133 char\n",
      "truncated dataset : 722 char\n",
      "X_test : original\n"
     ]
    }
   ],
   "source": [
    "print(\"original dataset :\", max([len(x) for x in df_test['quote'].tolist()]), 'char')\n",
    "print(\"truncated dataset :\", max([len(x) for x in df_test['truncated_quote'].tolist()]), 'char')\n",
    "print(\"X_test :\", 'original' if max([len(x) for x in X_test]) == 1133 else 'truncated')"
   ]
  },
  {
   "cell_type": "code",
   "execution_count": 36,
   "id": "e2233469-e685-4c2f-9ca8-cccc209c80b1",
   "metadata": {},
   "outputs": [
    {
     "name": "stdout",
     "output_type": "stream",
     "text": [
      "Estimated time to compute : 10 min 19 sec\n"
     ]
    }
   ],
   "source": [
    "est_time = single_metrics_df['sample_latency_sec'][0] * N_SAMPLES\n",
    "print(f\"Estimated time to compute : {round(est_time//60)} min {round(est_time%60)} sec\")"
   ]
  },
  {
   "cell_type": "code",
   "execution_count": 37,
   "id": "4a6d3c97-380e-4ab2-b94e-b4923df812f5",
   "metadata": {},
   "outputs": [
    {
     "name": "stdout",
     "output_type": "stream",
     "text": [
      "Progress : quote 0/50 | 0.0%\n",
      "Progress : quote 1/50 | 2.0%\n",
      "Progress : quote 2/50 | 4.0%\n",
      "Progress : quote 3/50 | 6.0%\n",
      "Progress : quote 4/50 | 8.0%\n",
      "Progress : quote 5/50 | 10.0%\n",
      "Progress : quote 6/50 | 12.0%\n",
      "Progress : quote 7/50 | 14.0%\n",
      "Progress : quote 8/50 | 16.0%\n",
      "Progress : quote 9/50 | 18.0%\n",
      "Progress : quote 10/50 | 20.0%\n",
      "Progress : quote 11/50 | 22.0%\n",
      "Progress : quote 12/50 | 24.0%\n",
      "Progress : quote 13/50 | 26.0%\n",
      "Progress : quote 14/50 | 28.0%\n",
      "Progress : quote 15/50 | 30.0%\n",
      "Progress : quote 16/50 | 32.0%\n",
      "Progress : quote 17/50 | 34.0%\n",
      "Progress : quote 18/50 | 36.0%\n",
      "Progress : quote 19/50 | 38.0%\n",
      "Progress : quote 20/50 | 40.0%\n",
      "Progress : quote 21/50 | 42.0%\n",
      "Progress : quote 22/50 | 44.0%\n",
      "Progress : quote 23/50 | 46.0%\n",
      "Progress : quote 24/50 | 48.0%\n",
      "Progress : quote 25/50 | 50.0%\n",
      "Progress : quote 26/50 | 52.0%\n",
      "Progress : quote 27/50 | 54.0%\n",
      "Progress : quote 28/50 | 56.0%\n",
      "Progress : quote 29/50 | 58.0%\n",
      "Progress : quote 30/50 | 60.0%\n",
      "Progress : quote 31/50 | 62.0%\n",
      "Progress : quote 32/50 | 64.0%\n",
      "Progress : quote 33/50 | 66.0%\n",
      "Progress : quote 34/50 | 68.0%\n",
      "Progress : quote 35/50 | 70.0%\n",
      "Progress : quote 36/50 | 72.0%\n",
      "Progress : quote 37/50 | 74.0%\n",
      "Progress : quote 38/50 | 76.0%\n",
      "Progress : quote 39/50 | 78.0%\n",
      "Progress : quote 40/50 | 80.0%\n",
      "Progress : quote 41/50 | 82.0%\n",
      "Progress : quote 42/50 | 84.0%\n",
      "Progress : quote 43/50 | 86.0%\n",
      "Progress : quote 44/50 | 88.0%\n",
      "Progress : quote 45/50 | 90.0%\n",
      "Progress : quote 46/50 | 92.0%\n",
      "Progress : quote 47/50 | 94.0%\n",
      "Progress : quote 48/50 | 96.0%\n",
      "Progress : quote 49/50 | 98.0%\n"
     ]
    }
   ],
   "source": [
    "y_pred, efficiency_metrics_df = batch_inference(model, tokenizer, X_test)"
   ]
  },
  {
   "cell_type": "code",
   "execution_count": 38,
   "id": "0f05cd59-722c-4d39-af91-9e439eb80a79",
   "metadata": {},
   "outputs": [
    {
     "name": "stdout",
     "output_type": "stream",
     "text": [
      "Effective time to compute : 1 min 38 sec\n"
     ]
    }
   ],
   "source": [
    "eff_time = efficiency_metrics_df['total_latency_sec']\n",
    "print(f\"Effective time to compute : {round(eff_time//60)} min {round(eff_time%60)} sec\")"
   ]
  },
  {
   "cell_type": "markdown",
   "id": "49ad7295-84ac-4383-893d-62727b3a9a40",
   "metadata": {},
   "source": [
    "**Efficiency Metrics**"
   ]
  },
  {
   "cell_type": "code",
   "execution_count": 39,
   "id": "9494bf03-3dca-4d45-8eb3-b24eb23ef227",
   "metadata": {},
   "outputs": [
    {
     "data": {
      "text/plain": [
       "{'total_latency_sec': 97.7060661315918,\n",
       " 'sample_latency_sec': 1.954121322631836,\n",
       " 'total_energy_conso_kWh': 0.001397700557013353,\n",
       " 'sample_energy_conso_kWh': 2.795401114026706e-05,\n",
       " 'total_emissions_kgCO2eq': 8.111415412571292e-05}"
      ]
     },
     "execution_count": 39,
     "metadata": {},
     "output_type": "execute_result"
    }
   ],
   "source": [
    "efficiency_metrics_df"
   ]
  },
  {
   "cell_type": "markdown",
   "id": "936fe02c-e03a-438a-9cb5-348eeec199b5",
   "metadata": {},
   "source": [
    "**Performance Metrics**"
   ]
  },
  {
   "cell_type": "markdown",
   "id": "9e021bf4-2534-4e82-a873-a0a8007de261",
   "metadata": {
    "jp-MarkdownHeadingCollapsed": true
   },
   "source": [
    "##### Functions"
   ]
  },
  {
   "cell_type": "code",
   "execution_count": 40,
   "id": "1dc8d875-89b4-44fd-8556-0d490035e283",
   "metadata": {},
   "outputs": [],
   "source": [
    "from sklearn.metrics import precision_score, recall_score, f1_score, accuracy_score\n",
    "import pandas as pd\n",
    "import numpy as np\n",
    "\n",
    "def evaluation(X_test, y_test, y_pred):\n",
    "    # Store results in a DataFrame\n",
    "    results = pd.DataFrame({\n",
    "        'X_test': X_test,\n",
    "        'y_test': y_test,\n",
    "        'y_pred': y_pred\n",
    "    })\n",
    "    results[\"correct\"] = results[\"y_test\"] == results[\"y_pred\"]\n",
    "\n",
    "    # Compute overall performance breakdown\n",
    "    correct = np.sum(results[\"correct\"])\n",
    "    errors = np.sum(results[\"y_pred\"] == 'error')\n",
    "    incorrect = len(results) - correct - errors\n",
    "    \n",
    "    performance = pd.DataFrame({\n",
    "        'Outcome': ['Correct', 'Incorrect', 'Error'],\n",
    "        'Count': [correct,incorrect,errors]\n",
    "        })\n",
    "\n",
    "    # Compute overall accuracy\n",
    "    accuracy = accuracy_score(y_test, y_pred)\n",
    "\n",
    "    # Get category labels (sorted for consistency)\n",
    "    category_names = sorted(pd.Series(y_test).unique())\n",
    "\n",
    "    # Compute per-class metrics\n",
    "    class_accuracy = results.groupby(\"y_test\")[\"correct\"].mean().reindex(category_names, fill_value=0).values\n",
    "    precision = precision_score(y_test, y_pred, average=None, labels=category_names, zero_division=0)\n",
    "    recall = recall_score(y_test, y_pred, average=None, labels=category_names, zero_division=0)\n",
    "    f1 = f1_score(y_test, y_pred, average=None, labels=category_names, zero_division=0)\n",
    "\n",
    "    # Store per-category metrics\n",
    "    metrics_df = pd.DataFrame({\n",
    "        \"Category\": category_names,\n",
    "        \"Accuracy\": class_accuracy,\n",
    "        \"Precision\": precision,\n",
    "        \"Recall\": recall,\n",
    "        \"F1 Score\": f1\n",
    "    })\n",
    "\n",
    "    return results, accuracy, metrics_df, performance"
   ]
  },
  {
   "cell_type": "code",
   "execution_count": 41,
   "id": "b42d7d3b-e0e6-43b8-995b-1935913063a5",
   "metadata": {},
   "outputs": [],
   "source": [
    "import numpy as np\n",
    "import matplotlib.pyplot as plt\n",
    "import seaborn as sns\n",
    "from sklearn.metrics import confusion_matrix\n",
    "\n",
    "def plot_confusion_matrix(y_test, y_pred):\n",
    "    # Compute the confusion matrix\n",
    "    cm = confusion_matrix(y_test, y_pred)\n",
    "    labels = np.unique(y_test)  # Unique class labels\n",
    "    \n",
    "    # Compute TP, FP, FN, TN for each class\n",
    "    tp = np.diag(cm)  # True Positives (diagonal)\n",
    "    fp = cm.sum(axis=0) - tp  # Column sum minus TP\n",
    "    fn = cm.sum(axis=1) - tp  # Row sum minus TP\n",
    "    tn = cm.sum() - (tp + fp + fn)  # Total samples - (TP + FP + FN)\n",
    "    \n",
    "    print('Sample size:', N_SAMPLES)\n",
    "    print(f'True positives: \\t{tp.sum()}')\n",
    "    print(f'False positives:\\t{fp.sum()}')\n",
    "    print(f'False negatives:\\t{fn.sum()}')\n",
    "    \n",
    "    # 📊 3️⃣ **Plot Full Multi-Class Confusion Matrix**\n",
    "    plt.figure(figsize=(4, 4))\n",
    "    sns.heatmap(cm, annot=True, fmt='d', cmap='Blues', xticklabels=labels, yticklabels=labels)\n",
    "    plt.xlabel(\"Predicted Label\")\n",
    "    plt.ylabel(\"True Label\")\n",
    "    plt.title(\"Full 8-Class Confusion Matrix\")\n",
    "    plt.show()"
   ]
  },
  {
   "cell_type": "code",
   "execution_count": 42,
   "id": "9b0544a2-6bd3-4196-ae88-48c9160ba8cc",
   "metadata": {},
   "outputs": [],
   "source": [
    "import matplotlib.pyplot as plt\n",
    "\n",
    "def plot_metrics(performance, metrics_df):\n",
    "    # Create side-by-side plots\n",
    "    fig, axes = plt.subplots(1, 2, figsize=(14, 6))\n",
    "    \n",
    "    # Classification Performance Breakdown (Bar Chart)\n",
    "    axes[0].bar(performance['Outcome'], performance['Count'], color=['green', 'red', 'gray'])\n",
    "    axes[0].set_title(\"Classification Performance Breakdown\", fontsize=14)\n",
    "    axes[0].set_ylabel(\"Count\", fontsize=12)\n",
    "    axes[0].set_xlabel(\"Outcome\", fontsize=12)\n",
    "    \n",
    "    # Line Plot for F1 Score, Precision, Recall\n",
    "    categories = metrics_df['Category']\n",
    "    \n",
    "    axes[1].plot(categories, metrics_df['F1 Score'], marker='o', label='F1 Score')\n",
    "    axes[1].plot(categories, metrics_df['Precision'], marker='s', label='Precision')\n",
    "    axes[1].plot(categories, metrics_df['Recall'], marker='^', label='Recall')\n",
    "    \n",
    "    axes[1].axhline(y=accuracy, color='r', linestyle='--', label=f'Accuracy ({accuracy:.2f})')\n",
    "    \n",
    "    axes[1].set_xlabel(\"Category\", fontsize=12)\n",
    "    axes[1].set_ylabel(\"Score\", fontsize=12)\n",
    "    axes[1].set_title(\"Evaluation Metrics per Category\", fontsize=14)\n",
    "    axes[1].set_xticks(range(len(categories)))\n",
    "    axes[1].set_xticklabels(categories, rotation=45, ha=\"right\")\n",
    "    axes[1].legend()\n",
    "    axes[1].grid(True)\n",
    "    \n",
    "    # Adjust layout and show\n",
    "    plt.tight_layout()\n",
    "    plt.show()"
   ]
  },
  {
   "cell_type": "markdown",
   "id": "b9d367fc-39f9-488e-950b-fff7170b959d",
   "metadata": {},
   "source": [
    "##### **Summary**"
   ]
  },
  {
   "cell_type": "code",
   "execution_count": 43,
   "id": "16f3db16-ebb7-4586-a814-a6bba443b8d3",
   "metadata": {},
   "outputs": [],
   "source": [
    "results_df, accuracy, metrics_df, performance = evaluation(X_test, y_test, y_pred)"
   ]
  },
  {
   "cell_type": "code",
   "execution_count": 44,
   "id": "a4a30a4d-538a-418c-8aa6-003fc49acc4c",
   "metadata": {},
   "outputs": [
    {
     "data": {
      "text/html": [
       "<div>\n",
       "<style scoped>\n",
       "    .dataframe tbody tr th:only-of-type {\n",
       "        vertical-align: middle;\n",
       "    }\n",
       "\n",
       "    .dataframe tbody tr th {\n",
       "        vertical-align: top;\n",
       "    }\n",
       "\n",
       "    .dataframe thead th {\n",
       "        text-align: right;\n",
       "    }\n",
       "</style>\n",
       "<table border=\"1\" class=\"dataframe\">\n",
       "  <thead>\n",
       "    <tr style=\"text-align: right;\">\n",
       "      <th></th>\n",
       "      <th>X_test</th>\n",
       "      <th>y_test</th>\n",
       "      <th>y_pred</th>\n",
       "      <th>correct</th>\n",
       "    </tr>\n",
       "  </thead>\n",
       "  <tbody>\n",
       "    <tr>\n",
       "      <th>0</th>\n",
       "      <td>Mann could be said to be the Jerry Sandusky of...</td>\n",
       "      <td>6_proponents_biased</td>\n",
       "      <td>6_proponents_biased</td>\n",
       "      <td>True</td>\n",
       "    </tr>\n",
       "    <tr>\n",
       "      <th>1</th>\n",
       "      <td>The reality is that the infra-red active gases...</td>\n",
       "      <td>2_not_human</td>\n",
       "      <td>5_science_unreliable</td>\n",
       "      <td>False</td>\n",
       "    </tr>\n",
       "    <tr>\n",
       "      <th>2</th>\n",
       "      <td>“Late 20th century and early 21st century glob...</td>\n",
       "      <td>3_not_bad</td>\n",
       "      <td>3_not_bad</td>\n",
       "      <td>True</td>\n",
       "    </tr>\n",
       "    <tr>\n",
       "      <th>3</th>\n",
       "      <td>Our research has shown that the concentration ...</td>\n",
       "      <td>2_not_human</td>\n",
       "      <td>2_not_human</td>\n",
       "      <td>True</td>\n",
       "    </tr>\n",
       "    <tr>\n",
       "      <th>4</th>\n",
       "      <td>I am speaking only as a layman who observes th...</td>\n",
       "      <td>1_not_happening</td>\n",
       "      <td>0_not_relevant</td>\n",
       "      <td>False</td>\n",
       "    </tr>\n",
       "  </tbody>\n",
       "</table>\n",
       "</div>"
      ],
      "text/plain": [
       "                                              X_test               y_test  \\\n",
       "0  Mann could be said to be the Jerry Sandusky of...  6_proponents_biased   \n",
       "1  The reality is that the infra-red active gases...          2_not_human   \n",
       "2  “Late 20th century and early 21st century glob...            3_not_bad   \n",
       "3  Our research has shown that the concentration ...          2_not_human   \n",
       "4  I am speaking only as a layman who observes th...      1_not_happening   \n",
       "\n",
       "                 y_pred  correct  \n",
       "0   6_proponents_biased     True  \n",
       "1  5_science_unreliable    False  \n",
       "2             3_not_bad     True  \n",
       "3           2_not_human     True  \n",
       "4        0_not_relevant    False  "
      ]
     },
     "execution_count": 44,
     "metadata": {},
     "output_type": "execute_result"
    }
   ],
   "source": [
    "results_df.head()"
   ]
  },
  {
   "cell_type": "code",
   "execution_count": 45,
   "id": "c022fa4c-8aeb-452a-9521-680b16d91138",
   "metadata": {},
   "outputs": [
    {
     "data": {
      "text/html": [
       "<div>\n",
       "<style scoped>\n",
       "    .dataframe tbody tr th:only-of-type {\n",
       "        vertical-align: middle;\n",
       "    }\n",
       "\n",
       "    .dataframe tbody tr th {\n",
       "        vertical-align: top;\n",
       "    }\n",
       "\n",
       "    .dataframe thead th {\n",
       "        text-align: right;\n",
       "    }\n",
       "</style>\n",
       "<table border=\"1\" class=\"dataframe\">\n",
       "  <thead>\n",
       "    <tr style=\"text-align: right;\">\n",
       "      <th></th>\n",
       "      <th>Outcome</th>\n",
       "      <th>Count</th>\n",
       "    </tr>\n",
       "  </thead>\n",
       "  <tbody>\n",
       "    <tr>\n",
       "      <th>0</th>\n",
       "      <td>Correct</td>\n",
       "      <td>25</td>\n",
       "    </tr>\n",
       "    <tr>\n",
       "      <th>1</th>\n",
       "      <td>Incorrect</td>\n",
       "      <td>25</td>\n",
       "    </tr>\n",
       "    <tr>\n",
       "      <th>2</th>\n",
       "      <td>Error</td>\n",
       "      <td>0</td>\n",
       "    </tr>\n",
       "  </tbody>\n",
       "</table>\n",
       "</div>"
      ],
      "text/plain": [
       "     Outcome  Count\n",
       "0    Correct     25\n",
       "1  Incorrect     25\n",
       "2      Error      0"
      ]
     },
     "execution_count": 45,
     "metadata": {},
     "output_type": "execute_result"
    }
   ],
   "source": [
    "performance"
   ]
  },
  {
   "cell_type": "code",
   "execution_count": 46,
   "id": "d31a0b23-836e-4299-9e54-fe357602a393",
   "metadata": {},
   "outputs": [
    {
     "name": "stdout",
     "output_type": "stream",
     "text": [
      "Accuracy: 0.5\n",
      "\n"
     ]
    },
    {
     "data": {
      "text/html": [
       "<div>\n",
       "<style scoped>\n",
       "    .dataframe tbody tr th:only-of-type {\n",
       "        vertical-align: middle;\n",
       "    }\n",
       "\n",
       "    .dataframe tbody tr th {\n",
       "        vertical-align: top;\n",
       "    }\n",
       "\n",
       "    .dataframe thead th {\n",
       "        text-align: right;\n",
       "    }\n",
       "</style>\n",
       "<table border=\"1\" class=\"dataframe\">\n",
       "  <thead>\n",
       "    <tr style=\"text-align: right;\">\n",
       "      <th></th>\n",
       "      <th>Category</th>\n",
       "      <th>Accuracy</th>\n",
       "      <th>Precision</th>\n",
       "      <th>Recall</th>\n",
       "      <th>F1 Score</th>\n",
       "    </tr>\n",
       "  </thead>\n",
       "  <tbody>\n",
       "    <tr>\n",
       "      <th>0</th>\n",
       "      <td>0_not_relevant</td>\n",
       "      <td>0.833</td>\n",
       "      <td>0.417</td>\n",
       "      <td>0.833</td>\n",
       "      <td>0.556</td>\n",
       "    </tr>\n",
       "    <tr>\n",
       "      <th>1</th>\n",
       "      <td>1_not_happening</td>\n",
       "      <td>0.200</td>\n",
       "      <td>0.333</td>\n",
       "      <td>0.200</td>\n",
       "      <td>0.250</td>\n",
       "    </tr>\n",
       "    <tr>\n",
       "      <th>2</th>\n",
       "      <td>2_not_human</td>\n",
       "      <td>0.167</td>\n",
       "      <td>1.000</td>\n",
       "      <td>0.167</td>\n",
       "      <td>0.286</td>\n",
       "    </tr>\n",
       "    <tr>\n",
       "      <th>3</th>\n",
       "      <td>3_not_bad</td>\n",
       "      <td>0.625</td>\n",
       "      <td>0.625</td>\n",
       "      <td>0.625</td>\n",
       "      <td>0.625</td>\n",
       "    </tr>\n",
       "    <tr>\n",
       "      <th>4</th>\n",
       "      <td>4_solutions_harmful_unnecessary</td>\n",
       "      <td>0.000</td>\n",
       "      <td>0.000</td>\n",
       "      <td>0.000</td>\n",
       "      <td>0.000</td>\n",
       "    </tr>\n",
       "    <tr>\n",
       "      <th>5</th>\n",
       "      <td>5_science_unreliable</td>\n",
       "      <td>0.556</td>\n",
       "      <td>0.625</td>\n",
       "      <td>0.556</td>\n",
       "      <td>0.588</td>\n",
       "    </tr>\n",
       "    <tr>\n",
       "      <th>6</th>\n",
       "      <td>6_proponents_biased</td>\n",
       "      <td>0.571</td>\n",
       "      <td>0.667</td>\n",
       "      <td>0.571</td>\n",
       "      <td>0.615</td>\n",
       "    </tr>\n",
       "    <tr>\n",
       "      <th>7</th>\n",
       "      <td>7_fossil_fuels_needed</td>\n",
       "      <td>1.000</td>\n",
       "      <td>0.333</td>\n",
       "      <td>1.000</td>\n",
       "      <td>0.500</td>\n",
       "    </tr>\n",
       "  </tbody>\n",
       "</table>\n",
       "</div>"
      ],
      "text/plain": [
       "                          Category  Accuracy  Precision  Recall  F1 Score\n",
       "0                   0_not_relevant     0.833      0.417   0.833     0.556\n",
       "1                  1_not_happening     0.200      0.333   0.200     0.250\n",
       "2                      2_not_human     0.167      1.000   0.167     0.286\n",
       "3                        3_not_bad     0.625      0.625   0.625     0.625\n",
       "4  4_solutions_harmful_unnecessary     0.000      0.000   0.000     0.000\n",
       "5             5_science_unreliable     0.556      0.625   0.556     0.588\n",
       "6              6_proponents_biased     0.571      0.667   0.571     0.615\n",
       "7            7_fossil_fuels_needed     1.000      0.333   1.000     0.500"
      ]
     },
     "execution_count": 46,
     "metadata": {},
     "output_type": "execute_result"
    }
   ],
   "source": [
    "print(f'Accuracy: {accuracy}\\n')\n",
    "\n",
    "metrics_df.round(3)"
   ]
  },
  {
   "cell_type": "code",
   "execution_count": 47,
   "id": "76573abb-f38d-498a-98cc-c30764617f18",
   "metadata": {},
   "outputs": [
    {
     "data": {
      "image/png": "[encoded data removed]",
      "text/plain": [
       "<Figure size 1400x600 with 2 Axes>"
      ]
     },
     "metadata": {},
     "output_type": "display_data"
    }
   ],
   "source": [
    "plot_metrics(performance, metrics_df)"
   ]
  },
  {
   "cell_type": "code",
   "execution_count": 48,
   "id": "d6be30b1-a801-4e36-9d83-69e5a812295e",
   "metadata": {},
   "outputs": [
    {
     "data": {
      "text/html": [
       "<div>\n",
       "<style scoped>\n",
       "    .dataframe tbody tr th:only-of-type {\n",
       "        vertical-align: middle;\n",
       "    }\n",
       "\n",
       "    .dataframe tbody tr th {\n",
       "        vertical-align: top;\n",
       "    }\n",
       "\n",
       "    .dataframe thead th {\n",
       "        text-align: right;\n",
       "    }\n",
       "</style>\n",
       "<table border=\"1\" class=\"dataframe\">\n",
       "  <thead>\n",
       "    <tr style=\"text-align: right;\">\n",
       "      <th></th>\n",
       "      <th>y_test</th>\n",
       "      <th>y_pred</th>\n",
       "    </tr>\n",
       "  </thead>\n",
       "  <tbody>\n",
       "    <tr>\n",
       "      <th>0_not_relevant</th>\n",
       "      <td>6</td>\n",
       "      <td>12.0</td>\n",
       "    </tr>\n",
       "    <tr>\n",
       "      <th>1_not_happening</th>\n",
       "      <td>5</td>\n",
       "      <td>3.0</td>\n",
       "    </tr>\n",
       "    <tr>\n",
       "      <th>2_not_human</th>\n",
       "      <td>6</td>\n",
       "      <td>1.0</td>\n",
       "    </tr>\n",
       "    <tr>\n",
       "      <th>3_not_bad</th>\n",
       "      <td>8</td>\n",
       "      <td>8.0</td>\n",
       "    </tr>\n",
       "    <tr>\n",
       "      <th>4_solutions_harmful_unnecessary</th>\n",
       "      <td>5</td>\n",
       "      <td>NaN</td>\n",
       "    </tr>\n",
       "    <tr>\n",
       "      <th>5_science_unreliable</th>\n",
       "      <td>9</td>\n",
       "      <td>8.0</td>\n",
       "    </tr>\n",
       "    <tr>\n",
       "      <th>6_proponents_biased</th>\n",
       "      <td>7</td>\n",
       "      <td>6.0</td>\n",
       "    </tr>\n",
       "    <tr>\n",
       "      <th>7_fossil_fuels_needed</th>\n",
       "      <td>4</td>\n",
       "      <td>12.0</td>\n",
       "    </tr>\n",
       "  </tbody>\n",
       "</table>\n",
       "</div>"
      ],
      "text/plain": [
       "                                 y_test  y_pred\n",
       "0_not_relevant                        6    12.0\n",
       "1_not_happening                       5     3.0\n",
       "2_not_human                           6     1.0\n",
       "3_not_bad                             8     8.0\n",
       "4_solutions_harmful_unnecessary       5     NaN\n",
       "5_science_unreliable                  9     8.0\n",
       "6_proponents_biased                   7     6.0\n",
       "7_fossil_fuels_needed                 4    12.0"
      ]
     },
     "execution_count": 48,
     "metadata": {},
     "output_type": "execute_result"
    }
   ],
   "source": [
    "r = pd.concat([\n",
    "    results_df['y_test'].value_counts().sort_index(),\n",
    "    results_df['y_pred'].value_counts().sort_index()\n",
    "], axis=1)\n",
    "r.columns = ['y_test', 'y_pred']\n",
    "r"
   ]
  },
  {
   "cell_type": "code",
   "execution_count": null,
   "id": "0c58df88-c846-428c-9b8b-b63945b48593",
   "metadata": {},
   "outputs": [],
   "source": []
  },
  {
   "cell_type": "code",
   "execution_count": 49,
   "id": "79109e95-7ab5-4696-9197-87137ac9e0fb",
   "metadata": {},
   "outputs": [
    {
     "name": "stdout",
     "output_type": "stream",
     "text": [
      "Sample size: 50\n",
      "True positives: \t25\n",
      "False positives:\t25\n",
      "False negatives:\t25\n"
     ]
    },
    {
     "data": {
      "image/png": "[encoded data removed]",
      "text/plain": [
       "<Figure size 400x400 with 2 Axes>"
      ]
     },
     "metadata": {},
     "output_type": "display_data"
    }
   ],
   "source": [
    "plot_confusion_matrix(y_test, y_pred)"
   ]
  },
  {
   "cell_type": "markdown",
   "id": "0dd36a70-e4a7-48f6-a5d1-5b3d5e1f4093",
   "metadata": {},
   "source": [
    "## **Let's save the results**"
   ]
  },
  {
   "cell_type": "code",
   "execution_count": 50,
   "id": "ab8277ac-0688-4f0e-bf9c-092c55cfbb79",
   "metadata": {},
   "outputs": [
    {
     "data": {
      "text/plain": [
       "'2025-01-31_17:52:09'"
      ]
     },
     "execution_count": 50,
     "metadata": {},
     "output_type": "execute_result"
    }
   ],
   "source": [
    "import datetime\n",
    "timestamp = datetime.datetime.now().strftime(\"%Y-%m-%d_%H:%M:%S\")\n",
    "timestamp"
   ]
  },
  {
   "cell_type": "code",
   "execution_count": 51,
   "id": "9932a72d-a9a6-488b-a627-92ee16693323",
   "metadata": {},
   "outputs": [
    {
     "data": {
      "text/plain": [
       "'metrics/mistralai_Mistral-7B-Instruct-v0.1_accuracy_50_dt_20250131_175209.json'"
      ]
     },
     "execution_count": 51,
     "metadata": {},
     "output_type": "execute_result"
    }
   ],
   "source": [
    "filename = (\n",
    "    \"metrics/\"\n",
    "    f\"{'_'.join(model_name.split('/'))}\"\n",
    "    f\"_accuracy_{int(accuracy * 100)}\"\n",
    "    f\"_dt_{timestamp.replace(':', '').replace('-', '')}\"\n",
    "    \".json\"\n",
    ")\n",
    "filename"
   ]
  },
  {
   "cell_type": "code",
   "execution_count": 52,
   "id": "10d36b1e-6000-49db-97fe-96abe94a961b",
   "metadata": {},
   "outputs": [],
   "source": [
    "note = \"Baseline SLM, step by step, quote cropping\""
   ]
  },
  {
   "cell_type": "code",
   "execution_count": 53,
   "id": "d80425ac-a12a-4fd4-94f9-501b79acaa9a",
   "metadata": {},
   "outputs": [
    {
     "data": {
      "text/plain": [
       "{'model_name': 'mistralai/Mistral-7B-Instruct-v0.1',\n",
       " 'timestamp': '2025-01-31_17:52:09',\n",
       " 'note': 'Baseline SLM, step by step, quote cropping',\n",
       " 'test_size': 50,\n",
       " 'quote_max_len': 1133,\n",
       " 'test_accuracy': 0.5,\n",
       " 'total_latency_sec': 97.7060661315918,\n",
       " 'total_energy_conso_kWh': 0.001397700557013353,\n",
       " 'sample_latency_sec': 1.954121322631836,\n",
       " 'sample_energy_conso_kWh': 2.795401114026706e-05,\n",
       " 'total_emissions_kgCO2eq': 8.111415412571292e-05,\n",
       " 'class_performance_metrics': [{'Category': '0_not_relevant',\n",
       "   'Accuracy': 0.8333333333333334,\n",
       "   'Precision': 0.4166666666666667,\n",
       "   'Recall': 0.8333333333333334,\n",
       "   'F1 Score': 0.5555555555555556},\n",
       "  {'Category': '1_not_happening',\n",
       "   'Accuracy': 0.2,\n",
       "   'Precision': 0.3333333333333333,\n",
       "   'Recall': 0.2,\n",
       "   'F1 Score': 0.25},\n",
       "  {'Category': '2_not_human',\n",
       "   'Accuracy': 0.16666666666666666,\n",
       "   'Precision': 1.0,\n",
       "   'Recall': 0.16666666666666666,\n",
       "   'F1 Score': 0.2857142857142857},\n",
       "  {'Category': '3_not_bad',\n",
       "   'Accuracy': 0.625,\n",
       "   'Precision': 0.625,\n",
       "   'Recall': 0.625,\n",
       "   'F1 Score': 0.625},\n",
       "  {'Category': '4_solutions_harmful_unnecessary',\n",
       "   'Accuracy': 0.0,\n",
       "   'Precision': 0.0,\n",
       "   'Recall': 0.0,\n",
       "   'F1 Score': 0.0},\n",
       "  {'Category': '5_science_unreliable',\n",
       "   'Accuracy': 0.5555555555555556,\n",
       "   'Precision': 0.625,\n",
       "   'Recall': 0.5555555555555556,\n",
       "   'F1 Score': 0.5882352941176471},\n",
       "  {'Category': '6_proponents_biased',\n",
       "   'Accuracy': 0.5714285714285714,\n",
       "   'Precision': 0.6666666666666666,\n",
       "   'Recall': 0.5714285714285714,\n",
       "   'F1 Score': 0.6153846153846154},\n",
       "  {'Category': '7_fossil_fuels_needed',\n",
       "   'Accuracy': 1.0,\n",
       "   'Precision': 0.3333333333333333,\n",
       "   'Recall': 1.0,\n",
       "   'F1 Score': 0.5}],\n",
       " 'prompt': '\\n<instruction>\\nClassify the following statement into one of these 8 categories:\\nRespond STRICTLY with only the corresponding number (0-7).\\n</instruction>\\n\\n<categories>\\n0 - Not relevant: No climate-related claims or doesn\\'t fit other categories\\n1 - Denial: Claims climate change is not happening\\n2 - Attribution denial: Claims human activity is not causing climate change\\n3 - Impact minimization: Claims climate change impacts are minimal or beneficial\\n4 - Solution opposition: Claims solutions to climate change are harmful\\n5 - Science skepticism: Challenges climate science validity or methods\\n6 - Actor criticism: Attacks credibility of climate scientists or activists\\n7 - Fossil fuel promotion: Asserts importance of fossil fuels\\n</categories>\\n\\n<statement>\\nStatement: \"\"\\n</statement>\\n\\nCategory number:'}"
      ]
     },
     "execution_count": 53,
     "metadata": {},
     "output_type": "execute_result"
    }
   ],
   "source": [
    "# ajouter category metrics\n",
    "\n",
    "os.makedirs(\"metrics\", exist_ok=True)\n",
    "\n",
    "data = {\n",
    "    \"model_name\": model_name,\n",
    "    \"timestamp\": timestamp,\n",
    "    \"note\": note,\n",
    "    \"test_size\" : N_SAMPLES,\n",
    "    \"quote_max_len\": (max([len(x) for x in X_test])),\n",
    "    \"test_accuracy\": accuracy,\n",
    "\n",
    "    \"total_latency_sec\": efficiency_metrics_df['total_latency_sec'],\n",
    "    \"total_energy_conso_kWh\": efficiency_metrics_df['total_energy_conso_kWh'],\n",
    "\n",
    "    \"sample_latency_sec\": efficiency_metrics_df['sample_latency_sec'],\n",
    "    \"sample_energy_conso_kWh\": efficiency_metrics_df['sample_energy_conso_kWh'],\n",
    "    \"total_emissions_kgCO2eq\": efficiency_metrics_df['total_emissions_kgCO2eq'],\n",
    "\n",
    "    \"class_performance_metrics\": metrics_df.to_dict(orient=\"records\"),\n",
    "    \"prompt\": create_prompt('')\n",
    "}\n",
    "data"
   ]
  },
  {
   "cell_type": "code",
   "execution_count": 54,
   "id": "425e129b-7d2c-4697-b44f-d09018db350c",
   "metadata": {},
   "outputs": [
    {
     "name": "stdout",
     "output_type": "stream",
     "text": [
      "Metrics saved to metrics/mistralai_Mistral-7B-Instruct-v0.1_accuracy_50_dt_20250131_175209.json\n"
     ]
    }
   ],
   "source": [
    "import json\n",
    "\n",
    "with open(filename, \"w\") as f:\n",
    "    json.dump(data, f, indent=4)\n",
    "\n",
    "print(f\"Metrics saved to {filename}\")"
   ]
  }
 ],
 "metadata": {
  "kernelspec": {
   "display_name": "Python 3 (ipykernel)",
   "language": "python",
   "name": "python3"
  },
  "language_info": {
   "codemirror_mode": {
    "name": "ipython",
    "version": 3
   },
   "file_extension": ".py",
   "mimetype": "text/x-python",
   "name": "python",
   "nbconvert_exporter": "python",
   "pygments_lexer": "ipython3",
   "version": "3.9.21"
  }
 },
 "nbformat": 4,
 "nbformat_minor": 5
}

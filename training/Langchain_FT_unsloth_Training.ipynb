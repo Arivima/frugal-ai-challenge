{
  "cells": [
    {
      "cell_type": "code",
      "source": [
        "%%capture\n",
        "import os\n",
        "if \"COLAB_\" not in \"\".join(os.environ.keys()):\n",
        "    !pip install unsloth\n",
        "else:\n",
        "    # Do this only in Colab and Kaggle notebooks! Otherwise use pip install unsloth\n",
        "    !pip install --no-deps bitsandbytes accelerate xformers==0.0.29 peft trl triton\n",
        "    !pip install --no-deps cut_cross_entropy unsloth_zoo\n",
        "    !pip install sentencepiece protobuf datasets huggingface_hub hf_transfer\n",
        "    !pip install --no-deps unsloth\n",
        "\n",
        "!pip install codecarbon"
      ],
      "metadata": {
        "id": "4x70AD6ZlohK"
      },
      "id": "4x70AD6ZlohK",
      "execution_count": null,
      "outputs": []
    },
    {
      "cell_type": "code",
      "execution_count": null,
      "id": "fa0d3b68-9daf-4c2d-9e5e-2ad61b5f7c9f",
      "metadata": {
        "id": "fa0d3b68-9daf-4c2d-9e5e-2ad61b5f7c9f"
      },
      "outputs": [],
      "source": [
        "%load_ext autoreload\n",
        "%autoreload 2"
      ]
    },
    {
      "cell_type": "markdown",
      "id": "8ad6fe9c-20a2-4700-99b0-7bf8f2a3eade",
      "metadata": {
        "id": "8ad6fe9c-20a2-4700-99b0-7bf8f2a3eade"
      },
      "source": [
        "##### **Load tokenizer & model**"
      ]
    },
    {
      "cell_type": "code",
      "execution_count": null,
      "id": "0ce0edf9-fa30-49ec-afbb-add2d5f91cdb",
      "metadata": {
        "id": "0ce0edf9-fa30-49ec-afbb-add2d5f91cdb",
        "outputId": "7a2c5bb0-3568-4cab-cccc-08a4a0986f70",
        "colab": {
          "base_uri": "https://localhost:8080/",
          "height": 35
        }
      },
      "outputs": [
        {
          "output_type": "execute_result",
          "data": {
            "text/plain": [
              "'unsloth/Phi-3.5-mini-instruct'"
            ],
            "application/vnd.google.colaboratory.intrinsic+json": {
              "type": "string"
            }
          },
          "metadata": {},
          "execution_count": 3
        }
      ],
      "source": [
        "# Select Model\n",
        "# 4bit pre quantized models we support for 4x faster downloading + no OOMs.\n",
        "# More models at https://huggingface.co/unsloth\n",
        "MODEL_NAMES = {\n",
        "    \"nemo\": \"unsloth/Mistral-Nemo-Instruct-2407-bnb-4bit\",\n",
        "    \"mistral\": \"unsloth/mistral-7b-instruct-v0.3-bnb-4bit\",\n",
        "    \"llama\": \"unsloth/Meta-Llama-3.1-8B-Instruct-bnb-4bit\",\n",
        "    \"phi3\": \"unsloth/Phi-3.5-mini-instruct\",\n",
        "}\n",
        "selected_model = \"phi3\"\n",
        "model_name = MODEL_NAMES[selected_model]\n",
        "model_name"
      ]
    },
    {
      "cell_type": "code",
      "execution_count": null,
      "id": "09fce702-9287-4255-a94f-d2d98407b5e3",
      "metadata": {
        "id": "09fce702-9287-4255-a94f-d2d98407b5e3",
        "colab": {
          "base_uri": "https://localhost:8080/",
          "height": 358
        },
        "outputId": "735c0378-0352-4bc4-8808-0f22f9404a9a"
      },
      "outputs": [
        {
          "output_type": "error",
          "ename": "NotImplementedError",
          "evalue": "Unsloth: No NVIDIA GPU found? Unsloth currently only supports GPUs!",
          "traceback": [
            "\u001b[0;31m---------------------------------------------------------------------------\u001b[0m",
            "\u001b[0;31mNotImplementedError\u001b[0m                       Traceback (most recent call last)",
            "\u001b[0;32m<ipython-input-4-e9ae7f4a084b>\u001b[0m in \u001b[0;36m<cell line: 0>\u001b[0;34m()\u001b[0m\n\u001b[0;32m----> 1\u001b[0;31m \u001b[0;32mimport\u001b[0m \u001b[0munsloth\u001b[0m\u001b[0;34m\u001b[0m\u001b[0;34m\u001b[0m\u001b[0m\n\u001b[0m\u001b[1;32m      2\u001b[0m \u001b[0;32mfrom\u001b[0m \u001b[0munsloth\u001b[0m \u001b[0;32mimport\u001b[0m \u001b[0mFastLanguageModel\u001b[0m\u001b[0;34m\u001b[0m\u001b[0;34m\u001b[0m\u001b[0m\n\u001b[1;32m      3\u001b[0m \u001b[0;32mimport\u001b[0m \u001b[0mtorch\u001b[0m\u001b[0;34m\u001b[0m\u001b[0;34m\u001b[0m\u001b[0m\n\u001b[1;32m      4\u001b[0m \u001b[0mmax_seq_length\u001b[0m \u001b[0;34m=\u001b[0m \u001b[0;36m2048\u001b[0m \u001b[0;31m# Choose any! We auto support RoPE Scaling internally!\u001b[0m\u001b[0;34m\u001b[0m\u001b[0;34m\u001b[0m\u001b[0m\n\u001b[1;32m      5\u001b[0m \u001b[0mdtype\u001b[0m \u001b[0;34m=\u001b[0m \u001b[0;32mNone\u001b[0m \u001b[0;31m# None for auto detection. Float16 for Tesla T4, V100, Bfloat16 for Ampere+\u001b[0m\u001b[0;34m\u001b[0m\u001b[0;34m\u001b[0m\u001b[0m\n",
            "\u001b[0;32m/usr/local/lib/python3.11/dist-packages/unsloth/__init__.py\u001b[0m in \u001b[0;36m<module>\u001b[0;34m\u001b[0m\n\u001b[1;32m     91\u001b[0m \u001b[0;31m# First check if CUDA is available ie a NVIDIA GPU is seen\u001b[0m\u001b[0;34m\u001b[0m\u001b[0;34m\u001b[0m\u001b[0m\n\u001b[1;32m     92\u001b[0m \u001b[0;32mif\u001b[0m \u001b[0;32mnot\u001b[0m \u001b[0mtorch\u001b[0m\u001b[0;34m.\u001b[0m\u001b[0mcuda\u001b[0m\u001b[0;34m.\u001b[0m\u001b[0mis_available\u001b[0m\u001b[0;34m(\u001b[0m\u001b[0;34m)\u001b[0m\u001b[0;34m:\u001b[0m\u001b[0;34m\u001b[0m\u001b[0;34m\u001b[0m\u001b[0m\n\u001b[0;32m---> 93\u001b[0;31m     \u001b[0;32mraise\u001b[0m \u001b[0mNotImplementedError\u001b[0m\u001b[0;34m(\u001b[0m\u001b[0;34m\"Unsloth: No NVIDIA GPU found? Unsloth currently only supports GPUs!\"\u001b[0m\u001b[0;34m)\u001b[0m\u001b[0;34m\u001b[0m\u001b[0;34m\u001b[0m\u001b[0m\n\u001b[0m\u001b[1;32m     94\u001b[0m \u001b[0;34m\u001b[0m\u001b[0m\n\u001b[1;32m     95\u001b[0m \u001b[0;31m# Fix Xformers performance issues since 0.0.25\u001b[0m\u001b[0;34m\u001b[0m\u001b[0;34m\u001b[0m\u001b[0m\n",
            "\u001b[0;31mNotImplementedError\u001b[0m: Unsloth: No NVIDIA GPU found? Unsloth currently only supports GPUs!"
          ]
        }
      ],
      "source": [
        "import unsloth\n",
        "from unsloth import FastLanguageModel\n",
        "import torch\n",
        "max_seq_length = 2048 # Choose any! We auto support RoPE Scaling internally!\n",
        "dtype = None # None for auto detection. Float16 for Tesla T4, V100, Bfloat16 for Ampere+\n",
        "load_in_4bit = True # Use 4bit quantization to reduce memory usage. Can be False.\n",
        "\n",
        "model, tokenizer = FastLanguageModel.from_pretrained(\n",
        "    model_name = model_name,\n",
        "    max_seq_length = max_seq_length,\n",
        "    dtype = dtype,\n",
        "    load_in_4bit = load_in_4bit,\n",
        "    # token = \"hf_...\", # use one if using gated models like meta-llama/Llama-2-7b-hf\n",
        ")"
      ]
    },
    {
      "cell_type": "code",
      "execution_count": null,
      "id": "227eede3-af0c-40c2-b71c-a5604f680696",
      "metadata": {
        "id": "227eede3-af0c-40c2-b71c-a5604f680696",
        "colab": {
          "base_uri": "https://localhost:8080/"
        },
        "outputId": "9602d517-fed6-40ec-f542-7facaf7b014e"
      },
      "outputs": [
        {
          "output_type": "stream",
          "name": "stderr",
          "text": [
            "Unsloth 2025.3.3 patched 32 layers with 32 QKV layers, 32 O layers and 32 MLP layers.\n"
          ]
        }
      ],
      "source": [
        "model = FastLanguageModel.get_peft_model(\n",
        "    model,\n",
        "    r = 16, # Choose any number > 0 ! Suggested 8, 16, 32, 64, 128\n",
        "    target_modules = [\"q_proj\", \"k_proj\", \"v_proj\", \"o_proj\",\n",
        "                      \"gate_proj\", \"up_proj\", \"down_proj\",],\n",
        "    lora_alpha = 16,\n",
        "    lora_dropout = 0, # Supports any, but = 0 is optimized\n",
        "    bias = \"none\",    # Supports any, but = \"none\" is optimized\n",
        "    # [NEW] \"unsloth\" uses 30% less VRAM, fits 2x larger batch sizes!\n",
        "    use_gradient_checkpointing = \"unsloth\", # True or \"unsloth\" for very long context\n",
        "    random_state = 3407,\n",
        "    use_rslora = False,  # We support rank stabilized LoRA\n",
        "    loftq_config = None, # And LoftQ\n",
        ")"
      ]
    },
    {
      "cell_type": "code",
      "source": [
        "print('model.device :', model.device)\n",
        "print('precision model.dtype :', model.dtype)\n",
        "print('model.framework :',  model.framework)\n",
        "print('model.is_gradient_checkpointing :',  model.is_gradient_checkpointing)\n",
        "print('model.is_parallelizable :',  model.is_parallelizable)"
      ],
      "metadata": {
        "colab": {
          "base_uri": "https://localhost:8080/"
        },
        "id": "aAiypZMisJlm",
        "outputId": "05038ee3-8d86-40a0-92d7-608f67db84fb"
      },
      "id": "aAiypZMisJlm",
      "execution_count": null,
      "outputs": [
        {
          "output_type": "stream",
          "name": "stdout",
          "text": [
            "model.device : cuda:0\n",
            "precision model.dtype : torch.float16\n",
            "model.framework : pt\n",
            "model.is_gradient_checkpointing : True\n",
            "model.is_parallelizable : False\n"
          ]
        }
      ]
    },
    {
      "cell_type": "markdown",
      "metadata": {
        "id": "2z0jgGKwH91X"
      },
      "source": [
        "##### **Load dataset**"
      ],
      "id": "2z0jgGKwH91X"
    },
    {
      "cell_type": "code",
      "source": [
        "from datasets import load_dataset, DatasetDict\n",
        "\n",
        "\n",
        "label2id = {\n",
        "    \"0_not_relevant\": 0,\n",
        "    \"1_not_happening\": 1,\n",
        "    \"2_not_human\": 2,\n",
        "    \"3_not_bad\": 3,\n",
        "    \"4_solutions_harmful_unnecessary\": 4,\n",
        "    \"5_science_unreliable\": 5,\n",
        "    \"6_proponents_biased\": 6,\n",
        "    \"7_fossil_fuels_needed\": 7,\n",
        "}\n",
        "\n",
        "id2label = {int(v): k for k, v in label2id.items()}\n",
        "\n",
        "prompt = \"\"\"\n",
        "Your task is to classify statements into 8 categories.\n",
        "Respond STRICTLY with only the corresponding number.\n",
        "DO NOT INCLUDE ANY OTHER TEXT.\n",
        "If you do not know the answer, make your best guess.\n",
        "The categories should be one of the following:\n",
        "\n",
        "### Categories\n",
        "0 - Not relevant: No climate-related claims or doesn't fit other categories\n",
        "1 - Denial: Claims climate change is not happening\n",
        "2 - Attribution denial: Claims human activity is not causing climate change\n",
        "3 - Impact minimization: Claims climate change impacts are minimal or beneficial\n",
        "4 - Solution opposition: Claims solutions to climate change are harmful\n",
        "5 - Science skepticism: Challenges climate science validity or methods\n",
        "6 - Actor criticism: Attacks credibility of climate scientists or activists\n",
        "7 - Fossil fuel promotion: Asserts importance of fossil fuels\n",
        "\n",
        "### Statement:\n",
        "{}\n",
        "\n",
        "### Answer:\n",
        "{}\"\"\"\n",
        "\n",
        "#EOS_TOKEN = tokenizer.eos_token # Must add EOS_TOKEN\n",
        "EOS_TOKEN = ''\n",
        "def formatting_prompts_func(examples):\n",
        "    inputs       = examples[\"quote\"]\n",
        "    outputs      = [label2id[e] for e in examples[\"label\"]]\n",
        "    texts = []\n",
        "    for input, output in zip(inputs, outputs):\n",
        "        # Must add EOS_TOKEN, otherwise your generation will go on forever!\n",
        "        text = prompt.format(input, output) + EOS_TOKEN\n",
        "        texts.append(text)\n",
        "    return { \"text\" : texts, \"label\" : outputs}\n",
        "pass\n",
        "\n",
        "\n",
        "def load_frugalai_dataset():\n",
        "    dataset = load_dataset(\"QuotaClimat/frugalaichallenge-text-train\")\n",
        "    train_val_split = dataset['train'].train_test_split(test_size=0.2, seed=42)\n",
        "    dataset = DatasetDict({\n",
        "        'train': train_val_split['train'],\n",
        "        'validation': train_val_split['test'],\n",
        "        'test': dataset['test']\n",
        "    })\n",
        "    for split in dataset:\n",
        "      dataset[split] = dataset[split].select_columns(['quote', 'label'])\n",
        "      dataset[split] = dataset[split].map(formatting_prompts_func, batched=True)\n",
        "    return dataset\n",
        "\n",
        "dataset = load_frugalai_dataset()\n",
        "\n",
        "dataset_train = dataset['train']\n",
        "dataset_val = dataset['validation']\n",
        "dataset_test = dataset['test']\n",
        "\n",
        "X_train = dataset_train['text']\n",
        "y_train = dataset_train['label']\n",
        "\n",
        "print(dataset)\n",
        "print(type(dataset_train), dataset_train.shape, dataset_train.column_names)\n",
        "dataset_train.info.features"
      ],
      "metadata": {
        "id": "u3vjRE_ZIDDT",
        "colab": {
          "base_uri": "https://localhost:8080/"
        },
        "outputId": "dcc90239-38e6-47e6-a1a3-08db6da3c6c1"
      },
      "id": "u3vjRE_ZIDDT",
      "execution_count": null,
      "outputs": [
        {
          "output_type": "stream",
          "name": "stdout",
          "text": [
            "DatasetDict({\n",
            "    train: Dataset({\n",
            "        features: ['quote', 'label', 'text'],\n",
            "        num_rows: 3897\n",
            "    })\n",
            "    validation: Dataset({\n",
            "        features: ['quote', 'label', 'text'],\n",
            "        num_rows: 975\n",
            "    })\n",
            "    test: Dataset({\n",
            "        features: ['quote', 'label', 'text'],\n",
            "        num_rows: 1219\n",
            "    })\n",
            "})\n",
            "<class 'datasets.arrow_dataset.Dataset'> (3897, 3) ['quote', 'label', 'text']\n"
          ]
        },
        {
          "output_type": "execute_result",
          "data": {
            "text/plain": [
              "{'quote': Value(dtype='string', id=None),\n",
              " 'label': Value(dtype='int64', id=None),\n",
              " 'text': Value(dtype='string', id=None)}"
            ]
          },
          "metadata": {},
          "execution_count": 8
        }
      ]
    },
    {
      "cell_type": "markdown",
      "id": "bfbd608c-b4f6-403a-893b-80ed733e37c0",
      "metadata": {
        "id": "bfbd608c-b4f6-403a-893b-80ed733e37c0"
      },
      "source": [
        "**Training arguments**"
      ]
    },
    {
      "cell_type": "code",
      "source": [
        "from trl import SFTTrainer\n",
        "from transformers import TrainingArguments\n",
        "from unsloth import is_bfloat16_supported\n",
        "\n",
        "training_args = TrainingArguments(\n",
        "        per_device_train_batch_size = 2,\n",
        "        gradient_accumulation_steps = 4,\n",
        "        warmup_steps = 5,\n",
        "        # num_train_epochs = 1, # Set this for 1 full training run.\n",
        "        max_steps = 60,\n",
        "        learning_rate = 2e-4,\n",
        "        fp16 = not is_bfloat16_supported(),\n",
        "        bf16 = is_bfloat16_supported(),\n",
        "        logging_steps = 1,\n",
        "        optim = \"adamw_8bit\",\n",
        "        weight_decay = 0.01,\n",
        "        lr_scheduler_type = \"linear\",\n",
        "        seed = 3407,\n",
        "        output_dir = \"outputs\",\n",
        "        report_to = \"none\", # Use this for WandB etc\n",
        "    )\n",
        "\n",
        "trainer = SFTTrainer(\n",
        "    model = model,\n",
        "    tokenizer = tokenizer,\n",
        "    train_dataset = dataset_train,\n",
        "    eval_dataset = dataset_train,\n",
        "    dataset_text_field = \"text\",\n",
        "    max_seq_length = max_seq_length,\n",
        "    dataset_num_proc = 2,\n",
        "    packing = False, # Can make training 5x faster for short sequences.\n",
        "    args = training_args,\n",
        ")"
      ],
      "metadata": {
        "id": "THYFL4DUyjqS",
        "colab": {
          "base_uri": "https://localhost:8080/",
          "height": 145,
          "referenced_widgets": [
            "fab4f137371e481699ef699d41c905c9",
            "e4bcb5236ac44633839a6a156dcf4f9e",
            "fdb63b8c719041a3a06df5ec03f62312",
            "0fa3f30e28734a2e8107fb60a23f1cdf",
            "349f3f7440904556b5d58d0e6589a716",
            "603c314c4b014cabbb5a89d368981464",
            "27fc36988be0491aab7fb3f03007e495",
            "e16b461e9e854527bcf3882e6edb7151",
            "00160bb8114b4168b4bfc4b5fe46d541",
            "7a525d6635bf4c99b3a8a3b8b4f3a7ac",
            "4fafbd9b33924dbfa6e4ba75c720bc26",
            "f2d2825b3958424bbba2a3e7aed42da7",
            "4a16cef3db4e48849f996649d6339c01",
            "82918cc7e35f4ad6ab8bb9d760dd6ec7",
            "e4f1e4992ec24a51a5907654cefe295b",
            "93a268e49b044fbea4550e9983e4b6c5",
            "db05b5a88b8643bc8c596219129cd38f",
            "ee631cd524374953a4b4163e06620bec",
            "97b734f35c2e4877be0c366938c560f4",
            "5484c6a74c97480cb938ffa29bd0f1e8",
            "a198e83c999f46c491534aef36911487",
            "92e5fbf0184e4df99896cdbe9cb49a9d",
            "ac491550d10a48e7a89131593f4e8ac1",
            "cef04a459f424349ac63a97dffdfb6c2",
            "4e062b888b6b4467992a1990655c682b",
            "7adc0b064e1746cb8a6fbd1ac6b5e1ee",
            "567ed2c90b1e484dbd114dbfe2c5df70",
            "3ca76ea77a3c4e3caee36ba746db04cb",
            "72c4b68c859e481bb3eaeb3d7ae41f6f",
            "f1c6582af1794fda951e5ea2f4decd37",
            "d0c4c50fb7da436a844c06db3766135f",
            "6665673365cf4963818b8a40a260bfba",
            "3f93d08451384879a2fac31ec6ec438d",
            "5756db39bb23468d98e5bec26a428a94",
            "13c702ecd5b946e5a52a9a4c345acc99",
            "1f85ffecd41343beb1a02792a49f99eb",
            "c38d69bd5aba4ca49770aab9c068aa99",
            "48dcf6cb349e457c8b2c14bb218a1657",
            "aaed863c564c4b8792f668df240b3538",
            "d4a31c35bdbc4ba0a84d4ceb6bd0cc24",
            "b069a8ae48414e14bd33ca969030e61d",
            "15baf5e963544c3bbddfc84efeb81e8f",
            "4b828128202443c39058090b113385c7",
            "489b775e505846138577017bcea4d24d"
          ]
        },
        "outputId": "b10356f9-7e8b-41f4-f3e8-d2a1f00c1fc1"
      },
      "id": "THYFL4DUyjqS",
      "execution_count": null,
      "outputs": [
        {
          "output_type": "display_data",
          "data": {
            "text/plain": [
              "Converting train dataset to ChatML (num_proc=2):   0%|          | 0/4872 [00:00<?, ? examples/s]"
            ],
            "application/vnd.jupyter.widget-view+json": {
              "version_major": 2,
              "version_minor": 0,
              "model_id": "fab4f137371e481699ef699d41c905c9"
            }
          },
          "metadata": {}
        },
        {
          "output_type": "display_data",
          "data": {
            "text/plain": [
              "Applying chat template to train dataset (num_proc=2):   0%|          | 0/4872 [00:00<?, ? examples/s]"
            ],
            "application/vnd.jupyter.widget-view+json": {
              "version_major": 2,
              "version_minor": 0,
              "model_id": "f2d2825b3958424bbba2a3e7aed42da7"
            }
          },
          "metadata": {}
        },
        {
          "output_type": "display_data",
          "data": {
            "text/plain": [
              "Tokenizing train dataset (num_proc=2):   0%|          | 0/4872 [00:00<?, ? examples/s]"
            ],
            "application/vnd.jupyter.widget-view+json": {
              "version_major": 2,
              "version_minor": 0,
              "model_id": "ac491550d10a48e7a89131593f4e8ac1"
            }
          },
          "metadata": {}
        },
        {
          "output_type": "display_data",
          "data": {
            "text/plain": [
              "Truncating train dataset (num_proc=2):   0%|          | 0/4872 [00:00<?, ? examples/s]"
            ],
            "application/vnd.jupyter.widget-view+json": {
              "version_major": 2,
              "version_minor": 0,
              "model_id": "5756db39bb23468d98e5bec26a428a94"
            }
          },
          "metadata": {}
        }
      ]
    },
    {
      "cell_type": "code",
      "execution_count": null,
      "id": "17c727d9-5472-4c9a-8a43-72a3cbcb88f8",
      "metadata": {
        "id": "17c727d9-5472-4c9a-8a43-72a3cbcb88f8",
        "colab": {
          "base_uri": "https://localhost:8080/"
        },
        "outputId": "5ed2befc-fc5b-4835-fbe0-4dd5c07cd968"
      },
      "outputs": [
        {
          "output_type": "execute_result",
          "data": {
            "text/plain": [
              "(['labels'],\n",
              " TrainerState(epoch=None, global_step=0, max_steps=0, logging_steps=500, eval_steps=500, save_steps=500, train_batch_size=None, num_train_epochs=0, num_input_tokens_seen=0, total_flos=0, log_history=[], best_metric=None, best_model_checkpoint=None, is_local_process_zero=True, is_world_process_zero=True, is_hyper_param_search=False, trial_name=None, trial_params=None, stateful_callbacks={'TrainerControl': {'args': {'should_training_stop': False, 'should_epoch_stop': False, 'should_save': False, 'should_evaluate': False, 'should_log': False}, 'attributes': {}}}))"
            ]
          },
          "metadata": {},
          "execution_count": 59
        }
      ],
      "source": [
        "trainer.label_names, trainer.state"
      ]
    },
    {
      "cell_type": "markdown",
      "source": [
        "**Train**"
      ],
      "metadata": {
        "id": "3b_llvrjMNKW"
      },
      "id": "3b_llvrjMNKW"
    },
    {
      "cell_type": "code",
      "source": [
        "# @title Show current memory stats\n",
        "gpu_stats = torch.cuda.get_device_properties(0)\n",
        "start_gpu_memory = round(torch.cuda.max_memory_reserved() / 1024 / 1024 / 1024, 3)\n",
        "max_memory = round(gpu_stats.total_memory / 1024 / 1024 / 1024, 3)\n",
        "print(f\"GPU = {gpu_stats.name}. Max memory = {max_memory} GB.\")\n",
        "print(f\"{start_gpu_memory} GB of memory reserved.\")"
      ],
      "metadata": {
        "colab": {
          "base_uri": "https://localhost:8080/"
        },
        "cellView": "form",
        "id": "GaRv0x61iVNV",
        "outputId": "68881629-0981-4778-bfc7-54d336f07d80"
      },
      "id": "GaRv0x61iVNV",
      "execution_count": null,
      "outputs": [
        {
          "output_type": "stream",
          "name": "stdout",
          "text": [
            "GPU = Tesla T4. Max memory = 14.741 GB.\n",
            "2.307 GB of memory reserved.\n"
          ]
        }
      ]
    },
    {
      "cell_type": "code",
      "execution_count": null,
      "id": "b7c7b511-f9bd-4777-8161-7352019afd77",
      "metadata": {
        "id": "b7c7b511-f9bd-4777-8161-7352019afd77",
        "colab": {
          "base_uri": "https://localhost:8080/",
          "height": 1000
        },
        "collapsed": true,
        "outputId": "00c307f8-6739-46e8-d3b6-44dcca8851d0"
      },
      "outputs": [
        {
          "output_type": "stream",
          "name": "stderr",
          "text": [
            "==((====))==  Unsloth - 2x faster free finetuning | Num GPUs used = 1\n",
            "   \\\\   /|    Num examples = 4,872 | Num Epochs = 1 | Total steps = 60\n",
            "O^O/ \\_/ \\    Batch size per device = 2 | Gradient accumulation steps = 4\n",
            "\\        /    Data Parallel GPUs = 1 | Total batch size (2 x 4 x 1) = 8\n",
            " \"-____-\"     Trainable parameters = 29,884,416/2,039,024,640 (1.47% trained)\n"
          ]
        },
        {
          "output_type": "stream",
          "name": "stdout",
          "text": [
            "Unsloth: Will smartly offload gradients to save VRAM!\n"
          ]
        },
        {
          "output_type": "display_data",
          "data": {
            "text/plain": [
              "<IPython.core.display.HTML object>"
            ],
            "text/html": [
              "\n",
              "    <div>\n",
              "      \n",
              "      <progress value='60' max='60' style='width:300px; height:20px; vertical-align: middle;'></progress>\n",
              "      [60/60 04:45, Epoch 0/1]\n",
              "    </div>\n",
              "    <table border=\"1\" class=\"dataframe\">\n",
              "  <thead>\n",
              " <tr style=\"text-align: left;\">\n",
              "      <th>Step</th>\n",
              "      <th>Training Loss</th>\n",
              "    </tr>\n",
              "  </thead>\n",
              "  <tbody>\n",
              "    <tr>\n",
              "      <td>1</td>\n",
              "      <td>2.403700</td>\n",
              "    </tr>\n",
              "    <tr>\n",
              "      <td>2</td>\n",
              "      <td>2.397400</td>\n",
              "    </tr>\n",
              "    <tr>\n",
              "      <td>3</td>\n",
              "      <td>2.340400</td>\n",
              "    </tr>\n",
              "    <tr>\n",
              "      <td>4</td>\n",
              "      <td>2.140700</td>\n",
              "    </tr>\n",
              "    <tr>\n",
              "      <td>5</td>\n",
              "      <td>2.021400</td>\n",
              "    </tr>\n",
              "    <tr>\n",
              "      <td>6</td>\n",
              "      <td>1.919300</td>\n",
              "    </tr>\n",
              "    <tr>\n",
              "      <td>7</td>\n",
              "      <td>1.862800</td>\n",
              "    </tr>\n",
              "    <tr>\n",
              "      <td>8</td>\n",
              "      <td>1.695700</td>\n",
              "    </tr>\n",
              "    <tr>\n",
              "      <td>9</td>\n",
              "      <td>1.803900</td>\n",
              "    </tr>\n",
              "    <tr>\n",
              "      <td>10</td>\n",
              "      <td>1.647900</td>\n",
              "    </tr>\n",
              "    <tr>\n",
              "      <td>11</td>\n",
              "      <td>1.398300</td>\n",
              "    </tr>\n",
              "    <tr>\n",
              "      <td>12</td>\n",
              "      <td>1.249400</td>\n",
              "    </tr>\n",
              "    <tr>\n",
              "      <td>13</td>\n",
              "      <td>1.174100</td>\n",
              "    </tr>\n",
              "    <tr>\n",
              "      <td>14</td>\n",
              "      <td>1.059500</td>\n",
              "    </tr>\n",
              "    <tr>\n",
              "      <td>15</td>\n",
              "      <td>0.891500</td>\n",
              "    </tr>\n",
              "    <tr>\n",
              "      <td>16</td>\n",
              "      <td>1.056600</td>\n",
              "    </tr>\n",
              "    <tr>\n",
              "      <td>17</td>\n",
              "      <td>0.779500</td>\n",
              "    </tr>\n",
              "    <tr>\n",
              "      <td>18</td>\n",
              "      <td>0.762800</td>\n",
              "    </tr>\n",
              "    <tr>\n",
              "      <td>19</td>\n",
              "      <td>0.637100</td>\n",
              "    </tr>\n",
              "    <tr>\n",
              "      <td>20</td>\n",
              "      <td>0.776500</td>\n",
              "    </tr>\n",
              "    <tr>\n",
              "      <td>21</td>\n",
              "      <td>0.605800</td>\n",
              "    </tr>\n",
              "    <tr>\n",
              "      <td>22</td>\n",
              "      <td>0.689000</td>\n",
              "    </tr>\n",
              "    <tr>\n",
              "      <td>23</td>\n",
              "      <td>0.518000</td>\n",
              "    </tr>\n",
              "    <tr>\n",
              "      <td>24</td>\n",
              "      <td>0.575600</td>\n",
              "    </tr>\n",
              "    <tr>\n",
              "      <td>25</td>\n",
              "      <td>0.549400</td>\n",
              "    </tr>\n",
              "    <tr>\n",
              "      <td>26</td>\n",
              "      <td>0.532100</td>\n",
              "    </tr>\n",
              "    <tr>\n",
              "      <td>27</td>\n",
              "      <td>0.630900</td>\n",
              "    </tr>\n",
              "    <tr>\n",
              "      <td>28</td>\n",
              "      <td>0.634300</td>\n",
              "    </tr>\n",
              "    <tr>\n",
              "      <td>29</td>\n",
              "      <td>0.608000</td>\n",
              "    </tr>\n",
              "    <tr>\n",
              "      <td>30</td>\n",
              "      <td>0.867200</td>\n",
              "    </tr>\n",
              "    <tr>\n",
              "      <td>31</td>\n",
              "      <td>0.765000</td>\n",
              "    </tr>\n",
              "    <tr>\n",
              "      <td>32</td>\n",
              "      <td>0.482700</td>\n",
              "    </tr>\n",
              "    <tr>\n",
              "      <td>33</td>\n",
              "      <td>0.663500</td>\n",
              "    </tr>\n",
              "    <tr>\n",
              "      <td>34</td>\n",
              "      <td>0.528600</td>\n",
              "    </tr>\n",
              "    <tr>\n",
              "      <td>35</td>\n",
              "      <td>0.618500</td>\n",
              "    </tr>\n",
              "    <tr>\n",
              "      <td>36</td>\n",
              "      <td>0.554100</td>\n",
              "    </tr>\n",
              "    <tr>\n",
              "      <td>37</td>\n",
              "      <td>0.527400</td>\n",
              "    </tr>\n",
              "    <tr>\n",
              "      <td>38</td>\n",
              "      <td>0.787200</td>\n",
              "    </tr>\n",
              "    <tr>\n",
              "      <td>39</td>\n",
              "      <td>0.625700</td>\n",
              "    </tr>\n",
              "    <tr>\n",
              "      <td>40</td>\n",
              "      <td>0.529000</td>\n",
              "    </tr>\n",
              "    <tr>\n",
              "      <td>41</td>\n",
              "      <td>0.586800</td>\n",
              "    </tr>\n",
              "    <tr>\n",
              "      <td>42</td>\n",
              "      <td>0.527500</td>\n",
              "    </tr>\n",
              "    <tr>\n",
              "      <td>43</td>\n",
              "      <td>0.518600</td>\n",
              "    </tr>\n",
              "    <tr>\n",
              "      <td>44</td>\n",
              "      <td>0.649800</td>\n",
              "    </tr>\n",
              "    <tr>\n",
              "      <td>45</td>\n",
              "      <td>0.633500</td>\n",
              "    </tr>\n",
              "    <tr>\n",
              "      <td>46</td>\n",
              "      <td>0.751800</td>\n",
              "    </tr>\n",
              "    <tr>\n",
              "      <td>47</td>\n",
              "      <td>0.447100</td>\n",
              "    </tr>\n",
              "    <tr>\n",
              "      <td>48</td>\n",
              "      <td>0.648800</td>\n",
              "    </tr>\n",
              "    <tr>\n",
              "      <td>49</td>\n",
              "      <td>0.508200</td>\n",
              "    </tr>\n",
              "    <tr>\n",
              "      <td>50</td>\n",
              "      <td>0.415600</td>\n",
              "    </tr>\n",
              "    <tr>\n",
              "      <td>51</td>\n",
              "      <td>0.628200</td>\n",
              "    </tr>\n",
              "    <tr>\n",
              "      <td>52</td>\n",
              "      <td>0.415700</td>\n",
              "    </tr>\n",
              "    <tr>\n",
              "      <td>53</td>\n",
              "      <td>0.535300</td>\n",
              "    </tr>\n",
              "    <tr>\n",
              "      <td>54</td>\n",
              "      <td>0.592000</td>\n",
              "    </tr>\n",
              "    <tr>\n",
              "      <td>55</td>\n",
              "      <td>0.616300</td>\n",
              "    </tr>\n",
              "    <tr>\n",
              "      <td>56</td>\n",
              "      <td>0.441300</td>\n",
              "    </tr>\n",
              "    <tr>\n",
              "      <td>57</td>\n",
              "      <td>0.559100</td>\n",
              "    </tr>\n",
              "    <tr>\n",
              "      <td>58</td>\n",
              "      <td>0.534900</td>\n",
              "    </tr>\n",
              "    <tr>\n",
              "      <td>59</td>\n",
              "      <td>0.625300</td>\n",
              "    </tr>\n",
              "    <tr>\n",
              "      <td>60</td>\n",
              "      <td>0.505100</td>\n",
              "    </tr>\n",
              "  </tbody>\n",
              "</table><p>"
            ]
          },
          "metadata": {}
        }
      ],
      "source": [
        "trainer_stats = trainer.train()"
      ]
    },
    {
      "cell_type": "code",
      "execution_count": null,
      "id": "0cb942cf-b508-4c28-8754-7caa077c9879",
      "metadata": {
        "id": "0cb942cf-b508-4c28-8754-7caa077c9879"
      },
      "outputs": [],
      "source": [
        "trainer.state.best_metric"
      ]
    },
    {
      "cell_type": "code",
      "source": [
        "# @title Show final memory and time stats\n",
        "used_memory = round(torch.cuda.max_memory_reserved() / 1024 / 1024 / 1024, 3)\n",
        "used_memory_for_lora = round(used_memory - start_gpu_memory, 3)\n",
        "used_percentage = round(used_memory / max_memory * 100, 3)\n",
        "lora_percentage = round(used_memory_for_lora / max_memory * 100, 3)\n",
        "print(f\"{trainer_stats.metrics['train_runtime']} seconds used for training.\")\n",
        "print(\n",
        "    f\"{round(trainer_stats.metrics['train_runtime']/60, 2)} minutes used for training.\"\n",
        ")\n",
        "print(f\"Peak reserved memory = {used_memory} GB.\")\n",
        "print(f\"Peak reserved memory for training = {used_memory_for_lora} GB.\")\n",
        "print(f\"Peak reserved memory % of max memory = {used_percentage} %.\")\n",
        "print(f\"Peak reserved memory for training % of max memory = {lora_percentage} %.\")"
      ],
      "metadata": {
        "colab": {
          "base_uri": "https://localhost:8080/"
        },
        "cellView": "form",
        "id": "TUfLOH7zmWBH",
        "outputId": "2d280074-1f21-46f2-bb39-0ec18c4abc8d"
      },
      "id": "TUfLOH7zmWBH",
      "execution_count": null,
      "outputs": [
        {
          "output_type": "stream",
          "name": "stdout",
          "text": [
            "297.7701 seconds used for training.\n",
            "4.96 minutes used for training.\n",
            "Peak reserved memory = 3.436 GB.\n",
            "Peak reserved memory for training = 1.129 GB.\n",
            "Peak reserved memory % of max memory = 23.309 %.\n",
            "Peak reserved memory for training % of max memory = 7.659 %.\n"
          ]
        }
      ]
    },
    {
      "cell_type": "markdown",
      "source": [
        "**Evaluate**"
      ],
      "metadata": {
        "id": "S8YpkuIZMSs_"
      },
      "id": "S8YpkuIZMSs_"
    },
    {
      "cell_type": "code",
      "execution_count": null,
      "id": "e7327627-1769-4244-bd72-45b00e9267b2",
      "metadata": {
        "id": "e7327627-1769-4244-bd72-45b00e9267b2"
      },
      "outputs": [],
      "source": [
        "# Evaluate model on validation set\n",
        "eval_results = trainer.evaluate()\n",
        "\n",
        "# Print validation accuracy\n",
        "print(f\"Validation Accuracy: {eval_results['eval_accuracy']:.4f}\")"
      ]
    },
    {
      "cell_type": "markdown",
      "source": [
        "**Inference**"
      ],
      "metadata": {
        "id": "TQNSdyjOMVgL"
      },
      "id": "TQNSdyjOMVgL"
    },
    {
      "cell_type": "code",
      "source": [
        "def output_parser(output):\n",
        "    if isinstance(output, list) and output:\n",
        "        text = output[0]\n",
        "    else:\n",
        "        text = output\n",
        "\n",
        "    try:\n",
        "        if \"Statement:\" in text:\n",
        "            after_statement = text.split(\"Statement:\", 1)[1]\n",
        "        else:\n",
        "            after_statement = text\n",
        "        if \"### Answer:\" in after_statement:\n",
        "            quote, answer_part = after_statement.split(\"### Answer:\", 1)\n",
        "        else:\n",
        "            quote = after_statement\n",
        "            answer_part = \"\"\n",
        "\n",
        "        quote = quote.strip()\n",
        "        label = answer_part.split('<|endoftext|>')[0].strip()\n",
        "\n",
        "        return quote, label\n",
        "\n",
        "    except Exception as e:\n",
        "        print(f\"Parsing error: {e}\")\n",
        "        return text.strip(), \"\""
      ],
      "metadata": {
        "id": "vhqi2BFtudMi"
      },
      "id": "vhqi2BFtudMi",
      "execution_count": null,
      "outputs": []
    },
    {
      "cell_type": "code",
      "execution_count": null,
      "id": "2516c909-40c5-4626-9536-627c796278d0",
      "metadata": {
        "id": "2516c909-40c5-4626-9536-627c796278d0",
        "colab": {
          "base_uri": "https://localhost:8080/"
        },
        "outputId": "952031fa-a067-45e5-b9ae-f870b306ada2"
      },
      "outputs": [
        {
          "output_type": "stream",
          "name": "stdout",
          "text": [
            "Climate change is just a hoax created to control people. 1\n"
          ]
        }
      ],
      "source": [
        "# alpaca_prompt = Copied from above\n",
        "FastLanguageModel.for_inference(model) # Enable native 2x faster inference\n",
        "inputs = tokenizer(\n",
        "[\n",
        "    prompt.format(\n",
        "        \"Climate change is just a hoax created to control people.\", # input\n",
        "        \"\", # output - leave this blank for generation!\n",
        "    )\n",
        "], return_tensors = \"pt\").to(\"cuda\")\n",
        "\n",
        "outputs = model.generate(**inputs, max_new_tokens = 64, use_cache = True)\n",
        "decoded = tokenizer.batch_decode(outputs)\n",
        "quote, label = output_parser(decoded)\n",
        "print(quote, label)\n"
      ]
    },
    {
      "cell_type": "code",
      "source": [
        "test = [\n",
        "            \"Climate change is just a hoax created to control people.\",\n",
        "            \"I think we should focus on improving public transportation in urban areas.\",\n",
        "            \"My favorite season is autumn because of the changing leaf colors.\",\n",
        "            \"There is no evidence that global temperatures are actually rising.\",\n",
        "            \"Climate change is a hoax; the Earth's climate has always fluctuated naturally.\",\n",
        "            \"The current warming is just part of natural climate cycles that have occurred throughout Earth's history.\",\n",
        "            \"Solar activity, not human emissions, is the primary driver of recent climate change.\",\n",
        "            \"A warmer climate will actually benefit agriculture by extending growing seasons and increasing crop yields.\",\n",
        "            \"Sea level rise is happening so slowly that communities will easily adapt over time.\",\n",
        "            \"Renewable energy mandates will destroy jobs and devastate our economy.\",\n",
        "            \"Carbon taxes unfairly burden working families while doing little to affect global temperatures.\",\n",
        "            \"Climate models are fundamentally flawed and cannot accurately predict future conditions.\",\n",
        "            \"The peer review process in climate science is corrupted by groupthink and confirmation bias.\",\n",
        "            \"Climate scientists exaggerate threats to secure more research funding.\",\n",
        "            \"Environmental activists promote climate alarmism to advance a political agenda rather than protecting the environment.\",\n",
        "            \"Coal, oil, and natural gas remain essential for reliable energy that solar and wind simply cannot provide.\",\n",
        "            \"Developing countries need affordable fossil fuels to lift their populations out of poverty, just as developed nations did.\"\n",
        "        ]"
      ],
      "metadata": {
        "id": "OJQ3JxruoOv5"
      },
      "id": "OJQ3JxruoOv5",
      "execution_count": null,
      "outputs": []
    },
    {
      "cell_type": "code",
      "source": [
        "def preprocess_function(element):\n",
        "    return tokenizer([prompt.format(element, \"\")], return_tensors = \"pt\").to(\"cuda\")\n",
        "\n",
        "tokenized_ds = [preprocess_function(e) for e in test]\n",
        "tokenized_ds[0]"
      ],
      "metadata": {
        "colab": {
          "base_uri": "https://localhost:8080/"
        },
        "id": "TtmBiZN5qtCP",
        "outputId": "e3c2c213-20f7-4b38-b80a-4af17674f624",
        "collapsed": true
      },
      "id": "TtmBiZN5qtCP",
      "execution_count": null,
      "outputs": [
        {
          "output_type": "execute_result",
          "data": {
            "text/plain": [
              "{'input_ids': tensor([[29871,    13, 10858,  3414,   338,   304,   770,  1598,  9506,   964,\n",
              "         29871, 29947, 13997, 29889,    13,  1666,  2818,  6850,  3960,  1783,\n",
              "         16786,   411,   871,   278,  6590,  1353, 29889,    13,  3970,  6058,\n",
              "          2672,  6154, 29965,  2287, 13764, 29979,   438, 29911,  4448,   323,\n",
              "         12194, 29889,    13,  3644,   366,   437,   451,  1073,   278,  1234,\n",
              "         29892,  1207,   596,  1900,  4140, 29889,    13,  1576, 13997,   881,\n",
              "           367,   697,   310,   278,  1494, 29901,    13,    13,  2277, 29937,\n",
              "           315, 14404,    13, 29900,   448,  2216,  8018, 29901,  1939, 23622,\n",
              "         29899, 12817, 16726,   470,  1838, 29915, 29873,  6216,   916, 13997,\n",
              "            13, 29896,   448,  3384,   616, 29901,  6015,  9893, 23622,  1735,\n",
              "           338,   451, 10464,    13, 29906,   448,  6212,  3224,   972,   616,\n",
              "         29901,  6015,  9893,  5199,  6354,   338,   451, 10805, 23622,  1735,\n",
              "            13, 29941,   448, 14305,   627,  6260,  2133, 29901,  6015,  9893,\n",
              "         23622,  1735, 10879, 29879,   526, 13114,   470,  7795,  5611,    13,\n",
              "         29946,   448, 24380, 19626, 29901,  6015,  9893,  6851,   304, 23622,\n",
              "          1735,   526, 10311,  1319,    13, 29945,   448,  9327, 18109, 23000,\n",
              "          1608, 29901,   678, 16047,   267, 23622, 10466,  2854,   537,   470,\n",
              "          3519,    13, 29953,   448,   319,  2801, 29035, 29901,  6212, 26514,\n",
              "          6625,  4127,   310, 23622,  9638,  2879,   470,  5039,  2879,    13,\n",
              "         29955,   448,   383,  2209,   309, 26413, 22360, 29901,  1094,   643,\n",
              "          1372, 13500,   310, 21983,   309,  4084,  1379,    13,    13,  2277,\n",
              "         29937,  6666,   882, 29901,    13, 29907,  2576,   403,  1735,   338,\n",
              "           925,   263,  5089,  1165,  2825,   304,  2761,  2305, 29889,    13,\n",
              "            13,  2277, 29937,   673, 29901,    13]], device='cuda:0'), 'attention_mask': tensor([[1, 1, 1, 1, 1, 1, 1, 1, 1, 1, 1, 1, 1, 1, 1, 1, 1, 1, 1, 1, 1, 1, 1, 1,\n",
              "         1, 1, 1, 1, 1, 1, 1, 1, 1, 1, 1, 1, 1, 1, 1, 1, 1, 1, 1, 1, 1, 1, 1, 1,\n",
              "         1, 1, 1, 1, 1, 1, 1, 1, 1, 1, 1, 1, 1, 1, 1, 1, 1, 1, 1, 1, 1, 1, 1, 1,\n",
              "         1, 1, 1, 1, 1, 1, 1, 1, 1, 1, 1, 1, 1, 1, 1, 1, 1, 1, 1, 1, 1, 1, 1, 1,\n",
              "         1, 1, 1, 1, 1, 1, 1, 1, 1, 1, 1, 1, 1, 1, 1, 1, 1, 1, 1, 1, 1, 1, 1, 1,\n",
              "         1, 1, 1, 1, 1, 1, 1, 1, 1, 1, 1, 1, 1, 1, 1, 1, 1, 1, 1, 1, 1, 1, 1, 1,\n",
              "         1, 1, 1, 1, 1, 1, 1, 1, 1, 1, 1, 1, 1, 1, 1, 1, 1, 1, 1, 1, 1, 1, 1, 1,\n",
              "         1, 1, 1, 1, 1, 1, 1, 1, 1, 1, 1, 1, 1, 1, 1, 1, 1, 1, 1, 1, 1, 1, 1, 1,\n",
              "         1, 1, 1, 1, 1, 1, 1, 1, 1, 1, 1, 1, 1, 1, 1, 1, 1, 1, 1, 1, 1, 1, 1, 1,\n",
              "         1, 1, 1, 1, 1, 1, 1, 1, 1, 1, 1, 1, 1, 1, 1, 1, 1, 1, 1, 1]],\n",
              "       device='cuda:0')}"
            ]
          },
          "metadata": {},
          "execution_count": 71
        }
      ]
    },
    {
      "cell_type": "code",
      "source": [
        "for input in tokenized_ds:\n",
        "  outputs = model.generate(**input, max_new_tokens = 64, use_cache = True)\n",
        "  decoded = tokenizer.batch_decode(outputs)\n",
        "  quote, label = output_parser(decoded)\n",
        "  print(quote, label)"
      ],
      "metadata": {
        "colab": {
          "base_uri": "https://localhost:8080/"
        },
        "id": "_O2i-fh5pSKl",
        "outputId": "1c7199fc-d11f-4539-9f6e-bae20d99f3af"
      },
      "id": "_O2i-fh5pSKl",
      "execution_count": null,
      "outputs": [
        {
          "output_type": "stream",
          "name": "stdout",
          "text": [
            "Climate change is just a hoax created to control people. 1\n",
            "I think we should focus on improving public transportation in urban areas. 0\n",
            "My favorite season is autumn because of the changing leaf colors. 0\n",
            "There is no evidence that global temperatures are actually rising. 1\n",
            "Climate change is a hoax; the Earth's climate has always fluctuated naturally. 1\n",
            "The current warming is just part of natural climate cycles that have occurred throughout Earth's history. 1\n",
            "Solar activity, not human emissions, is the primary driver of recent climate change. 2\n",
            "A warmer climate will actually benefit agriculture by extending growing seasons and increasing crop yields. 3\n",
            "Sea level rise is happening so slowly that communities will easily adapt over time. 3\n",
            "Renewable energy mandates will destroy jobs and devastate our economy. 4\n",
            "Carbon taxes unfairly burden working families while doing little to affect global temperatures. 4\n",
            "Climate models are fundamentally flawed and cannot accurately predict future conditions. 5\n",
            "The peer review process in climate science is corrupted by groupthink and confirmation bias. 5\n",
            "Climate scientists exaggerate threats to secure more research funding. 6\n",
            "Environmental activists promote climate alarmism to advance a political agenda rather than protecting the environment. 6\n",
            "Coal, oil, and natural gas remain essential for reliable energy that solar and wind simply cannot provide. 7\n",
            "Developing countries need affordable fossil fuels to lift their populations out of poverty, just as developed nations did. 7\n"
          ]
        }
      ]
    },
    {
      "cell_type": "code",
      "source": [
        "type(model)"
      ],
      "metadata": {
        "colab": {
          "base_uri": "https://localhost:8080/",
          "height": 187
        },
        "id": "BfSwcWImv4-N",
        "outputId": "60b02eb1-1031-4a74-cf86-ebb0793d175e"
      },
      "id": "BfSwcWImv4-N",
      "execution_count": null,
      "outputs": [
        {
          "output_type": "execute_result",
          "data": {
            "text/plain": [
              "peft.peft_model.PeftModelForCausalLM"
            ],
            "text/html": [
              "<div style=\"max-width:800px; border: 1px solid var(--colab-border-color);\"><style>\n",
              "      pre.function-repr-contents {\n",
              "        overflow-x: auto;\n",
              "        padding: 8px 12px;\n",
              "        max-height: 500px;\n",
              "      }\n",
              "\n",
              "      pre.function-repr-contents.function-repr-contents-collapsed {\n",
              "        cursor: pointer;\n",
              "        max-height: 100px;\n",
              "      }\n",
              "    </style>\n",
              "    <pre style=\"white-space: initial; background:\n",
              "         var(--colab-secondary-surface-color); padding: 8px 12px;\n",
              "         border-bottom: 1px solid var(--colab-border-color);\"><b>peft.peft_model.PeftModelForCausalLM</b><br/>def _wrapped_call_impl(*args, **kwargs)</pre><pre class=\"function-repr-contents function-repr-contents-collapsed\" style=\"\"><a class=\"filepath\" style=\"display:none\" href=\"#\">/usr/local/lib/python3.11/dist-packages/peft/peft_model.py</a>Peft model for causal language modeling.\n",
              "\n",
              "Args:\n",
              "    model ([`~transformers.PreTrainedModel`]): Base transformer model.\n",
              "    peft_config ([`PeftConfig`]): Peft config.\n",
              "    adapter_name (`str`,  *optional*): The name of the adapter, defaults to `&quot;default&quot;`.\n",
              "    autocast_adapter_dtype (`bool`, *optional*):\n",
              "        Whether to autocast the adapter dtype. Defaults to `True`. Right now, this will only cast adapter weights\n",
              "        using float16 and bfloat16 to float32, as this is typically required for stable training, and only affect\n",
              "        select PEFT tuners.\n",
              "\n",
              "Example:\n",
              "\n",
              "    ```py\n",
              "    &gt;&gt;&gt; from transformers import AutoModelForCausalLM\n",
              "    &gt;&gt;&gt; from peft import PeftModelForCausalLM, get_peft_config\n",
              "\n",
              "    &gt;&gt;&gt; config = {\n",
              "    ...     &quot;peft_type&quot;: &quot;PREFIX_TUNING&quot;,\n",
              "    ...     &quot;task_type&quot;: &quot;CAUSAL_LM&quot;,\n",
              "    ...     &quot;inference_mode&quot;: False,\n",
              "    ...     &quot;num_virtual_tokens&quot;: 20,\n",
              "    ...     &quot;token_dim&quot;: 1280,\n",
              "    ...     &quot;num_transformer_submodules&quot;: 1,\n",
              "    ...     &quot;num_attention_heads&quot;: 20,\n",
              "    ...     &quot;num_layers&quot;: 36,\n",
              "    ...     &quot;encoder_hidden_size&quot;: 1280,\n",
              "    ...     &quot;prefix_projection&quot;: False,\n",
              "    ...     &quot;postprocess_past_key_value_function&quot;: None,\n",
              "    ... }\n",
              "\n",
              "    &gt;&gt;&gt; peft_config = get_peft_config(config)\n",
              "    &gt;&gt;&gt; model = AutoModelForCausalLM.from_pretrained(&quot;gpt2-large&quot;)\n",
              "    &gt;&gt;&gt; peft_model = PeftModelForCausalLM(model, peft_config)\n",
              "    &gt;&gt;&gt; peft_model.print_trainable_parameters()\n",
              "    trainable params: 1843200 || all params: 775873280 || trainable%: 0.23756456724479544\n",
              "    ```</pre>\n",
              "      <script>\n",
              "      if (google.colab.kernel.accessAllowed && google.colab.files && google.colab.files.view) {\n",
              "        for (const element of document.querySelectorAll('.filepath')) {\n",
              "          element.style.display = 'block'\n",
              "          element.onclick = (event) => {\n",
              "            event.preventDefault();\n",
              "            event.stopPropagation();\n",
              "            google.colab.files.view(element.textContent, 1640);\n",
              "          };\n",
              "        }\n",
              "      }\n",
              "      for (const element of document.querySelectorAll('.function-repr-contents')) {\n",
              "        element.onclick = (event) => {\n",
              "          event.preventDefault();\n",
              "          event.stopPropagation();\n",
              "          element.classList.toggle('function-repr-contents-collapsed');\n",
              "        };\n",
              "      }\n",
              "      </script>\n",
              "      </div>"
            ]
          },
          "metadata": {},
          "execution_count": 91
        }
      ]
    },
    {
      "cell_type": "code",
      "source": [
        "def batch_inference(X_test, model, tokenizer):\n",
        "  quotes, labels = [], []\n",
        "  for input in X_test:\n",
        "    tokens = tokenize(input)\n",
        "    outputs = model.generate(**tokens, max_new_tokens = 64, use_cache = True)\n",
        "    decoded = tokenizer.batch_decode(outputs)\n",
        "    quote, label = output_parser(decoded)\n",
        "    quotes.append(quote)\n",
        "    labels.append(label)\n",
        "  return quotes, labels\n",
        "\n",
        "FastLanguageModel.for_inference(model) # Enable native 2x faster inference\n",
        "quotes, labels = batch_inference(X_test, model, tokenizer)\n",
        "def get_results(quotes, y_test, y_pred):\n",
        "    for quote, test, pred in zip(quotes, y_test, y_pred):\n",
        "      print(pred == test, pred, test, quote)\n"
      ],
      "metadata": {
        "id": "r1WOm1D8MdVu"
      },
      "id": "r1WOm1D8MdVu",
      "execution_count": null,
      "outputs": []
    },
    {
      "cell_type": "markdown",
      "source": [
        "**Saving the Lora layers**"
      ],
      "metadata": {
        "id": "MK5b75NLw5ar"
      },
      "id": "MK5b75NLw5ar"
    },
    {
      "cell_type": "code",
      "source": [
        "model.save_pretrained(\"./FT_LoRa_baseline_unsloth\")\n",
        "tokenizer.save_pretrained(\"./FT_LoRa_baseline_unsloth\")"
      ],
      "metadata": {
        "colab": {
          "base_uri": "https://localhost:8080/"
        },
        "id": "XqIj3N70w-cC",
        "outputId": "821dfa0f-3838-4be9-b201-9b374b415798"
      },
      "id": "XqIj3N70w-cC",
      "execution_count": null,
      "outputs": [
        {
          "output_type": "execute_result",
          "data": {
            "text/plain": [
              "('./FT_LoRa_baseline_unsloth/tokenizer_config.json',\n",
              " './FT_LoRa_baseline_unsloth/special_tokens_map.json',\n",
              " './FT_LoRa_baseline_unsloth/tokenizer.model',\n",
              " './FT_LoRa_baseline_unsloth/added_tokens.json',\n",
              " './FT_LoRa_baseline_unsloth/tokenizer.json')"
            ]
          },
          "metadata": {},
          "execution_count": 92
        }
      ]
    },
    {
      "cell_type": "markdown",
      "source": [
        "**Saving the whole model**"
      ],
      "metadata": {
        "id": "g1JDqpJaxI0h"
      },
      "id": "g1JDqpJaxI0h"
    },
    {
      "cell_type": "code",
      "source": [
        "# Merge the LoRA weights back into the base model\n",
        "merged_model = model.merge_and_unload()\n",
        "\n",
        "# Save the full model\n",
        "merged_model.save_pretrained(\"./my_complete_model\")\n",
        "tokenizer.save_pretrained(\"./my_complete_model\")"
      ],
      "metadata": {
        "colab": {
          "base_uri": "https://localhost:8080/",
          "height": 216
        },
        "id": "x4_PhoiQw4-i",
        "outputId": "981d059a-549e-42ae-caf9-7b1ec54f7ee3"
      },
      "id": "x4_PhoiQw4-i",
      "execution_count": null,
      "outputs": [
        {
          "output_type": "error",
          "ename": "NameError",
          "evalue": "name 'model' is not defined",
          "traceback": [
            "\u001b[0;31m---------------------------------------------------------------------------\u001b[0m",
            "\u001b[0;31mNameError\u001b[0m                                 Traceback (most recent call last)",
            "\u001b[0;32m<ipython-input-1-a6a2aea990b5>\u001b[0m in \u001b[0;36m<cell line: 0>\u001b[0;34m()\u001b[0m\n\u001b[1;32m      1\u001b[0m \u001b[0;31m# Merge the LoRA weights back into the base model\u001b[0m\u001b[0;34m\u001b[0m\u001b[0;34m\u001b[0m\u001b[0m\n\u001b[0;32m----> 2\u001b[0;31m \u001b[0mmerged_model\u001b[0m \u001b[0;34m=\u001b[0m \u001b[0mmodel\u001b[0m\u001b[0;34m.\u001b[0m\u001b[0mmerge_and_unload\u001b[0m\u001b[0;34m(\u001b[0m\u001b[0;34m)\u001b[0m\u001b[0;34m\u001b[0m\u001b[0;34m\u001b[0m\u001b[0m\n\u001b[0m\u001b[1;32m      3\u001b[0m \u001b[0;34m\u001b[0m\u001b[0m\n\u001b[1;32m      4\u001b[0m \u001b[0;31m# Save the full model\u001b[0m\u001b[0;34m\u001b[0m\u001b[0;34m\u001b[0m\u001b[0m\n\u001b[1;32m      5\u001b[0m \u001b[0mmerged_model\u001b[0m\u001b[0;34m.\u001b[0m\u001b[0msave_pretrained\u001b[0m\u001b[0;34m(\u001b[0m\u001b[0;34m\"./my_complete_model\"\u001b[0m\u001b[0;34m)\u001b[0m\u001b[0;34m\u001b[0m\u001b[0;34m\u001b[0m\u001b[0m\n",
            "\u001b[0;31mNameError\u001b[0m: name 'model' is not defined"
          ]
        }
      ]
    }
  ],
  "metadata": {
    "kernelspec": {
      "display_name": "frugalai",
      "language": "python",
      "name": "frugalai"
    },
    "language_info": {
      "codemirror_mode": {
        "name": "ipython",
        "version": 3
      },
      "file_extension": ".py",
      "mimetype": "text/x-python",
      "name": "python",
      "nbconvert_exporter": "python",
      "pygments_lexer": "ipython3",
      "version": "3.12.8"
    },
    "colab": {
      "provenance": [],
      "gpuType": "T4"
    },
    "accelerator": "GPU",
    "widgets": {
      "application/vnd.jupyter.widget-state+json": {
        "fab4f137371e481699ef699d41c905c9": {
          "model_module": "@jupyter-widgets/controls",
          "model_name": "HBoxModel",
          "model_module_version": "1.5.0",
          "state": {
            "_dom_classes": [],
            "_model_module": "@jupyter-widgets/controls",
            "_model_module_version": "1.5.0",
            "_model_name": "HBoxModel",
            "_view_count": null,
            "_view_module": "@jupyter-widgets/controls",
            "_view_module_version": "1.5.0",
            "_view_name": "HBoxView",
            "box_style": "",
            "children": [
              "IPY_MODEL_e4bcb5236ac44633839a6a156dcf4f9e",
              "IPY_MODEL_fdb63b8c719041a3a06df5ec03f62312",
              "IPY_MODEL_0fa3f30e28734a2e8107fb60a23f1cdf"
            ],
            "layout": "IPY_MODEL_349f3f7440904556b5d58d0e6589a716"
          }
        },
        "e4bcb5236ac44633839a6a156dcf4f9e": {
          "model_module": "@jupyter-widgets/controls",
          "model_name": "HTMLModel",
          "model_module_version": "1.5.0",
          "state": {
            "_dom_classes": [],
            "_model_module": "@jupyter-widgets/controls",
            "_model_module_version": "1.5.0",
            "_model_name": "HTMLModel",
            "_view_count": null,
            "_view_module": "@jupyter-widgets/controls",
            "_view_module_version": "1.5.0",
            "_view_name": "HTMLView",
            "description": "",
            "description_tooltip": null,
            "layout": "IPY_MODEL_603c314c4b014cabbb5a89d368981464",
            "placeholder": "​",
            "style": "IPY_MODEL_27fc36988be0491aab7fb3f03007e495",
            "value": "Converting train dataset to ChatML (num_proc=2): 100%"
          }
        },
        "fdb63b8c719041a3a06df5ec03f62312": {
          "model_module": "@jupyter-widgets/controls",
          "model_name": "FloatProgressModel",
          "model_module_version": "1.5.0",
          "state": {
            "_dom_classes": [],
            "_model_module": "@jupyter-widgets/controls",
            "_model_module_version": "1.5.0",
            "_model_name": "FloatProgressModel",
            "_view_count": null,
            "_view_module": "@jupyter-widgets/controls",
            "_view_module_version": "1.5.0",
            "_view_name": "ProgressView",
            "bar_style": "success",
            "description": "",
            "description_tooltip": null,
            "layout": "IPY_MODEL_e16b461e9e854527bcf3882e6edb7151",
            "max": 4872,
            "min": 0,
            "orientation": "horizontal",
            "style": "IPY_MODEL_00160bb8114b4168b4bfc4b5fe46d541",
            "value": 4872
          }
        },
        "0fa3f30e28734a2e8107fb60a23f1cdf": {
          "model_module": "@jupyter-widgets/controls",
          "model_name": "HTMLModel",
          "model_module_version": "1.5.0",
          "state": {
            "_dom_classes": [],
            "_model_module": "@jupyter-widgets/controls",
            "_model_module_version": "1.5.0",
            "_model_name": "HTMLModel",
            "_view_count": null,
            "_view_module": "@jupyter-widgets/controls",
            "_view_module_version": "1.5.0",
            "_view_name": "HTMLView",
            "description": "",
            "description_tooltip": null,
            "layout": "IPY_MODEL_7a525d6635bf4c99b3a8a3b8b4f3a7ac",
            "placeholder": "​",
            "style": "IPY_MODEL_4fafbd9b33924dbfa6e4ba75c720bc26",
            "value": " 4872/4872 [00:00&lt;00:00, 14397.71 examples/s]"
          }
        },
        "349f3f7440904556b5d58d0e6589a716": {
          "model_module": "@jupyter-widgets/base",
          "model_name": "LayoutModel",
          "model_module_version": "1.2.0",
          "state": {
            "_model_module": "@jupyter-widgets/base",
            "_model_module_version": "1.2.0",
            "_model_name": "LayoutModel",
            "_view_count": null,
            "_view_module": "@jupyter-widgets/base",
            "_view_module_version": "1.2.0",
            "_view_name": "LayoutView",
            "align_content": null,
            "align_items": null,
            "align_self": null,
            "border": null,
            "bottom": null,
            "display": null,
            "flex": null,
            "flex_flow": null,
            "grid_area": null,
            "grid_auto_columns": null,
            "grid_auto_flow": null,
            "grid_auto_rows": null,
            "grid_column": null,
            "grid_gap": null,
            "grid_row": null,
            "grid_template_areas": null,
            "grid_template_columns": null,
            "grid_template_rows": null,
            "height": null,
            "justify_content": null,
            "justify_items": null,
            "left": null,
            "margin": null,
            "max_height": null,
            "max_width": null,
            "min_height": null,
            "min_width": null,
            "object_fit": null,
            "object_position": null,
            "order": null,
            "overflow": null,
            "overflow_x": null,
            "overflow_y": null,
            "padding": null,
            "right": null,
            "top": null,
            "visibility": null,
            "width": null
          }
        },
        "603c314c4b014cabbb5a89d368981464": {
          "model_module": "@jupyter-widgets/base",
          "model_name": "LayoutModel",
          "model_module_version": "1.2.0",
          "state": {
            "_model_module": "@jupyter-widgets/base",
            "_model_module_version": "1.2.0",
            "_model_name": "LayoutModel",
            "_view_count": null,
            "_view_module": "@jupyter-widgets/base",
            "_view_module_version": "1.2.0",
            "_view_name": "LayoutView",
            "align_content": null,
            "align_items": null,
            "align_self": null,
            "border": null,
            "bottom": null,
            "display": null,
            "flex": null,
            "flex_flow": null,
            "grid_area": null,
            "grid_auto_columns": null,
            "grid_auto_flow": null,
            "grid_auto_rows": null,
            "grid_column": null,
            "grid_gap": null,
            "grid_row": null,
            "grid_template_areas": null,
            "grid_template_columns": null,
            "grid_template_rows": null,
            "height": null,
            "justify_content": null,
            "justify_items": null,
            "left": null,
            "margin": null,
            "max_height": null,
            "max_width": null,
            "min_height": null,
            "min_width": null,
            "object_fit": null,
            "object_position": null,
            "order": null,
            "overflow": null,
            "overflow_x": null,
            "overflow_y": null,
            "padding": null,
            "right": null,
            "top": null,
            "visibility": null,
            "width": null
          }
        },
        "27fc36988be0491aab7fb3f03007e495": {
          "model_module": "@jupyter-widgets/controls",
          "model_name": "DescriptionStyleModel",
          "model_module_version": "1.5.0",
          "state": {
            "_model_module": "@jupyter-widgets/controls",
            "_model_module_version": "1.5.0",
            "_model_name": "DescriptionStyleModel",
            "_view_count": null,
            "_view_module": "@jupyter-widgets/base",
            "_view_module_version": "1.2.0",
            "_view_name": "StyleView",
            "description_width": ""
          }
        },
        "e16b461e9e854527bcf3882e6edb7151": {
          "model_module": "@jupyter-widgets/base",
          "model_name": "LayoutModel",
          "model_module_version": "1.2.0",
          "state": {
            "_model_module": "@jupyter-widgets/base",
            "_model_module_version": "1.2.0",
            "_model_name": "LayoutModel",
            "_view_count": null,
            "_view_module": "@jupyter-widgets/base",
            "_view_module_version": "1.2.0",
            "_view_name": "LayoutView",
            "align_content": null,
            "align_items": null,
            "align_self": null,
            "border": null,
            "bottom": null,
            "display": null,
            "flex": null,
            "flex_flow": null,
            "grid_area": null,
            "grid_auto_columns": null,
            "grid_auto_flow": null,
            "grid_auto_rows": null,
            "grid_column": null,
            "grid_gap": null,
            "grid_row": null,
            "grid_template_areas": null,
            "grid_template_columns": null,
            "grid_template_rows": null,
            "height": null,
            "justify_content": null,
            "justify_items": null,
            "left": null,
            "margin": null,
            "max_height": null,
            "max_width": null,
            "min_height": null,
            "min_width": null,
            "object_fit": null,
            "object_position": null,
            "order": null,
            "overflow": null,
            "overflow_x": null,
            "overflow_y": null,
            "padding": null,
            "right": null,
            "top": null,
            "visibility": null,
            "width": null
          }
        },
        "00160bb8114b4168b4bfc4b5fe46d541": {
          "model_module": "@jupyter-widgets/controls",
          "model_name": "ProgressStyleModel",
          "model_module_version": "1.5.0",
          "state": {
            "_model_module": "@jupyter-widgets/controls",
            "_model_module_version": "1.5.0",
            "_model_name": "ProgressStyleModel",
            "_view_count": null,
            "_view_module": "@jupyter-widgets/base",
            "_view_module_version": "1.2.0",
            "_view_name": "StyleView",
            "bar_color": null,
            "description_width": ""
          }
        },
        "7a525d6635bf4c99b3a8a3b8b4f3a7ac": {
          "model_module": "@jupyter-widgets/base",
          "model_name": "LayoutModel",
          "model_module_version": "1.2.0",
          "state": {
            "_model_module": "@jupyter-widgets/base",
            "_model_module_version": "1.2.0",
            "_model_name": "LayoutModel",
            "_view_count": null,
            "_view_module": "@jupyter-widgets/base",
            "_view_module_version": "1.2.0",
            "_view_name": "LayoutView",
            "align_content": null,
            "align_items": null,
            "align_self": null,
            "border": null,
            "bottom": null,
            "display": null,
            "flex": null,
            "flex_flow": null,
            "grid_area": null,
            "grid_auto_columns": null,
            "grid_auto_flow": null,
            "grid_auto_rows": null,
            "grid_column": null,
            "grid_gap": null,
            "grid_row": null,
            "grid_template_areas": null,
            "grid_template_columns": null,
            "grid_template_rows": null,
            "height": null,
            "justify_content": null,
            "justify_items": null,
            "left": null,
            "margin": null,
            "max_height": null,
            "max_width": null,
            "min_height": null,
            "min_width": null,
            "object_fit": null,
            "object_position": null,
            "order": null,
            "overflow": null,
            "overflow_x": null,
            "overflow_y": null,
            "padding": null,
            "right": null,
            "top": null,
            "visibility": null,
            "width": null
          }
        },
        "4fafbd9b33924dbfa6e4ba75c720bc26": {
          "model_module": "@jupyter-widgets/controls",
          "model_name": "DescriptionStyleModel",
          "model_module_version": "1.5.0",
          "state": {
            "_model_module": "@jupyter-widgets/controls",
            "_model_module_version": "1.5.0",
            "_model_name": "DescriptionStyleModel",
            "_view_count": null,
            "_view_module": "@jupyter-widgets/base",
            "_view_module_version": "1.2.0",
            "_view_name": "StyleView",
            "description_width": ""
          }
        },
        "f2d2825b3958424bbba2a3e7aed42da7": {
          "model_module": "@jupyter-widgets/controls",
          "model_name": "HBoxModel",
          "model_module_version": "1.5.0",
          "state": {
            "_dom_classes": [],
            "_model_module": "@jupyter-widgets/controls",
            "_model_module_version": "1.5.0",
            "_model_name": "HBoxModel",
            "_view_count": null,
            "_view_module": "@jupyter-widgets/controls",
            "_view_module_version": "1.5.0",
            "_view_name": "HBoxView",
            "box_style": "",
            "children": [
              "IPY_MODEL_4a16cef3db4e48849f996649d6339c01",
              "IPY_MODEL_82918cc7e35f4ad6ab8bb9d760dd6ec7",
              "IPY_MODEL_e4f1e4992ec24a51a5907654cefe295b"
            ],
            "layout": "IPY_MODEL_93a268e49b044fbea4550e9983e4b6c5"
          }
        },
        "4a16cef3db4e48849f996649d6339c01": {
          "model_module": "@jupyter-widgets/controls",
          "model_name": "HTMLModel",
          "model_module_version": "1.5.0",
          "state": {
            "_dom_classes": [],
            "_model_module": "@jupyter-widgets/controls",
            "_model_module_version": "1.5.0",
            "_model_name": "HTMLModel",
            "_view_count": null,
            "_view_module": "@jupyter-widgets/controls",
            "_view_module_version": "1.5.0",
            "_view_name": "HTMLView",
            "description": "",
            "description_tooltip": null,
            "layout": "IPY_MODEL_db05b5a88b8643bc8c596219129cd38f",
            "placeholder": "​",
            "style": "IPY_MODEL_ee631cd524374953a4b4163e06620bec",
            "value": "Applying chat template to train dataset (num_proc=2): 100%"
          }
        },
        "82918cc7e35f4ad6ab8bb9d760dd6ec7": {
          "model_module": "@jupyter-widgets/controls",
          "model_name": "FloatProgressModel",
          "model_module_version": "1.5.0",
          "state": {
            "_dom_classes": [],
            "_model_module": "@jupyter-widgets/controls",
            "_model_module_version": "1.5.0",
            "_model_name": "FloatProgressModel",
            "_view_count": null,
            "_view_module": "@jupyter-widgets/controls",
            "_view_module_version": "1.5.0",
            "_view_name": "ProgressView",
            "bar_style": "success",
            "description": "",
            "description_tooltip": null,
            "layout": "IPY_MODEL_97b734f35c2e4877be0c366938c560f4",
            "max": 4872,
            "min": 0,
            "orientation": "horizontal",
            "style": "IPY_MODEL_5484c6a74c97480cb938ffa29bd0f1e8",
            "value": 4872
          }
        },
        "e4f1e4992ec24a51a5907654cefe295b": {
          "model_module": "@jupyter-widgets/controls",
          "model_name": "HTMLModel",
          "model_module_version": "1.5.0",
          "state": {
            "_dom_classes": [],
            "_model_module": "@jupyter-widgets/controls",
            "_model_module_version": "1.5.0",
            "_model_name": "HTMLModel",
            "_view_count": null,
            "_view_module": "@jupyter-widgets/controls",
            "_view_module_version": "1.5.0",
            "_view_name": "HTMLView",
            "description": "",
            "description_tooltip": null,
            "layout": "IPY_MODEL_a198e83c999f46c491534aef36911487",
            "placeholder": "​",
            "style": "IPY_MODEL_92e5fbf0184e4df99896cdbe9cb49a9d",
            "value": " 4872/4872 [00:00&lt;00:00, 7807.71 examples/s]"
          }
        },
        "93a268e49b044fbea4550e9983e4b6c5": {
          "model_module": "@jupyter-widgets/base",
          "model_name": "LayoutModel",
          "model_module_version": "1.2.0",
          "state": {
            "_model_module": "@jupyter-widgets/base",
            "_model_module_version": "1.2.0",
            "_model_name": "LayoutModel",
            "_view_count": null,
            "_view_module": "@jupyter-widgets/base",
            "_view_module_version": "1.2.0",
            "_view_name": "LayoutView",
            "align_content": null,
            "align_items": null,
            "align_self": null,
            "border": null,
            "bottom": null,
            "display": null,
            "flex": null,
            "flex_flow": null,
            "grid_area": null,
            "grid_auto_columns": null,
            "grid_auto_flow": null,
            "grid_auto_rows": null,
            "grid_column": null,
            "grid_gap": null,
            "grid_row": null,
            "grid_template_areas": null,
            "grid_template_columns": null,
            "grid_template_rows": null,
            "height": null,
            "justify_content": null,
            "justify_items": null,
            "left": null,
            "margin": null,
            "max_height": null,
            "max_width": null,
            "min_height": null,
            "min_width": null,
            "object_fit": null,
            "object_position": null,
            "order": null,
            "overflow": null,
            "overflow_x": null,
            "overflow_y": null,
            "padding": null,
            "right": null,
            "top": null,
            "visibility": null,
            "width": null
          }
        },
        "db05b5a88b8643bc8c596219129cd38f": {
          "model_module": "@jupyter-widgets/base",
          "model_name": "LayoutModel",
          "model_module_version": "1.2.0",
          "state": {
            "_model_module": "@jupyter-widgets/base",
            "_model_module_version": "1.2.0",
            "_model_name": "LayoutModel",
            "_view_count": null,
            "_view_module": "@jupyter-widgets/base",
            "_view_module_version": "1.2.0",
            "_view_name": "LayoutView",
            "align_content": null,
            "align_items": null,
            "align_self": null,
            "border": null,
            "bottom": null,
            "display": null,
            "flex": null,
            "flex_flow": null,
            "grid_area": null,
            "grid_auto_columns": null,
            "grid_auto_flow": null,
            "grid_auto_rows": null,
            "grid_column": null,
            "grid_gap": null,
            "grid_row": null,
            "grid_template_areas": null,
            "grid_template_columns": null,
            "grid_template_rows": null,
            "height": null,
            "justify_content": null,
            "justify_items": null,
            "left": null,
            "margin": null,
            "max_height": null,
            "max_width": null,
            "min_height": null,
            "min_width": null,
            "object_fit": null,
            "object_position": null,
            "order": null,
            "overflow": null,
            "overflow_x": null,
            "overflow_y": null,
            "padding": null,
            "right": null,
            "top": null,
            "visibility": null,
            "width": null
          }
        },
        "ee631cd524374953a4b4163e06620bec": {
          "model_module": "@jupyter-widgets/controls",
          "model_name": "DescriptionStyleModel",
          "model_module_version": "1.5.0",
          "state": {
            "_model_module": "@jupyter-widgets/controls",
            "_model_module_version": "1.5.0",
            "_model_name": "DescriptionStyleModel",
            "_view_count": null,
            "_view_module": "@jupyter-widgets/base",
            "_view_module_version": "1.2.0",
            "_view_name": "StyleView",
            "description_width": ""
          }
        },
        "97b734f35c2e4877be0c366938c560f4": {
          "model_module": "@jupyter-widgets/base",
          "model_name": "LayoutModel",
          "model_module_version": "1.2.0",
          "state": {
            "_model_module": "@jupyter-widgets/base",
            "_model_module_version": "1.2.0",
            "_model_name": "LayoutModel",
            "_view_count": null,
            "_view_module": "@jupyter-widgets/base",
            "_view_module_version": "1.2.0",
            "_view_name": "LayoutView",
            "align_content": null,
            "align_items": null,
            "align_self": null,
            "border": null,
            "bottom": null,
            "display": null,
            "flex": null,
            "flex_flow": null,
            "grid_area": null,
            "grid_auto_columns": null,
            "grid_auto_flow": null,
            "grid_auto_rows": null,
            "grid_column": null,
            "grid_gap": null,
            "grid_row": null,
            "grid_template_areas": null,
            "grid_template_columns": null,
            "grid_template_rows": null,
            "height": null,
            "justify_content": null,
            "justify_items": null,
            "left": null,
            "margin": null,
            "max_height": null,
            "max_width": null,
            "min_height": null,
            "min_width": null,
            "object_fit": null,
            "object_position": null,
            "order": null,
            "overflow": null,
            "overflow_x": null,
            "overflow_y": null,
            "padding": null,
            "right": null,
            "top": null,
            "visibility": null,
            "width": null
          }
        },
        "5484c6a74c97480cb938ffa29bd0f1e8": {
          "model_module": "@jupyter-widgets/controls",
          "model_name": "ProgressStyleModel",
          "model_module_version": "1.5.0",
          "state": {
            "_model_module": "@jupyter-widgets/controls",
            "_model_module_version": "1.5.0",
            "_model_name": "ProgressStyleModel",
            "_view_count": null,
            "_view_module": "@jupyter-widgets/base",
            "_view_module_version": "1.2.0",
            "_view_name": "StyleView",
            "bar_color": null,
            "description_width": ""
          }
        },
        "a198e83c999f46c491534aef36911487": {
          "model_module": "@jupyter-widgets/base",
          "model_name": "LayoutModel",
          "model_module_version": "1.2.0",
          "state": {
            "_model_module": "@jupyter-widgets/base",
            "_model_module_version": "1.2.0",
            "_model_name": "LayoutModel",
            "_view_count": null,
            "_view_module": "@jupyter-widgets/base",
            "_view_module_version": "1.2.0",
            "_view_name": "LayoutView",
            "align_content": null,
            "align_items": null,
            "align_self": null,
            "border": null,
            "bottom": null,
            "display": null,
            "flex": null,
            "flex_flow": null,
            "grid_area": null,
            "grid_auto_columns": null,
            "grid_auto_flow": null,
            "grid_auto_rows": null,
            "grid_column": null,
            "grid_gap": null,
            "grid_row": null,
            "grid_template_areas": null,
            "grid_template_columns": null,
            "grid_template_rows": null,
            "height": null,
            "justify_content": null,
            "justify_items": null,
            "left": null,
            "margin": null,
            "max_height": null,
            "max_width": null,
            "min_height": null,
            "min_width": null,
            "object_fit": null,
            "object_position": null,
            "order": null,
            "overflow": null,
            "overflow_x": null,
            "overflow_y": null,
            "padding": null,
            "right": null,
            "top": null,
            "visibility": null,
            "width": null
          }
        },
        "92e5fbf0184e4df99896cdbe9cb49a9d": {
          "model_module": "@jupyter-widgets/controls",
          "model_name": "DescriptionStyleModel",
          "model_module_version": "1.5.0",
          "state": {
            "_model_module": "@jupyter-widgets/controls",
            "_model_module_version": "1.5.0",
            "_model_name": "DescriptionStyleModel",
            "_view_count": null,
            "_view_module": "@jupyter-widgets/base",
            "_view_module_version": "1.2.0",
            "_view_name": "StyleView",
            "description_width": ""
          }
        },
        "ac491550d10a48e7a89131593f4e8ac1": {
          "model_module": "@jupyter-widgets/controls",
          "model_name": "HBoxModel",
          "model_module_version": "1.5.0",
          "state": {
            "_dom_classes": [],
            "_model_module": "@jupyter-widgets/controls",
            "_model_module_version": "1.5.0",
            "_model_name": "HBoxModel",
            "_view_count": null,
            "_view_module": "@jupyter-widgets/controls",
            "_view_module_version": "1.5.0",
            "_view_name": "HBoxView",
            "box_style": "",
            "children": [
              "IPY_MODEL_cef04a459f424349ac63a97dffdfb6c2",
              "IPY_MODEL_4e062b888b6b4467992a1990655c682b",
              "IPY_MODEL_7adc0b064e1746cb8a6fbd1ac6b5e1ee"
            ],
            "layout": "IPY_MODEL_567ed2c90b1e484dbd114dbfe2c5df70"
          }
        },
        "cef04a459f424349ac63a97dffdfb6c2": {
          "model_module": "@jupyter-widgets/controls",
          "model_name": "HTMLModel",
          "model_module_version": "1.5.0",
          "state": {
            "_dom_classes": [],
            "_model_module": "@jupyter-widgets/controls",
            "_model_module_version": "1.5.0",
            "_model_name": "HTMLModel",
            "_view_count": null,
            "_view_module": "@jupyter-widgets/controls",
            "_view_module_version": "1.5.0",
            "_view_name": "HTMLView",
            "description": "",
            "description_tooltip": null,
            "layout": "IPY_MODEL_3ca76ea77a3c4e3caee36ba746db04cb",
            "placeholder": "​",
            "style": "IPY_MODEL_72c4b68c859e481bb3eaeb3d7ae41f6f",
            "value": "Tokenizing train dataset (num_proc=2): 100%"
          }
        },
        "4e062b888b6b4467992a1990655c682b": {
          "model_module": "@jupyter-widgets/controls",
          "model_name": "FloatProgressModel",
          "model_module_version": "1.5.0",
          "state": {
            "_dom_classes": [],
            "_model_module": "@jupyter-widgets/controls",
            "_model_module_version": "1.5.0",
            "_model_name": "FloatProgressModel",
            "_view_count": null,
            "_view_module": "@jupyter-widgets/controls",
            "_view_module_version": "1.5.0",
            "_view_name": "ProgressView",
            "bar_style": "success",
            "description": "",
            "description_tooltip": null,
            "layout": "IPY_MODEL_f1c6582af1794fda951e5ea2f4decd37",
            "max": 4872,
            "min": 0,
            "orientation": "horizontal",
            "style": "IPY_MODEL_d0c4c50fb7da436a844c06db3766135f",
            "value": 4872
          }
        },
        "7adc0b064e1746cb8a6fbd1ac6b5e1ee": {
          "model_module": "@jupyter-widgets/controls",
          "model_name": "HTMLModel",
          "model_module_version": "1.5.0",
          "state": {
            "_dom_classes": [],
            "_model_module": "@jupyter-widgets/controls",
            "_model_module_version": "1.5.0",
            "_model_name": "HTMLModel",
            "_view_count": null,
            "_view_module": "@jupyter-widgets/controls",
            "_view_module_version": "1.5.0",
            "_view_name": "HTMLView",
            "description": "",
            "description_tooltip": null,
            "layout": "IPY_MODEL_6665673365cf4963818b8a40a260bfba",
            "placeholder": "​",
            "style": "IPY_MODEL_3f93d08451384879a2fac31ec6ec438d",
            "value": " 4872/4872 [00:05&lt;00:00, 1131.48 examples/s]"
          }
        },
        "567ed2c90b1e484dbd114dbfe2c5df70": {
          "model_module": "@jupyter-widgets/base",
          "model_name": "LayoutModel",
          "model_module_version": "1.2.0",
          "state": {
            "_model_module": "@jupyter-widgets/base",
            "_model_module_version": "1.2.0",
            "_model_name": "LayoutModel",
            "_view_count": null,
            "_view_module": "@jupyter-widgets/base",
            "_view_module_version": "1.2.0",
            "_view_name": "LayoutView",
            "align_content": null,
            "align_items": null,
            "align_self": null,
            "border": null,
            "bottom": null,
            "display": null,
            "flex": null,
            "flex_flow": null,
            "grid_area": null,
            "grid_auto_columns": null,
            "grid_auto_flow": null,
            "grid_auto_rows": null,
            "grid_column": null,
            "grid_gap": null,
            "grid_row": null,
            "grid_template_areas": null,
            "grid_template_columns": null,
            "grid_template_rows": null,
            "height": null,
            "justify_content": null,
            "justify_items": null,
            "left": null,
            "margin": null,
            "max_height": null,
            "max_width": null,
            "min_height": null,
            "min_width": null,
            "object_fit": null,
            "object_position": null,
            "order": null,
            "overflow": null,
            "overflow_x": null,
            "overflow_y": null,
            "padding": null,
            "right": null,
            "top": null,
            "visibility": null,
            "width": null
          }
        },
        "3ca76ea77a3c4e3caee36ba746db04cb": {
          "model_module": "@jupyter-widgets/base",
          "model_name": "LayoutModel",
          "model_module_version": "1.2.0",
          "state": {
            "_model_module": "@jupyter-widgets/base",
            "_model_module_version": "1.2.0",
            "_model_name": "LayoutModel",
            "_view_count": null,
            "_view_module": "@jupyter-widgets/base",
            "_view_module_version": "1.2.0",
            "_view_name": "LayoutView",
            "align_content": null,
            "align_items": null,
            "align_self": null,
            "border": null,
            "bottom": null,
            "display": null,
            "flex": null,
            "flex_flow": null,
            "grid_area": null,
            "grid_auto_columns": null,
            "grid_auto_flow": null,
            "grid_auto_rows": null,
            "grid_column": null,
            "grid_gap": null,
            "grid_row": null,
            "grid_template_areas": null,
            "grid_template_columns": null,
            "grid_template_rows": null,
            "height": null,
            "justify_content": null,
            "justify_items": null,
            "left": null,
            "margin": null,
            "max_height": null,
            "max_width": null,
            "min_height": null,
            "min_width": null,
            "object_fit": null,
            "object_position": null,
            "order": null,
            "overflow": null,
            "overflow_x": null,
            "overflow_y": null,
            "padding": null,
            "right": null,
            "top": null,
            "visibility": null,
            "width": null
          }
        },
        "72c4b68c859e481bb3eaeb3d7ae41f6f": {
          "model_module": "@jupyter-widgets/controls",
          "model_name": "DescriptionStyleModel",
          "model_module_version": "1.5.0",
          "state": {
            "_model_module": "@jupyter-widgets/controls",
            "_model_module_version": "1.5.0",
            "_model_name": "DescriptionStyleModel",
            "_view_count": null,
            "_view_module": "@jupyter-widgets/base",
            "_view_module_version": "1.2.0",
            "_view_name": "StyleView",
            "description_width": ""
          }
        },
        "f1c6582af1794fda951e5ea2f4decd37": {
          "model_module": "@jupyter-widgets/base",
          "model_name": "LayoutModel",
          "model_module_version": "1.2.0",
          "state": {
            "_model_module": "@jupyter-widgets/base",
            "_model_module_version": "1.2.0",
            "_model_name": "LayoutModel",
            "_view_count": null,
            "_view_module": "@jupyter-widgets/base",
            "_view_module_version": "1.2.0",
            "_view_name": "LayoutView",
            "align_content": null,
            "align_items": null,
            "align_self": null,
            "border": null,
            "bottom": null,
            "display": null,
            "flex": null,
            "flex_flow": null,
            "grid_area": null,
            "grid_auto_columns": null,
            "grid_auto_flow": null,
            "grid_auto_rows": null,
            "grid_column": null,
            "grid_gap": null,
            "grid_row": null,
            "grid_template_areas": null,
            "grid_template_columns": null,
            "grid_template_rows": null,
            "height": null,
            "justify_content": null,
            "justify_items": null,
            "left": null,
            "margin": null,
            "max_height": null,
            "max_width": null,
            "min_height": null,
            "min_width": null,
            "object_fit": null,
            "object_position": null,
            "order": null,
            "overflow": null,
            "overflow_x": null,
            "overflow_y": null,
            "padding": null,
            "right": null,
            "top": null,
            "visibility": null,
            "width": null
          }
        },
        "d0c4c50fb7da436a844c06db3766135f": {
          "model_module": "@jupyter-widgets/controls",
          "model_name": "ProgressStyleModel",
          "model_module_version": "1.5.0",
          "state": {
            "_model_module": "@jupyter-widgets/controls",
            "_model_module_version": "1.5.0",
            "_model_name": "ProgressStyleModel",
            "_view_count": null,
            "_view_module": "@jupyter-widgets/base",
            "_view_module_version": "1.2.0",
            "_view_name": "StyleView",
            "bar_color": null,
            "description_width": ""
          }
        },
        "6665673365cf4963818b8a40a260bfba": {
          "model_module": "@jupyter-widgets/base",
          "model_name": "LayoutModel",
          "model_module_version": "1.2.0",
          "state": {
            "_model_module": "@jupyter-widgets/base",
            "_model_module_version": "1.2.0",
            "_model_name": "LayoutModel",
            "_view_count": null,
            "_view_module": "@jupyter-widgets/base",
            "_view_module_version": "1.2.0",
            "_view_name": "LayoutView",
            "align_content": null,
            "align_items": null,
            "align_self": null,
            "border": null,
            "bottom": null,
            "display": null,
            "flex": null,
            "flex_flow": null,
            "grid_area": null,
            "grid_auto_columns": null,
            "grid_auto_flow": null,
            "grid_auto_rows": null,
            "grid_column": null,
            "grid_gap": null,
            "grid_row": null,
            "grid_template_areas": null,
            "grid_template_columns": null,
            "grid_template_rows": null,
            "height": null,
            "justify_content": null,
            "justify_items": null,
            "left": null,
            "margin": null,
            "max_height": null,
            "max_width": null,
            "min_height": null,
            "min_width": null,
            "object_fit": null,
            "object_position": null,
            "order": null,
            "overflow": null,
            "overflow_x": null,
            "overflow_y": null,
            "padding": null,
            "right": null,
            "top": null,
            "visibility": null,
            "width": null
          }
        },
        "3f93d08451384879a2fac31ec6ec438d": {
          "model_module": "@jupyter-widgets/controls",
          "model_name": "DescriptionStyleModel",
          "model_module_version": "1.5.0",
          "state": {
            "_model_module": "@jupyter-widgets/controls",
            "_model_module_version": "1.5.0",
            "_model_name": "DescriptionStyleModel",
            "_view_count": null,
            "_view_module": "@jupyter-widgets/base",
            "_view_module_version": "1.2.0",
            "_view_name": "StyleView",
            "description_width": ""
          }
        },
        "5756db39bb23468d98e5bec26a428a94": {
          "model_module": "@jupyter-widgets/controls",
          "model_name": "HBoxModel",
          "model_module_version": "1.5.0",
          "state": {
            "_dom_classes": [],
            "_model_module": "@jupyter-widgets/controls",
            "_model_module_version": "1.5.0",
            "_model_name": "HBoxModel",
            "_view_count": null,
            "_view_module": "@jupyter-widgets/controls",
            "_view_module_version": "1.5.0",
            "_view_name": "HBoxView",
            "box_style": "",
            "children": [
              "IPY_MODEL_13c702ecd5b946e5a52a9a4c345acc99",
              "IPY_MODEL_1f85ffecd41343beb1a02792a49f99eb",
              "IPY_MODEL_c38d69bd5aba4ca49770aab9c068aa99"
            ],
            "layout": "IPY_MODEL_48dcf6cb349e457c8b2c14bb218a1657"
          }
        },
        "13c702ecd5b946e5a52a9a4c345acc99": {
          "model_module": "@jupyter-widgets/controls",
          "model_name": "HTMLModel",
          "model_module_version": "1.5.0",
          "state": {
            "_dom_classes": [],
            "_model_module": "@jupyter-widgets/controls",
            "_model_module_version": "1.5.0",
            "_model_name": "HTMLModel",
            "_view_count": null,
            "_view_module": "@jupyter-widgets/controls",
            "_view_module_version": "1.5.0",
            "_view_name": "HTMLView",
            "description": "",
            "description_tooltip": null,
            "layout": "IPY_MODEL_aaed863c564c4b8792f668df240b3538",
            "placeholder": "​",
            "style": "IPY_MODEL_d4a31c35bdbc4ba0a84d4ceb6bd0cc24",
            "value": "Truncating train dataset (num_proc=2): 100%"
          }
        },
        "1f85ffecd41343beb1a02792a49f99eb": {
          "model_module": "@jupyter-widgets/controls",
          "model_name": "FloatProgressModel",
          "model_module_version": "1.5.0",
          "state": {
            "_dom_classes": [],
            "_model_module": "@jupyter-widgets/controls",
            "_model_module_version": "1.5.0",
            "_model_name": "FloatProgressModel",
            "_view_count": null,
            "_view_module": "@jupyter-widgets/controls",
            "_view_module_version": "1.5.0",
            "_view_name": "ProgressView",
            "bar_style": "success",
            "description": "",
            "description_tooltip": null,
            "layout": "IPY_MODEL_b069a8ae48414e14bd33ca969030e61d",
            "max": 4872,
            "min": 0,
            "orientation": "horizontal",
            "style": "IPY_MODEL_15baf5e963544c3bbddfc84efeb81e8f",
            "value": 4872
          }
        },
        "c38d69bd5aba4ca49770aab9c068aa99": {
          "model_module": "@jupyter-widgets/controls",
          "model_name": "HTMLModel",
          "model_module_version": "1.5.0",
          "state": {
            "_dom_classes": [],
            "_model_module": "@jupyter-widgets/controls",
            "_model_module_version": "1.5.0",
            "_model_name": "HTMLModel",
            "_view_count": null,
            "_view_module": "@jupyter-widgets/controls",
            "_view_module_version": "1.5.0",
            "_view_name": "HTMLView",
            "description": "",
            "description_tooltip": null,
            "layout": "IPY_MODEL_4b828128202443c39058090b113385c7",
            "placeholder": "​",
            "style": "IPY_MODEL_489b775e505846138577017bcea4d24d",
            "value": " 4872/4872 [00:02&lt;00:00, 2525.67 examples/s]"
          }
        },
        "48dcf6cb349e457c8b2c14bb218a1657": {
          "model_module": "@jupyter-widgets/base",
          "model_name": "LayoutModel",
          "model_module_version": "1.2.0",
          "state": {
            "_model_module": "@jupyter-widgets/base",
            "_model_module_version": "1.2.0",
            "_model_name": "LayoutModel",
            "_view_count": null,
            "_view_module": "@jupyter-widgets/base",
            "_view_module_version": "1.2.0",
            "_view_name": "LayoutView",
            "align_content": null,
            "align_items": null,
            "align_self": null,
            "border": null,
            "bottom": null,
            "display": null,
            "flex": null,
            "flex_flow": null,
            "grid_area": null,
            "grid_auto_columns": null,
            "grid_auto_flow": null,
            "grid_auto_rows": null,
            "grid_column": null,
            "grid_gap": null,
            "grid_row": null,
            "grid_template_areas": null,
            "grid_template_columns": null,
            "grid_template_rows": null,
            "height": null,
            "justify_content": null,
            "justify_items": null,
            "left": null,
            "margin": null,
            "max_height": null,
            "max_width": null,
            "min_height": null,
            "min_width": null,
            "object_fit": null,
            "object_position": null,
            "order": null,
            "overflow": null,
            "overflow_x": null,
            "overflow_y": null,
            "padding": null,
            "right": null,
            "top": null,
            "visibility": null,
            "width": null
          }
        },
        "aaed863c564c4b8792f668df240b3538": {
          "model_module": "@jupyter-widgets/base",
          "model_name": "LayoutModel",
          "model_module_version": "1.2.0",
          "state": {
            "_model_module": "@jupyter-widgets/base",
            "_model_module_version": "1.2.0",
            "_model_name": "LayoutModel",
            "_view_count": null,
            "_view_module": "@jupyter-widgets/base",
            "_view_module_version": "1.2.0",
            "_view_name": "LayoutView",
            "align_content": null,
            "align_items": null,
            "align_self": null,
            "border": null,
            "bottom": null,
            "display": null,
            "flex": null,
            "flex_flow": null,
            "grid_area": null,
            "grid_auto_columns": null,
            "grid_auto_flow": null,
            "grid_auto_rows": null,
            "grid_column": null,
            "grid_gap": null,
            "grid_row": null,
            "grid_template_areas": null,
            "grid_template_columns": null,
            "grid_template_rows": null,
            "height": null,
            "justify_content": null,
            "justify_items": null,
            "left": null,
            "margin": null,
            "max_height": null,
            "max_width": null,
            "min_height": null,
            "min_width": null,
            "object_fit": null,
            "object_position": null,
            "order": null,
            "overflow": null,
            "overflow_x": null,
            "overflow_y": null,
            "padding": null,
            "right": null,
            "top": null,
            "visibility": null,
            "width": null
          }
        },
        "d4a31c35bdbc4ba0a84d4ceb6bd0cc24": {
          "model_module": "@jupyter-widgets/controls",
          "model_name": "DescriptionStyleModel",
          "model_module_version": "1.5.0",
          "state": {
            "_model_module": "@jupyter-widgets/controls",
            "_model_module_version": "1.5.0",
            "_model_name": "DescriptionStyleModel",
            "_view_count": null,
            "_view_module": "@jupyter-widgets/base",
            "_view_module_version": "1.2.0",
            "_view_name": "StyleView",
            "description_width": ""
          }
        },
        "b069a8ae48414e14bd33ca969030e61d": {
          "model_module": "@jupyter-widgets/base",
          "model_name": "LayoutModel",
          "model_module_version": "1.2.0",
          "state": {
            "_model_module": "@jupyter-widgets/base",
            "_model_module_version": "1.2.0",
            "_model_name": "LayoutModel",
            "_view_count": null,
            "_view_module": "@jupyter-widgets/base",
            "_view_module_version": "1.2.0",
            "_view_name": "LayoutView",
            "align_content": null,
            "align_items": null,
            "align_self": null,
            "border": null,
            "bottom": null,
            "display": null,
            "flex": null,
            "flex_flow": null,
            "grid_area": null,
            "grid_auto_columns": null,
            "grid_auto_flow": null,
            "grid_auto_rows": null,
            "grid_column": null,
            "grid_gap": null,
            "grid_row": null,
            "grid_template_areas": null,
            "grid_template_columns": null,
            "grid_template_rows": null,
            "height": null,
            "justify_content": null,
            "justify_items": null,
            "left": null,
            "margin": null,
            "max_height": null,
            "max_width": null,
            "min_height": null,
            "min_width": null,
            "object_fit": null,
            "object_position": null,
            "order": null,
            "overflow": null,
            "overflow_x": null,
            "overflow_y": null,
            "padding": null,
            "right": null,
            "top": null,
            "visibility": null,
            "width": null
          }
        },
        "15baf5e963544c3bbddfc84efeb81e8f": {
          "model_module": "@jupyter-widgets/controls",
          "model_name": "ProgressStyleModel",
          "model_module_version": "1.5.0",
          "state": {
            "_model_module": "@jupyter-widgets/controls",
            "_model_module_version": "1.5.0",
            "_model_name": "ProgressStyleModel",
            "_view_count": null,
            "_view_module": "@jupyter-widgets/base",
            "_view_module_version": "1.2.0",
            "_view_name": "StyleView",
            "bar_color": null,
            "description_width": ""
          }
        },
        "4b828128202443c39058090b113385c7": {
          "model_module": "@jupyter-widgets/base",
          "model_name": "LayoutModel",
          "model_module_version": "1.2.0",
          "state": {
            "_model_module": "@jupyter-widgets/base",
            "_model_module_version": "1.2.0",
            "_model_name": "LayoutModel",
            "_view_count": null,
            "_view_module": "@jupyter-widgets/base",
            "_view_module_version": "1.2.0",
            "_view_name": "LayoutView",
            "align_content": null,
            "align_items": null,
            "align_self": null,
            "border": null,
            "bottom": null,
            "display": null,
            "flex": null,
            "flex_flow": null,
            "grid_area": null,
            "grid_auto_columns": null,
            "grid_auto_flow": null,
            "grid_auto_rows": null,
            "grid_column": null,
            "grid_gap": null,
            "grid_row": null,
            "grid_template_areas": null,
            "grid_template_columns": null,
            "grid_template_rows": null,
            "height": null,
            "justify_content": null,
            "justify_items": null,
            "left": null,
            "margin": null,
            "max_height": null,
            "max_width": null,
            "min_height": null,
            "min_width": null,
            "object_fit": null,
            "object_position": null,
            "order": null,
            "overflow": null,
            "overflow_x": null,
            "overflow_y": null,
            "padding": null,
            "right": null,
            "top": null,
            "visibility": null,
            "width": null
          }
        },
        "489b775e505846138577017bcea4d24d": {
          "model_module": "@jupyter-widgets/controls",
          "model_name": "DescriptionStyleModel",
          "model_module_version": "1.5.0",
          "state": {
            "_model_module": "@jupyter-widgets/controls",
            "_model_module_version": "1.5.0",
            "_model_name": "DescriptionStyleModel",
            "_view_count": null,
            "_view_module": "@jupyter-widgets/base",
            "_view_module_version": "1.2.0",
            "_view_name": "StyleView",
            "description_width": ""
          }
        }
      }
    }
  },
  "nbformat": 4,
  "nbformat_minor": 5
}
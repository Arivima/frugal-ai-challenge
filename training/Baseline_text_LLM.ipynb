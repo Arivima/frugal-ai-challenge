{
 "cells": [
  {
   "cell_type": "markdown",
   "id": "70981582-88a0-41ea-8c53-be68bff2f058",
   "metadata": {},
   "source": [
    "**TODO**\n",
    "- MNB : rebalance classes and recheck scores for each class\n",
    "- LSTM\n",
    "- BERT\n",
    "- SLM"
   ]
  },
  {
   "cell_type": "code",
   "execution_count": null,
   "id": "979fcbb6-c8e4-42f0-87d3-4d6aa9ded8c9",
   "metadata": {},
   "outputs": [],
   "source": []
  },
  {
   "cell_type": "markdown",
   "id": "ac9d3e0c-ee7e-49e0-8a7f-49510268baa5",
   "metadata": {},
   "source": [
    "Checking we are using rugal-notebooks-env conda environment"
   ]
  },
  {
   "cell_type": "code",
   "execution_count": 20,
   "id": "ecb9e1f2-1013-48b5-9b08-2b8ccb65b3f6",
   "metadata": {},
   "outputs": [
    {
     "name": "stdout",
     "output_type": "stream",
     "text": [
      "/Users/a.villa.massone/miniconda3/envs/frugal-notebooks-env/bin/python\n"
     ]
    }
   ],
   "source": [
    "!which python"
   ]
  },
  {
   "cell_type": "markdown",
   "id": "49ec74cc-50ae-41e2-9c2e-7096d05d2e26",
   "metadata": {},
   "source": [
    "Checking the python version is 3.9 (compatibility with frugal AI codebase)"
   ]
  },
  {
   "cell_type": "code",
   "execution_count": 21,
   "id": "43c17006-1494-4255-a8b4-58a66fb137f2",
   "metadata": {},
   "outputs": [
    {
     "name": "stdout",
     "output_type": "stream",
     "text": [
      "Python 3.9.21\n"
     ]
    }
   ],
   "source": [
    "!python --version"
   ]
  },
  {
   "cell_type": "markdown",
   "id": "8a68727c-488a-49f3-b14d-8a52541dcac6",
   "metadata": {},
   "source": [
    "To clear the cache, uncomment"
   ]
  },
  {
   "cell_type": "code",
   "execution_count": 22,
   "id": "2593763c-541c-4a09-a49d-fb2bb2617d9d",
   "metadata": {},
   "outputs": [],
   "source": [
    "# from huggingface_hub.utils import hf_hub_download\n",
    "# hf_hub_download.clear_cache()"
   ]
  },
  {
   "cell_type": "markdown",
   "id": "51276a7e-dcd6-4121-ad58-912b942acb3e",
   "metadata": {},
   "source": [
    "# Text classification exploration"
   ]
  },
  {
   "cell_type": "markdown",
   "id": "122658a4-2acc-4b74-b7d7-206f63ed014c",
   "metadata": {},
   "source": [
    "## Let's explore the dataset"
   ]
  },
  {
   "cell_type": "markdown",
   "id": "8ee538d8-fb3a-49da-ad2f-9de1149e774a",
   "metadata": {},
   "source": [
    "**Loading the dataset**"
   ]
  },
  {
   "cell_type": "code",
   "execution_count": 23,
   "id": "d62fb4ee-732d-43d2-87f5-2b701f3a1ef7",
   "metadata": {},
   "outputs": [],
   "source": [
    "import pandas as pd\n",
    "\n",
    "df = pd.read_parquet(\"hf://datasets/QuotaClimat/frugalaichallenge-text-train/train.parquet\")"
   ]
  },
  {
   "cell_type": "code",
   "execution_count": 24,
   "id": "a2d891b9-53c0-4f9f-9574-786f7de004d5",
   "metadata": {},
   "outputs": [
    {
     "data": {
      "text/html": [
       "<div>\n",
       "<style scoped>\n",
       "    .dataframe tbody tr th:only-of-type {\n",
       "        vertical-align: middle;\n",
       "    }\n",
       "\n",
       "    .dataframe tbody tr th {\n",
       "        vertical-align: top;\n",
       "    }\n",
       "\n",
       "    .dataframe thead th {\n",
       "        text-align: right;\n",
       "    }\n",
       "</style>\n",
       "<table border=\"1\" class=\"dataframe\">\n",
       "  <thead>\n",
       "    <tr style=\"text-align: right;\">\n",
       "      <th></th>\n",
       "      <th>quote</th>\n",
       "      <th>label</th>\n",
       "      <th>source</th>\n",
       "      <th>url</th>\n",
       "      <th>language</th>\n",
       "      <th>subsource</th>\n",
       "      <th>id</th>\n",
       "    </tr>\n",
       "  </thead>\n",
       "  <tbody>\n",
       "    <tr>\n",
       "      <th>0</th>\n",
       "      <td>There is clear, compelling evidence that many ...</td>\n",
       "      <td>5_science_unreliable</td>\n",
       "      <td>FLICC</td>\n",
       "      <td>https://huggingface.co/datasets/fzanartu/FLICC...</td>\n",
       "      <td>en</td>\n",
       "      <td>CARDS</td>\n",
       "      <td>None</td>\n",
       "    </tr>\n",
       "    <tr>\n",
       "      <th>1</th>\n",
       "      <td>For most of the Holocene (last 10k years), sea...</td>\n",
       "      <td>1_not_happening</td>\n",
       "      <td>FLICC</td>\n",
       "      <td>https://huggingface.co/datasets/fzanartu/FLICC...</td>\n",
       "      <td>en</td>\n",
       "      <td>hamburg_test1</td>\n",
       "      <td>None</td>\n",
       "    </tr>\n",
       "    <tr>\n",
       "      <th>2</th>\n",
       "      <td>China, which hosts U.N. climate talks next wee...</td>\n",
       "      <td>4_solutions_harmful_unnecessary</td>\n",
       "      <td>FLICC</td>\n",
       "      <td>https://huggingface.co/datasets/fzanartu/FLICC...</td>\n",
       "      <td>en</td>\n",
       "      <td>CARDS</td>\n",
       "      <td>None</td>\n",
       "    </tr>\n",
       "    <tr>\n",
       "      <th>3</th>\n",
       "      <td>And the fabricated documents (which Dr. Mann a...</td>\n",
       "      <td>0_not_relevant</td>\n",
       "      <td>FLICC</td>\n",
       "      <td>https://huggingface.co/datasets/fzanartu/FLICC...</td>\n",
       "      <td>en</td>\n",
       "      <td>CARDS</td>\n",
       "      <td>None</td>\n",
       "    </tr>\n",
       "    <tr>\n",
       "      <th>4</th>\n",
       "      <td>It's going to be 42 here today and the hottest...</td>\n",
       "      <td>1_not_happening</td>\n",
       "      <td>FLICC</td>\n",
       "      <td>https://huggingface.co/datasets/fzanartu/FLICC...</td>\n",
       "      <td>en</td>\n",
       "      <td>hamburg_test3</td>\n",
       "      <td>None</td>\n",
       "    </tr>\n",
       "  </tbody>\n",
       "</table>\n",
       "</div>"
      ],
      "text/plain": [
       "                                               quote  \\\n",
       "0  There is clear, compelling evidence that many ...   \n",
       "1  For most of the Holocene (last 10k years), sea...   \n",
       "2  China, which hosts U.N. climate talks next wee...   \n",
       "3  And the fabricated documents (which Dr. Mann a...   \n",
       "4  It's going to be 42 here today and the hottest...   \n",
       "\n",
       "                             label source  \\\n",
       "0             5_science_unreliable  FLICC   \n",
       "1                  1_not_happening  FLICC   \n",
       "2  4_solutions_harmful_unnecessary  FLICC   \n",
       "3                   0_not_relevant  FLICC   \n",
       "4                  1_not_happening  FLICC   \n",
       "\n",
       "                                                 url language      subsource  \\\n",
       "0  https://huggingface.co/datasets/fzanartu/FLICC...       en          CARDS   \n",
       "1  https://huggingface.co/datasets/fzanartu/FLICC...       en  hamburg_test1   \n",
       "2  https://huggingface.co/datasets/fzanartu/FLICC...       en          CARDS   \n",
       "3  https://huggingface.co/datasets/fzanartu/FLICC...       en          CARDS   \n",
       "4  https://huggingface.co/datasets/fzanartu/FLICC...       en  hamburg_test3   \n",
       "\n",
       "     id  \n",
       "0  None  \n",
       "1  None  \n",
       "2  None  \n",
       "3  None  \n",
       "4  None  "
      ]
     },
     "execution_count": 24,
     "metadata": {},
     "output_type": "execute_result"
    }
   ],
   "source": [
    "df.head()"
   ]
  },
  {
   "cell_type": "markdown",
   "id": "3ddb7f30-5713-49b9-a32c-ea5afb165d81",
   "metadata": {},
   "source": [
    "**We will only use the quote and label columns**"
   ]
  },
  {
   "cell_type": "code",
   "execution_count": 25,
   "id": "5fd9deea-e81e-492b-95b4-ed8407cd4571",
   "metadata": {},
   "outputs": [
    {
     "data": {
      "text/plain": [
       "Index(['quote', 'label', 'source', 'url', 'language', 'subsource', 'id'], dtype='object')"
      ]
     },
     "execution_count": 25,
     "metadata": {},
     "output_type": "execute_result"
    }
   ],
   "source": [
    "df.columns"
   ]
  },
  {
   "cell_type": "markdown",
   "id": "44583e43-3572-42fb-98f6-70b27ee54488",
   "metadata": {},
   "source": [
    "**The label have 8 classes**"
   ]
  },
  {
   "cell_type": "code",
   "execution_count": 26,
   "id": "80a4ee62-9b16-46a7-8a0f-605a808216fb",
   "metadata": {},
   "outputs": [
    {
     "name": "stdout",
     "output_type": "stream",
     "text": [
      "unique values:\n",
      "label\n",
      " ['5_science_unreliable' '1_not_happening'\n",
      " '4_solutions_harmful_unnecessary' '0_not_relevant' '6_proponents_biased'\n",
      " '7_fossil_fuels_needed' '2_not_human' '3_not_bad']\n",
      "source\n",
      " ['FLICC' 'Desmog']\n",
      "language\n",
      " ['en']\n",
      "subsource\n",
      " ['CARDS' 'hamburg_test1' 'hamburg_test3' 'jindev' 'jintrain'\n",
      " 'hamburg_test2' 'Alhindi_train' 'jintest' 'Alhindi_dev' 'Alhindi_test'\n",
      " None]\n",
      "id\n",
      " [None]\n"
     ]
    }
   ],
   "source": [
    "print('unique values:')\n",
    "print('label\\n', df['label'].unique())\n",
    "print('source\\n', df['source'].unique())\n",
    "print('language\\n', df['language'].unique())\n",
    "print('subsource\\n', df['subsource'].unique())\n",
    "print('id\\n', df['id'].unique())"
   ]
  },
  {
   "cell_type": "markdown",
   "id": "9a5be8ac-fbeb-4c27-92cd-699e3e8304e1",
   "metadata": {},
   "source": [
    "**No duplicate quotes**"
   ]
  },
  {
   "cell_type": "code",
   "execution_count": 27,
   "id": "e45e2e44-de8e-4f98-8881-4f5f920e6029",
   "metadata": {},
   "outputs": [
    {
     "data": {
      "text/plain": [
       "0"
      ]
     },
     "execution_count": 27,
     "metadata": {},
     "output_type": "execute_result"
    }
   ],
   "source": [
    "df['quote'].duplicated().sum()"
   ]
  },
  {
   "cell_type": "markdown",
   "id": "95ab1fc4-47f5-4088-9de4-2a14a1aaa029",
   "metadata": {},
   "source": [
    "**But we have a bit of unbalanced classes (that we will have to take care of)**"
   ]
  },
  {
   "cell_type": "code",
   "execution_count": 28,
   "id": "bf814c75-e591-4843-9c25-3408cbd81e8b",
   "metadata": {},
   "outputs": [
    {
     "data": {
      "text/plain": [
       "label\n",
       "0_not_relevant                     0.265638\n",
       "1_not_happening                    0.121655\n",
       "2_not_human                        0.115252\n",
       "3_not_bad                          0.063372\n",
       "4_solutions_harmful_unnecessary    0.127073\n",
       "5_science_unreliable               0.131505\n",
       "6_proponents_biased                0.128386\n",
       "7_fossil_fuels_needed              0.047119\n",
       "Name: proportion, dtype: float64"
      ]
     },
     "execution_count": 28,
     "metadata": {},
     "output_type": "execute_result"
    }
   ],
   "source": [
    "class_distribution = df['label'].value_counts().sort_index()\n",
    "df['label'].value_counts(normalize=True).sort_index()"
   ]
  },
  {
   "cell_type": "code",
   "execution_count": 29,
   "id": "e9f8dc00-ee83-4a36-84c2-0d5b5856fdc9",
   "metadata": {},
   "outputs": [
    {
     "data": {
      "text/html": [
       "<iframe\n",
       "    scrolling=\"no\"\n",
       "    width=\"920px\"\n",
       "    height=\"420\"\n",
       "    src=\"iframe_figures/figure_29.html\"\n",
       "    frameborder=\"0\"\n",
       "    allowfullscreen\n",
       "></iframe>\n"
      ]
     },
     "metadata": {},
     "output_type": "display_data"
    }
   ],
   "source": [
    "import plotly.express as px\n",
    "\n",
    "fig = px.bar(x=class_distribution.index, y=class_distribution.values, \n",
    "             labels={'x': 'Label', 'y': 'Count'})\n",
    "fig.update_layout(width=900, height=400, title=\"Class Distribution\")\n",
    "fig.show(renderer='iframe')"
   ]
  },
  {
   "cell_type": "markdown",
   "id": "a242055b-9ed5-46e9-ba07-cbb370929a47",
   "metadata": {},
   "source": [
    "**No missing values**"
   ]
  },
  {
   "cell_type": "code",
   "execution_count": 30,
   "id": "54089e93-da70-487d-90f0-181ee8886ba4",
   "metadata": {},
   "outputs": [
    {
     "name": "stdout",
     "output_type": "stream",
     "text": [
      "quote           0\n",
      "label           0\n",
      "source          0\n",
      "url             0\n",
      "language        0\n",
      "subsource    4295\n",
      "id           6091\n",
      "dtype: int64\n"
     ]
    }
   ],
   "source": [
    "missing_values = df.isnull().sum()\n",
    "print(missing_values)"
   ]
  },
  {
   "cell_type": "markdown",
   "id": "d54f0302-7fe7-4c3f-a74f-fd9232d9cc65",
   "metadata": {},
   "source": [
    "**We will need to crop some quotes**"
   ]
  },
  {
   "cell_type": "code",
   "execution_count": 31,
   "id": "eb3f6558-8da2-490f-9349-24621fcf335f",
   "metadata": {},
   "outputs": [
    {
     "data": {
      "text/plain": [
       "('There is clear, compelling evidence that many of the major conclusions of the IPCC, your new religions constantly-changing Holy Book, are based on evidence that has been fabricated. The hockey stick graph that purported to abolish the mediaeval warm period is just one example.',\n",
       " 277)"
      ]
     },
     "execution_count": 31,
     "metadata": {},
     "output_type": "execute_result"
    }
   ],
   "source": [
    "df['quote'][0], len(df['quote'][0])"
   ]
  },
  {
   "cell_type": "code",
   "execution_count": 32,
   "id": "ed6dcf12-b146-4179-add1-c33b60accaf6",
   "metadata": {},
   "outputs": [
    {
     "name": "stdout",
     "output_type": "stream",
     "text": [
      "count    6091.000000\n",
      "mean      293.528485\n",
      "std       258.330755\n",
      "min        19.000000\n",
      "25%       139.000000\n",
      "50%       228.000000\n",
      "75%       365.000000\n",
      "max      4703.000000\n",
      "Name: text_length, dtype: float64\n"
     ]
    }
   ],
   "source": [
    "df['text_length'] = df['quote'].str.len()\n",
    "print(df['text_length'].describe())"
   ]
  },
  {
   "cell_type": "code",
   "execution_count": 33,
   "id": "cf6c6999-0b40-4791-bb8f-34bd3011b744",
   "metadata": {},
   "outputs": [
    {
     "data": {
      "text/plain": [
       "544.0"
      ]
     },
     "execution_count": 33,
     "metadata": {},
     "output_type": "execute_result"
    }
   ],
   "source": [
    "import numpy as np\n",
    "threshold = np.percentile(df['text_length'], 90)\n",
    "threshold"
   ]
  },
  {
   "cell_type": "code",
   "execution_count": 34,
   "id": "ae22f6ee-1051-4415-9f6c-3e95cfbd79da",
   "metadata": {},
   "outputs": [
    {
     "data": {
      "text/html": [
       "<iframe\n",
       "    scrolling=\"no\"\n",
       "    width=\"820px\"\n",
       "    height=\"420\"\n",
       "    src=\"iframe_figures/figure_34.html\"\n",
       "    frameborder=\"0\"\n",
       "    allowfullscreen\n",
       "></iframe>\n"
      ]
     },
     "metadata": {},
     "output_type": "display_data"
    }
   ],
   "source": [
    "fig = px.histogram(df, x='text_length', nbins=50)\n",
    "fig.update_layout(width=800, height=400, title=\"Sentence Length Distribution\")\n",
    "fig.show(renderer='iframe')"
   ]
  },
  {
   "cell_type": "markdown",
   "id": "4b2459ec-2937-4b9a-8259-298d1cd53e09",
   "metadata": {},
   "source": [
    "## Let's prepare the data for a MultinomialNB model"
   ]
  },
  {
   "cell_type": "markdown",
   "id": "df2caaa7-0f7e-40b5-ab17-3940ecc3369c",
   "metadata": {},
   "source": [
    "**What will need to be done:**\n",
    "- pre-cleaning : strip, split, lowercase, numbers, punctuation/symbols, special chars, URLs\n",
    "- tokenizing | NLTK.tokenize\n",
    "- stopwords : irrelevant frequent words | nltk.corpus stopwords\n",
    "- lemmatizing/stemming : roots | nltk.stem - WordNetLemmatizer\n",
    "- vectorizing\n",
    "    - Bag-of-words (CountVectorizer) counting : word order, doc len, doc context not taken into account\n",
    "    - Tf-idf (TdidfVectorizer) weighting : word order, doc context not taken into account\n",
    "        - min_df (infrequent words)\n",
    "        - max_df (frequent words)\n",
    "        - max_features (curse of dimensionality)\n",
    "        - ngram_range = (min_n, max_n) (capturing the context of the words)"
   ]
  },
  {
   "cell_type": "markdown",
   "id": "a906348d-eb6b-42ec-9072-1ce8e84e11c4",
   "metadata": {},
   "source": [
    "**Let's define our features and target**"
   ]
  },
  {
   "cell_type": "code",
   "execution_count": 35,
   "id": "6ebc10cc-75d9-4125-bc82-e792426f0732",
   "metadata": {},
   "outputs": [
    {
     "data": {
      "text/plain": [
       "((6091,), (6091,))"
      ]
     },
     "execution_count": 35,
     "metadata": {},
     "output_type": "execute_result"
    }
   ],
   "source": [
    "X = df['quote']\n",
    "y = df['label']\n",
    "X.shape, y.shape"
   ]
  },
  {
   "cell_type": "code",
   "execution_count": 74,
   "id": "7a74a5a8-1732-48bd-abd8-8e5d6119706e",
   "metadata": {},
   "outputs": [],
   "source": [
    "def print_head(df):\n",
    "    for i in range(5):\n",
    "        print(i, df[i], '\\n')\n",
    "    print('shape:',df.shape)"
   ]
  },
  {
   "cell_type": "code",
   "execution_count": 37,
   "id": "9cb187e2-5e94-452b-93a0-f8d0aa4ee83e",
   "metadata": {},
   "outputs": [
    {
     "name": "stdout",
     "output_type": "stream",
     "text": [
      "0 There is clear, compelling evidence that many of the major conclusions of the IPCC, your new religions constantly-changing Holy Book, are based on evidence that has been fabricated. The hockey stick graph that purported to abolish the mediaeval warm period is just one example. \n",
      "\n",
      "1 For most of the Holocene (last 10k years), sea level has been rising at a rate of around 2mm per year. Climate change has little to do with it - it's simply a long term inevitability which will end when the current interglacial returns to a glacial period (which we will regret). \n",
      "\n",
      "2 China, which hosts U.N. climate talks next week for the first time, is promoting what it calls ambitious plans to boost energy efficiency and curb emissions. But its supercharged growth means even with rapid efficiency gains it cancels out other global efforts to combat climate change. \n",
      "\n",
      "3 And the fabricated documents (which Dr. Mann apparently still thinks is factual) which lead to the sort of misinformation Dr. Mann uses, are here: \n",
      "\n",
      "4 It's going to be 42 here today and the hottest summer on record was iirc 1934 so not sure how global warming works into it. \n",
      "\n"
     ]
    }
   ],
   "source": [
    "print_head(X)"
   ]
  },
  {
   "cell_type": "markdown",
   "id": "af42e598-ca73-48f1-86a2-3feece3cf067",
   "metadata": {},
   "source": [
    "**Cleaning**"
   ]
  },
  {
   "cell_type": "code",
   "execution_count": 38,
   "id": "7cc46fce-8393-40c2-81ca-b268a0a3e369",
   "metadata": {},
   "outputs": [],
   "source": [
    "import string\n",
    "import re\n",
    "\n",
    "def basic_cleaning(sentence):\n",
    "    sentence = sentence.lower()\n",
    "    sentence = ''.join(char for char in sentence if not char.isdigit())\n",
    "\n",
    "    for punctuation in string.punctuation:\n",
    "        sentence = sentence.replace(punctuation, '')\n",
    "    sentence = sentence.strip()\n",
    "    return sentence"
   ]
  },
  {
   "cell_type": "code",
   "execution_count": 39,
   "id": "4957f925-f5a3-4643-9a1b-84587e196225",
   "metadata": {},
   "outputs": [
    {
     "name": "stdout",
     "output_type": "stream",
     "text": [
      "0 there is clear compelling evidence that many of the major conclusions of the ipcc your new religions constantlychanging holy book are based on evidence that has been fabricated the hockey stick graph that purported to abolish the mediaeval warm period is just one example \n",
      "\n",
      "1 for most of the holocene last k years sea level has been rising at a rate of around mm per year climate change has little to do with it  its simply a long term inevitability which will end when the current interglacial returns to a glacial period which we will regret \n",
      "\n",
      "2 china which hosts un climate talks next week for the first time is promoting what it calls ambitious plans to boost energy efficiency and curb emissions but its supercharged growth means even with rapid efficiency gains it cancels out other global efforts to combat climate change \n",
      "\n",
      "3 and the fabricated documents which dr mann apparently still thinks is factual which lead to the sort of misinformation dr mann uses are here \n",
      "\n",
      "4 its going to be  here today and the hottest summer on record was iirc  so not sure how global warming works into it \n",
      "\n"
     ]
    }
   ],
   "source": [
    "X_clean = X.apply(basic_cleaning)\n",
    "print_head(X_clean)"
   ]
  },
  {
   "cell_type": "markdown",
   "id": "95a07d85-080d-40cb-82f0-81d45d000665",
   "metadata": {},
   "source": [
    "**Tokenizing**"
   ]
  },
  {
   "cell_type": "code",
   "execution_count": 40,
   "id": "8fdc8d52-7fe9-4bbb-9dde-8a82711462a0",
   "metadata": {},
   "outputs": [],
   "source": [
    "import nltk\n",
    "from nltk.tokenize import word_tokenize"
   ]
  },
  {
   "cell_type": "code",
   "execution_count": 49,
   "id": "4f7dfbe4-85b1-45ab-b3a4-75a861ee5186",
   "metadata": {},
   "outputs": [
    {
     "name": "stderr",
     "output_type": "stream",
     "text": [
      "[nltk_data] Downloading package punkt_tab to\n",
      "[nltk_data]     /Users/a.villa.massone/miniconda3/envs/frugal-\n",
      "[nltk_data]     notebooks-env/nltk_data...\n",
      "[nltk_data]   Package punkt_tab is already up-to-date!\n"
     ]
    },
    {
     "data": {
      "text/plain": [
       "True"
      ]
     },
     "execution_count": 49,
     "metadata": {},
     "output_type": "execute_result"
    }
   ],
   "source": [
    "nltk_path = \"/Users/a.villa.massone/miniconda3/envs/frugal-notebooks-env/nltk_data\"\n",
    "nltk.download('punkt_tab', download_dir=nltk_path)"
   ]
  },
  {
   "cell_type": "code",
   "execution_count": 53,
   "id": "e0cabfb4-9aef-4e6e-bd1d-0504b29e0634",
   "metadata": {},
   "outputs": [
    {
     "name": "stdout",
     "output_type": "stream",
     "text": [
      "0 ['there', 'is', 'clear', 'compelling', 'evidence', 'that', 'many', 'of', 'the', 'major', 'conclusions', 'of', 'the', 'ipcc', 'your', 'new', 'religions', 'constantlychanging', 'holy', 'book', 'are', 'based', 'on', 'evidence', 'that', 'has', 'been', 'fabricated', 'the', 'hockey', 'stick', 'graph', 'that', 'purported', 'to', 'abolish', 'the', 'mediaeval', 'warm', 'period', 'is', 'just', 'one', 'example'] \n",
      "\n",
      "1 ['for', 'most', 'of', 'the', 'holocene', 'last', 'k', 'years', 'sea', 'level', 'has', 'been', 'rising', 'at', 'a', 'rate', 'of', 'around', 'mm', 'per', 'year', 'climate', 'change', 'has', 'little', 'to', 'do', 'with', 'it', 'its', 'simply', 'a', 'long', 'term', 'inevitability', 'which', 'will', 'end', 'when', 'the', 'current', 'interglacial', 'returns', 'to', 'a', 'glacial', 'period', 'which', 'we', 'will', 'regret'] \n",
      "\n",
      "2 ['china', 'which', 'hosts', 'un', 'climate', 'talks', 'next', 'week', 'for', 'the', 'first', 'time', 'is', 'promoting', 'what', 'it', 'calls', 'ambitious', 'plans', 'to', 'boost', 'energy', 'efficiency', 'and', 'curb', 'emissions', 'but', 'its', 'supercharged', 'growth', 'means', 'even', 'with', 'rapid', 'efficiency', 'gains', 'it', 'cancels', 'out', 'other', 'global', 'efforts', 'to', 'combat', 'climate', 'change'] \n",
      "\n",
      "3 ['and', 'the', 'fabricated', 'documents', 'which', 'dr', 'mann', 'apparently', 'still', 'thinks', 'is', 'factual', 'which', 'lead', 'to', 'the', 'sort', 'of', 'misinformation', 'dr', 'mann', 'uses', 'are', 'here'] \n",
      "\n",
      "4 ['its', 'going', 'to', 'be', 'here', 'today', 'and', 'the', 'hottest', 'summer', 'on', 'record', 'was', 'iirc', 'so', 'not', 'sure', 'how', 'global', 'warming', 'works', 'into', 'it'] \n",
      "\n"
     ]
    }
   ],
   "source": [
    "X_tokenized = X_clean.apply(word_tokenize)\n",
    "print_head(X_tokenized)"
   ]
  },
  {
   "cell_type": "markdown",
   "id": "da23df09-1204-4ada-a81e-e146640b5523",
   "metadata": {},
   "source": [
    "**Stopwords ??**"
   ]
  },
  {
   "cell_type": "code",
   "execution_count": 59,
   "id": "b695d3ce-ac07-4fcd-a1db-23d315f8e83b",
   "metadata": {},
   "outputs": [
    {
     "name": "stderr",
     "output_type": "stream",
     "text": [
      "[nltk_data] Downloading package stopwords to\n",
      "[nltk_data]     /Users/a.villa.massone/miniconda3/envs/frugal-\n",
      "[nltk_data]     notebooks-env/nltk_data...\n",
      "[nltk_data]   Package stopwords is already up-to-date!\n"
     ]
    }
   ],
   "source": [
    "from nltk.corpus import stopwords\n",
    "\n",
    "nltk.download('stopwords', download_dir=nltk_path)\n",
    "stop_words = set(stopwords.words('english'))"
   ]
  },
  {
   "cell_type": "code",
   "execution_count": 60,
   "id": "efcf5954-1160-4e24-a257-6d836f2390d5",
   "metadata": {},
   "outputs": [
    {
     "name": "stdout",
     "output_type": "stream",
     "text": [
      "0 ['clear', 'compelling', 'evidence', 'many', 'major', 'conclusions', 'ipcc', 'new', 'religions', 'constantlychanging', 'holy', 'book', 'based', 'evidence', 'fabricated', 'hockey', 'stick', 'graph', 'purported', 'abolish', 'mediaeval', 'warm', 'period', 'one', 'example'] \n",
      "\n",
      "1 ['holocene', 'last', 'k', 'years', 'sea', 'level', 'rising', 'rate', 'around', 'mm', 'per', 'year', 'climate', 'change', 'little', 'simply', 'long', 'term', 'inevitability', 'end', 'current', 'interglacial', 'returns', 'glacial', 'period', 'regret'] \n",
      "\n",
      "2 ['china', 'hosts', 'un', 'climate', 'talks', 'next', 'week', 'first', 'time', 'promoting', 'calls', 'ambitious', 'plans', 'boost', 'energy', 'efficiency', 'curb', 'emissions', 'supercharged', 'growth', 'means', 'even', 'rapid', 'efficiency', 'gains', 'cancels', 'global', 'efforts', 'combat', 'climate', 'change'] \n",
      "\n",
      "3 ['fabricated', 'documents', 'dr', 'mann', 'apparently', 'still', 'thinks', 'factual', 'lead', 'sort', 'misinformation', 'dr', 'mann', 'uses'] \n",
      "\n",
      "4 ['going', 'today', 'hottest', 'summer', 'record', 'iirc', 'sure', 'global', 'warming', 'works'] \n",
      "\n"
     ]
    }
   ],
   "source": [
    "X_stopwords = X_tokenized.apply(lambda x: [w for w in x if w.lower() not in stop_words])\n",
    "\n",
    "print_head(X_stopwords)"
   ]
  },
  {
   "cell_type": "markdown",
   "id": "52d346a5-332f-42af-9114-c8be21ab1032",
   "metadata": {},
   "source": [
    "**Lemmatizing**"
   ]
  },
  {
   "cell_type": "code",
   "execution_count": 61,
   "id": "193c3633-44a2-42aa-9e4e-cc8a28783d59",
   "metadata": {},
   "outputs": [
    {
     "name": "stderr",
     "output_type": "stream",
     "text": [
      "[nltk_data] Downloading package wordnet to\n",
      "[nltk_data]     /Users/a.villa.massone/miniconda3/envs/frugal-\n",
      "[nltk_data]     notebooks-env/nltk_data...\n"
     ]
    },
    {
     "data": {
      "text/plain": [
       "True"
      ]
     },
     "execution_count": 61,
     "metadata": {},
     "output_type": "execute_result"
    }
   ],
   "source": [
    "from nltk.stem import WordNetLemmatizer\n",
    "\n",
    "nltk.download('wordnet', download_dir=nltk_path)"
   ]
  },
  {
   "cell_type": "code",
   "execution_count": 75,
   "id": "0ebbd290-e7e5-4b2b-bc7d-6bb5df45a6b7",
   "metadata": {},
   "outputs": [
    {
     "name": "stdout",
     "output_type": "stream",
     "text": [
      "0 ['clear', 'compel', 'evidence', 'many', 'major', 'conclusions', 'ipcc', 'new', 'religions', 'constantlychanging', 'holy', 'book', 'base', 'evidence', 'fabricate', 'hockey', 'stick', 'graph', 'purport', 'abolish', 'mediaeval', 'warm', 'period', 'one', 'example'] \n",
      "\n",
      "1 ['holocene', 'last', 'k', 'years', 'sea', 'level', 'rise', 'rate', 'around', 'mm', 'per', 'year', 'climate', 'change', 'little', 'simply', 'long', 'term', 'inevitability', 'end', 'current', 'interglacial', 'return', 'glacial', 'period', 'regret'] \n",
      "\n",
      "2 ['china', 'host', 'un', 'climate', 'talk', 'next', 'week', 'first', 'time', 'promote', 'call', 'ambitious', 'plan', 'boost', 'energy', 'efficiency', 'curb', 'emissions', 'supercharge', 'growth', 'mean', 'even', 'rapid', 'efficiency', 'gain', 'cancel', 'global', 'efforts', 'combat', 'climate', 'change'] \n",
      "\n",
      "3 ['fabricate', 'document', 'dr', 'mann', 'apparently', 'still', 'think', 'factual', 'lead', 'sort', 'misinformation', 'dr', 'mann', 'use'] \n",
      "\n",
      "4 ['go', 'today', 'hottest', 'summer', 'record', 'iirc', 'sure', 'global', 'warm', 'work'] \n",
      "\n",
      "shape: (6091,)\n"
     ]
    }
   ],
   "source": [
    "X_lemmatized = X_stopwords.apply(lambda x : [WordNetLemmatizer().lemmatize(w, pos = \"v\") for w in x])\n",
    "print_head(X_lemmatized)"
   ]
  },
  {
   "cell_type": "markdown",
   "id": "a9b15a50-ecd2-42c5-89c1-334be10b170b",
   "metadata": {},
   "source": [
    "**Vectorizing**"
   ]
  },
  {
   "cell_type": "code",
   "execution_count": 88,
   "id": "650eea97-79da-4fc8-ab2b-7bd3c5032e2a",
   "metadata": {},
   "outputs": [
    {
     "name": "stdout",
     "output_type": "stream",
     "text": [
      "Vocabulary size: 13281\n",
      "shape: (6091, 13281)\n"
     ]
    },
    {
     "data": {
      "text/html": [
       "<div>\n",
       "<style scoped>\n",
       "    .dataframe tbody tr th:only-of-type {\n",
       "        vertical-align: middle;\n",
       "    }\n",
       "\n",
       "    .dataframe tbody tr th {\n",
       "        vertical-align: top;\n",
       "    }\n",
       "\n",
       "    .dataframe thead th {\n",
       "        text-align: right;\n",
       "    }\n",
       "</style>\n",
       "<table border=\"1\" class=\"dataframe\">\n",
       "  <thead>\n",
       "    <tr style=\"text-align: right;\">\n",
       "      <th></th>\n",
       "      <th>aabe</th>\n",
       "      <th>ab</th>\n",
       "      <th>abandon</th>\n",
       "      <th>abandonment</th>\n",
       "      <th>abate</th>\n",
       "      <th>abatement</th>\n",
       "      <th>abbot</th>\n",
       "      <th>abbott</th>\n",
       "      <th>abc</th>\n",
       "      <th>abcs</th>\n",
       "      <th>...</th>\n",
       "      <th>ºc</th>\n",
       "      <th>äôm</th>\n",
       "      <th>äôs</th>\n",
       "      <th>äôt</th>\n",
       "      <th>üá</th>\n",
       "      <th>üáßwhy</th>\n",
       "      <th>üåª</th>\n",
       "      <th>üåç</th>\n",
       "      <th>üåû</th>\n",
       "      <th>üëç</th>\n",
       "    </tr>\n",
       "  </thead>\n",
       "  <tbody>\n",
       "    <tr>\n",
       "      <th>0</th>\n",
       "      <td>0.0</td>\n",
       "      <td>0.0</td>\n",
       "      <td>0.0</td>\n",
       "      <td>0.0</td>\n",
       "      <td>0.0</td>\n",
       "      <td>0.0</td>\n",
       "      <td>0.0</td>\n",
       "      <td>0.0</td>\n",
       "      <td>0.0</td>\n",
       "      <td>0.0</td>\n",
       "      <td>...</td>\n",
       "      <td>0.0</td>\n",
       "      <td>0.0</td>\n",
       "      <td>0.0</td>\n",
       "      <td>0.0</td>\n",
       "      <td>0.0</td>\n",
       "      <td>0.0</td>\n",
       "      <td>0.0</td>\n",
       "      <td>0.0</td>\n",
       "      <td>0.0</td>\n",
       "      <td>0.0</td>\n",
       "    </tr>\n",
       "    <tr>\n",
       "      <th>1</th>\n",
       "      <td>0.0</td>\n",
       "      <td>0.0</td>\n",
       "      <td>0.0</td>\n",
       "      <td>0.0</td>\n",
       "      <td>0.0</td>\n",
       "      <td>0.0</td>\n",
       "      <td>0.0</td>\n",
       "      <td>0.0</td>\n",
       "      <td>0.0</td>\n",
       "      <td>0.0</td>\n",
       "      <td>...</td>\n",
       "      <td>0.0</td>\n",
       "      <td>0.0</td>\n",
       "      <td>0.0</td>\n",
       "      <td>0.0</td>\n",
       "      <td>0.0</td>\n",
       "      <td>0.0</td>\n",
       "      <td>0.0</td>\n",
       "      <td>0.0</td>\n",
       "      <td>0.0</td>\n",
       "      <td>0.0</td>\n",
       "    </tr>\n",
       "    <tr>\n",
       "      <th>2</th>\n",
       "      <td>0.0</td>\n",
       "      <td>0.0</td>\n",
       "      <td>0.0</td>\n",
       "      <td>0.0</td>\n",
       "      <td>0.0</td>\n",
       "      <td>0.0</td>\n",
       "      <td>0.0</td>\n",
       "      <td>0.0</td>\n",
       "      <td>0.0</td>\n",
       "      <td>0.0</td>\n",
       "      <td>...</td>\n",
       "      <td>0.0</td>\n",
       "      <td>0.0</td>\n",
       "      <td>0.0</td>\n",
       "      <td>0.0</td>\n",
       "      <td>0.0</td>\n",
       "      <td>0.0</td>\n",
       "      <td>0.0</td>\n",
       "      <td>0.0</td>\n",
       "      <td>0.0</td>\n",
       "      <td>0.0</td>\n",
       "    </tr>\n",
       "    <tr>\n",
       "      <th>3</th>\n",
       "      <td>0.0</td>\n",
       "      <td>0.0</td>\n",
       "      <td>0.0</td>\n",
       "      <td>0.0</td>\n",
       "      <td>0.0</td>\n",
       "      <td>0.0</td>\n",
       "      <td>0.0</td>\n",
       "      <td>0.0</td>\n",
       "      <td>0.0</td>\n",
       "      <td>0.0</td>\n",
       "      <td>...</td>\n",
       "      <td>0.0</td>\n",
       "      <td>0.0</td>\n",
       "      <td>0.0</td>\n",
       "      <td>0.0</td>\n",
       "      <td>0.0</td>\n",
       "      <td>0.0</td>\n",
       "      <td>0.0</td>\n",
       "      <td>0.0</td>\n",
       "      <td>0.0</td>\n",
       "      <td>0.0</td>\n",
       "    </tr>\n",
       "    <tr>\n",
       "      <th>4</th>\n",
       "      <td>0.0</td>\n",
       "      <td>0.0</td>\n",
       "      <td>0.0</td>\n",
       "      <td>0.0</td>\n",
       "      <td>0.0</td>\n",
       "      <td>0.0</td>\n",
       "      <td>0.0</td>\n",
       "      <td>0.0</td>\n",
       "      <td>0.0</td>\n",
       "      <td>0.0</td>\n",
       "      <td>...</td>\n",
       "      <td>0.0</td>\n",
       "      <td>0.0</td>\n",
       "      <td>0.0</td>\n",
       "      <td>0.0</td>\n",
       "      <td>0.0</td>\n",
       "      <td>0.0</td>\n",
       "      <td>0.0</td>\n",
       "      <td>0.0</td>\n",
       "      <td>0.0</td>\n",
       "      <td>0.0</td>\n",
       "    </tr>\n",
       "  </tbody>\n",
       "</table>\n",
       "<p>5 rows × 13281 columns</p>\n",
       "</div>"
      ],
      "text/plain": [
       "   aabe   ab  abandon  abandonment  abate  abatement  abbot  abbott  abc  \\\n",
       "0   0.0  0.0      0.0          0.0    0.0        0.0    0.0     0.0  0.0   \n",
       "1   0.0  0.0      0.0          0.0    0.0        0.0    0.0     0.0  0.0   \n",
       "2   0.0  0.0      0.0          0.0    0.0        0.0    0.0     0.0  0.0   \n",
       "3   0.0  0.0      0.0          0.0    0.0        0.0    0.0     0.0  0.0   \n",
       "4   0.0  0.0      0.0          0.0    0.0        0.0    0.0     0.0  0.0   \n",
       "\n",
       "   abcs  ...   ºc  äôm  äôs  äôt   üá  üáßwhy  üåª  üåç  üåû  üëç  \n",
       "0   0.0  ...  0.0  0.0  0.0  0.0  0.0     0.0  0.0  0.0  0.0  0.0  \n",
       "1   0.0  ...  0.0  0.0  0.0  0.0  0.0     0.0  0.0  0.0  0.0  0.0  \n",
       "2   0.0  ...  0.0  0.0  0.0  0.0  0.0     0.0  0.0  0.0  0.0  0.0  \n",
       "3   0.0  ...  0.0  0.0  0.0  0.0  0.0     0.0  0.0  0.0  0.0  0.0  \n",
       "4   0.0  ...  0.0  0.0  0.0  0.0  0.0     0.0  0.0  0.0  0.0  0.0  \n",
       "\n",
       "[5 rows x 13281 columns]"
      ]
     },
     "execution_count": 88,
     "metadata": {},
     "output_type": "execute_result"
    }
   ],
   "source": [
    "from sklearn.feature_extraction.text import TfidfVectorizer\n",
    "\n",
    "vectorizer = TfidfVectorizer()\n",
    "# vectorizer = TfidfVectorizer(ngram_range = (2,2))\n",
    "\n",
    "X_lemmatized_text = X_lemmatized.apply(lambda words: \" \".join(words))\n",
    "\n",
    "X_vectorized = pd.DataFrame(\n",
    "    vectorizer.fit_transform(X_lemmatized_text).toarray(),\n",
    "    columns=vectorizer.get_feature_names_out(),\n",
    "    index=X_lemmatized.index\n",
    ")\n",
    "\n",
    "vocabulary = vectorizer.get_feature_names_out()\n",
    "print(f\"Vocabulary size: {len(vocabulary)}\")\n",
    "print('shape:', X_vectorized.shape)\n",
    "X_vectorized.head()"
   ]
  },
  {
   "cell_type": "markdown",
   "id": "42df14e9-4e9d-4020-8710-10d0917bf536",
   "metadata": {},
   "source": [
    "**Let's have a look at the most frequent words**"
   ]
  },
  {
   "cell_type": "code",
   "execution_count": 90,
   "id": "0585eed4-1214-420d-a41e-26d91aa2860c",
   "metadata": {},
   "outputs": [
    {
     "data": {
      "image/png": "[encoded data removed]",
      "text/plain": [
       "<Figure size 1200x600 with 1 Axes>"
      ]
     },
     "metadata": {},
     "output_type": "display_data"
    },
    {
     "name": "stdout",
     "output_type": "stream",
     "text": [
      "\n",
      "Total words: 25963.216238340217\n",
      "Unique words: 13281\n",
      "Average word frequency: 1.95\n"
     ]
    }
   ],
   "source": [
    "import matplotlib.pyplot as plt\n",
    "\n",
    "word_freq = X_vectorized.sum(axis=0).values\n",
    "word_freq_dict = dict(zip(vocabulary, word_freq))\n",
    "sorted_word_freq = sorted(word_freq_dict.items(), key=lambda x: x[1], reverse=True)\n",
    "\n",
    "top_20_words = sorted_word_freq[:20]\n",
    "df_word_freq = pd.DataFrame(top_20_words, columns=['Word', 'Frequency'])\n",
    "\n",
    "plt.figure(figsize=(12, 6))\n",
    "plt.bar(df_word_freq['Word'], df_word_freq['Frequency'])\n",
    "plt.title('Top 20 Most Frequent Words')\n",
    "plt.xlabel('Words')\n",
    "plt.ylabel('Frequency')\n",
    "plt.xticks(rotation=45, ha='right')\n",
    "plt.tight_layout()\n",
    "plt.show()\n",
    "\n",
    "total_words = sum(word_freq)\n",
    "unique_words = len(vocabulary)\n",
    "average_freq = total_words / unique_words\n",
    "\n",
    "print(f\"\\nTotal words: {total_words}\")\n",
    "print(f\"Unique words: {unique_words}\")\n",
    "print(f\"Average word frequency: {average_freq:.2f}\")"
   ]
  },
  {
   "cell_type": "markdown",
   "id": "9b526949-68d7-4786-8f3d-ead1b0208694",
   "metadata": {},
   "source": [
    "**Now let's build our model**  \n",
    "We check our feature and target"
   ]
  },
  {
   "cell_type": "code",
   "execution_count": 93,
   "id": "c2845087-3c87-43ba-ad17-f4e93797ecc6",
   "metadata": {},
   "outputs": [
    {
     "data": {
      "text/html": [
       "<div>\n",
       "<style scoped>\n",
       "    .dataframe tbody tr th:only-of-type {\n",
       "        vertical-align: middle;\n",
       "    }\n",
       "\n",
       "    .dataframe tbody tr th {\n",
       "        vertical-align: top;\n",
       "    }\n",
       "\n",
       "    .dataframe thead th {\n",
       "        text-align: right;\n",
       "    }\n",
       "</style>\n",
       "<table border=\"1\" class=\"dataframe\">\n",
       "  <thead>\n",
       "    <tr style=\"text-align: right;\">\n",
       "      <th></th>\n",
       "      <th>aabe</th>\n",
       "      <th>ab</th>\n",
       "      <th>abandon</th>\n",
       "      <th>abandonment</th>\n",
       "      <th>abate</th>\n",
       "      <th>abatement</th>\n",
       "      <th>abbot</th>\n",
       "      <th>abbott</th>\n",
       "      <th>abc</th>\n",
       "      <th>abcs</th>\n",
       "      <th>...</th>\n",
       "      <th>ºc</th>\n",
       "      <th>äôm</th>\n",
       "      <th>äôs</th>\n",
       "      <th>äôt</th>\n",
       "      <th>üá</th>\n",
       "      <th>üáßwhy</th>\n",
       "      <th>üåª</th>\n",
       "      <th>üåç</th>\n",
       "      <th>üåû</th>\n",
       "      <th>üëç</th>\n",
       "    </tr>\n",
       "  </thead>\n",
       "  <tbody>\n",
       "    <tr>\n",
       "      <th>0</th>\n",
       "      <td>0.0</td>\n",
       "      <td>0.0</td>\n",
       "      <td>0.0</td>\n",
       "      <td>0.0</td>\n",
       "      <td>0.0</td>\n",
       "      <td>0.0</td>\n",
       "      <td>0.0</td>\n",
       "      <td>0.0</td>\n",
       "      <td>0.0</td>\n",
       "      <td>0.0</td>\n",
       "      <td>...</td>\n",
       "      <td>0.0</td>\n",
       "      <td>0.0</td>\n",
       "      <td>0.0</td>\n",
       "      <td>0.0</td>\n",
       "      <td>0.0</td>\n",
       "      <td>0.0</td>\n",
       "      <td>0.0</td>\n",
       "      <td>0.0</td>\n",
       "      <td>0.0</td>\n",
       "      <td>0.0</td>\n",
       "    </tr>\n",
       "    <tr>\n",
       "      <th>1</th>\n",
       "      <td>0.0</td>\n",
       "      <td>0.0</td>\n",
       "      <td>0.0</td>\n",
       "      <td>0.0</td>\n",
       "      <td>0.0</td>\n",
       "      <td>0.0</td>\n",
       "      <td>0.0</td>\n",
       "      <td>0.0</td>\n",
       "      <td>0.0</td>\n",
       "      <td>0.0</td>\n",
       "      <td>...</td>\n",
       "      <td>0.0</td>\n",
       "      <td>0.0</td>\n",
       "      <td>0.0</td>\n",
       "      <td>0.0</td>\n",
       "      <td>0.0</td>\n",
       "      <td>0.0</td>\n",
       "      <td>0.0</td>\n",
       "      <td>0.0</td>\n",
       "      <td>0.0</td>\n",
       "      <td>0.0</td>\n",
       "    </tr>\n",
       "    <tr>\n",
       "      <th>2</th>\n",
       "      <td>0.0</td>\n",
       "      <td>0.0</td>\n",
       "      <td>0.0</td>\n",
       "      <td>0.0</td>\n",
       "      <td>0.0</td>\n",
       "      <td>0.0</td>\n",
       "      <td>0.0</td>\n",
       "      <td>0.0</td>\n",
       "      <td>0.0</td>\n",
       "      <td>0.0</td>\n",
       "      <td>...</td>\n",
       "      <td>0.0</td>\n",
       "      <td>0.0</td>\n",
       "      <td>0.0</td>\n",
       "      <td>0.0</td>\n",
       "      <td>0.0</td>\n",
       "      <td>0.0</td>\n",
       "      <td>0.0</td>\n",
       "      <td>0.0</td>\n",
       "      <td>0.0</td>\n",
       "      <td>0.0</td>\n",
       "    </tr>\n",
       "    <tr>\n",
       "      <th>3</th>\n",
       "      <td>0.0</td>\n",
       "      <td>0.0</td>\n",
       "      <td>0.0</td>\n",
       "      <td>0.0</td>\n",
       "      <td>0.0</td>\n",
       "      <td>0.0</td>\n",
       "      <td>0.0</td>\n",
       "      <td>0.0</td>\n",
       "      <td>0.0</td>\n",
       "      <td>0.0</td>\n",
       "      <td>...</td>\n",
       "      <td>0.0</td>\n",
       "      <td>0.0</td>\n",
       "      <td>0.0</td>\n",
       "      <td>0.0</td>\n",
       "      <td>0.0</td>\n",
       "      <td>0.0</td>\n",
       "      <td>0.0</td>\n",
       "      <td>0.0</td>\n",
       "      <td>0.0</td>\n",
       "      <td>0.0</td>\n",
       "    </tr>\n",
       "    <tr>\n",
       "      <th>4</th>\n",
       "      <td>0.0</td>\n",
       "      <td>0.0</td>\n",
       "      <td>0.0</td>\n",
       "      <td>0.0</td>\n",
       "      <td>0.0</td>\n",
       "      <td>0.0</td>\n",
       "      <td>0.0</td>\n",
       "      <td>0.0</td>\n",
       "      <td>0.0</td>\n",
       "      <td>0.0</td>\n",
       "      <td>...</td>\n",
       "      <td>0.0</td>\n",
       "      <td>0.0</td>\n",
       "      <td>0.0</td>\n",
       "      <td>0.0</td>\n",
       "      <td>0.0</td>\n",
       "      <td>0.0</td>\n",
       "      <td>0.0</td>\n",
       "      <td>0.0</td>\n",
       "      <td>0.0</td>\n",
       "      <td>0.0</td>\n",
       "    </tr>\n",
       "    <tr>\n",
       "      <th>...</th>\n",
       "      <td>...</td>\n",
       "      <td>...</td>\n",
       "      <td>...</td>\n",
       "      <td>...</td>\n",
       "      <td>...</td>\n",
       "      <td>...</td>\n",
       "      <td>...</td>\n",
       "      <td>...</td>\n",
       "      <td>...</td>\n",
       "      <td>...</td>\n",
       "      <td>...</td>\n",
       "      <td>...</td>\n",
       "      <td>...</td>\n",
       "      <td>...</td>\n",
       "      <td>...</td>\n",
       "      <td>...</td>\n",
       "      <td>...</td>\n",
       "      <td>...</td>\n",
       "      <td>...</td>\n",
       "      <td>...</td>\n",
       "      <td>...</td>\n",
       "    </tr>\n",
       "    <tr>\n",
       "      <th>6431</th>\n",
       "      <td>0.0</td>\n",
       "      <td>0.0</td>\n",
       "      <td>0.0</td>\n",
       "      <td>0.0</td>\n",
       "      <td>0.0</td>\n",
       "      <td>0.0</td>\n",
       "      <td>0.0</td>\n",
       "      <td>0.0</td>\n",
       "      <td>0.0</td>\n",
       "      <td>0.0</td>\n",
       "      <td>...</td>\n",
       "      <td>0.0</td>\n",
       "      <td>0.0</td>\n",
       "      <td>0.0</td>\n",
       "      <td>0.0</td>\n",
       "      <td>0.0</td>\n",
       "      <td>0.0</td>\n",
       "      <td>0.0</td>\n",
       "      <td>0.0</td>\n",
       "      <td>0.0</td>\n",
       "      <td>0.0</td>\n",
       "    </tr>\n",
       "    <tr>\n",
       "      <th>6432</th>\n",
       "      <td>0.0</td>\n",
       "      <td>0.0</td>\n",
       "      <td>0.0</td>\n",
       "      <td>0.0</td>\n",
       "      <td>0.0</td>\n",
       "      <td>0.0</td>\n",
       "      <td>0.0</td>\n",
       "      <td>0.0</td>\n",
       "      <td>0.0</td>\n",
       "      <td>0.0</td>\n",
       "      <td>...</td>\n",
       "      <td>0.0</td>\n",
       "      <td>0.0</td>\n",
       "      <td>0.0</td>\n",
       "      <td>0.0</td>\n",
       "      <td>0.0</td>\n",
       "      <td>0.0</td>\n",
       "      <td>0.0</td>\n",
       "      <td>0.0</td>\n",
       "      <td>0.0</td>\n",
       "      <td>0.0</td>\n",
       "    </tr>\n",
       "    <tr>\n",
       "      <th>6433</th>\n",
       "      <td>0.0</td>\n",
       "      <td>0.0</td>\n",
       "      <td>0.0</td>\n",
       "      <td>0.0</td>\n",
       "      <td>0.0</td>\n",
       "      <td>0.0</td>\n",
       "      <td>0.0</td>\n",
       "      <td>0.0</td>\n",
       "      <td>0.0</td>\n",
       "      <td>0.0</td>\n",
       "      <td>...</td>\n",
       "      <td>0.0</td>\n",
       "      <td>0.0</td>\n",
       "      <td>0.0</td>\n",
       "      <td>0.0</td>\n",
       "      <td>0.0</td>\n",
       "      <td>0.0</td>\n",
       "      <td>0.0</td>\n",
       "      <td>0.0</td>\n",
       "      <td>0.0</td>\n",
       "      <td>0.0</td>\n",
       "    </tr>\n",
       "    <tr>\n",
       "      <th>6435</th>\n",
       "      <td>0.0</td>\n",
       "      <td>0.0</td>\n",
       "      <td>0.0</td>\n",
       "      <td>0.0</td>\n",
       "      <td>0.0</td>\n",
       "      <td>0.0</td>\n",
       "      <td>0.0</td>\n",
       "      <td>0.0</td>\n",
       "      <td>0.0</td>\n",
       "      <td>0.0</td>\n",
       "      <td>...</td>\n",
       "      <td>0.0</td>\n",
       "      <td>0.0</td>\n",
       "      <td>0.0</td>\n",
       "      <td>0.0</td>\n",
       "      <td>0.0</td>\n",
       "      <td>0.0</td>\n",
       "      <td>0.0</td>\n",
       "      <td>0.0</td>\n",
       "      <td>0.0</td>\n",
       "      <td>0.0</td>\n",
       "    </tr>\n",
       "    <tr>\n",
       "      <th>6436</th>\n",
       "      <td>0.0</td>\n",
       "      <td>0.0</td>\n",
       "      <td>0.0</td>\n",
       "      <td>0.0</td>\n",
       "      <td>0.0</td>\n",
       "      <td>0.0</td>\n",
       "      <td>0.0</td>\n",
       "      <td>0.0</td>\n",
       "      <td>0.0</td>\n",
       "      <td>0.0</td>\n",
       "      <td>...</td>\n",
       "      <td>0.0</td>\n",
       "      <td>0.0</td>\n",
       "      <td>0.0</td>\n",
       "      <td>0.0</td>\n",
       "      <td>0.0</td>\n",
       "      <td>0.0</td>\n",
       "      <td>0.0</td>\n",
       "      <td>0.0</td>\n",
       "      <td>0.0</td>\n",
       "      <td>0.0</td>\n",
       "    </tr>\n",
       "  </tbody>\n",
       "</table>\n",
       "<p>6091 rows × 13281 columns</p>\n",
       "</div>"
      ],
      "text/plain": [
       "      aabe   ab  abandon  abandonment  abate  abatement  abbot  abbott  abc  \\\n",
       "0      0.0  0.0      0.0          0.0    0.0        0.0    0.0     0.0  0.0   \n",
       "1      0.0  0.0      0.0          0.0    0.0        0.0    0.0     0.0  0.0   \n",
       "2      0.0  0.0      0.0          0.0    0.0        0.0    0.0     0.0  0.0   \n",
       "3      0.0  0.0      0.0          0.0    0.0        0.0    0.0     0.0  0.0   \n",
       "4      0.0  0.0      0.0          0.0    0.0        0.0    0.0     0.0  0.0   \n",
       "...    ...  ...      ...          ...    ...        ...    ...     ...  ...   \n",
       "6431   0.0  0.0      0.0          0.0    0.0        0.0    0.0     0.0  0.0   \n",
       "6432   0.0  0.0      0.0          0.0    0.0        0.0    0.0     0.0  0.0   \n",
       "6433   0.0  0.0      0.0          0.0    0.0        0.0    0.0     0.0  0.0   \n",
       "6435   0.0  0.0      0.0          0.0    0.0        0.0    0.0     0.0  0.0   \n",
       "6436   0.0  0.0      0.0          0.0    0.0        0.0    0.0     0.0  0.0   \n",
       "\n",
       "      abcs  ...   ºc  äôm  äôs  äôt   üá  üáßwhy  üåª  üåç  üåû  üëç  \n",
       "0      0.0  ...  0.0  0.0  0.0  0.0  0.0     0.0  0.0  0.0  0.0  0.0  \n",
       "1      0.0  ...  0.0  0.0  0.0  0.0  0.0     0.0  0.0  0.0  0.0  0.0  \n",
       "2      0.0  ...  0.0  0.0  0.0  0.0  0.0     0.0  0.0  0.0  0.0  0.0  \n",
       "3      0.0  ...  0.0  0.0  0.0  0.0  0.0     0.0  0.0  0.0  0.0  0.0  \n",
       "4      0.0  ...  0.0  0.0  0.0  0.0  0.0     0.0  0.0  0.0  0.0  0.0  \n",
       "...    ...  ...  ...  ...  ...  ...  ...     ...  ...  ...  ...  ...  \n",
       "6431   0.0  ...  0.0  0.0  0.0  0.0  0.0     0.0  0.0  0.0  0.0  0.0  \n",
       "6432   0.0  ...  0.0  0.0  0.0  0.0  0.0     0.0  0.0  0.0  0.0  0.0  \n",
       "6433   0.0  ...  0.0  0.0  0.0  0.0  0.0     0.0  0.0  0.0  0.0  0.0  \n",
       "6435   0.0  ...  0.0  0.0  0.0  0.0  0.0     0.0  0.0  0.0  0.0  0.0  \n",
       "6436   0.0  ...  0.0  0.0  0.0  0.0  0.0     0.0  0.0  0.0  0.0  0.0  \n",
       "\n",
       "[6091 rows x 13281 columns]"
      ]
     },
     "execution_count": 93,
     "metadata": {},
     "output_type": "execute_result"
    }
   ],
   "source": [
    "X_vectorized"
   ]
  },
  {
   "cell_type": "code",
   "execution_count": 97,
   "id": "e876a155-d0de-4695-abdb-0e909d151a5c",
   "metadata": {},
   "outputs": [
    {
     "data": {
      "text/plain": [
       "0                  5_science_unreliable\n",
       "1                       1_not_happening\n",
       "2       4_solutions_harmful_unnecessary\n",
       "3                        0_not_relevant\n",
       "4                       1_not_happening\n",
       "                     ...               \n",
       "6431                6_proponents_biased\n",
       "6432                        2_not_human\n",
       "6433                     0_not_relevant\n",
       "6435               5_science_unreliable\n",
       "6436                    1_not_happening\n",
       "Name: label, Length: 6091, dtype: object"
      ]
     },
     "execution_count": 97,
     "metadata": {},
     "output_type": "execute_result"
    }
   ],
   "source": [
    "y"
   ]
  },
  {
   "cell_type": "markdown",
   "id": "e4b2a301-5bf4-4d6e-9634-2d4e971c5e3d",
   "metadata": {},
   "source": [
    "**Let's encode the target**"
   ]
  },
  {
   "cell_type": "code",
   "execution_count": 100,
   "id": "9f395f86-9753-4ca2-b2a9-668adf101a0b",
   "metadata": {},
   "outputs": [
    {
     "name": "stdout",
     "output_type": "stream",
     "text": [
      "['0_not_relevant' '1_not_happening' '2_not_human' '3_not_bad'\n",
      " '4_solutions_harmful_unnecessary' '5_science_unreliable'\n",
      " '6_proponents_biased' '7_fossil_fuels_needed']\n"
     ]
    },
    {
     "data": {
      "text/plain": [
       "array([5, 1, 4, ..., 0, 5, 1])"
      ]
     },
     "execution_count": 100,
     "metadata": {},
     "output_type": "execute_result"
    }
   ],
   "source": [
    "from sklearn.preprocessing import LabelEncoder\n",
    "\n",
    "le = LabelEncoder()\n",
    "y_cat = le.fit_transform(y)\n",
    "print(le.classes_)\n",
    "y_cat"
   ]
  },
  {
   "cell_type": "code",
   "execution_count": 105,
   "id": "b2423a36-b8a8-4cb8-b28f-6497bd74f5c8",
   "metadata": {},
   "outputs": [
    {
     "data": {
      "text/plain": [
       "((6091, 13281), (6091,), pandas.core.frame.DataFrame, numpy.ndarray)"
      ]
     },
     "execution_count": 105,
     "metadata": {},
     "output_type": "execute_result"
    }
   ],
   "source": [
    "X_vectorized.shape, y_cat.shape, type(X_vectorized), type(y_cat)"
   ]
  },
  {
   "cell_type": "markdown",
   "id": "1e2e712a-c23d-4558-a3e6-88a87cff9387",
   "metadata": {},
   "source": [
    "**Train test split**"
   ]
  },
  {
   "cell_type": "code",
   "execution_count": 151,
   "id": "221879fb-c87a-4e58-82a3-46fe4feaa11c",
   "metadata": {},
   "outputs": [
    {
     "name": "stdout",
     "output_type": "stream",
     "text": [
      "types <class 'pandas.core.frame.DataFrame'> <class 'pandas.core.frame.DataFrame'> <class 'numpy.ndarray'> <class 'numpy.ndarray'>\n"
     ]
    },
    {
     "data": {
      "text/plain": [
       "('Shapes', (4872, 13281), (1219, 13281), (4872,), (1219,))"
      ]
     },
     "execution_count": 151,
     "metadata": {},
     "output_type": "execute_result"
    }
   ],
   "source": [
    "from sklearn.model_selection import train_test_split\n",
    "\n",
    "X_train, X_test, y_train, y_test = train_test_split(X_vectorized, y_cat, test_size=0.2, stratify=y_cat, random_state=42)\n",
    "\n",
    "print('types', type(X_train), type(X_test), type(y_train), type(y_test))\n",
    "'Shapes', X_train.shape, X_test.shape, y_train.shape, y_test.shape"
   ]
  },
  {
   "cell_type": "markdown",
   "id": "d0c23ea4-047c-4252-ae07-379b52ef6c37",
   "metadata": {},
   "source": [
    "**Model : MultinomialNB**"
   ]
  },
  {
   "cell_type": "code",
   "execution_count": 152,
   "id": "a1eedc1f-f729-4950-aa4b-b5155e8718eb",
   "metadata": {},
   "outputs": [
    {
     "name": "stdout",
     "output_type": "stream",
     "text": [
      "Cross-validation accuracy on 10 folds: 0.46\n"
     ]
    }
   ],
   "source": [
    "from sklearn.model_selection import cross_val_score, StratifiedKFold\n",
    "from sklearn.naive_bayes import MultinomialNB\n",
    "\n",
    "multinomial_nb = MultinomialNB()\n",
    "\n",
    "skf = StratifiedKFold(n_splits=10, shuffle=True, random_state=42)\n",
    "\n",
    "score = cross_val_score(multinomial_nb, X_train, y_train, cv=skf).mean()\n",
    "\n",
    "print(f\"Cross-validation accuracy on 10 folds: {round(score, 2)}\")"
   ]
  },
  {
   "cell_type": "code",
   "execution_count": 153,
   "id": "2b05e1ea-467a-4f21-876e-1b773891613c",
   "metadata": {},
   "outputs": [
    {
     "data": {
      "text/html": [
       "<style>#sk-container-id-2 {\n",
       "  /* Definition of color scheme common for light and dark mode */\n",
       "  --sklearn-color-text: black;\n",
       "  --sklearn-color-line: gray;\n",
       "  /* Definition of color scheme for unfitted estimators */\n",
       "  --sklearn-color-unfitted-level-0: #fff5e6;\n",
       "  --sklearn-color-unfitted-level-1: #f6e4d2;\n",
       "  --sklearn-color-unfitted-level-2: #ffe0b3;\n",
       "  --sklearn-color-unfitted-level-3: chocolate;\n",
       "  /* Definition of color scheme for fitted estimators */\n",
       "  --sklearn-color-fitted-level-0: #f0f8ff;\n",
       "  --sklearn-color-fitted-level-1: #d4ebff;\n",
       "  --sklearn-color-fitted-level-2: #b3dbfd;\n",
       "  --sklearn-color-fitted-level-3: cornflowerblue;\n",
       "\n",
       "  /* Specific color for light theme */\n",
       "  --sklearn-color-text-on-default-background: var(--sg-text-color, var(--theme-code-foreground, var(--jp-content-font-color1, black)));\n",
       "  --sklearn-color-background: var(--sg-background-color, var(--theme-background, var(--jp-layout-color0, white)));\n",
       "  --sklearn-color-border-box: var(--sg-text-color, var(--theme-code-foreground, var(--jp-content-font-color1, black)));\n",
       "  --sklearn-color-icon: #696969;\n",
       "\n",
       "  @media (prefers-color-scheme: dark) {\n",
       "    /* Redefinition of color scheme for dark theme */\n",
       "    --sklearn-color-text-on-default-background: var(--sg-text-color, var(--theme-code-foreground, var(--jp-content-font-color1, white)));\n",
       "    --sklearn-color-background: var(--sg-background-color, var(--theme-background, var(--jp-layout-color0, #111)));\n",
       "    --sklearn-color-border-box: var(--sg-text-color, var(--theme-code-foreground, var(--jp-content-font-color1, white)));\n",
       "    --sklearn-color-icon: #878787;\n",
       "  }\n",
       "}\n",
       "\n",
       "#sk-container-id-2 {\n",
       "  color: var(--sklearn-color-text);\n",
       "}\n",
       "\n",
       "#sk-container-id-2 pre {\n",
       "  padding: 0;\n",
       "}\n",
       "\n",
       "#sk-container-id-2 input.sk-hidden--visually {\n",
       "  border: 0;\n",
       "  clip: rect(1px 1px 1px 1px);\n",
       "  clip: rect(1px, 1px, 1px, 1px);\n",
       "  height: 1px;\n",
       "  margin: -1px;\n",
       "  overflow: hidden;\n",
       "  padding: 0;\n",
       "  position: absolute;\n",
       "  width: 1px;\n",
       "}\n",
       "\n",
       "#sk-container-id-2 div.sk-dashed-wrapped {\n",
       "  border: 1px dashed var(--sklearn-color-line);\n",
       "  margin: 0 0.4em 0.5em 0.4em;\n",
       "  box-sizing: border-box;\n",
       "  padding-bottom: 0.4em;\n",
       "  background-color: var(--sklearn-color-background);\n",
       "}\n",
       "\n",
       "#sk-container-id-2 div.sk-container {\n",
       "  /* jupyter's `normalize.less` sets `[hidden] { display: none; }`\n",
       "     but bootstrap.min.css set `[hidden] { display: none !important; }`\n",
       "     so we also need the `!important` here to be able to override the\n",
       "     default hidden behavior on the sphinx rendered scikit-learn.org.\n",
       "     See: https://github.com/scikit-learn/scikit-learn/issues/21755 */\n",
       "  display: inline-block !important;\n",
       "  position: relative;\n",
       "}\n",
       "\n",
       "#sk-container-id-2 div.sk-text-repr-fallback {\n",
       "  display: none;\n",
       "}\n",
       "\n",
       "div.sk-parallel-item,\n",
       "div.sk-serial,\n",
       "div.sk-item {\n",
       "  /* draw centered vertical line to link estimators */\n",
       "  background-image: linear-gradient(var(--sklearn-color-text-on-default-background), var(--sklearn-color-text-on-default-background));\n",
       "  background-size: 2px 100%;\n",
       "  background-repeat: no-repeat;\n",
       "  background-position: center center;\n",
       "}\n",
       "\n",
       "/* Parallel-specific style estimator block */\n",
       "\n",
       "#sk-container-id-2 div.sk-parallel-item::after {\n",
       "  content: \"\";\n",
       "  width: 100%;\n",
       "  border-bottom: 2px solid var(--sklearn-color-text-on-default-background);\n",
       "  flex-grow: 1;\n",
       "}\n",
       "\n",
       "#sk-container-id-2 div.sk-parallel {\n",
       "  display: flex;\n",
       "  align-items: stretch;\n",
       "  justify-content: center;\n",
       "  background-color: var(--sklearn-color-background);\n",
       "  position: relative;\n",
       "}\n",
       "\n",
       "#sk-container-id-2 div.sk-parallel-item {\n",
       "  display: flex;\n",
       "  flex-direction: column;\n",
       "}\n",
       "\n",
       "#sk-container-id-2 div.sk-parallel-item:first-child::after {\n",
       "  align-self: flex-end;\n",
       "  width: 50%;\n",
       "}\n",
       "\n",
       "#sk-container-id-2 div.sk-parallel-item:last-child::after {\n",
       "  align-self: flex-start;\n",
       "  width: 50%;\n",
       "}\n",
       "\n",
       "#sk-container-id-2 div.sk-parallel-item:only-child::after {\n",
       "  width: 0;\n",
       "}\n",
       "\n",
       "/* Serial-specific style estimator block */\n",
       "\n",
       "#sk-container-id-2 div.sk-serial {\n",
       "  display: flex;\n",
       "  flex-direction: column;\n",
       "  align-items: center;\n",
       "  background-color: var(--sklearn-color-background);\n",
       "  padding-right: 1em;\n",
       "  padding-left: 1em;\n",
       "}\n",
       "\n",
       "\n",
       "/* Toggleable style: style used for estimator/Pipeline/ColumnTransformer box that is\n",
       "clickable and can be expanded/collapsed.\n",
       "- Pipeline and ColumnTransformer use this feature and define the default style\n",
       "- Estimators will overwrite some part of the style using the `sk-estimator` class\n",
       "*/\n",
       "\n",
       "/* Pipeline and ColumnTransformer style (default) */\n",
       "\n",
       "#sk-container-id-2 div.sk-toggleable {\n",
       "  /* Default theme specific background. It is overwritten whether we have a\n",
       "  specific estimator or a Pipeline/ColumnTransformer */\n",
       "  background-color: var(--sklearn-color-background);\n",
       "}\n",
       "\n",
       "/* Toggleable label */\n",
       "#sk-container-id-2 label.sk-toggleable__label {\n",
       "  cursor: pointer;\n",
       "  display: block;\n",
       "  width: 100%;\n",
       "  margin-bottom: 0;\n",
       "  padding: 0.5em;\n",
       "  box-sizing: border-box;\n",
       "  text-align: center;\n",
       "}\n",
       "\n",
       "#sk-container-id-2 label.sk-toggleable__label-arrow:before {\n",
       "  /* Arrow on the left of the label */\n",
       "  content: \"▸\";\n",
       "  float: left;\n",
       "  margin-right: 0.25em;\n",
       "  color: var(--sklearn-color-icon);\n",
       "}\n",
       "\n",
       "#sk-container-id-2 label.sk-toggleable__label-arrow:hover:before {\n",
       "  color: var(--sklearn-color-text);\n",
       "}\n",
       "\n",
       "/* Toggleable content - dropdown */\n",
       "\n",
       "#sk-container-id-2 div.sk-toggleable__content {\n",
       "  max-height: 0;\n",
       "  max-width: 0;\n",
       "  overflow: hidden;\n",
       "  text-align: left;\n",
       "  /* unfitted */\n",
       "  background-color: var(--sklearn-color-unfitted-level-0);\n",
       "}\n",
       "\n",
       "#sk-container-id-2 div.sk-toggleable__content.fitted {\n",
       "  /* fitted */\n",
       "  background-color: var(--sklearn-color-fitted-level-0);\n",
       "}\n",
       "\n",
       "#sk-container-id-2 div.sk-toggleable__content pre {\n",
       "  margin: 0.2em;\n",
       "  border-radius: 0.25em;\n",
       "  color: var(--sklearn-color-text);\n",
       "  /* unfitted */\n",
       "  background-color: var(--sklearn-color-unfitted-level-0);\n",
       "}\n",
       "\n",
       "#sk-container-id-2 div.sk-toggleable__content.fitted pre {\n",
       "  /* unfitted */\n",
       "  background-color: var(--sklearn-color-fitted-level-0);\n",
       "}\n",
       "\n",
       "#sk-container-id-2 input.sk-toggleable__control:checked~div.sk-toggleable__content {\n",
       "  /* Expand drop-down */\n",
       "  max-height: 200px;\n",
       "  max-width: 100%;\n",
       "  overflow: auto;\n",
       "}\n",
       "\n",
       "#sk-container-id-2 input.sk-toggleable__control:checked~label.sk-toggleable__label-arrow:before {\n",
       "  content: \"▾\";\n",
       "}\n",
       "\n",
       "/* Pipeline/ColumnTransformer-specific style */\n",
       "\n",
       "#sk-container-id-2 div.sk-label input.sk-toggleable__control:checked~label.sk-toggleable__label {\n",
       "  color: var(--sklearn-color-text);\n",
       "  background-color: var(--sklearn-color-unfitted-level-2);\n",
       "}\n",
       "\n",
       "#sk-container-id-2 div.sk-label.fitted input.sk-toggleable__control:checked~label.sk-toggleable__label {\n",
       "  background-color: var(--sklearn-color-fitted-level-2);\n",
       "}\n",
       "\n",
       "/* Estimator-specific style */\n",
       "\n",
       "/* Colorize estimator box */\n",
       "#sk-container-id-2 div.sk-estimator input.sk-toggleable__control:checked~label.sk-toggleable__label {\n",
       "  /* unfitted */\n",
       "  background-color: var(--sklearn-color-unfitted-level-2);\n",
       "}\n",
       "\n",
       "#sk-container-id-2 div.sk-estimator.fitted input.sk-toggleable__control:checked~label.sk-toggleable__label {\n",
       "  /* fitted */\n",
       "  background-color: var(--sklearn-color-fitted-level-2);\n",
       "}\n",
       "\n",
       "#sk-container-id-2 div.sk-label label.sk-toggleable__label,\n",
       "#sk-container-id-2 div.sk-label label {\n",
       "  /* The background is the default theme color */\n",
       "  color: var(--sklearn-color-text-on-default-background);\n",
       "}\n",
       "\n",
       "/* On hover, darken the color of the background */\n",
       "#sk-container-id-2 div.sk-label:hover label.sk-toggleable__label {\n",
       "  color: var(--sklearn-color-text);\n",
       "  background-color: var(--sklearn-color-unfitted-level-2);\n",
       "}\n",
       "\n",
       "/* Label box, darken color on hover, fitted */\n",
       "#sk-container-id-2 div.sk-label.fitted:hover label.sk-toggleable__label.fitted {\n",
       "  color: var(--sklearn-color-text);\n",
       "  background-color: var(--sklearn-color-fitted-level-2);\n",
       "}\n",
       "\n",
       "/* Estimator label */\n",
       "\n",
       "#sk-container-id-2 div.sk-label label {\n",
       "  font-family: monospace;\n",
       "  font-weight: bold;\n",
       "  display: inline-block;\n",
       "  line-height: 1.2em;\n",
       "}\n",
       "\n",
       "#sk-container-id-2 div.sk-label-container {\n",
       "  text-align: center;\n",
       "}\n",
       "\n",
       "/* Estimator-specific */\n",
       "#sk-container-id-2 div.sk-estimator {\n",
       "  font-family: monospace;\n",
       "  border: 1px dotted var(--sklearn-color-border-box);\n",
       "  border-radius: 0.25em;\n",
       "  box-sizing: border-box;\n",
       "  margin-bottom: 0.5em;\n",
       "  /* unfitted */\n",
       "  background-color: var(--sklearn-color-unfitted-level-0);\n",
       "}\n",
       "\n",
       "#sk-container-id-2 div.sk-estimator.fitted {\n",
       "  /* fitted */\n",
       "  background-color: var(--sklearn-color-fitted-level-0);\n",
       "}\n",
       "\n",
       "/* on hover */\n",
       "#sk-container-id-2 div.sk-estimator:hover {\n",
       "  /* unfitted */\n",
       "  background-color: var(--sklearn-color-unfitted-level-2);\n",
       "}\n",
       "\n",
       "#sk-container-id-2 div.sk-estimator.fitted:hover {\n",
       "  /* fitted */\n",
       "  background-color: var(--sklearn-color-fitted-level-2);\n",
       "}\n",
       "\n",
       "/* Specification for estimator info (e.g. \"i\" and \"?\") */\n",
       "\n",
       "/* Common style for \"i\" and \"?\" */\n",
       "\n",
       ".sk-estimator-doc-link,\n",
       "a:link.sk-estimator-doc-link,\n",
       "a:visited.sk-estimator-doc-link {\n",
       "  float: right;\n",
       "  font-size: smaller;\n",
       "  line-height: 1em;\n",
       "  font-family: monospace;\n",
       "  background-color: var(--sklearn-color-background);\n",
       "  border-radius: 1em;\n",
       "  height: 1em;\n",
       "  width: 1em;\n",
       "  text-decoration: none !important;\n",
       "  margin-left: 1ex;\n",
       "  /* unfitted */\n",
       "  border: var(--sklearn-color-unfitted-level-1) 1pt solid;\n",
       "  color: var(--sklearn-color-unfitted-level-1);\n",
       "}\n",
       "\n",
       ".sk-estimator-doc-link.fitted,\n",
       "a:link.sk-estimator-doc-link.fitted,\n",
       "a:visited.sk-estimator-doc-link.fitted {\n",
       "  /* fitted */\n",
       "  border: var(--sklearn-color-fitted-level-1) 1pt solid;\n",
       "  color: var(--sklearn-color-fitted-level-1);\n",
       "}\n",
       "\n",
       "/* On hover */\n",
       "div.sk-estimator:hover .sk-estimator-doc-link:hover,\n",
       ".sk-estimator-doc-link:hover,\n",
       "div.sk-label-container:hover .sk-estimator-doc-link:hover,\n",
       ".sk-estimator-doc-link:hover {\n",
       "  /* unfitted */\n",
       "  background-color: var(--sklearn-color-unfitted-level-3);\n",
       "  color: var(--sklearn-color-background);\n",
       "  text-decoration: none;\n",
       "}\n",
       "\n",
       "div.sk-estimator.fitted:hover .sk-estimator-doc-link.fitted:hover,\n",
       ".sk-estimator-doc-link.fitted:hover,\n",
       "div.sk-label-container:hover .sk-estimator-doc-link.fitted:hover,\n",
       ".sk-estimator-doc-link.fitted:hover {\n",
       "  /* fitted */\n",
       "  background-color: var(--sklearn-color-fitted-level-3);\n",
       "  color: var(--sklearn-color-background);\n",
       "  text-decoration: none;\n",
       "}\n",
       "\n",
       "/* Span, style for the box shown on hovering the info icon */\n",
       ".sk-estimator-doc-link span {\n",
       "  display: none;\n",
       "  z-index: 9999;\n",
       "  position: relative;\n",
       "  font-weight: normal;\n",
       "  right: .2ex;\n",
       "  padding: .5ex;\n",
       "  margin: .5ex;\n",
       "  width: min-content;\n",
       "  min-width: 20ex;\n",
       "  max-width: 50ex;\n",
       "  color: var(--sklearn-color-text);\n",
       "  box-shadow: 2pt 2pt 4pt #999;\n",
       "  /* unfitted */\n",
       "  background: var(--sklearn-color-unfitted-level-0);\n",
       "  border: .5pt solid var(--sklearn-color-unfitted-level-3);\n",
       "}\n",
       "\n",
       ".sk-estimator-doc-link.fitted span {\n",
       "  /* fitted */\n",
       "  background: var(--sklearn-color-fitted-level-0);\n",
       "  border: var(--sklearn-color-fitted-level-3);\n",
       "}\n",
       "\n",
       ".sk-estimator-doc-link:hover span {\n",
       "  display: block;\n",
       "}\n",
       "\n",
       "/* \"?\"-specific style due to the `<a>` HTML tag */\n",
       "\n",
       "#sk-container-id-2 a.estimator_doc_link {\n",
       "  float: right;\n",
       "  font-size: 1rem;\n",
       "  line-height: 1em;\n",
       "  font-family: monospace;\n",
       "  background-color: var(--sklearn-color-background);\n",
       "  border-radius: 1rem;\n",
       "  height: 1rem;\n",
       "  width: 1rem;\n",
       "  text-decoration: none;\n",
       "  /* unfitted */\n",
       "  color: var(--sklearn-color-unfitted-level-1);\n",
       "  border: var(--sklearn-color-unfitted-level-1) 1pt solid;\n",
       "}\n",
       "\n",
       "#sk-container-id-2 a.estimator_doc_link.fitted {\n",
       "  /* fitted */\n",
       "  border: var(--sklearn-color-fitted-level-1) 1pt solid;\n",
       "  color: var(--sklearn-color-fitted-level-1);\n",
       "}\n",
       "\n",
       "/* On hover */\n",
       "#sk-container-id-2 a.estimator_doc_link:hover {\n",
       "  /* unfitted */\n",
       "  background-color: var(--sklearn-color-unfitted-level-3);\n",
       "  color: var(--sklearn-color-background);\n",
       "  text-decoration: none;\n",
       "}\n",
       "\n",
       "#sk-container-id-2 a.estimator_doc_link.fitted:hover {\n",
       "  /* fitted */\n",
       "  background-color: var(--sklearn-color-fitted-level-3);\n",
       "}\n",
       "</style><div id=\"sk-container-id-2\" class=\"sk-top-container\"><div class=\"sk-text-repr-fallback\"><pre>MultinomialNB()</pre><b>In a Jupyter environment, please rerun this cell to show the HTML representation or trust the notebook. <br />On GitHub, the HTML representation is unable to render, please try loading this page with nbviewer.org.</b></div><div class=\"sk-container\" hidden><div class=\"sk-item\"><div class=\"sk-estimator fitted sk-toggleable\"><input class=\"sk-toggleable__control sk-hidden--visually\" id=\"sk-estimator-id-2\" type=\"checkbox\" checked><label for=\"sk-estimator-id-2\" class=\"sk-toggleable__label fitted sk-toggleable__label-arrow fitted\">&nbsp;&nbsp;MultinomialNB<a class=\"sk-estimator-doc-link fitted\" rel=\"noreferrer\" target=\"_blank\" href=\"https://scikit-learn.org/1.5/modules/generated/sklearn.naive_bayes.MultinomialNB.html\">?<span>Documentation for MultinomialNB</span></a><span class=\"sk-estimator-doc-link fitted\">i<span>Fitted</span></span></label><div class=\"sk-toggleable__content fitted\"><pre>MultinomialNB()</pre></div> </div></div></div></div>"
      ],
      "text/plain": [
       "MultinomialNB()"
      ]
     },
     "execution_count": 153,
     "metadata": {},
     "output_type": "execute_result"
    }
   ],
   "source": [
    "multinomial_nb.fit(X_train, y_train)"
   ]
  },
  {
   "cell_type": "code",
   "execution_count": 154,
   "id": "26dd9d93-b9ea-4815-967f-941d62a687c0",
   "metadata": {},
   "outputs": [
    {
     "name": "stdout",
     "output_type": "stream",
     "text": [
      "accuracy 0.4815422477440525\n"
     ]
    },
    {
     "name": "stderr",
     "output_type": "stream",
     "text": [
      "/Users/a.villa.massone/miniconda3/envs/frugal-notebooks-env/lib/python3.9/site-packages/sklearn/metrics/_classification.py:1531: UndefinedMetricWarning:\n",
      "\n",
      "Precision is ill-defined and being set to 0.0 in labels with no predicted samples. Use `zero_division` parameter to control this behavior.\n",
      "\n"
     ]
    },
    {
     "data": {
      "text/html": [
       "<div>\n",
       "<style scoped>\n",
       "    .dataframe tbody tr th:only-of-type {\n",
       "        vertical-align: middle;\n",
       "    }\n",
       "\n",
       "    .dataframe tbody tr th {\n",
       "        vertical-align: top;\n",
       "    }\n",
       "\n",
       "    .dataframe thead th {\n",
       "        text-align: right;\n",
       "    }\n",
       "</style>\n",
       "<table border=\"1\" class=\"dataframe\">\n",
       "  <thead>\n",
       "    <tr style=\"text-align: right;\">\n",
       "      <th></th>\n",
       "      <th>f1</th>\n",
       "      <th>precision</th>\n",
       "      <th>recall</th>\n",
       "    </tr>\n",
       "  </thead>\n",
       "  <tbody>\n",
       "    <tr>\n",
       "      <th>0</th>\n",
       "      <td>0.529825</td>\n",
       "      <td>0.370098</td>\n",
       "      <td>0.932099</td>\n",
       "    </tr>\n",
       "    <tr>\n",
       "      <th>1</th>\n",
       "      <td>0.658635</td>\n",
       "      <td>0.811881</td>\n",
       "      <td>0.554054</td>\n",
       "    </tr>\n",
       "    <tr>\n",
       "      <th>2</th>\n",
       "      <td>0.575758</td>\n",
       "      <td>0.617886</td>\n",
       "      <td>0.539007</td>\n",
       "    </tr>\n",
       "    <tr>\n",
       "      <th>3</th>\n",
       "      <td>0.166667</td>\n",
       "      <td>1.000000</td>\n",
       "      <td>0.090909</td>\n",
       "    </tr>\n",
       "    <tr>\n",
       "      <th>4</th>\n",
       "      <td>0.330097</td>\n",
       "      <td>0.666667</td>\n",
       "      <td>0.219355</td>\n",
       "    </tr>\n",
       "    <tr>\n",
       "      <th>5</th>\n",
       "      <td>0.530769</td>\n",
       "      <td>0.690000</td>\n",
       "      <td>0.431250</td>\n",
       "    </tr>\n",
       "    <tr>\n",
       "      <th>6</th>\n",
       "      <td>0.191011</td>\n",
       "      <td>0.809524</td>\n",
       "      <td>0.108280</td>\n",
       "    </tr>\n",
       "    <tr>\n",
       "      <th>7</th>\n",
       "      <td>0.000000</td>\n",
       "      <td>0.000000</td>\n",
       "      <td>0.000000</td>\n",
       "    </tr>\n",
       "  </tbody>\n",
       "</table>\n",
       "</div>"
      ],
      "text/plain": [
       "         f1  precision    recall\n",
       "0  0.529825   0.370098  0.932099\n",
       "1  0.658635   0.811881  0.554054\n",
       "2  0.575758   0.617886  0.539007\n",
       "3  0.166667   1.000000  0.090909\n",
       "4  0.330097   0.666667  0.219355\n",
       "5  0.530769   0.690000  0.431250\n",
       "6  0.191011   0.809524  0.108280\n",
       "7  0.000000   0.000000  0.000000"
      ]
     },
     "execution_count": 154,
     "metadata": {},
     "output_type": "execute_result"
    }
   ],
   "source": [
    "from sklearn.metrics import accuracy_score     # tp + tn / all  : maximize t\n",
    "from sklearn.metrics import f1_score           # harmonic mean of the precision and recall\n",
    "from sklearn.metrics import precision_score    # tp / (tp + fp) : minimize fp\n",
    "from sklearn.metrics import recall_score       # tp / (tp + fn) : maximize tp\n",
    "\n",
    "\n",
    "y_true = y_test\n",
    "y_pred = multinomial_nb.predict(X_test)\n",
    "\n",
    "scores = {}\n",
    "scores['f1'] = f1_score(y_true, y_pred, average=None)\n",
    "scores['precision'] = precision_score(y_true, y_pred, average=None)\n",
    "scores['recall'] = recall_score(y_true, y_pred, average=None)\n",
    "\n",
    "accuracy = accuracy_score(y_true, y_pred)\n",
    "\n",
    "df_scores = pd.DataFrame(scores)\n",
    "print('accuracy', accuracy)\n",
    "df_scores"
   ]
  },
  {
   "cell_type": "code",
   "execution_count": 155,
   "id": "fb40093b-382b-44b2-bd5a-ed8a7d303f72",
   "metadata": {},
   "outputs": [
    {
     "data": {
      "image/png": "[encoded data removed]",
      "text/plain": [
       "<Figure size 800x500 with 1 Axes>"
      ]
     },
     "metadata": {},
     "output_type": "display_data"
    },
    {
     "name": "stdout",
     "output_type": "stream",
     "text": [
      "         f1  precision    recall\n",
      "0  0.529825   0.370098  0.932099\n",
      "1  0.658635   0.811881  0.554054\n",
      "2  0.575758   0.617886  0.539007\n",
      "3  0.166667   1.000000  0.090909\n",
      "4  0.330097   0.666667  0.219355\n",
      "5  0.530769   0.690000  0.431250\n",
      "6  0.191011   0.809524  0.108280\n",
      "7  0.000000   0.000000  0.000000\n"
     ]
    }
   ],
   "source": [
    "import numpy as np\n",
    "import matplotlib.pyplot as plt\n",
    "\n",
    "categories = np.arange(len(scores['f1']))\n",
    "\n",
    "plt.figure(figsize=(8, 5))\n",
    "\n",
    "plt.plot(categories, scores['f1'], marker='o', label='F1 Score')\n",
    "plt.plot(categories, scores['precision'], marker='s', label='Precision')\n",
    "plt.plot(categories, scores['recall'], marker='^', label='Recall')\n",
    "\n",
    "plt.axhline(y=accuracy, color='r', linestyle='--', label=f'Accuracy ({accuracy:.2f})')\n",
    "\n",
    "plt.xlabel(\"Category\")\n",
    "plt.ylabel(\"Score\")\n",
    "plt.title(\"Evaluation Metrics per Category\")\n",
    "plt.xticks(categories, le.classes_, rotation=45, ha=\"right\")  # Align category names properly\n",
    "plt.legend()\n",
    "plt.grid(True)\n",
    "plt.show()\n",
    "print(df_scores)\n"
   ]
  },
  {
   "cell_type": "markdown",
   "id": "76773fe9-93af-4fa9-bd4b-904118f56e29",
   "metadata": {},
   "source": []
  },
  {
   "cell_type": "markdown",
   "id": "088166b5-c630-4fae-896c-1420310b01c3",
   "metadata": {},
   "source": [
    "## DL Baseline : LSTM"
   ]
  },
  {
   "cell_type": "code",
   "execution_count": null,
   "id": "c2ecd926-0a84-4dd8-a11e-10ac715988f1",
   "metadata": {},
   "outputs": [],
   "source": []
  },
  {
   "cell_type": "code",
   "execution_count": null,
   "id": "a117b5a9-cefa-4062-abc8-ee212b1b07d3",
   "metadata": {},
   "outputs": [],
   "source": []
  },
  {
   "cell_type": "markdown",
   "id": "7627d2c5-397f-40e1-bf74-f1181cc149bf",
   "metadata": {},
   "source": [
    "## LLM Baseline: test with Qwen/Qwen2.5-7B"
   ]
  },
  {
   "cell_type": "code",
   "execution_count": 158,
   "id": "ec9adb5c-5de2-4c3f-bf06-8f7471b342c7",
   "metadata": {},
   "outputs": [],
   "source": [
    "from transformers import AutoModelForCausalLM, AutoTokenizer\n",
    "import os"
   ]
  },
  {
   "cell_type": "code",
   "execution_count": 159,
   "id": "412e4c5f-e099-4102-b07f-f2fd17391a32",
   "metadata": {},
   "outputs": [],
   "source": [
    "model_name = \"Qwen/Qwen2.5-0.5B\"\n",
    "# \"Qwen/Qwen2.5-7B\"\n",
    "# \"Qwen/Qwen2.5-0.5B\"\n",
    "# \"Qwen/Qwen2.5-1.5B\""
   ]
  },
  {
   "cell_type": "code",
   "execution_count": 160,
   "id": "6c733db2-486c-480d-bba9-485427449422",
   "metadata": {},
   "outputs": [],
   "source": [
    "tokenizer = AutoTokenizer.from_pretrained(model_name)"
   ]
  },
  {
   "cell_type": "code",
   "execution_count": 161,
   "id": "e3416aa7-9dc4-4ce6-a96a-3ce98fa9a07f",
   "metadata": {},
   "outputs": [],
   "source": [
    "model = AutoModelForCausalLM.from_pretrained(model_name)"
   ]
  },
  {
   "cell_type": "code",
   "execution_count": 162,
   "id": "3a77072b-6dd8-4c7a-9435-1c80ef8c44c3",
   "metadata": {},
   "outputs": [
    {
     "name": "stdout",
     "output_type": "stream",
     "text": [
      "961M\t/Users/a.villa.massone/.cache/huggingface/hub/models--Qwen--Qwen2.5-0.5B\n"
     ]
    }
   ],
   "source": [
    "!du -sh ~/.cache/huggingface/hub/models--Qwen--Qwen2.5-0.5B"
   ]
  },
  {
   "cell_type": "code",
   "execution_count": 163,
   "id": "3112d16c-a37f-4616-a59e-9ded481a90d4",
   "metadata": {},
   "outputs": [],
   "source": [
    "def generate_response(prompt):\n",
    "    inputs = tokenizer(prompt, return_tensors=\"pt\")\n",
    "    outputs = model.generate(**inputs, max_length=150)\n",
    "    response = tokenizer.decode(outputs[0], skip_special_tokens=True)\n",
    "    return response"
   ]
  },
  {
   "cell_type": "code",
   "execution_count": 164,
   "id": "b18f3e9c-2793-41df-934d-7fcbcbea82b7",
   "metadata": {},
   "outputs": [],
   "source": [
    "prompt = \"\"\"\n",
    "Which category is this sentence ?\n",
    "\\n\\n\n",
    "Respond only with the index of the category\n",
    "0_not_relevant\n",
    "1_not_happening\n",
    "2_not_human\n",
    "3_not_bad\n",
    "4_solutions_harmful_unnecessary\n",
    "5_science_unreliable\n",
    "6_proponents_biased\n",
    "7_fossil_fuels_needed\n",
    "\\n\\n\n",
    "sentence :\n",
    "For most of the Holocene (last 10k years), sea level has been rising at a rate of around 2mm per year. Climate change has little to do with it - it's simply a long term inevitability which will end when the current interglacial returns to a glacial period (which we will regret). \n",
    "\"\"\""
   ]
  },
  {
   "cell_type": "code",
   "execution_count": 165,
   "id": "4168f1b4-8052-4abd-958e-e5d1d95c608f",
   "metadata": {},
   "outputs": [
    {
     "name": "stderr",
     "output_type": "stream",
     "text": [
      "Setting `pad_token_id` to `eos_token_id`:None for open-end generation.\n",
      "Both `max_new_tokens` (=2048) and `max_length`(=150) seem to have been set. `max_new_tokens` will take precedence. Please refer to the documentation for more information. (https://huggingface.co/docs/transformers/main/en/main_classes/text_generation)\n",
      "Starting from v4.46, the `logits` model output will have the same type as the model (except at train time, where it will always be FP32)\n"
     ]
    },
    {
     "name": "stdout",
     "output_type": "stream",
     "text": [
      "CPU times: user 1h 16min 35s, sys: 13min 49s, total: 1h 30min 25s\n",
      "Wall time: 12min 18s\n"
     ]
    }
   ],
   "source": [
    "%%time\n",
    "response = generate_response(prompt)"
   ]
  },
  {
   "cell_type": "code",
   "execution_count": 166,
   "id": "014263a7-ddb7-44ec-916a-552645cbfd4d",
   "metadata": {},
   "outputs": [
    {
     "name": "stdout",
     "output_type": "stream",
     "text": [
      "Prompt: \n",
      "Which category is this sentence ?\n",
      "\n",
      "\n",
      "\n",
      "Respond only with the index of the category\n",
      "0_not_relevant\n",
      "1_not_happening\n",
      "2_not_human\n",
      "3_not_bad\n",
      "4_solutions_harmful_unnecessary\n",
      "5_science_unreliable\n",
      "6_proponents_biased\n",
      "7_fossil_fuels_needed\n",
      "\n",
      "\n",
      "\n",
      "sentence :\n",
      "For most of the Holocene (last 10k years), sea level has been rising at a rate of around 2mm per year. Climate change has little to do with it - it's simply a long term inevitability which will end when the current interglacial returns to a glacial period (which we will regret). \n",
      "\n",
      "Response: \n",
      "Which category is this sentence ?\n",
      "\n",
      "\n",
      "\n",
      "Respond only with the index of the category\n",
      "0_not_relevant\n",
      "1_not_happening\n",
      "2_not_human\n",
      "3_not_bad\n",
      "4_solutions_harmful_unnecessary\n",
      "5_science_unreliable\n",
      "6_proponents_biased\n",
      "7_fossil_fuels_needed\n",
      "\n",
      "\n",
      "\n",
      "sentence :\n",
      "For most of the Holocene (last 10k years), sea level has been rising at a rate of around 2mm per year. Climate change has little to do with it - it's simply a long term inevitability which will end when the current interglacial returns to a glacial period (which we will regret). \n",
      "For the last 10k years, sea level has been rising at a rate of around 2mm per year. Climate change has little to do with it - it's simply a long term inevitability which will end when the current interglacial returns to a glacial period (which we will regret). \n",
      "For most of the Holocene (last 10k years), sea level has been rising at a rate of around 2mm per year. Climate change has little to do with it - it's simply a long term inevitability which will end when the current interglacial returns to a glacial period (which we will regret). \n",
      "For most of the Holocene (last 10k years), sea level has been rising at a rate of around 2mm per year. Climate change has little to do with it - it's simply a long term inevitability which will end when the current interglacial returns to a glacial period (which we will regret). \n",
      "For most of the Holocene (last 10k years), sea level has been rising at a rate of around 2mm per year. Climate change has little to do with it - it's simply a long term inevitability which will end when the current interglacial returns to a glacial period (which we will regret). \n",
      "For most of the Holocene (last 10k years), sea level has been rising at a rate of around 2mm per year. Climate change has little to do with it - it's simply a long term inevitability which will end when the current interglacial returns to a glacial period (which we will regret). \n",
      "For most of the Holocene (last 10k years), sea level has been rising at a rate of around 2mm per year. Climate change has little to do with it - it's simply a long term inevitability which will end when the current interglacial returns to a glacial period (which we will regret). \n",
      "For most of the Holocene (last 10k years), sea level has been rising at a rate of around 2mm per year. Climate change has little to do with it - it's simply a long term inevitability which will end when the current interglacial returns to a glacial period (which we will regret). \n",
      "For most of the Holocene (last 10k years), sea level has been rising at a rate of around 2mm per year. Climate change has little to do with it - it's simply a long term inevitability which will end when the current interglacial returns to a glacial period (which we will regret). \n",
      "For most of the Holocene (last 10k years), sea level has been rising at a rate of around 2mm per year. Climate change has little to do with it - it's simply a long term inevitability which will end when the current interglacial returns to a glacial period (which we will regret). \n",
      "For most of the Holocene (last 10k years), sea level has been rising at a rate of around 2mm per year. Climate change has little to do with it - it's simply a long term inevitability which will end when the current interglacial returns to a glacial period (which we will regret). \n",
      "For most of the Holocene (last 10k years), sea level has been rising at a rate of around 2mm per year. Climate change has little to do with it - it's simply a long term inevitability which will end when the current interglacial returns to a glacial period (which we will regret). \n",
      "For most of the Holocene (last 10k years), sea level has been rising at a rate of around 2mm per year. Climate change has little to do with it - it's simply a long term inevitability which will end when the current interglacial returns to a glacial period (which we will regret). \n",
      "For most of the Holocene (last 10k years), sea level has been rising at a rate of around 2mm per year. Climate change has little to do with it - it's simply a long term inevitability which will end when the current interglacial returns to a glacial period (which we will regret). \n",
      "For most of the Holocene (last 10k years), sea level has been rising at a rate of around 2mm per year. Climate change has little to do with it - it's simply a long term inevitability which will end when the current interglacial returns to a glacial period (which we will regret). \n",
      "For most of the Holocene (last 10k years), sea level has been rising at a rate of around 2mm per year. Climate change has little to do with it - it's simply a long term inevitability which will end when the current interglacial returns to a glacial period (which we will regret). \n",
      "For most of the Holocene (last 10k years), sea level has been rising at a rate of around 2mm per year. Climate change has little to do with it - it's simply a long term inevitability which will end when the current interglacial returns to a glacial period (which we will regret). \n",
      "For most of the Holocene (last 10k years), sea level has been rising at a rate of around 2mm per year. Climate change has little to do with it - it's simply a long term inevitability which will end when the current interglacial returns to a glacial period (which we will regret). \n",
      "For most of the Holocene (last 10k years), sea level has been rising at a rate of around 2mm per year. Climate change has little to do with it - it's simply a long term inevitability which will end when the current interglacial returns to a glacial period (which we will regret). \n",
      "For most of the Holocene (last 10k years), sea level has been rising at a rate of around 2mm per year. Climate change has little to do with it - it's simply a long term inevitability which will end when the current interglacial returns to a glacial period (which we will regret). \n",
      "For most of the Holocene (last 10k years), sea level has been rising at a rate of around 2mm per year. Climate change has little to do with it - it's simply a long term inevitability which will end when the current interglacial returns to a glacial period (which we will regret). \n",
      "For most of the Holocene (last 10k years), sea level has been rising at a rate of around 2mm per year. Climate change has little to do with it - it's simply a long term inevitability which will end when the current interglacial returns to a glacial period (which we will regret). \n",
      "For most of the Holocene (last 10k years), sea level has been rising at a rate of around 2mm per year. Climate change has little to do with it - it's simply a long term inevitability which will end when the current interglacial returns to a glacial period (which we will regret). \n",
      "For most of the Holocene (last 10k years), sea level has been rising at a rate of around 2mm per year. Climate change has little to do with it - it's simply a long term inevitability which will end when the current interglacial returns to a glacial period (which we will regret). \n",
      "For most of the Holocene (last 10k years), sea level has been rising at a rate of around 2mm per year. Climate change has little to do with it - it's simply a long term inevitability which will end when the current interglacial returns to a glacial period (which we will regret). \n",
      "For most of the Holocene (last 10k years), sea level has been rising at a rate of around 2mm per year. Climate change has little to do with it - it's simply a long term inevitability which will end when the current interglacial returns to a glacial period (which we will regret). \n",
      "For most of the Holocene (last 10k years), sea level has been rising at a rate of around 2mm per year. Climate change has little to do with it - it's simply a long term inevitability which will end when the current interglacial returns to a glacial period (which we will regret). \n",
      "For most of the Holocene (last 10k years), sea level has been rising at a rate of around 2mm per year. Climate change has little to do with it - it's simply a long term inevitability which will end when the current interglacial returns to a glacial period (which we will regret). \n",
      "For most of the Holocene (last 10k years), sea level has been rising at a rate of around 2mm per year. Climate change has little to do with it - it's simply a long term inevitability which will end when the current interglacial returns to a glacial period (which we will regret). \n",
      "For most of the Holocene (last 10k years), sea level has been rising at a rate of around 2mm per year. Climate change has little to do with it - it's simply a long term inevitability which will end when the current interglacial returns to a glacial period (which we will regret). \n",
      "For most of the Holocene (last 10k years), sea level has been rising at a rate of\n"
     ]
    }
   ],
   "source": [
    "print(f\"Prompt: {prompt}\")\n",
    "print(f\"Response: {response}\")"
   ]
  },
  {
   "cell_type": "code",
   "execution_count": null,
   "id": "f184a578-86c4-47f7-86a4-31183c544bf0",
   "metadata": {},
   "outputs": [],
   "source": []
  },
  {
   "cell_type": "code",
   "execution_count": null,
   "id": "9b0544a2-6bd3-4196-ae88-48c9160ba8cc",
   "metadata": {},
   "outputs": [],
   "source": []
  }
 ],
 "metadata": {
  "kernelspec": {
   "display_name": "Python 3 (ipykernel)",
   "language": "python",
   "name": "python3"
  },
  "language_info": {
   "codemirror_mode": {
    "name": "ipython",
    "version": 3
   },
   "file_extension": ".py",
   "mimetype": "text/x-python",
   "name": "python",
   "nbconvert_exporter": "python",
   "pygments_lexer": "ipython3",
   "version": "3.9.21"
  }
 },
 "nbformat": 4,
 "nbformat_minor": 5
}

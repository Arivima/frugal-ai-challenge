{
 "cells": [
  {
   "cell_type": "markdown",
   "id": "c6a5dade-b369-4b4a-aa62-c4903fc566eb",
   "metadata": {},
   "source": [
    "**Before starting ...**"
   ]
  },
  {
   "cell_type": "markdown",
   "id": "ac9d3e0c-ee7e-49e0-8a7f-49510268baa5",
   "metadata": {},
   "source": [
    "Checking we are using frugal-notebooks-env conda environment"
   ]
  },
  {
   "cell_type": "code",
   "execution_count": 1,
   "id": "ecb9e1f2-1013-48b5-9b08-2b8ccb65b3f6",
   "metadata": {},
   "outputs": [
    {
     "name": "stdout",
     "output_type": "stream",
     "text": [
      "/Users/a.villa.massone/miniconda3/envs/frugal-notebooks-env/bin/python\n"
     ]
    }
   ],
   "source": [
    "!which python"
   ]
  },
  {
   "cell_type": "markdown",
   "id": "49ec74cc-50ae-41e2-9c2e-7096d05d2e26",
   "metadata": {},
   "source": [
    "Checking the python version is 3.9 (compatibility with frugal AI codebase)"
   ]
  },
  {
   "cell_type": "code",
   "execution_count": 2,
   "id": "43c17006-1494-4255-a8b4-58a66fb137f2",
   "metadata": {},
   "outputs": [
    {
     "name": "stdout",
     "output_type": "stream",
     "text": [
      "Python 3.9.21\n"
     ]
    }
   ],
   "source": [
    "!python --version"
   ]
  },
  {
   "cell_type": "markdown",
   "id": "19951a5b-cd29-4154-8ca5-12e41c8dec88",
   "metadata": {},
   "source": [
    "Checking the pytorch version is > 1.12+ (compatibility with MPS)"
   ]
  },
  {
   "cell_type": "code",
   "execution_count": 3,
   "id": "020ae9c3-5d4d-4568-ade5-6e3e3015394c",
   "metadata": {},
   "outputs": [
    {
     "name": "stdout",
     "output_type": "stream",
     "text": [
      "2.5.1.post201\n"
     ]
    }
   ],
   "source": [
    "import torch\n",
    "print(torch.__version__)"
   ]
  },
  {
   "cell_type": "markdown",
   "id": "51276a7e-dcd6-4121-ad58-912b942acb3e",
   "metadata": {},
   "source": [
    "# Text classification exploration"
   ]
  },
  {
   "cell_type": "markdown",
   "id": "122658a4-2acc-4b74-b7d7-206f63ed014c",
   "metadata": {},
   "source": [
    "## Let's explore the dataset"
   ]
  },
  {
   "cell_type": "markdown",
   "id": "8ee538d8-fb3a-49da-ad2f-9de1149e774a",
   "metadata": {},
   "source": [
    "**Loading the dataset**"
   ]
  },
  {
   "cell_type": "code",
   "execution_count": 4,
   "id": "d62fb4ee-732d-43d2-87f5-2b701f3a1ef7",
   "metadata": {},
   "outputs": [],
   "source": [
    "import pandas as pd\n",
    "\n",
    "df = pd.read_parquet(\"hf://datasets/QuotaClimat/frugalaichallenge-text-train/train.parquet\")"
   ]
  },
  {
   "cell_type": "code",
   "execution_count": 5,
   "id": "a2d891b9-53c0-4f9f-9574-786f7de004d5",
   "metadata": {},
   "outputs": [
    {
     "data": {
      "text/html": [
       "<div>\n",
       "<style scoped>\n",
       "    .dataframe tbody tr th:only-of-type {\n",
       "        vertical-align: middle;\n",
       "    }\n",
       "\n",
       "    .dataframe tbody tr th {\n",
       "        vertical-align: top;\n",
       "    }\n",
       "\n",
       "    .dataframe thead th {\n",
       "        text-align: right;\n",
       "    }\n",
       "</style>\n",
       "<table border=\"1\" class=\"dataframe\">\n",
       "  <thead>\n",
       "    <tr style=\"text-align: right;\">\n",
       "      <th></th>\n",
       "      <th>quote</th>\n",
       "      <th>label</th>\n",
       "      <th>source</th>\n",
       "      <th>url</th>\n",
       "      <th>language</th>\n",
       "      <th>subsource</th>\n",
       "      <th>id</th>\n",
       "    </tr>\n",
       "  </thead>\n",
       "  <tbody>\n",
       "    <tr>\n",
       "      <th>0</th>\n",
       "      <td>There is clear, compelling evidence that many ...</td>\n",
       "      <td>5_science_unreliable</td>\n",
       "      <td>FLICC</td>\n",
       "      <td>https://huggingface.co/datasets/fzanartu/FLICC...</td>\n",
       "      <td>en</td>\n",
       "      <td>CARDS</td>\n",
       "      <td>None</td>\n",
       "    </tr>\n",
       "    <tr>\n",
       "      <th>1</th>\n",
       "      <td>For most of the Holocene (last 10k years), sea...</td>\n",
       "      <td>1_not_happening</td>\n",
       "      <td>FLICC</td>\n",
       "      <td>https://huggingface.co/datasets/fzanartu/FLICC...</td>\n",
       "      <td>en</td>\n",
       "      <td>hamburg_test1</td>\n",
       "      <td>None</td>\n",
       "    </tr>\n",
       "    <tr>\n",
       "      <th>2</th>\n",
       "      <td>China, which hosts U.N. climate talks next wee...</td>\n",
       "      <td>4_solutions_harmful_unnecessary</td>\n",
       "      <td>FLICC</td>\n",
       "      <td>https://huggingface.co/datasets/fzanartu/FLICC...</td>\n",
       "      <td>en</td>\n",
       "      <td>CARDS</td>\n",
       "      <td>None</td>\n",
       "    </tr>\n",
       "  </tbody>\n",
       "</table>\n",
       "</div>"
      ],
      "text/plain": [
       "                                               quote  \\\n",
       "0  There is clear, compelling evidence that many ...   \n",
       "1  For most of the Holocene (last 10k years), sea...   \n",
       "2  China, which hosts U.N. climate talks next wee...   \n",
       "\n",
       "                             label source  \\\n",
       "0             5_science_unreliable  FLICC   \n",
       "1                  1_not_happening  FLICC   \n",
       "2  4_solutions_harmful_unnecessary  FLICC   \n",
       "\n",
       "                                                 url language      subsource  \\\n",
       "0  https://huggingface.co/datasets/fzanartu/FLICC...       en          CARDS   \n",
       "1  https://huggingface.co/datasets/fzanartu/FLICC...       en  hamburg_test1   \n",
       "2  https://huggingface.co/datasets/fzanartu/FLICC...       en          CARDS   \n",
       "\n",
       "     id  \n",
       "0  None  \n",
       "1  None  \n",
       "2  None  "
      ]
     },
     "execution_count": 5,
     "metadata": {},
     "output_type": "execute_result"
    }
   ],
   "source": [
    "df.head(3)"
   ]
  },
  {
   "cell_type": "markdown",
   "id": "3ddb7f30-5713-49b9-a32c-ea5afb165d81",
   "metadata": {},
   "source": [
    "**We will only use the quote and label columns**"
   ]
  },
  {
   "cell_type": "code",
   "execution_count": 6,
   "id": "5fd9deea-e81e-492b-95b4-ed8407cd4571",
   "metadata": {},
   "outputs": [
    {
     "data": {
      "text/plain": [
       "Index(['quote', 'label', 'source', 'url', 'language', 'subsource', 'id'], dtype='object')"
      ]
     },
     "execution_count": 6,
     "metadata": {},
     "output_type": "execute_result"
    }
   ],
   "source": [
    "df.columns"
   ]
  },
  {
   "cell_type": "code",
   "execution_count": 7,
   "id": "3e8e8b51-754c-4de5-8509-6ca4713920d2",
   "metadata": {},
   "outputs": [
    {
     "data": {
      "text/html": [
       "<div>\n",
       "<style scoped>\n",
       "    .dataframe tbody tr th:only-of-type {\n",
       "        vertical-align: middle;\n",
       "    }\n",
       "\n",
       "    .dataframe tbody tr th {\n",
       "        vertical-align: top;\n",
       "    }\n",
       "\n",
       "    .dataframe thead th {\n",
       "        text-align: right;\n",
       "    }\n",
       "</style>\n",
       "<table border=\"1\" class=\"dataframe\">\n",
       "  <thead>\n",
       "    <tr style=\"text-align: right;\">\n",
       "      <th></th>\n",
       "      <th>quote</th>\n",
       "      <th>label</th>\n",
       "    </tr>\n",
       "  </thead>\n",
       "  <tbody>\n",
       "    <tr>\n",
       "      <th>0</th>\n",
       "      <td>There is clear, compelling evidence that many ...</td>\n",
       "      <td>5_science_unreliable</td>\n",
       "    </tr>\n",
       "    <tr>\n",
       "      <th>1</th>\n",
       "      <td>For most of the Holocene (last 10k years), sea...</td>\n",
       "      <td>1_not_happening</td>\n",
       "    </tr>\n",
       "    <tr>\n",
       "      <th>2</th>\n",
       "      <td>China, which hosts U.N. climate talks next wee...</td>\n",
       "      <td>4_solutions_harmful_unnecessary</td>\n",
       "    </tr>\n",
       "    <tr>\n",
       "      <th>3</th>\n",
       "      <td>And the fabricated documents (which Dr. Mann a...</td>\n",
       "      <td>0_not_relevant</td>\n",
       "    </tr>\n",
       "    <tr>\n",
       "      <th>4</th>\n",
       "      <td>It's going to be 42 here today and the hottest...</td>\n",
       "      <td>1_not_happening</td>\n",
       "    </tr>\n",
       "  </tbody>\n",
       "</table>\n",
       "</div>"
      ],
      "text/plain": [
       "                                               quote  \\\n",
       "0  There is clear, compelling evidence that many ...   \n",
       "1  For most of the Holocene (last 10k years), sea...   \n",
       "2  China, which hosts U.N. climate talks next wee...   \n",
       "3  And the fabricated documents (which Dr. Mann a...   \n",
       "4  It's going to be 42 here today and the hottest...   \n",
       "\n",
       "                             label  \n",
       "0             5_science_unreliable  \n",
       "1                  1_not_happening  \n",
       "2  4_solutions_harmful_unnecessary  \n",
       "3                   0_not_relevant  \n",
       "4                  1_not_happening  "
      ]
     },
     "execution_count": 7,
     "metadata": {},
     "output_type": "execute_result"
    }
   ],
   "source": [
    "df = df[['quote', 'label']]\n",
    "df.head()"
   ]
  },
  {
   "cell_type": "markdown",
   "id": "44583e43-3572-42fb-98f6-70b27ee54488",
   "metadata": {},
   "source": [
    "**The label have 8 classes**"
   ]
  },
  {
   "cell_type": "code",
   "execution_count": 8,
   "id": "80a4ee62-9b16-46a7-8a0f-605a808216fb",
   "metadata": {},
   "outputs": [
    {
     "name": "stdout",
     "output_type": "stream",
     "text": [
      "unique values:\n",
      "label\n",
      " ['5_science_unreliable' '1_not_happening'\n",
      " '4_solutions_harmful_unnecessary' '0_not_relevant' '6_proponents_biased'\n",
      " '7_fossil_fuels_needed' '2_not_human' '3_not_bad']\n"
     ]
    }
   ],
   "source": [
    "print('unique values:')\n",
    "print('label\\n', df['label'].unique())"
   ]
  },
  {
   "cell_type": "markdown",
   "id": "9a5be8ac-fbeb-4c27-92cd-699e3e8304e1",
   "metadata": {},
   "source": [
    "**No duplicate quotes**"
   ]
  },
  {
   "cell_type": "code",
   "execution_count": 9,
   "id": "e45e2e44-de8e-4f98-8881-4f5f920e6029",
   "metadata": {},
   "outputs": [
    {
     "data": {
      "text/plain": [
       "0"
      ]
     },
     "execution_count": 9,
     "metadata": {},
     "output_type": "execute_result"
    }
   ],
   "source": [
    "df['quote'].duplicated().sum()"
   ]
  },
  {
   "cell_type": "markdown",
   "id": "95ab1fc4-47f5-4088-9de4-2a14a1aaa029",
   "metadata": {},
   "source": [
    "**But we have a bit of unbalanced classes (that we will have to take care of for models that need training)**"
   ]
  },
  {
   "cell_type": "code",
   "execution_count": 10,
   "id": "bf814c75-e591-4843-9c25-3408cbd81e8b",
   "metadata": {},
   "outputs": [
    {
     "data": {
      "text/plain": [
       "label\n",
       "0_not_relevant                     0.265638\n",
       "1_not_happening                    0.121655\n",
       "2_not_human                        0.115252\n",
       "3_not_bad                          0.063372\n",
       "4_solutions_harmful_unnecessary    0.127073\n",
       "5_science_unreliable               0.131505\n",
       "6_proponents_biased                0.128386\n",
       "7_fossil_fuels_needed              0.047119\n",
       "Name: proportion, dtype: float64"
      ]
     },
     "execution_count": 10,
     "metadata": {},
     "output_type": "execute_result"
    }
   ],
   "source": [
    "class_distribution = df['label'].value_counts().sort_index()\n",
    "df['label'].value_counts(normalize=True).sort_index()"
   ]
  },
  {
   "cell_type": "code",
   "execution_count": 11,
   "id": "e9f8dc00-ee83-4a36-84c2-0d5b5856fdc9",
   "metadata": {},
   "outputs": [
    {
     "data": {
      "text/html": [
       "<iframe\n",
       "    scrolling=\"no\"\n",
       "    width=\"920px\"\n",
       "    height=\"420\"\n",
       "    src=\"iframe_figures/figure_11.html\"\n",
       "    frameborder=\"0\"\n",
       "    allowfullscreen\n",
       "></iframe>\n"
      ]
     },
     "metadata": {},
     "output_type": "display_data"
    }
   ],
   "source": [
    "import plotly.express as px\n",
    "\n",
    "fig = px.bar(x=class_distribution.index, y=class_distribution.values, \n",
    "             labels={'x': 'Label', 'y': 'Count'})\n",
    "fig.update_layout(width=900, height=400, title=\"Class Distribution\")\n",
    "fig.show(renderer='iframe')"
   ]
  },
  {
   "cell_type": "markdown",
   "id": "a242055b-9ed5-46e9-ba07-cbb370929a47",
   "metadata": {},
   "source": [
    "**No missing values**"
   ]
  },
  {
   "cell_type": "code",
   "execution_count": 12,
   "id": "54089e93-da70-487d-90f0-181ee8886ba4",
   "metadata": {},
   "outputs": [
    {
     "name": "stdout",
     "output_type": "stream",
     "text": [
      "quote    0\n",
      "label    0\n",
      "dtype: int64\n"
     ]
    }
   ],
   "source": [
    "missing_values = df.isnull().sum()\n",
    "print(missing_values)"
   ]
  },
  {
   "cell_type": "markdown",
   "id": "d54f0302-7fe7-4c3f-a74f-fd9232d9cc65",
   "metadata": {},
   "source": [
    "**We might need to crop some quotes**"
   ]
  },
  {
   "cell_type": "code",
   "execution_count": 13,
   "id": "ed6dcf12-b146-4179-add1-c33b60accaf6",
   "metadata": {},
   "outputs": [
    {
     "name": "stdout",
     "output_type": "stream",
     "text": [
      "count    6091.000000\n",
      "mean      293.528485\n",
      "std       258.330755\n",
      "min        19.000000\n",
      "25%       139.000000\n",
      "50%       228.000000\n",
      "75%       365.000000\n",
      "max      4703.000000\n",
      "Name: text_length, dtype: float64\n"
     ]
    }
   ],
   "source": [
    "df['text_length'] = df['quote'].str.len()\n",
    "print(df['text_length'].describe())"
   ]
  },
  {
   "cell_type": "code",
   "execution_count": 14,
   "id": "ae22f6ee-1051-4415-9f6c-3e95cfbd79da",
   "metadata": {},
   "outputs": [
    {
     "data": {
      "text/html": [
       "<iframe\n",
       "    scrolling=\"no\"\n",
       "    width=\"820px\"\n",
       "    height=\"420\"\n",
       "    src=\"iframe_figures/figure_14.html\"\n",
       "    frameborder=\"0\"\n",
       "    allowfullscreen\n",
       "></iframe>\n"
      ]
     },
     "metadata": {},
     "output_type": "display_data"
    }
   ],
   "source": [
    "fig = px.histogram(df, x='text_length', nbins=50)\n",
    "fig.update_layout(width=800, height=400, title=\"Sentence Length Distribution\")\n",
    "fig.show(renderer='iframe')"
   ]
  },
  {
   "cell_type": "code",
   "execution_count": 15,
   "id": "cf6c6999-0b40-4791-bb8f-34bd3011b744",
   "metadata": {},
   "outputs": [
    {
     "data": {
      "text/plain": [
       "544.0"
      ]
     },
     "execution_count": 15,
     "metadata": {},
     "output_type": "execute_result"
    }
   ],
   "source": [
    "import numpy as np\n",
    "threshold = np.percentile(df['text_length'], 90)\n",
    "threshold"
   ]
  },
  {
   "cell_type": "code",
   "execution_count": 16,
   "id": "27c20701-cdc2-4bff-8f53-03f7804680df",
   "metadata": {},
   "outputs": [
    {
     "name": "stdout",
     "output_type": "stream",
     "text": [
      "Number of quotes above threshold:  608\n"
     ]
    }
   ],
   "source": [
    "long_quotes = df[df['text_length'] > threshold]\n",
    "print('Number of quotes above threshold: ', long_quotes.shape[0])"
   ]
  },
  {
   "cell_type": "code",
   "execution_count": 17,
   "id": "9e0256ca-b634-4065-a9ad-14b016fecb33",
   "metadata": {},
   "outputs": [
    {
     "data": {
      "text/html": [
       "<div>\n",
       "<style scoped>\n",
       "    .dataframe tbody tr th:only-of-type {\n",
       "        vertical-align: middle;\n",
       "    }\n",
       "\n",
       "    .dataframe tbody tr th {\n",
       "        vertical-align: top;\n",
       "    }\n",
       "\n",
       "    .dataframe thead th {\n",
       "        text-align: right;\n",
       "    }\n",
       "</style>\n",
       "<table border=\"1\" class=\"dataframe\">\n",
       "  <thead>\n",
       "    <tr style=\"text-align: right;\">\n",
       "      <th></th>\n",
       "      <th>quote</th>\n",
       "      <th>label</th>\n",
       "      <th>text_length</th>\n",
       "      <th>truncated_quote</th>\n",
       "    </tr>\n",
       "  </thead>\n",
       "  <tbody>\n",
       "    <tr>\n",
       "      <th>0</th>\n",
       "      <td>There is clear, compelling evidence that many ...</td>\n",
       "      <td>5_science_unreliable</td>\n",
       "      <td>277</td>\n",
       "      <td>There is clear, compelling evidence that many ...</td>\n",
       "    </tr>\n",
       "    <tr>\n",
       "      <th>1</th>\n",
       "      <td>For most of the Holocene (last 10k years), sea...</td>\n",
       "      <td>1_not_happening</td>\n",
       "      <td>279</td>\n",
       "      <td>For most of the Holocene (last 10k years), sea...</td>\n",
       "    </tr>\n",
       "    <tr>\n",
       "      <th>2</th>\n",
       "      <td>China, which hosts U.N. climate talks next wee...</td>\n",
       "      <td>4_solutions_harmful_unnecessary</td>\n",
       "      <td>286</td>\n",
       "      <td>China, which hosts U.N. climate talks next wee...</td>\n",
       "    </tr>\n",
       "    <tr>\n",
       "      <th>3</th>\n",
       "      <td>And the fabricated documents (which Dr. Mann a...</td>\n",
       "      <td>0_not_relevant</td>\n",
       "      <td>146</td>\n",
       "      <td>And the fabricated documents (which Dr. Mann a...</td>\n",
       "    </tr>\n",
       "    <tr>\n",
       "      <th>4</th>\n",
       "      <td>It's going to be 42 here today and the hottest...</td>\n",
       "      <td>1_not_happening</td>\n",
       "      <td>123</td>\n",
       "      <td>It's going to be 42 here today and the hottest...</td>\n",
       "    </tr>\n",
       "  </tbody>\n",
       "</table>\n",
       "</div>"
      ],
      "text/plain": [
       "                                               quote  \\\n",
       "0  There is clear, compelling evidence that many ...   \n",
       "1  For most of the Holocene (last 10k years), sea...   \n",
       "2  China, which hosts U.N. climate talks next wee...   \n",
       "3  And the fabricated documents (which Dr. Mann a...   \n",
       "4  It's going to be 42 here today and the hottest...   \n",
       "\n",
       "                             label  text_length  \\\n",
       "0             5_science_unreliable          277   \n",
       "1                  1_not_happening          279   \n",
       "2  4_solutions_harmful_unnecessary          286   \n",
       "3                   0_not_relevant          146   \n",
       "4                  1_not_happening          123   \n",
       "\n",
       "                                     truncated_quote  \n",
       "0  There is clear, compelling evidence that many ...  \n",
       "1  For most of the Holocene (last 10k years), sea...  \n",
       "2  China, which hosts U.N. climate talks next wee...  \n",
       "3  And the fabricated documents (which Dr. Mann a...  \n",
       "4  It's going to be 42 here today and the hottest...  "
      ]
     },
     "execution_count": 17,
     "metadata": {},
     "output_type": "execute_result"
    }
   ],
   "source": [
    "df['truncated_quote'] = df['quote'].str.slice(0, int(threshold))\n",
    "df.head()"
   ]
  },
  {
   "cell_type": "markdown",
   "id": "7627d2c5-397f-40e1-bf74-f1181cc149bf",
   "metadata": {},
   "source": [
    "## LLM Baseline"
   ]
  },
  {
   "cell_type": "code",
   "execution_count": 18,
   "id": "58363a98-d869-431a-a340-8cfd81743e08",
   "metadata": {},
   "outputs": [],
   "source": [
    "# mistral, phi2, qwen\n",
    "\n",
    "selected_model = \"mistral\""
   ]
  },
  {
   "cell_type": "markdown",
   "id": "b2b32451-a44e-4e96-931d-f0c53ed24cf9",
   "metadata": {},
   "source": [
    "**Model set-up**"
   ]
  },
  {
   "cell_type": "code",
   "execution_count": 19,
   "id": "66c455db-46ca-4751-b31b-b28e4b331257",
   "metadata": {},
   "outputs": [],
   "source": [
    "from transformers import AutoTokenizer, AutoModelForCausalLM"
   ]
  },
  {
   "cell_type": "code",
   "execution_count": 20,
   "id": "412e4c5f-e099-4102-b07f-f2fd17391a32",
   "metadata": {},
   "outputs": [],
   "source": [
    "MODEL_NAMES = {\n",
    "    \"mistral\": \"mistralai/Mistral-7B-Instruct-v0.1\",\n",
    "    \"phi2\": \"microsoft/phi-2\",\n",
    "    \"qwen\": \"Qwen/Qwen2.5-0.5B\"\n",
    "}\n",
    "# \"Qwen/Qwen2.5-7B\"\n",
    "# \"Qwen/Qwen2.5-0.5B\"\n",
    "# \"Qwen/Qwen2.5-1.5B\"\n",
    "\n",
    "#if torch.cuda.is_available():            # Nvidia GPU (T4)\n",
    "#    DEVICE = \"cuda\"\n",
    "#elif torch.backends.mps.is_available():  # Apple Silicon (M3)\n",
    "#    DEVICE = \"mps\"\n",
    "#else:\n",
    "#    DEVICE = \"cpu\"\n",
    "\n",
    "CLASS_LABELS = [\n",
    "    \"0_not_relevant\",\n",
    "    \"1_not_happening\",\n",
    "    \"2_not_human\",\n",
    "    \"3_not_bad\",\n",
    "    \"4_solutions_harmful_unnecessary\",\n",
    "    \"5_science_unreliable\",\n",
    "    \"6_proponents_biased\",\n",
    "    \"7_fossil_fuels_needed\"\n",
    "]"
   ]
  },
  {
   "cell_type": "code",
   "execution_count": 21,
   "id": "674f7fd6-0b9f-4d52-969f-65026841129e",
   "metadata": {},
   "outputs": [],
   "source": [
    "def load_model(model_name):\n",
    "\n",
    "    tokenizer = AutoTokenizer.from_pretrained(model_name)\n",
    "\n",
    "    model = AutoModelForCausalLM.from_pretrained(\n",
    "        model_name,\n",
    "#        torch_dtype=(torch.float32 if DEVICE == \"mps\" else torch.float16),\n",
    "        torch_dtype=torch.float16,\n",
    "        device_map=\"auto\"           # Auto-detects MPS (Apple Silicon)\n",
    "    ).eval()                        # Disables dropout for consistent results\n",
    "\n",
    "    return tokenizer, model"
   ]
  },
  {
   "cell_type": "markdown",
   "id": "1f9f0654-c0b6-4ca8-b513-662ef0fe05f7",
   "metadata": {},
   "source": [
    "**Loading the model**"
   ]
  },
  {
   "cell_type": "code",
   "execution_count": 22,
   "id": "91e460d7-5792-44b8-9dc0-b3022f3601de",
   "metadata": {},
   "outputs": [
    {
     "data": {
      "application/vnd.jupyter.widget-view+json": {
       "model_id": "0e9ce0db841e4185bf24ac8f8a8a68c3",
       "version_major": 2,
       "version_minor": 0
      },
      "text/plain": [
       "Loading checkpoint shards:   0%|          | 0/2 [00:00<?, ?it/s]"
      ]
     },
     "metadata": {},
     "output_type": "display_data"
    },
    {
     "name": "stderr",
     "output_type": "stream",
     "text": [
      "Some parameters are on the meta device because they were offloaded to the disk.\n"
     ]
    },
    {
     "name": "stdout",
     "output_type": "stream",
     "text": [
      "CPU times: user 9.86 s, sys: 7.41 s, total: 17.3 s\n",
      "Wall time: 29 s\n"
     ]
    }
   ],
   "source": [
    "%%time\n",
    "model_name = MODEL_NAMES[selected_model]\n",
    "tokenizer, model = load_model(model_name)"
   ]
  },
  {
   "cell_type": "code",
   "execution_count": 23,
   "id": "b02e64cd-e6e2-4057-bee8-91572d516f01",
   "metadata": {},
   "outputs": [
    {
     "name": "stdout",
     "output_type": "stream",
     "text": [
      "\u001b[1m\u001b[36mmodels--Qwen--Qwen2.5-0.5B\u001b[m\u001b[m\n",
      "\u001b[1m\u001b[36mmodels--Qwen--Qwen2.5-7B\u001b[m\u001b[m\n",
      "\u001b[1m\u001b[36mmodels--mistralai--Mistral-7B-Instruct-v0.1\u001b[m\u001b[m\n",
      "version.txt\n"
     ]
    }
   ],
   "source": [
    "!ls ~/.cache/huggingface/hub/"
   ]
  },
  {
   "cell_type": "code",
   "execution_count": 24,
   "id": "3a77072b-6dd8-4c7a-9435-1c80ef8c44c3",
   "metadata": {},
   "outputs": [
    {
     "name": "stdout",
     "output_type": "stream",
     "text": [
      " 13G\t/Users/a.villa.massone/.cache/huggingface/hub/models--mistralai--Mistral-7B-Instruct-v0.1\n"
     ]
    }
   ],
   "source": [
    "!du -sh ~/.cache/huggingface/hub/models--mistralai--Mistral-7B-Instruct-v0.1"
   ]
  },
  {
   "cell_type": "code",
   "execution_count": 25,
   "id": "5210f463-4c10-41ea-80ca-92f60cf4aefc",
   "metadata": {},
   "outputs": [],
   "source": [
    "# to clear the cache\n",
    "# from huggingface_hub.utils import hf_hub_download\n",
    "# hf_hub_download.clear_cache()"
   ]
  },
  {
   "cell_type": "markdown",
   "id": "85a532f7-85d9-4b28-abb0-9372b54d3f37",
   "metadata": {},
   "source": [
    "**Prompt**"
   ]
  },
  {
   "cell_type": "code",
   "execution_count": 26,
   "id": "e92b489b-93fb-4877-bf50-ce9365b01dde",
   "metadata": {},
   "outputs": [],
   "source": [
    "def create_prompt(text):\n",
    "    pass\n",
    "    return f\"\"\"Classify this climate statement into ONE category. Respond ONLY with the corresponding number (0-7).\n",
    "\n",
    "Statement: {text}\n",
    "\n",
    "Categories:\n",
    "0 - Not relevant to climate change : \n",
    "No relevant claim detected or claims that don't fit other categories\n",
    "\n",
    "1 - Climate change is not happening : \n",
    "Claims denying the occurrence of global warming and its effects - Global warming is not happening. \n",
    "Climate change is NOT leading to melting ice (such as glaciers, sea ice, and permafrost), increased extreme weather, or rising sea levels. Cold weather also shows that climate change is not happening\n",
    "\n",
    "2 - Climate change is not caused by humans.\n",
    "Claims denying human responsibility in climate change.\n",
    "Greenhouse gases from humans are not the causing climate change.\n",
    "\n",
    "3 - Climate change is not bad.\n",
    "Claims minimizing or denying negative impacts of climate change.\n",
    "The impacts of climate change will not be bad and might even be beneficial.\n",
    "\n",
    "4 - Solutions to climate change are bad.\n",
    "Claims against climate solutions.\n",
    "Climate solutions are harmful or unnecessary\n",
    "\n",
    "5 - Science is unreliable.\n",
    "Claims questioning climate science validity\n",
    "Climate science is uncertain, unsound, unreliable, or biased.\n",
    "\n",
    "6 - Climate activists are bad.\n",
    "Claims attacking climate scientists and activists\n",
    "Climate scientists and proponents of climate action are alarmist, biased, wrong, hypocritical, corrupt, and/or politically motivated.\n",
    "\n",
    "7 - Fossil fuels are a necessity.\n",
    "Claims promoting fossil fuel necessity\n",
    "We need fossil fuels for economic growth, prosperity, and to maintain our standard of living.\n",
    "\n",
    "Category number:\"\"\""
   ]
  },
  {
   "cell_type": "code",
   "execution_count": null,
   "id": "717513aa-4be2-4ca9-a294-6072695b415e",
   "metadata": {},
   "outputs": [],
   "source": [
    "def create_prompt(text):\n",
    "    return f\"\"\"Classify this statement into ONE climate change category (0-7). Respond STRICTLY with only the corresponding number.\n",
    "\n",
    "Statement: {text}\n",
    "\n",
    "Categories:\n",
    "0 - Not relevant to climate change:\n",
    "No climate-related claims detected, or content unrelated to other categories.\n",
    "\"New sports stadium approved\" | \"Latest smartphone features\"\n",
    "\n",
    "1 - Climate change is not happening:\n",
    "Explicitly denies global warming occurrence or its measurable impacts (e.g., rejects links to melting ice, extreme weather, sea level rise, or uses cold weather as counter-evidence).\n",
    "\"Global warming stopped in 2016\" | \"Record cold proves no climate change\"\n",
    "\n",
    "2 - Climate change is not caused by humans:\n",
    "Attributes climate change primarily to natural causes, denying anthropogenic greenhouse gas influence.\n",
    "\"CO2 doesn't affect climate\" | \"Climate changes are natural cycles\"\n",
    "\n",
    "3 - Climate change is not bad:\n",
    "Minimizes negative consequences or claims net benefits from climate change.\n",
    "\"Warmer winters will be better\" | \"CO2 helps plant growth\"\n",
    "\n",
    "4 - Climate solutions are harmful:\n",
    "Opposes mitigation strategies as unnecessary, harmful, or counterproductive.\n",
    "\"Solar power ruins economies\" | \"EVs cause more pollution\"\n",
    "\n",
    "5 - Climate science is unreliable:\n",
    "Challenges scientific consensus, methods, or motives in climate research.\n",
    "\"Climate models are guesses\" | \"Temperature data is fake\"\n",
    "\n",
    "6 - Climate actors are untrustworthy:\n",
    "Attacks credibility/motives of scientists, activists, or institutions promoting climate action.\n",
    "\"Scientists are lying for grants\" | \"Activists want to control us\"\n",
    "\n",
    "7 - Fossil fuels are essential:\n",
    "Asserts fossil fuels are critical for economic stability and quality of life.\n",
    "\"Oil is essential for progress\" | \"Coal keeps lights on\"\n",
    "\n",
    "Category number:\"\"\""
   ]
  },
  {
   "cell_type": "code",
   "execution_count": 37,
   "id": "39221268-01f7-421f-9360-9ab7a36d0383",
   "metadata": {},
   "outputs": [],
   "source": [
    "def create_prompt(text):\n",
    "    pass\n",
    "    return f\"\"\"Classify this climate statement into ONE category. Respond ONLY with the corresponding number (0-7).\n",
    "\n",
    "Think step-by-step.\n",
    "\n",
    "Categories:\n",
    "0 - Not relevant to climate change : \n",
    "No relevant claim detected or claims that don't fit other categories\n",
    "\n",
    "1 - Climate change is not happening : \n",
    "Claims denying the occurrence of global warming and its effects - Global warming is not happening. \n",
    "Climate change is NOT leading to melting ice (such as glaciers, sea ice, and permafrost), increased extreme weather, or rising sea levels. Cold weather also shows that climate change is not happening\n",
    "\n",
    "2 - Climate change is not caused by humans.\n",
    "Claims denying human responsibility in climate change.\n",
    "Greenhouse gases from humans are not the causing climate change.\n",
    "\n",
    "3 - Climate change is not bad.\n",
    "Claims minimizing or denying negative impacts of climate change.\n",
    "The impacts of climate change will not be bad and might even be beneficial.\n",
    "\n",
    "4 - Solutions to climate change are bad.\n",
    "Claims against climate solutions.\n",
    "Climate solutions are harmful or unnecessary\n",
    "\n",
    "5 - Science is unreliable.\n",
    "Claims questioning climate science validity\n",
    "Climate science is uncertain, unsound, unreliable, or biased.\n",
    "\n",
    "6 - Climate activists are bad.\n",
    "Claims attacking climate scientists and activists\n",
    "Climate scientists and proponents of climate action are alarmist, biased, wrong, hypocritical, corrupt, and/or politically motivated.\n",
    "\n",
    "7 - Fossil fuels are a necessity.\n",
    "Claims promoting fossil fuel necessity\n",
    "We need fossil fuels for economic growth, prosperity, and to maintain our standard of living.\n",
    "\n",
    "Statement: {text}\n",
    "\n",
    "Category number:\"\"\""
   ]
  },
  {
   "cell_type": "markdown",
   "id": "849e23d6-45e7-42b0-aaf7-4edcfb6c8ae7",
   "metadata": {},
   "source": [
    "**Prediction function**"
   ]
  },
  {
   "cell_type": "code",
   "execution_count": 38,
   "id": "dc20f104-24b7-4f84-b1f7-472e3a7f9ad4",
   "metadata": {},
   "outputs": [],
   "source": [
    "import time\n",
    "from codecarbon import EmissionsTracker\n",
    "\n",
    "def classify_text(text, tokenizer, model):\n",
    "    prompt = create_prompt(text)\n",
    "    inputs = tokenizer(prompt, return_tensors=\"pt\").to(model.device)\n",
    "\n",
    "    tracker = EmissionsTracker(log_level=\"warning\")\n",
    "    tracker.start()\n",
    "    \n",
    "    start_time = time.time()\n",
    "\n",
    "    with torch.no_grad():\n",
    "        outputs = model.generate(\n",
    "            inputs.input_ids,\n",
    "            max_new_tokens=2,\n",
    "            temperature=0,\n",
    "            do_sample=False,\n",
    "            pad_token_id=tokenizer.eos_token_id\n",
    "        )\n",
    "\n",
    "    end_time = time.time()\n",
    "    emissions = tracker.stop()\n",
    "\n",
    "    inference_time = end_time - start_time\n",
    "\n",
    "    response = tokenizer.decode(outputs[0], skip_special_tokens=True)\n",
    "\n",
    "    return response, inference_time, emissions\n",
    "\n",
    "    \n",
    "def parse_output(response):\n",
    "    prediction = response.split(\"Category number:\")[-1].strip()\n",
    "    prediction = ''.join(filter(str.isdigit, prediction))\n",
    "    \n",
    "    if prediction.isdigit() and int(prediction) in range(8):\n",
    "        return CLASS_LABELS[int(prediction)]\n",
    "    return \"error\""
   ]
  },
  {
   "cell_type": "markdown",
   "id": "dbc532fc-f3cd-47cb-a77e-2785e96573c0",
   "metadata": {},
   "source": [
    "**Testing on a single sample**"
   ]
  },
  {
   "cell_type": "code",
   "execution_count": 39,
   "id": "79c16aee-26c7-469d-9805-7a13c2074ed1",
   "metadata": {},
   "outputs": [
    {
     "data": {
      "text/plain": [
       "'There is clear, compelling evidence that many of the major conclusions of the IPCC, your new religions constantly-changing Holy Book, are based on evidence that has been fabricated. The hockey stick graph that purported to abolish the mediaeval warm period is just one example.'"
      ]
     },
     "execution_count": 39,
     "metadata": {},
     "output_type": "execute_result"
    }
   ],
   "source": [
    "df['truncated_quote'][0]"
   ]
  },
  {
   "cell_type": "code",
   "execution_count": 40,
   "id": "f184a578-86c4-47f7-86a4-31183c544bf0",
   "metadata": {},
   "outputs": [
    {
     "name": "stderr",
     "output_type": "stream",
     "text": [
      "[codecarbon WARNING @ 11:49:52] No CPU tracking mode found. Falling back on CPU constant mode.\n",
      "huggingface/tokenizers: The current process just got forked, after parallelism has already been used. Disabling parallelism to avoid deadlocks...\n",
      "To disable this warning, you can either:\n",
      "\t- Avoid using `tokenizers` before the fork if possible\n",
      "\t- Explicitly set the environment variable TOKENIZERS_PARALLELISM=(true | false)\n",
      "[codecarbon WARNING @ 11:49:52] We saw that you have a Apple M3 but we don't know it. Please contact us.\n",
      "/Users/a.villa.massone/miniconda3/envs/frugal-notebooks-env/lib/python3.9/site-packages/transformers/generation/configuration_utils.py:567: UserWarning:\n",
      "\n",
      "`do_sample` is set to `False`. However, `temperature` is set to `0` -- this flag is only used in sample-based generation modes. You should set `do_sample=True` or unset `temperature`.\n",
      "\n"
     ]
    },
    {
     "name": "stdout",
     "output_type": "stream",
     "text": [
      "Model device: mps:0\n",
      "next(model.parameters()).device: mps:0\n"
     ]
    },
    {
     "ename": "NameError",
     "evalue": "name 'inputs' is not defined",
     "output_type": "error",
     "traceback": [
      "\u001b[0;31m---------------------------------------------------------------------------\u001b[0m",
      "\u001b[0;31mNameError\u001b[0m                                 Traceback (most recent call last)",
      "File \u001b[0;32m<timed exec>:7\u001b[0m\n",
      "\u001b[0;31mNameError\u001b[0m: name 'inputs' is not defined"
     ]
    }
   ],
   "source": [
    "%%time\n",
    "sample_text = df['truncated_quote'][0]\n",
    "\n",
    "prediction, latency, energy_conso = classify_text(sample_text, tokenizer, model)\n",
    "\n",
    "print(f\"Model device: {model.device}\")\n",
    "print(f\"next(model.parameters()).device: {next(model.parameters()).device}\")\n",
    "print(f\"Inputs device: {inputs['input_ids'].device}\")\n",
    "\n",
    "print(prediction)\n",
    "print(f\"inference latency :{latency:.2f} seconds\")\n",
    "print(f\"energy_conso :{energy_conso:.4f}\")\n",
    "prediction = parse_output(prediction)\n",
    "print(f\"\\nText: {sample_text}\\nPrediction: {prediction}\\nTrue label: {df['label'][0]}\")"
   ]
  },
  {
   "cell_type": "markdown",
   "id": "5de4d4bc-fc72-434c-b43e-e8f13d57556a",
   "metadata": {},
   "source": [
    "**Evaluation on larger sample**"
   ]
  },
  {
   "cell_type": "code",
   "execution_count": 41,
   "id": "defc0189-f3d7-42e4-97a3-45802dd62a7a",
   "metadata": {},
   "outputs": [],
   "source": [
    "N_SAMPLES = 50"
   ]
  },
  {
   "cell_type": "code",
   "execution_count": 42,
   "id": "ca1e941e-113b-4754-acca-629163714a65",
   "metadata": {},
   "outputs": [],
   "source": [
    "import random\n",
    "import pandas as pd\n",
    "from sklearn.metrics import classification_report\n",
    "from sklearn.metrics import precision_score, recall_score, f1_score, accuracy_score"
   ]
  },
  {
   "cell_type": "code",
   "execution_count": 43,
   "id": "35ab0ac7-cf45-4966-8b8c-899fb70e11ee",
   "metadata": {},
   "outputs": [],
   "source": [
    "random.seed(42)\n",
    "torch.manual_seed(42)\n",
    "\n",
    "test_samples = df.sample(N_SAMPLES, random_state=42)\n",
    "texts = test_samples['truncated_quote'].tolist()\n",
    "true_labels = test_samples['label'].tolist()"
   ]
  },
  {
   "cell_type": "code",
   "execution_count": 44,
   "id": "c4277963-1341-401c-bbf1-c1cbb5290cac",
   "metadata": {},
   "outputs": [
    {
     "name": "stderr",
     "output_type": "stream",
     "text": [
      "[codecarbon WARNING @ 11:50:05] No CPU tracking mode found. Falling back on CPU constant mode.\n",
      "huggingface/tokenizers: The current process just got forked, after parallelism has already been used. Disabling parallelism to avoid deadlocks...\n",
      "To disable this warning, you can either:\n",
      "\t- Avoid using `tokenizers` before the fork if possible\n",
      "\t- Explicitly set the environment variable TOKENIZERS_PARALLELISM=(true | false)\n",
      "[codecarbon WARNING @ 11:50:06] We saw that you have a Apple M3 but we don't know it. Please contact us.\n",
      "/Users/a.villa.massone/miniconda3/envs/frugal-notebooks-env/lib/python3.9/site-packages/transformers/generation/configuration_utils.py:567: UserWarning:\n",
      "\n",
      "`do_sample` is set to `False`. However, `temperature` is set to `0` -- this flag is only used in sample-based generation modes. You should set `do_sample=True` or unset `temperature`.\n",
      "\n",
      "[codecarbon WARNING @ 11:50:16] No CPU tracking mode found. Falling back on CPU constant mode.\n",
      "huggingface/tokenizers: The current process just got forked, after parallelism has already been used. Disabling parallelism to avoid deadlocks...\n",
      "To disable this warning, you can either:\n",
      "\t- Avoid using `tokenizers` before the fork if possible\n",
      "\t- Explicitly set the environment variable TOKENIZERS_PARALLELISM=(true | false)\n",
      "[codecarbon WARNING @ 11:50:17] We saw that you have a Apple M3 but we don't know it. Please contact us.\n",
      "/Users/a.villa.massone/miniconda3/envs/frugal-notebooks-env/lib/python3.9/site-packages/transformers/generation/configuration_utils.py:567: UserWarning:\n",
      "\n",
      "`do_sample` is set to `False`. However, `temperature` is set to `0` -- this flag is only used in sample-based generation modes. You should set `do_sample=True` or unset `temperature`.\n",
      "\n",
      "[codecarbon WARNING @ 11:50:27] No CPU tracking mode found. Falling back on CPU constant mode.\n",
      "huggingface/tokenizers: The current process just got forked, after parallelism has already been used. Disabling parallelism to avoid deadlocks...\n",
      "To disable this warning, you can either:\n",
      "\t- Avoid using `tokenizers` before the fork if possible\n",
      "\t- Explicitly set the environment variable TOKENIZERS_PARALLELISM=(true | false)\n",
      "[codecarbon WARNING @ 11:50:27] We saw that you have a Apple M3 but we don't know it. Please contact us.\n",
      "/Users/a.villa.massone/miniconda3/envs/frugal-notebooks-env/lib/python3.9/site-packages/transformers/generation/configuration_utils.py:567: UserWarning:\n",
      "\n",
      "`do_sample` is set to `False`. However, `temperature` is set to `0` -- this flag is only used in sample-based generation modes. You should set `do_sample=True` or unset `temperature`.\n",
      "\n",
      "[codecarbon WARNING @ 11:50:40] No CPU tracking mode found. Falling back on CPU constant mode.\n",
      "huggingface/tokenizers: The current process just got forked, after parallelism has already been used. Disabling parallelism to avoid deadlocks...\n",
      "To disable this warning, you can either:\n",
      "\t- Avoid using `tokenizers` before the fork if possible\n",
      "\t- Explicitly set the environment variable TOKENIZERS_PARALLELISM=(true | false)\n",
      "[codecarbon WARNING @ 11:50:40] We saw that you have a Apple M3 but we don't know it. Please contact us.\n",
      "/Users/a.villa.massone/miniconda3/envs/frugal-notebooks-env/lib/python3.9/site-packages/transformers/generation/configuration_utils.py:567: UserWarning:\n",
      "\n",
      "`do_sample` is set to `False`. However, `temperature` is set to `0` -- this flag is only used in sample-based generation modes. You should set `do_sample=True` or unset `temperature`.\n",
      "\n",
      "[codecarbon WARNING @ 11:50:50] No CPU tracking mode found. Falling back on CPU constant mode.\n",
      "huggingface/tokenizers: The current process just got forked, after parallelism has already been used. Disabling parallelism to avoid deadlocks...\n",
      "To disable this warning, you can either:\n",
      "\t- Avoid using `tokenizers` before the fork if possible\n",
      "\t- Explicitly set the environment variable TOKENIZERS_PARALLELISM=(true | false)\n",
      "[codecarbon WARNING @ 11:50:50] We saw that you have a Apple M3 but we don't know it. Please contact us.\n",
      "/Users/a.villa.massone/miniconda3/envs/frugal-notebooks-env/lib/python3.9/site-packages/transformers/generation/configuration_utils.py:567: UserWarning:\n",
      "\n",
      "`do_sample` is set to `False`. However, `temperature` is set to `0` -- this flag is only used in sample-based generation modes. You should set `do_sample=True` or unset `temperature`.\n",
      "\n",
      "[codecarbon WARNING @ 11:51:01] No CPU tracking mode found. Falling back on CPU constant mode.\n",
      "huggingface/tokenizers: The current process just got forked, after parallelism has already been used. Disabling parallelism to avoid deadlocks...\n",
      "To disable this warning, you can either:\n",
      "\t- Avoid using `tokenizers` before the fork if possible\n",
      "\t- Explicitly set the environment variable TOKENIZERS_PARALLELISM=(true | false)\n",
      "[codecarbon WARNING @ 11:51:01] We saw that you have a Apple M3 but we don't know it. Please contact us.\n",
      "/Users/a.villa.massone/miniconda3/envs/frugal-notebooks-env/lib/python3.9/site-packages/transformers/generation/configuration_utils.py:567: UserWarning:\n",
      "\n",
      "`do_sample` is set to `False`. However, `temperature` is set to `0` -- this flag is only used in sample-based generation modes. You should set `do_sample=True` or unset `temperature`.\n",
      "\n",
      "[codecarbon WARNING @ 11:51:13] No CPU tracking mode found. Falling back on CPU constant mode.\n",
      "huggingface/tokenizers: The current process just got forked, after parallelism has already been used. Disabling parallelism to avoid deadlocks...\n",
      "To disable this warning, you can either:\n",
      "\t- Avoid using `tokenizers` before the fork if possible\n",
      "\t- Explicitly set the environment variable TOKENIZERS_PARALLELISM=(true | false)\n",
      "[codecarbon WARNING @ 11:51:14] We saw that you have a Apple M3 but we don't know it. Please contact us.\n",
      "/Users/a.villa.massone/miniconda3/envs/frugal-notebooks-env/lib/python3.9/site-packages/transformers/generation/configuration_utils.py:567: UserWarning:\n",
      "\n",
      "`do_sample` is set to `False`. However, `temperature` is set to `0` -- this flag is only used in sample-based generation modes. You should set `do_sample=True` or unset `temperature`.\n",
      "\n",
      "[codecarbon WARNING @ 11:51:32] No CPU tracking mode found. Falling back on CPU constant mode.\n",
      "huggingface/tokenizers: The current process just got forked, after parallelism has already been used. Disabling parallelism to avoid deadlocks...\n",
      "To disable this warning, you can either:\n",
      "\t- Avoid using `tokenizers` before the fork if possible\n",
      "\t- Explicitly set the environment variable TOKENIZERS_PARALLELISM=(true | false)\n",
      "[codecarbon WARNING @ 11:51:32] We saw that you have a Apple M3 but we don't know it. Please contact us.\n",
      "/Users/a.villa.massone/miniconda3/envs/frugal-notebooks-env/lib/python3.9/site-packages/transformers/generation/configuration_utils.py:567: UserWarning:\n",
      "\n",
      "`do_sample` is set to `False`. However, `temperature` is set to `0` -- this flag is only used in sample-based generation modes. You should set `do_sample=True` or unset `temperature`.\n",
      "\n",
      "[codecarbon WARNING @ 11:51:47] No CPU tracking mode found. Falling back on CPU constant mode.\n",
      "huggingface/tokenizers: The current process just got forked, after parallelism has already been used. Disabling parallelism to avoid deadlocks...\n",
      "To disable this warning, you can either:\n",
      "\t- Avoid using `tokenizers` before the fork if possible\n",
      "\t- Explicitly set the environment variable TOKENIZERS_PARALLELISM=(true | false)\n",
      "[codecarbon WARNING @ 11:51:47] We saw that you have a Apple M3 but we don't know it. Please contact us.\n",
      "/Users/a.villa.massone/miniconda3/envs/frugal-notebooks-env/lib/python3.9/site-packages/transformers/generation/configuration_utils.py:567: UserWarning:\n",
      "\n",
      "`do_sample` is set to `False`. However, `temperature` is set to `0` -- this flag is only used in sample-based generation modes. You should set `do_sample=True` or unset `temperature`.\n",
      "\n",
      "[codecarbon WARNING @ 11:51:59] No CPU tracking mode found. Falling back on CPU constant mode.\n",
      "huggingface/tokenizers: The current process just got forked, after parallelism has already been used. Disabling parallelism to avoid deadlocks...\n",
      "To disable this warning, you can either:\n",
      "\t- Avoid using `tokenizers` before the fork if possible\n",
      "\t- Explicitly set the environment variable TOKENIZERS_PARALLELISM=(true | false)\n",
      "[codecarbon WARNING @ 11:51:59] We saw that you have a Apple M3 but we don't know it. Please contact us.\n",
      "/Users/a.villa.massone/miniconda3/envs/frugal-notebooks-env/lib/python3.9/site-packages/transformers/generation/configuration_utils.py:567: UserWarning:\n",
      "\n",
      "`do_sample` is set to `False`. However, `temperature` is set to `0` -- this flag is only used in sample-based generation modes. You should set `do_sample=True` or unset `temperature`.\n",
      "\n",
      "[codecarbon WARNING @ 11:52:15] No CPU tracking mode found. Falling back on CPU constant mode.\n",
      "huggingface/tokenizers: The current process just got forked, after parallelism has already been used. Disabling parallelism to avoid deadlocks...\n",
      "To disable this warning, you can either:\n",
      "\t- Avoid using `tokenizers` before the fork if possible\n",
      "\t- Explicitly set the environment variable TOKENIZERS_PARALLELISM=(true | false)\n",
      "[codecarbon WARNING @ 11:52:15] We saw that you have a Apple M3 but we don't know it. Please contact us.\n",
      "/Users/a.villa.massone/miniconda3/envs/frugal-notebooks-env/lib/python3.9/site-packages/transformers/generation/configuration_utils.py:567: UserWarning:\n",
      "\n",
      "`do_sample` is set to `False`. However, `temperature` is set to `0` -- this flag is only used in sample-based generation modes. You should set `do_sample=True` or unset `temperature`.\n",
      "\n",
      "[codecarbon WARNING @ 11:52:28] No CPU tracking mode found. Falling back on CPU constant mode.\n",
      "huggingface/tokenizers: The current process just got forked, after parallelism has already been used. Disabling parallelism to avoid deadlocks...\n",
      "To disable this warning, you can either:\n",
      "\t- Avoid using `tokenizers` before the fork if possible\n",
      "\t- Explicitly set the environment variable TOKENIZERS_PARALLELISM=(true | false)\n",
      "[codecarbon WARNING @ 11:52:28] We saw that you have a Apple M3 but we don't know it. Please contact us.\n",
      "/Users/a.villa.massone/miniconda3/envs/frugal-notebooks-env/lib/python3.9/site-packages/transformers/generation/configuration_utils.py:567: UserWarning:\n",
      "\n",
      "`do_sample` is set to `False`. However, `temperature` is set to `0` -- this flag is only used in sample-based generation modes. You should set `do_sample=True` or unset `temperature`.\n",
      "\n",
      "[codecarbon WARNING @ 11:52:42] No CPU tracking mode found. Falling back on CPU constant mode.\n",
      "huggingface/tokenizers: The current process just got forked, after parallelism has already been used. Disabling parallelism to avoid deadlocks...\n",
      "To disable this warning, you can either:\n",
      "\t- Avoid using `tokenizers` before the fork if possible\n",
      "\t- Explicitly set the environment variable TOKENIZERS_PARALLELISM=(true | false)\n",
      "[codecarbon WARNING @ 11:52:42] We saw that you have a Apple M3 but we don't know it. Please contact us.\n",
      "/Users/a.villa.massone/miniconda3/envs/frugal-notebooks-env/lib/python3.9/site-packages/transformers/generation/configuration_utils.py:567: UserWarning:\n",
      "\n",
      "`do_sample` is set to `False`. However, `temperature` is set to `0` -- this flag is only used in sample-based generation modes. You should set `do_sample=True` or unset `temperature`.\n",
      "\n",
      "[codecarbon WARNING @ 11:52:57] No CPU tracking mode found. Falling back on CPU constant mode.\n",
      "huggingface/tokenizers: The current process just got forked, after parallelism has already been used. Disabling parallelism to avoid deadlocks...\n",
      "To disable this warning, you can either:\n",
      "\t- Avoid using `tokenizers` before the fork if possible\n",
      "\t- Explicitly set the environment variable TOKENIZERS_PARALLELISM=(true | false)\n",
      "[codecarbon WARNING @ 11:52:58] We saw that you have a Apple M3 but we don't know it. Please contact us.\n",
      "/Users/a.villa.massone/miniconda3/envs/frugal-notebooks-env/lib/python3.9/site-packages/transformers/generation/configuration_utils.py:567: UserWarning:\n",
      "\n",
      "`do_sample` is set to `False`. However, `temperature` is set to `0` -- this flag is only used in sample-based generation modes. You should set `do_sample=True` or unset `temperature`.\n",
      "\n",
      "[codecarbon WARNING @ 11:53:10] No CPU tracking mode found. Falling back on CPU constant mode.\n",
      "huggingface/tokenizers: The current process just got forked, after parallelism has already been used. Disabling parallelism to avoid deadlocks...\n",
      "To disable this warning, you can either:\n",
      "\t- Avoid using `tokenizers` before the fork if possible\n",
      "\t- Explicitly set the environment variable TOKENIZERS_PARALLELISM=(true | false)\n",
      "[codecarbon WARNING @ 11:53:10] We saw that you have a Apple M3 but we don't know it. Please contact us.\n",
      "/Users/a.villa.massone/miniconda3/envs/frugal-notebooks-env/lib/python3.9/site-packages/transformers/generation/configuration_utils.py:567: UserWarning:\n",
      "\n",
      "`do_sample` is set to `False`. However, `temperature` is set to `0` -- this flag is only used in sample-based generation modes. You should set `do_sample=True` or unset `temperature`.\n",
      "\n",
      "[codecarbon WARNING @ 11:53:23] No CPU tracking mode found. Falling back on CPU constant mode.\n",
      "huggingface/tokenizers: The current process just got forked, after parallelism has already been used. Disabling parallelism to avoid deadlocks...\n",
      "To disable this warning, you can either:\n",
      "\t- Avoid using `tokenizers` before the fork if possible\n",
      "\t- Explicitly set the environment variable TOKENIZERS_PARALLELISM=(true | false)\n",
      "[codecarbon WARNING @ 11:53:23] We saw that you have a Apple M3 but we don't know it. Please contact us.\n",
      "/Users/a.villa.massone/miniconda3/envs/frugal-notebooks-env/lib/python3.9/site-packages/transformers/generation/configuration_utils.py:567: UserWarning:\n",
      "\n",
      "`do_sample` is set to `False`. However, `temperature` is set to `0` -- this flag is only used in sample-based generation modes. You should set `do_sample=True` or unset `temperature`.\n",
      "\n",
      "[codecarbon WARNING @ 11:53:36] No CPU tracking mode found. Falling back on CPU constant mode.\n",
      "huggingface/tokenizers: The current process just got forked, after parallelism has already been used. Disabling parallelism to avoid deadlocks...\n",
      "To disable this warning, you can either:\n",
      "\t- Avoid using `tokenizers` before the fork if possible\n",
      "\t- Explicitly set the environment variable TOKENIZERS_PARALLELISM=(true | false)\n",
      "[codecarbon WARNING @ 11:53:36] We saw that you have a Apple M3 but we don't know it. Please contact us.\n",
      "/Users/a.villa.massone/miniconda3/envs/frugal-notebooks-env/lib/python3.9/site-packages/transformers/generation/configuration_utils.py:567: UserWarning:\n",
      "\n",
      "`do_sample` is set to `False`. However, `temperature` is set to `0` -- this flag is only used in sample-based generation modes. You should set `do_sample=True` or unset `temperature`.\n",
      "\n",
      "[codecarbon WARNING @ 11:53:47] No CPU tracking mode found. Falling back on CPU constant mode.\n",
      "huggingface/tokenizers: The current process just got forked, after parallelism has already been used. Disabling parallelism to avoid deadlocks...\n",
      "To disable this warning, you can either:\n",
      "\t- Avoid using `tokenizers` before the fork if possible\n",
      "\t- Explicitly set the environment variable TOKENIZERS_PARALLELISM=(true | false)\n",
      "[codecarbon WARNING @ 11:53:47] We saw that you have a Apple M3 but we don't know it. Please contact us.\n",
      "/Users/a.villa.massone/miniconda3/envs/frugal-notebooks-env/lib/python3.9/site-packages/transformers/generation/configuration_utils.py:567: UserWarning:\n",
      "\n",
      "`do_sample` is set to `False`. However, `temperature` is set to `0` -- this flag is only used in sample-based generation modes. You should set `do_sample=True` or unset `temperature`.\n",
      "\n",
      "[codecarbon WARNING @ 11:54:00] No CPU tracking mode found. Falling back on CPU constant mode.\n",
      "huggingface/tokenizers: The current process just got forked, after parallelism has already been used. Disabling parallelism to avoid deadlocks...\n",
      "To disable this warning, you can either:\n",
      "\t- Avoid using `tokenizers` before the fork if possible\n",
      "\t- Explicitly set the environment variable TOKENIZERS_PARALLELISM=(true | false)\n",
      "[codecarbon WARNING @ 11:54:00] We saw that you have a Apple M3 but we don't know it. Please contact us.\n",
      "/Users/a.villa.massone/miniconda3/envs/frugal-notebooks-env/lib/python3.9/site-packages/transformers/generation/configuration_utils.py:567: UserWarning:\n",
      "\n",
      "`do_sample` is set to `False`. However, `temperature` is set to `0` -- this flag is only used in sample-based generation modes. You should set `do_sample=True` or unset `temperature`.\n",
      "\n",
      "[codecarbon WARNING @ 11:54:17] No CPU tracking mode found. Falling back on CPU constant mode.\n",
      "huggingface/tokenizers: The current process just got forked, after parallelism has already been used. Disabling parallelism to avoid deadlocks...\n",
      "To disable this warning, you can either:\n",
      "\t- Avoid using `tokenizers` before the fork if possible\n",
      "\t- Explicitly set the environment variable TOKENIZERS_PARALLELISM=(true | false)\n",
      "[codecarbon WARNING @ 11:54:17] We saw that you have a Apple M3 but we don't know it. Please contact us.\n",
      "/Users/a.villa.massone/miniconda3/envs/frugal-notebooks-env/lib/python3.9/site-packages/transformers/generation/configuration_utils.py:567: UserWarning:\n",
      "\n",
      "`do_sample` is set to `False`. However, `temperature` is set to `0` -- this flag is only used in sample-based generation modes. You should set `do_sample=True` or unset `temperature`.\n",
      "\n",
      "[codecarbon WARNING @ 11:54:32] No CPU tracking mode found. Falling back on CPU constant mode.\n",
      "huggingface/tokenizers: The current process just got forked, after parallelism has already been used. Disabling parallelism to avoid deadlocks...\n",
      "To disable this warning, you can either:\n",
      "\t- Avoid using `tokenizers` before the fork if possible\n",
      "\t- Explicitly set the environment variable TOKENIZERS_PARALLELISM=(true | false)\n",
      "[codecarbon WARNING @ 11:54:32] We saw that you have a Apple M3 but we don't know it. Please contact us.\n",
      "/Users/a.villa.massone/miniconda3/envs/frugal-notebooks-env/lib/python3.9/site-packages/transformers/generation/configuration_utils.py:567: UserWarning:\n",
      "\n",
      "`do_sample` is set to `False`. However, `temperature` is set to `0` -- this flag is only used in sample-based generation modes. You should set `do_sample=True` or unset `temperature`.\n",
      "\n",
      "[codecarbon WARNING @ 11:54:42] No CPU tracking mode found. Falling back on CPU constant mode.\n",
      "huggingface/tokenizers: The current process just got forked, after parallelism has already been used. Disabling parallelism to avoid deadlocks...\n",
      "To disable this warning, you can either:\n",
      "\t- Avoid using `tokenizers` before the fork if possible\n",
      "\t- Explicitly set the environment variable TOKENIZERS_PARALLELISM=(true | false)\n",
      "[codecarbon WARNING @ 11:54:42] We saw that you have a Apple M3 but we don't know it. Please contact us.\n",
      "/Users/a.villa.massone/miniconda3/envs/frugal-notebooks-env/lib/python3.9/site-packages/transformers/generation/configuration_utils.py:567: UserWarning:\n",
      "\n",
      "`do_sample` is set to `False`. However, `temperature` is set to `0` -- this flag is only used in sample-based generation modes. You should set `do_sample=True` or unset `temperature`.\n",
      "\n",
      "[codecarbon WARNING @ 11:54:55] No CPU tracking mode found. Falling back on CPU constant mode.\n",
      "huggingface/tokenizers: The current process just got forked, after parallelism has already been used. Disabling parallelism to avoid deadlocks...\n",
      "To disable this warning, you can either:\n",
      "\t- Avoid using `tokenizers` before the fork if possible\n",
      "\t- Explicitly set the environment variable TOKENIZERS_PARALLELISM=(true | false)\n",
      "[codecarbon WARNING @ 11:54:55] We saw that you have a Apple M3 but we don't know it. Please contact us.\n",
      "/Users/a.villa.massone/miniconda3/envs/frugal-notebooks-env/lib/python3.9/site-packages/transformers/generation/configuration_utils.py:567: UserWarning:\n",
      "\n",
      "`do_sample` is set to `False`. However, `temperature` is set to `0` -- this flag is only used in sample-based generation modes. You should set `do_sample=True` or unset `temperature`.\n",
      "\n",
      "[codecarbon WARNING @ 11:55:07] No CPU tracking mode found. Falling back on CPU constant mode.\n",
      "huggingface/tokenizers: The current process just got forked, after parallelism has already been used. Disabling parallelism to avoid deadlocks...\n",
      "To disable this warning, you can either:\n",
      "\t- Avoid using `tokenizers` before the fork if possible\n",
      "\t- Explicitly set the environment variable TOKENIZERS_PARALLELISM=(true | false)\n",
      "[codecarbon WARNING @ 11:55:08] We saw that you have a Apple M3 but we don't know it. Please contact us.\n",
      "/Users/a.villa.massone/miniconda3/envs/frugal-notebooks-env/lib/python3.9/site-packages/transformers/generation/configuration_utils.py:567: UserWarning:\n",
      "\n",
      "`do_sample` is set to `False`. However, `temperature` is set to `0` -- this flag is only used in sample-based generation modes. You should set `do_sample=True` or unset `temperature`.\n",
      "\n",
      "[codecarbon WARNING @ 11:55:20] No CPU tracking mode found. Falling back on CPU constant mode.\n",
      "huggingface/tokenizers: The current process just got forked, after parallelism has already been used. Disabling parallelism to avoid deadlocks...\n",
      "To disable this warning, you can either:\n",
      "\t- Avoid using `tokenizers` before the fork if possible\n",
      "\t- Explicitly set the environment variable TOKENIZERS_PARALLELISM=(true | false)\n",
      "[codecarbon WARNING @ 11:55:20] We saw that you have a Apple M3 but we don't know it. Please contact us.\n",
      "/Users/a.villa.massone/miniconda3/envs/frugal-notebooks-env/lib/python3.9/site-packages/transformers/generation/configuration_utils.py:567: UserWarning:\n",
      "\n",
      "`do_sample` is set to `False`. However, `temperature` is set to `0` -- this flag is only used in sample-based generation modes. You should set `do_sample=True` or unset `temperature`.\n",
      "\n",
      "[codecarbon WARNING @ 11:55:34] No CPU tracking mode found. Falling back on CPU constant mode.\n",
      "huggingface/tokenizers: The current process just got forked, after parallelism has already been used. Disabling parallelism to avoid deadlocks...\n",
      "To disable this warning, you can either:\n",
      "\t- Avoid using `tokenizers` before the fork if possible\n",
      "\t- Explicitly set the environment variable TOKENIZERS_PARALLELISM=(true | false)\n",
      "[codecarbon WARNING @ 11:55:35] We saw that you have a Apple M3 but we don't know it. Please contact us.\n",
      "/Users/a.villa.massone/miniconda3/envs/frugal-notebooks-env/lib/python3.9/site-packages/transformers/generation/configuration_utils.py:567: UserWarning:\n",
      "\n",
      "`do_sample` is set to `False`. However, `temperature` is set to `0` -- this flag is only used in sample-based generation modes. You should set `do_sample=True` or unset `temperature`.\n",
      "\n",
      "[codecarbon WARNING @ 11:55:47] No CPU tracking mode found. Falling back on CPU constant mode.\n",
      "huggingface/tokenizers: The current process just got forked, after parallelism has already been used. Disabling parallelism to avoid deadlocks...\n",
      "To disable this warning, you can either:\n",
      "\t- Avoid using `tokenizers` before the fork if possible\n",
      "\t- Explicitly set the environment variable TOKENIZERS_PARALLELISM=(true | false)\n",
      "[codecarbon WARNING @ 11:55:47] We saw that you have a Apple M3 but we don't know it. Please contact us.\n",
      "/Users/a.villa.massone/miniconda3/envs/frugal-notebooks-env/lib/python3.9/site-packages/transformers/generation/configuration_utils.py:567: UserWarning:\n",
      "\n",
      "`do_sample` is set to `False`. However, `temperature` is set to `0` -- this flag is only used in sample-based generation modes. You should set `do_sample=True` or unset `temperature`.\n",
      "\n",
      "[codecarbon WARNING @ 11:55:58] No CPU tracking mode found. Falling back on CPU constant mode.\n",
      "huggingface/tokenizers: The current process just got forked, after parallelism has already been used. Disabling parallelism to avoid deadlocks...\n",
      "To disable this warning, you can either:\n",
      "\t- Avoid using `tokenizers` before the fork if possible\n",
      "\t- Explicitly set the environment variable TOKENIZERS_PARALLELISM=(true | false)\n",
      "[codecarbon WARNING @ 11:55:58] We saw that you have a Apple M3 but we don't know it. Please contact us.\n",
      "/Users/a.villa.massone/miniconda3/envs/frugal-notebooks-env/lib/python3.9/site-packages/transformers/generation/configuration_utils.py:567: UserWarning:\n",
      "\n",
      "`do_sample` is set to `False`. However, `temperature` is set to `0` -- this flag is only used in sample-based generation modes. You should set `do_sample=True` or unset `temperature`.\n",
      "\n",
      "[codecarbon WARNING @ 11:56:17] No CPU tracking mode found. Falling back on CPU constant mode.\n",
      "huggingface/tokenizers: The current process just got forked, after parallelism has already been used. Disabling parallelism to avoid deadlocks...\n",
      "To disable this warning, you can either:\n",
      "\t- Avoid using `tokenizers` before the fork if possible\n",
      "\t- Explicitly set the environment variable TOKENIZERS_PARALLELISM=(true | false)\n",
      "[codecarbon WARNING @ 11:56:17] We saw that you have a Apple M3 but we don't know it. Please contact us.\n",
      "/Users/a.villa.massone/miniconda3/envs/frugal-notebooks-env/lib/python3.9/site-packages/transformers/generation/configuration_utils.py:567: UserWarning:\n",
      "\n",
      "`do_sample` is set to `False`. However, `temperature` is set to `0` -- this flag is only used in sample-based generation modes. You should set `do_sample=True` or unset `temperature`.\n",
      "\n",
      "[codecarbon WARNING @ 11:56:29] No CPU tracking mode found. Falling back on CPU constant mode.\n",
      "huggingface/tokenizers: The current process just got forked, after parallelism has already been used. Disabling parallelism to avoid deadlocks...\n",
      "To disable this warning, you can either:\n",
      "\t- Avoid using `tokenizers` before the fork if possible\n",
      "\t- Explicitly set the environment variable TOKENIZERS_PARALLELISM=(true | false)\n",
      "[codecarbon WARNING @ 11:56:29] We saw that you have a Apple M3 but we don't know it. Please contact us.\n",
      "/Users/a.villa.massone/miniconda3/envs/frugal-notebooks-env/lib/python3.9/site-packages/transformers/generation/configuration_utils.py:567: UserWarning:\n",
      "\n",
      "`do_sample` is set to `False`. However, `temperature` is set to `0` -- this flag is only used in sample-based generation modes. You should set `do_sample=True` or unset `temperature`.\n",
      "\n",
      "[codecarbon WARNING @ 11:56:40] No CPU tracking mode found. Falling back on CPU constant mode.\n",
      "huggingface/tokenizers: The current process just got forked, after parallelism has already been used. Disabling parallelism to avoid deadlocks...\n",
      "To disable this warning, you can either:\n",
      "\t- Avoid using `tokenizers` before the fork if possible\n",
      "\t- Explicitly set the environment variable TOKENIZERS_PARALLELISM=(true | false)\n",
      "[codecarbon WARNING @ 11:56:40] We saw that you have a Apple M3 but we don't know it. Please contact us.\n",
      "/Users/a.villa.massone/miniconda3/envs/frugal-notebooks-env/lib/python3.9/site-packages/transformers/generation/configuration_utils.py:567: UserWarning:\n",
      "\n",
      "`do_sample` is set to `False`. However, `temperature` is set to `0` -- this flag is only used in sample-based generation modes. You should set `do_sample=True` or unset `temperature`.\n",
      "\n",
      "[codecarbon WARNING @ 11:56:54] No CPU tracking mode found. Falling back on CPU constant mode.\n",
      "huggingface/tokenizers: The current process just got forked, after parallelism has already been used. Disabling parallelism to avoid deadlocks...\n",
      "To disable this warning, you can either:\n",
      "\t- Avoid using `tokenizers` before the fork if possible\n",
      "\t- Explicitly set the environment variable TOKENIZERS_PARALLELISM=(true | false)\n",
      "[codecarbon WARNING @ 11:56:54] We saw that you have a Apple M3 but we don't know it. Please contact us.\n",
      "/Users/a.villa.massone/miniconda3/envs/frugal-notebooks-env/lib/python3.9/site-packages/transformers/generation/configuration_utils.py:567: UserWarning:\n",
      "\n",
      "`do_sample` is set to `False`. However, `temperature` is set to `0` -- this flag is only used in sample-based generation modes. You should set `do_sample=True` or unset `temperature`.\n",
      "\n",
      "[codecarbon WARNING @ 11:57:07] No CPU tracking mode found. Falling back on CPU constant mode.\n",
      "huggingface/tokenizers: The current process just got forked, after parallelism has already been used. Disabling parallelism to avoid deadlocks...\n",
      "To disable this warning, you can either:\n",
      "\t- Avoid using `tokenizers` before the fork if possible\n",
      "\t- Explicitly set the environment variable TOKENIZERS_PARALLELISM=(true | false)\n",
      "[codecarbon WARNING @ 11:57:07] We saw that you have a Apple M3 but we don't know it. Please contact us.\n",
      "/Users/a.villa.massone/miniconda3/envs/frugal-notebooks-env/lib/python3.9/site-packages/transformers/generation/configuration_utils.py:567: UserWarning:\n",
      "\n",
      "`do_sample` is set to `False`. However, `temperature` is set to `0` -- this flag is only used in sample-based generation modes. You should set `do_sample=True` or unset `temperature`.\n",
      "\n",
      "[codecarbon WARNING @ 11:57:17] No CPU tracking mode found. Falling back on CPU constant mode.\n",
      "huggingface/tokenizers: The current process just got forked, after parallelism has already been used. Disabling parallelism to avoid deadlocks...\n",
      "To disable this warning, you can either:\n",
      "\t- Avoid using `tokenizers` before the fork if possible\n",
      "\t- Explicitly set the environment variable TOKENIZERS_PARALLELISM=(true | false)\n",
      "[codecarbon WARNING @ 11:57:17] We saw that you have a Apple M3 but we don't know it. Please contact us.\n",
      "/Users/a.villa.massone/miniconda3/envs/frugal-notebooks-env/lib/python3.9/site-packages/transformers/generation/configuration_utils.py:567: UserWarning:\n",
      "\n",
      "`do_sample` is set to `False`. However, `temperature` is set to `0` -- this flag is only used in sample-based generation modes. You should set `do_sample=True` or unset `temperature`.\n",
      "\n",
      "[codecarbon WARNING @ 11:57:32] No CPU tracking mode found. Falling back on CPU constant mode.\n",
      "huggingface/tokenizers: The current process just got forked, after parallelism has already been used. Disabling parallelism to avoid deadlocks...\n",
      "To disable this warning, you can either:\n",
      "\t- Avoid using `tokenizers` before the fork if possible\n",
      "\t- Explicitly set the environment variable TOKENIZERS_PARALLELISM=(true | false)\n",
      "[codecarbon WARNING @ 11:57:33] We saw that you have a Apple M3 but we don't know it. Please contact us.\n",
      "/Users/a.villa.massone/miniconda3/envs/frugal-notebooks-env/lib/python3.9/site-packages/transformers/generation/configuration_utils.py:567: UserWarning:\n",
      "\n",
      "`do_sample` is set to `False`. However, `temperature` is set to `0` -- this flag is only used in sample-based generation modes. You should set `do_sample=True` or unset `temperature`.\n",
      "\n",
      "[codecarbon WARNING @ 11:57:46] No CPU tracking mode found. Falling back on CPU constant mode.\n",
      "huggingface/tokenizers: The current process just got forked, after parallelism has already been used. Disabling parallelism to avoid deadlocks...\n",
      "To disable this warning, you can either:\n",
      "\t- Avoid using `tokenizers` before the fork if possible\n",
      "\t- Explicitly set the environment variable TOKENIZERS_PARALLELISM=(true | false)\n",
      "[codecarbon WARNING @ 11:57:46] We saw that you have a Apple M3 but we don't know it. Please contact us.\n",
      "/Users/a.villa.massone/miniconda3/envs/frugal-notebooks-env/lib/python3.9/site-packages/transformers/generation/configuration_utils.py:567: UserWarning:\n",
      "\n",
      "`do_sample` is set to `False`. However, `temperature` is set to `0` -- this flag is only used in sample-based generation modes. You should set `do_sample=True` or unset `temperature`.\n",
      "\n",
      "[codecarbon WARNING @ 11:57:58] No CPU tracking mode found. Falling back on CPU constant mode.\n",
      "huggingface/tokenizers: The current process just got forked, after parallelism has already been used. Disabling parallelism to avoid deadlocks...\n",
      "To disable this warning, you can either:\n",
      "\t- Avoid using `tokenizers` before the fork if possible\n",
      "\t- Explicitly set the environment variable TOKENIZERS_PARALLELISM=(true | false)\n",
      "[codecarbon WARNING @ 11:57:58] We saw that you have a Apple M3 but we don't know it. Please contact us.\n",
      "/Users/a.villa.massone/miniconda3/envs/frugal-notebooks-env/lib/python3.9/site-packages/transformers/generation/configuration_utils.py:567: UserWarning:\n",
      "\n",
      "`do_sample` is set to `False`. However, `temperature` is set to `0` -- this flag is only used in sample-based generation modes. You should set `do_sample=True` or unset `temperature`.\n",
      "\n",
      "[codecarbon WARNING @ 11:58:12] No CPU tracking mode found. Falling back on CPU constant mode.\n",
      "huggingface/tokenizers: The current process just got forked, after parallelism has already been used. Disabling parallelism to avoid deadlocks...\n",
      "To disable this warning, you can either:\n",
      "\t- Avoid using `tokenizers` before the fork if possible\n",
      "\t- Explicitly set the environment variable TOKENIZERS_PARALLELISM=(true | false)\n",
      "[codecarbon WARNING @ 11:58:12] We saw that you have a Apple M3 but we don't know it. Please contact us.\n",
      "/Users/a.villa.massone/miniconda3/envs/frugal-notebooks-env/lib/python3.9/site-packages/transformers/generation/configuration_utils.py:567: UserWarning:\n",
      "\n",
      "`do_sample` is set to `False`. However, `temperature` is set to `0` -- this flag is only used in sample-based generation modes. You should set `do_sample=True` or unset `temperature`.\n",
      "\n",
      "[codecarbon WARNING @ 11:58:26] No CPU tracking mode found. Falling back on CPU constant mode.\n",
      "huggingface/tokenizers: The current process just got forked, after parallelism has already been used. Disabling parallelism to avoid deadlocks...\n",
      "To disable this warning, you can either:\n",
      "\t- Avoid using `tokenizers` before the fork if possible\n",
      "\t- Explicitly set the environment variable TOKENIZERS_PARALLELISM=(true | false)\n",
      "[codecarbon WARNING @ 11:58:27] We saw that you have a Apple M3 but we don't know it. Please contact us.\n",
      "/Users/a.villa.massone/miniconda3/envs/frugal-notebooks-env/lib/python3.9/site-packages/transformers/generation/configuration_utils.py:567: UserWarning:\n",
      "\n",
      "`do_sample` is set to `False`. However, `temperature` is set to `0` -- this flag is only used in sample-based generation modes. You should set `do_sample=True` or unset `temperature`.\n",
      "\n",
      "[codecarbon WARNING @ 11:58:40] No CPU tracking mode found. Falling back on CPU constant mode.\n",
      "huggingface/tokenizers: The current process just got forked, after parallelism has already been used. Disabling parallelism to avoid deadlocks...\n",
      "To disable this warning, you can either:\n",
      "\t- Avoid using `tokenizers` before the fork if possible\n",
      "\t- Explicitly set the environment variable TOKENIZERS_PARALLELISM=(true | false)\n",
      "[codecarbon WARNING @ 11:58:40] We saw that you have a Apple M3 but we don't know it. Please contact us.\n",
      "/Users/a.villa.massone/miniconda3/envs/frugal-notebooks-env/lib/python3.9/site-packages/transformers/generation/configuration_utils.py:567: UserWarning:\n",
      "\n",
      "`do_sample` is set to `False`. However, `temperature` is set to `0` -- this flag is only used in sample-based generation modes. You should set `do_sample=True` or unset `temperature`.\n",
      "\n",
      "[codecarbon WARNING @ 11:58:56] No CPU tracking mode found. Falling back on CPU constant mode.\n",
      "huggingface/tokenizers: The current process just got forked, after parallelism has already been used. Disabling parallelism to avoid deadlocks...\n",
      "To disable this warning, you can either:\n",
      "\t- Avoid using `tokenizers` before the fork if possible\n",
      "\t- Explicitly set the environment variable TOKENIZERS_PARALLELISM=(true | false)\n",
      "[codecarbon WARNING @ 11:58:56] We saw that you have a Apple M3 but we don't know it. Please contact us.\n",
      "/Users/a.villa.massone/miniconda3/envs/frugal-notebooks-env/lib/python3.9/site-packages/transformers/generation/configuration_utils.py:567: UserWarning:\n",
      "\n",
      "`do_sample` is set to `False`. However, `temperature` is set to `0` -- this flag is only used in sample-based generation modes. You should set `do_sample=True` or unset `temperature`.\n",
      "\n",
      "[codecarbon WARNING @ 11:59:11] No CPU tracking mode found. Falling back on CPU constant mode.\n",
      "huggingface/tokenizers: The current process just got forked, after parallelism has already been used. Disabling parallelism to avoid deadlocks...\n",
      "To disable this warning, you can either:\n",
      "\t- Avoid using `tokenizers` before the fork if possible\n",
      "\t- Explicitly set the environment variable TOKENIZERS_PARALLELISM=(true | false)\n",
      "[codecarbon WARNING @ 11:59:11] We saw that you have a Apple M3 but we don't know it. Please contact us.\n",
      "/Users/a.villa.massone/miniconda3/envs/frugal-notebooks-env/lib/python3.9/site-packages/transformers/generation/configuration_utils.py:567: UserWarning:\n",
      "\n",
      "`do_sample` is set to `False`. However, `temperature` is set to `0` -- this flag is only used in sample-based generation modes. You should set `do_sample=True` or unset `temperature`.\n",
      "\n",
      "[codecarbon WARNING @ 11:59:22] No CPU tracking mode found. Falling back on CPU constant mode.\n",
      "huggingface/tokenizers: The current process just got forked, after parallelism has already been used. Disabling parallelism to avoid deadlocks...\n",
      "To disable this warning, you can either:\n",
      "\t- Avoid using `tokenizers` before the fork if possible\n",
      "\t- Explicitly set the environment variable TOKENIZERS_PARALLELISM=(true | false)\n",
      "[codecarbon WARNING @ 11:59:23] We saw that you have a Apple M3 but we don't know it. Please contact us.\n",
      "/Users/a.villa.massone/miniconda3/envs/frugal-notebooks-env/lib/python3.9/site-packages/transformers/generation/configuration_utils.py:567: UserWarning:\n",
      "\n",
      "`do_sample` is set to `False`. However, `temperature` is set to `0` -- this flag is only used in sample-based generation modes. You should set `do_sample=True` or unset `temperature`.\n",
      "\n",
      "[codecarbon WARNING @ 11:59:38] No CPU tracking mode found. Falling back on CPU constant mode.\n",
      "huggingface/tokenizers: The current process just got forked, after parallelism has already been used. Disabling parallelism to avoid deadlocks...\n",
      "To disable this warning, you can either:\n",
      "\t- Avoid using `tokenizers` before the fork if possible\n",
      "\t- Explicitly set the environment variable TOKENIZERS_PARALLELISM=(true | false)\n",
      "[codecarbon WARNING @ 11:59:38] We saw that you have a Apple M3 but we don't know it. Please contact us.\n",
      "/Users/a.villa.massone/miniconda3/envs/frugal-notebooks-env/lib/python3.9/site-packages/transformers/generation/configuration_utils.py:567: UserWarning:\n",
      "\n",
      "`do_sample` is set to `False`. However, `temperature` is set to `0` -- this flag is only used in sample-based generation modes. You should set `do_sample=True` or unset `temperature`.\n",
      "\n",
      "[codecarbon WARNING @ 11:59:54] No CPU tracking mode found. Falling back on CPU constant mode.\n",
      "huggingface/tokenizers: The current process just got forked, after parallelism has already been used. Disabling parallelism to avoid deadlocks...\n",
      "To disable this warning, you can either:\n",
      "\t- Avoid using `tokenizers` before the fork if possible\n",
      "\t- Explicitly set the environment variable TOKENIZERS_PARALLELISM=(true | false)\n",
      "[codecarbon WARNING @ 11:59:54] We saw that you have a Apple M3 but we don't know it. Please contact us.\n",
      "/Users/a.villa.massone/miniconda3/envs/frugal-notebooks-env/lib/python3.9/site-packages/transformers/generation/configuration_utils.py:567: UserWarning:\n",
      "\n",
      "`do_sample` is set to `False`. However, `temperature` is set to `0` -- this flag is only used in sample-based generation modes. You should set `do_sample=True` or unset `temperature`.\n",
      "\n",
      "[codecarbon WARNING @ 12:00:06] No CPU tracking mode found. Falling back on CPU constant mode.\n",
      "huggingface/tokenizers: The current process just got forked, after parallelism has already been used. Disabling parallelism to avoid deadlocks...\n",
      "To disable this warning, you can either:\n",
      "\t- Avoid using `tokenizers` before the fork if possible\n",
      "\t- Explicitly set the environment variable TOKENIZERS_PARALLELISM=(true | false)\n",
      "[codecarbon WARNING @ 12:00:06] We saw that you have a Apple M3 but we don't know it. Please contact us.\n",
      "/Users/a.villa.massone/miniconda3/envs/frugal-notebooks-env/lib/python3.9/site-packages/transformers/generation/configuration_utils.py:567: UserWarning:\n",
      "\n",
      "`do_sample` is set to `False`. However, `temperature` is set to `0` -- this flag is only used in sample-based generation modes. You should set `do_sample=True` or unset `temperature`.\n",
      "\n",
      "[codecarbon WARNING @ 12:00:22] No CPU tracking mode found. Falling back on CPU constant mode.\n",
      "huggingface/tokenizers: The current process just got forked, after parallelism has already been used. Disabling parallelism to avoid deadlocks...\n",
      "To disable this warning, you can either:\n",
      "\t- Avoid using `tokenizers` before the fork if possible\n",
      "\t- Explicitly set the environment variable TOKENIZERS_PARALLELISM=(true | false)\n",
      "[codecarbon WARNING @ 12:00:22] We saw that you have a Apple M3 but we don't know it. Please contact us.\n",
      "/Users/a.villa.massone/miniconda3/envs/frugal-notebooks-env/lib/python3.9/site-packages/transformers/generation/configuration_utils.py:567: UserWarning:\n",
      "\n",
      "`do_sample` is set to `False`. However, `temperature` is set to `0` -- this flag is only used in sample-based generation modes. You should set `do_sample=True` or unset `temperature`.\n",
      "\n",
      "[codecarbon WARNING @ 12:00:36] No CPU tracking mode found. Falling back on CPU constant mode.\n",
      "huggingface/tokenizers: The current process just got forked, after parallelism has already been used. Disabling parallelism to avoid deadlocks...\n",
      "To disable this warning, you can either:\n",
      "\t- Avoid using `tokenizers` before the fork if possible\n",
      "\t- Explicitly set the environment variable TOKENIZERS_PARALLELISM=(true | false)\n",
      "[codecarbon WARNING @ 12:00:36] We saw that you have a Apple M3 but we don't know it. Please contact us.\n",
      "/Users/a.villa.massone/miniconda3/envs/frugal-notebooks-env/lib/python3.9/site-packages/transformers/generation/configuration_utils.py:567: UserWarning:\n",
      "\n",
      "`do_sample` is set to `False`. However, `temperature` is set to `0` -- this flag is only used in sample-based generation modes. You should set `do_sample=True` or unset `temperature`.\n",
      "\n",
      "[codecarbon WARNING @ 12:00:49] No CPU tracking mode found. Falling back on CPU constant mode.\n",
      "huggingface/tokenizers: The current process just got forked, after parallelism has already been used. Disabling parallelism to avoid deadlocks...\n",
      "To disable this warning, you can either:\n",
      "\t- Avoid using `tokenizers` before the fork if possible\n",
      "\t- Explicitly set the environment variable TOKENIZERS_PARALLELISM=(true | false)\n",
      "[codecarbon WARNING @ 12:00:49] We saw that you have a Apple M3 but we don't know it. Please contact us.\n",
      "/Users/a.villa.massone/miniconda3/envs/frugal-notebooks-env/lib/python3.9/site-packages/transformers/generation/configuration_utils.py:567: UserWarning:\n",
      "\n",
      "`do_sample` is set to `False`. However, `temperature` is set to `0` -- this flag is only used in sample-based generation modes. You should set `do_sample=True` or unset `temperature`.\n",
      "\n",
      "[codecarbon WARNING @ 12:01:06] No CPU tracking mode found. Falling back on CPU constant mode.\n",
      "huggingface/tokenizers: The current process just got forked, after parallelism has already been used. Disabling parallelism to avoid deadlocks...\n",
      "To disable this warning, you can either:\n",
      "\t- Avoid using `tokenizers` before the fork if possible\n",
      "\t- Explicitly set the environment variable TOKENIZERS_PARALLELISM=(true | false)\n",
      "[codecarbon WARNING @ 12:01:07] We saw that you have a Apple M3 but we don't know it. Please contact us.\n",
      "/Users/a.villa.massone/miniconda3/envs/frugal-notebooks-env/lib/python3.9/site-packages/transformers/generation/configuration_utils.py:567: UserWarning:\n",
      "\n",
      "`do_sample` is set to `False`. However, `temperature` is set to `0` -- this flag is only used in sample-based generation modes. You should set `do_sample=True` or unset `temperature`.\n",
      "\n"
     ]
    },
    {
     "name": "stdout",
     "output_type": "stream",
     "text": [
      "CPU times: user 23.4 s, sys: 5min 22s, total: 5min 46s\n",
      "Wall time: 11min 15s\n"
     ]
    }
   ],
   "source": [
    "%%time\n",
    "\n",
    "predictions = []\n",
    "latencies = []\n",
    "energy_conso = []\n",
    "errors = 0\n",
    "\n",
    "for text, true_label in zip(texts, true_labels):\n",
    "    try:\n",
    "        pred, lat, ems = classify_text(text, tokenizer, model)\n",
    "\n",
    "        pred = parse_output(pred)\n",
    "        predictions.append(pred)\n",
    "        latencies.append(lat)\n",
    "        energy_conso.append(ems)\n",
    "\n",
    "        if pred == \"error\":\n",
    "            errors += 1\n",
    "    except Exception as e:\n",
    "        predictions.append(\"error\")\n",
    "        errors += 1\n",
    "        print(f\"Error processing: {text[:50]}... -> {str(e)}\")"
   ]
  },
  {
   "cell_type": "code",
   "execution_count": 45,
   "id": "9494bf03-3dca-4d45-8eb3-b24eb23ef227",
   "metadata": {},
   "outputs": [
    {
     "name": "stdout",
     "output_type": "stream",
     "text": [
      "total_latency for 50 samples: 586.67 seconds\n",
      "average_latency: 11.73 seconds per sample\n",
      "total_energy_conso: 0.000487 kWh\n",
      "average_energy_conso: 0.000010 kWh per sample\n",
      "Average Power Consumption: 0.000830 W\n"
     ]
    }
   ],
   "source": [
    "results = pd.DataFrame({\n",
    "    'text': [t[:100]+'...' for t in texts],\n",
    "    'true': true_labels,\n",
    "    'pred': predictions\n",
    "})\n",
    "results[\"correct\"] = results[\"true\"] == results[\"pred\"]\n",
    "\n",
    "total_latency = np.sum(latencies)\n",
    "average_latency = np.mean(latencies)\n",
    "total_energy_conso = np.sum(energy_conso)\n",
    "average_energy_conso = np.mean(energy_conso)\n",
    "average_power_W = total_energy_conso * 1000 / total_latency\n",
    "\n",
    "print(f\"total_latency for {N_SAMPLES} samples: {total_latency:.2f} seconds\")\n",
    "print(f\"average_latency: {average_latency:.2f} seconds per sample\")\n",
    "print(f\"total_energy_conso: {total_energy_conso:.6f} kWh\")\n",
    "print(f\"average_energy_conso: {average_energy_conso:.6f} kWh per sample\")\n",
    "print(f\"Average Power Consumption: {average_power_W:.6f} W\")"
   ]
  },
  {
   "cell_type": "code",
   "execution_count": 46,
   "id": "8f48be11-1316-47f9-bb56-fc3d6356173f",
   "metadata": {},
   "outputs": [
    {
     "data": {
      "text/html": [
       "<div>\n",
       "<style scoped>\n",
       "    .dataframe tbody tr th:only-of-type {\n",
       "        vertical-align: middle;\n",
       "    }\n",
       "\n",
       "    .dataframe tbody tr th {\n",
       "        vertical-align: top;\n",
       "    }\n",
       "\n",
       "    .dataframe thead th {\n",
       "        text-align: right;\n",
       "    }\n",
       "</style>\n",
       "<table border=\"1\" class=\"dataframe\">\n",
       "  <thead>\n",
       "    <tr style=\"text-align: right;\">\n",
       "      <th></th>\n",
       "      <th>text</th>\n",
       "      <th>true</th>\n",
       "      <th>pred</th>\n",
       "      <th>correct</th>\n",
       "    </tr>\n",
       "  </thead>\n",
       "  <tbody>\n",
       "    <tr>\n",
       "      <th>0</th>\n",
       "      <td>Mann could be said to be the Jerry Sandusky of...</td>\n",
       "      <td>6_proponents_biased</td>\n",
       "      <td>6_proponents_biased</td>\n",
       "      <td>True</td>\n",
       "    </tr>\n",
       "    <tr>\n",
       "      <th>1</th>\n",
       "      <td>The reality is that the infra-red active gases...</td>\n",
       "      <td>2_not_human</td>\n",
       "      <td>0_not_relevant</td>\n",
       "      <td>False</td>\n",
       "    </tr>\n",
       "    <tr>\n",
       "      <th>2</th>\n",
       "      <td>“Late 20th century and early 21st century glob...</td>\n",
       "      <td>3_not_bad</td>\n",
       "      <td>1_not_happening</td>\n",
       "      <td>False</td>\n",
       "    </tr>\n",
       "    <tr>\n",
       "      <th>3</th>\n",
       "      <td>Our research has shown that the concentration ...</td>\n",
       "      <td>2_not_human</td>\n",
       "      <td>1_not_happening</td>\n",
       "      <td>False</td>\n",
       "    </tr>\n",
       "    <tr>\n",
       "      <th>4</th>\n",
       "      <td>I am speaking only as a layman who observes th...</td>\n",
       "      <td>1_not_happening</td>\n",
       "      <td>1_not_happening</td>\n",
       "      <td>True</td>\n",
       "    </tr>\n",
       "  </tbody>\n",
       "</table>\n",
       "</div>"
      ],
      "text/plain": [
       "                                                text                 true  \\\n",
       "0  Mann could be said to be the Jerry Sandusky of...  6_proponents_biased   \n",
       "1  The reality is that the infra-red active gases...          2_not_human   \n",
       "2  “Late 20th century and early 21st century glob...            3_not_bad   \n",
       "3  Our research has shown that the concentration ...          2_not_human   \n",
       "4  I am speaking only as a layman who observes th...      1_not_happening   \n",
       "\n",
       "                  pred  correct  \n",
       "0  6_proponents_biased     True  \n",
       "1       0_not_relevant    False  \n",
       "2      1_not_happening    False  \n",
       "3      1_not_happening    False  \n",
       "4      1_not_happening     True  "
      ]
     },
     "execution_count": 46,
     "metadata": {},
     "output_type": "execute_result"
    }
   ],
   "source": [
    "results.head()"
   ]
  },
  {
   "cell_type": "markdown",
   "id": "49ad7295-84ac-4383-893d-62727b3a9a40",
   "metadata": {},
   "source": [
    "**Metrics**"
   ]
  },
  {
   "cell_type": "code",
   "execution_count": 47,
   "id": "9b0544a2-6bd3-4196-ae88-48c9160ba8cc",
   "metadata": {},
   "outputs": [
    {
     "name": "stderr",
     "output_type": "stream",
     "text": [
      "/Users/a.villa.massone/miniconda3/envs/frugal-notebooks-env/lib/python3.9/site-packages/sklearn/metrics/_classification.py:1531: UndefinedMetricWarning:\n",
      "\n",
      "Precision is ill-defined and being set to 0.0 in labels with no predicted samples. Use `zero_division` parameter to control this behavior.\n",
      "\n"
     ]
    },
    {
     "name": "stdout",
     "output_type": "stream",
     "text": [
      "Evaluation for 50 samples\n",
      "Average latency per sample: 11.73 seconds\n",
      "Average energy consumption : 0.000010 kgCO₂eq\n",
      "Accuracy (excluding errors): 36.00%\n",
      "Error rate: 0.00%\n"
     ]
    },
    {
     "data": {
      "image/png": "[encoded data removed]",
      "text/plain": [
       "<Figure size 1400x600 with 2 Axes>"
      ]
     },
     "metadata": {},
     "output_type": "display_data"
    }
   ],
   "source": [
    "import numpy as np\n",
    "import pandas as pd\n",
    "import matplotlib.pyplot as plt\n",
    "\n",
    "# Compute basic metrics\n",
    "correct = np.sum(results[\"correct\"])\n",
    "accuracy = accuracy_score(results[\"true\"], results[\"pred\"])\n",
    "category_names = sorted(results[\"true\"].unique())\n",
    "\n",
    "precision = precision_score(results[\"true\"], results[\"pred\"], average=None, labels=category_names)\n",
    "recall = recall_score(results[\"true\"], results[\"pred\"], average=None, labels=category_names)\n",
    "f1 = f1_score(results[\"true\"], results[\"pred\"], average=None, labels=category_names)\n",
    "class_accuracy = pd.DataFrame(results).groupby(\"true\")[\"correct\"].mean().values\n",
    "\n",
    "# Create a DataFrame with the metrics per category\n",
    "metrics_df = pd.DataFrame({\n",
    "    \"Category\": category_names,\n",
    "    \"Accuracy\": class_accuracy,\n",
    "    \"Precision\": precision,\n",
    "    \"Recall\": recall,\n",
    "    \"F1 Score\": f1\n",
    "})\n",
    "\n",
    "print(f\"Evaluation for {N_SAMPLES} samples\")\n",
    "print(f\"Average latency per sample: {average_latency:.2f} seconds\")\n",
    "print(f\"Average energy consumption : {average_energy_conso:.6f} kgCO₂eq\")\n",
    "print(f\"Accuracy (excluding errors): {accuracy:.2%}\")\n",
    "print(f\"Error rate: {errors/N_SAMPLES:.2%}\")\n",
    "\n",
    "# Compute performance breakdown\n",
    "performance = pd.DataFrame({\n",
    "    'Outcome': ['Correct', 'Incorrect', 'Error'],\n",
    "    'Count': [\n",
    "        correct,\n",
    "        len(results) - correct - errors,\n",
    "        errors\n",
    "    ]\n",
    "})\n",
    "\n",
    "# Create side-by-side plots\n",
    "fig, axes = plt.subplots(1, 2, figsize=(14, 6))\n",
    "\n",
    "# First plot: Classification performance breakdown\n",
    "axes[0].bar(performance['Outcome'], performance['Count'], color=['green', 'red', 'gray'])\n",
    "axes[0].set_title(\"Classification Performance Breakdown\", fontsize=14)\n",
    "axes[0].set_ylabel(\"Count\", fontsize=12)\n",
    "axes[0].set_xlabel(\"Outcome\", fontsize=12)\n",
    "\n",
    "# Second plot: Classification metrics per category\n",
    "metrics_df.set_index(\"Category\").plot(kind=\"bar\", width=0.8, ax=axes[1])\n",
    "axes[1].axhline(y=accuracy, color='blue', linestyle='dashed', linewidth=2, label=f'Total Accuracy: {accuracy:.2%}')\n",
    "axes[1].set_title(\"Classification Metrics per Category\", fontsize=14)\n",
    "axes[1].set_ylabel(\"Score\", fontsize=12)\n",
    "axes[1].set_xlabel(\"Category\", fontsize=12)\n",
    "axes[1].set_xticklabels(metrics_df[\"Category\"], rotation=45, ha=\"right\")\n",
    "axes[1].legend(title=\"Metrics\", bbox_to_anchor=(1.05, 1), loc='upper left')\n",
    "\n",
    "plt.tight_layout()\n",
    "plt.show()"
   ]
  },
  {
   "cell_type": "markdown",
   "id": "0dd36a70-e4a7-48f6-a5d1-5b3d5e1f4093",
   "metadata": {},
   "source": [
    "**Let's save the results**"
   ]
  },
  {
   "cell_type": "code",
   "execution_count": 48,
   "id": "ab8277ac-0688-4f0e-bf9c-092c55cfbb79",
   "metadata": {},
   "outputs": [
    {
     "data": {
      "text/plain": [
       "'2025-01-28_12:01:23'"
      ]
     },
     "execution_count": 48,
     "metadata": {},
     "output_type": "execute_result"
    }
   ],
   "source": [
    "import datetime\n",
    "timestamp = datetime.datetime.now().strftime(\"%Y-%m-%d_%H:%M:%S\")\n",
    "timestamp"
   ]
  },
  {
   "cell_type": "code",
   "execution_count": 49,
   "id": "9932a72d-a9a6-488b-a627-92ee16693323",
   "metadata": {},
   "outputs": [
    {
     "data": {
      "text/plain": [
       "'metrics/mistralai_Mistral-7B-Instruct-v0.1_accuracy_36_dt_20250128_120123.json'"
      ]
     },
     "execution_count": 49,
     "metadata": {},
     "output_type": "execute_result"
    }
   ],
   "source": [
    "filename = (\n",
    "    \"metrics/\"\n",
    "    f\"{'_'.join(model_name.split('/'))}\"\n",
    "    f\"_accuracy_{int(accuracy * 100)}\"\n",
    "    f\"_dt_{timestamp.replace(':', '').replace('-', '')}\"\n",
    "    \".json\"\n",
    ")\n",
    "filename"
   ]
  },
  {
   "cell_type": "code",
   "execution_count": 50,
   "id": "10d36b1e-6000-49db-97fe-96abe94a961b",
   "metadata": {},
   "outputs": [],
   "source": [
    "note = \"Baseline SLM, prompt engineering - quote cropping, no fine-tune\""
   ]
  },
  {
   "cell_type": "code",
   "execution_count": 51,
   "id": "d80425ac-a12a-4fd4-94f9-501b79acaa9a",
   "metadata": {},
   "outputs": [
    {
     "name": "stdout",
     "output_type": "stream",
     "text": [
      "Metrics saved to metrics/mistralai_Mistral-7B-Instruct-v0.1_accuracy_36_dt_20250128_120123.json\n"
     ]
    }
   ],
   "source": [
    "# ajouter category metrics\n",
    "\n",
    "import json\n",
    "import os\n",
    "\n",
    "os.makedirs(\"metrics\", exist_ok=True)\n",
    "\n",
    "data = {\n",
    "    \"model_name\": model_name,\n",
    "    \"timestamp\": timestamp,\n",
    "    \"accuracy\": accuracy,\n",
    "    \"average_latency_sec\": average_latency,\n",
    "    \"average_energy_consumption_kWh\": total_energy_conso,\n",
    "    \"average_power_W\": average_power_W,\n",
    "    \"sample_base\" : N_SAMPLES,\n",
    "    \"note\": note,\n",
    "    \"class_metrics\": metrics_df.to_dict(orient=\"records\")\n",
    "}\n",
    "\n",
    "with open(filename, \"w\") as f:\n",
    "    json.dump(data, f, indent=4)\n",
    "\n",
    "print(f\"Metrics saved to {filename}\")"
   ]
  }
 ],
 "metadata": {
  "kernelspec": {
   "display_name": "Python 3 (ipykernel)",
   "language": "python",
   "name": "python3"
  },
  "language_info": {
   "codemirror_mode": {
    "name": "ipython",
    "version": 3
   },
   "file_extension": ".py",
   "mimetype": "text/x-python",
   "name": "python",
   "nbconvert_exporter": "python",
   "pygments_lexer": "ipython3",
   "version": "3.9.21"
  }
 },
 "nbformat": 4,
 "nbformat_minor": 5
}

{
 "cells": [
  {
   "cell_type": "markdown",
   "id": "785093bc-a9bc-4c7c-a431-76b78a3a5afd",
   "metadata": {
    "jp-MarkdownHeadingCollapsed": true
   },
   "source": [
    "##### **Before starting ...**"
   ]
  },
  {
   "cell_type": "markdown",
   "id": "ac9d3e0c-ee7e-49e0-8a7f-49510268baa5",
   "metadata": {},
   "source": [
    "Checking we are using **frugal-notebooks-env** conda environment"
   ]
  },
  {
   "cell_type": "code",
   "execution_count": 2,
   "id": "ecb9e1f2-1013-48b5-9b08-2b8ccb65b3f6",
   "metadata": {},
   "outputs": [
    {
     "name": "stdout",
     "output_type": "stream",
     "text": [
      "/Users/a.villa.massone/miniconda3/envs/frugal-notebooks-env/bin/python\n"
     ]
    }
   ],
   "source": [
    "!which python"
   ]
  },
  {
   "cell_type": "markdown",
   "id": "49ec74cc-50ae-41e2-9c2e-7096d05d2e26",
   "metadata": {},
   "source": [
    "Checking the python version is 3.9 (compatibility with frugal AI codebase)"
   ]
  },
  {
   "cell_type": "code",
   "execution_count": 3,
   "id": "43c17006-1494-4255-a8b4-58a66fb137f2",
   "metadata": {},
   "outputs": [
    {
     "name": "stdout",
     "output_type": "stream",
     "text": [
      "Python 3.9.21\n"
     ]
    }
   ],
   "source": [
    "!python --version"
   ]
  },
  {
   "cell_type": "markdown",
   "id": "51276a7e-dcd6-4121-ad58-912b942acb3e",
   "metadata": {},
   "source": [
    "# XGBoost"
   ]
  },
  {
   "cell_type": "markdown",
   "id": "122658a4-2acc-4b74-b7d7-206f63ed014c",
   "metadata": {
    "jp-MarkdownHeadingCollapsed": true
   },
   "source": [
    "## 1. **Dataset Exploration**"
   ]
  },
  {
   "cell_type": "code",
   "execution_count": 4,
   "id": "052c0d71-ec7c-4288-b5c3-ff6f62145db2",
   "metadata": {},
   "outputs": [],
   "source": [
    "import numpy as np\n",
    "import pandas as pd"
   ]
  },
  {
   "cell_type": "markdown",
   "id": "8ee538d8-fb3a-49da-ad2f-9de1149e774a",
   "metadata": {},
   "source": [
    "**Loading the dataset**"
   ]
  },
  {
   "cell_type": "code",
   "execution_count": 5,
   "id": "d62fb4ee-732d-43d2-87f5-2b701f3a1ef7",
   "metadata": {},
   "outputs": [],
   "source": [
    "df = pd.read_parquet(\"hf://datasets/QuotaClimat/frugalaichallenge-text-train/train.parquet\")"
   ]
  },
  {
   "cell_type": "code",
   "execution_count": 6,
   "id": "a2d891b9-53c0-4f9f-9574-786f7de004d5",
   "metadata": {},
   "outputs": [
    {
     "data": {
      "text/html": [
       "<div>\n",
       "<style scoped>\n",
       "    .dataframe tbody tr th:only-of-type {\n",
       "        vertical-align: middle;\n",
       "    }\n",
       "\n",
       "    .dataframe tbody tr th {\n",
       "        vertical-align: top;\n",
       "    }\n",
       "\n",
       "    .dataframe thead th {\n",
       "        text-align: right;\n",
       "    }\n",
       "</style>\n",
       "<table border=\"1\" class=\"dataframe\">\n",
       "  <thead>\n",
       "    <tr style=\"text-align: right;\">\n",
       "      <th></th>\n",
       "      <th>quote</th>\n",
       "      <th>label</th>\n",
       "      <th>source</th>\n",
       "      <th>url</th>\n",
       "      <th>language</th>\n",
       "      <th>subsource</th>\n",
       "      <th>id</th>\n",
       "    </tr>\n",
       "  </thead>\n",
       "  <tbody>\n",
       "    <tr>\n",
       "      <th>0</th>\n",
       "      <td>There is clear, compelling evidence that many ...</td>\n",
       "      <td>5_science_unreliable</td>\n",
       "      <td>FLICC</td>\n",
       "      <td>https://huggingface.co/datasets/fzanartu/FLICC...</td>\n",
       "      <td>en</td>\n",
       "      <td>CARDS</td>\n",
       "      <td>None</td>\n",
       "    </tr>\n",
       "    <tr>\n",
       "      <th>1</th>\n",
       "      <td>For most of the Holocene (last 10k years), sea...</td>\n",
       "      <td>1_not_happening</td>\n",
       "      <td>FLICC</td>\n",
       "      <td>https://huggingface.co/datasets/fzanartu/FLICC...</td>\n",
       "      <td>en</td>\n",
       "      <td>hamburg_test1</td>\n",
       "      <td>None</td>\n",
       "    </tr>\n",
       "    <tr>\n",
       "      <th>2</th>\n",
       "      <td>China, which hosts U.N. climate talks next wee...</td>\n",
       "      <td>4_solutions_harmful_unnecessary</td>\n",
       "      <td>FLICC</td>\n",
       "      <td>https://huggingface.co/datasets/fzanartu/FLICC...</td>\n",
       "      <td>en</td>\n",
       "      <td>CARDS</td>\n",
       "      <td>None</td>\n",
       "    </tr>\n",
       "    <tr>\n",
       "      <th>3</th>\n",
       "      <td>And the fabricated documents (which Dr. Mann a...</td>\n",
       "      <td>0_not_relevant</td>\n",
       "      <td>FLICC</td>\n",
       "      <td>https://huggingface.co/datasets/fzanartu/FLICC...</td>\n",
       "      <td>en</td>\n",
       "      <td>CARDS</td>\n",
       "      <td>None</td>\n",
       "    </tr>\n",
       "    <tr>\n",
       "      <th>4</th>\n",
       "      <td>It's going to be 42 here today and the hottest...</td>\n",
       "      <td>1_not_happening</td>\n",
       "      <td>FLICC</td>\n",
       "      <td>https://huggingface.co/datasets/fzanartu/FLICC...</td>\n",
       "      <td>en</td>\n",
       "      <td>hamburg_test3</td>\n",
       "      <td>None</td>\n",
       "    </tr>\n",
       "  </tbody>\n",
       "</table>\n",
       "</div>"
      ],
      "text/plain": [
       "                                               quote  \\\n",
       "0  There is clear, compelling evidence that many ...   \n",
       "1  For most of the Holocene (last 10k years), sea...   \n",
       "2  China, which hosts U.N. climate talks next wee...   \n",
       "3  And the fabricated documents (which Dr. Mann a...   \n",
       "4  It's going to be 42 here today and the hottest...   \n",
       "\n",
       "                             label source  \\\n",
       "0             5_science_unreliable  FLICC   \n",
       "1                  1_not_happening  FLICC   \n",
       "2  4_solutions_harmful_unnecessary  FLICC   \n",
       "3                   0_not_relevant  FLICC   \n",
       "4                  1_not_happening  FLICC   \n",
       "\n",
       "                                                 url language      subsource  \\\n",
       "0  https://huggingface.co/datasets/fzanartu/FLICC...       en          CARDS   \n",
       "1  https://huggingface.co/datasets/fzanartu/FLICC...       en  hamburg_test1   \n",
       "2  https://huggingface.co/datasets/fzanartu/FLICC...       en          CARDS   \n",
       "3  https://huggingface.co/datasets/fzanartu/FLICC...       en          CARDS   \n",
       "4  https://huggingface.co/datasets/fzanartu/FLICC...       en  hamburg_test3   \n",
       "\n",
       "     id  \n",
       "0  None  \n",
       "1  None  \n",
       "2  None  \n",
       "3  None  \n",
       "4  None  "
      ]
     },
     "execution_count": 6,
     "metadata": {},
     "output_type": "execute_result"
    }
   ],
   "source": [
    "df.head()"
   ]
  },
  {
   "cell_type": "markdown",
   "id": "3ddb7f30-5713-49b9-a32c-ea5afb165d81",
   "metadata": {},
   "source": [
    "**We will only use the quote and label columns**"
   ]
  },
  {
   "cell_type": "code",
   "execution_count": 7,
   "id": "5fd9deea-e81e-492b-95b4-ed8407cd4571",
   "metadata": {},
   "outputs": [
    {
     "data": {
      "text/plain": [
       "Index(['quote', 'label', 'source', 'url', 'language', 'subsource', 'id'], dtype='object')"
      ]
     },
     "execution_count": 7,
     "metadata": {},
     "output_type": "execute_result"
    }
   ],
   "source": [
    "df.columns"
   ]
  },
  {
   "cell_type": "code",
   "execution_count": 8,
   "id": "46c21f52-b3fa-4b83-9c1c-936bef845f91",
   "metadata": {},
   "outputs": [
    {
     "data": {
      "text/html": [
       "<div>\n",
       "<style scoped>\n",
       "    .dataframe tbody tr th:only-of-type {\n",
       "        vertical-align: middle;\n",
       "    }\n",
       "\n",
       "    .dataframe tbody tr th {\n",
       "        vertical-align: top;\n",
       "    }\n",
       "\n",
       "    .dataframe thead th {\n",
       "        text-align: right;\n",
       "    }\n",
       "</style>\n",
       "<table border=\"1\" class=\"dataframe\">\n",
       "  <thead>\n",
       "    <tr style=\"text-align: right;\">\n",
       "      <th></th>\n",
       "      <th>quote</th>\n",
       "      <th>label</th>\n",
       "    </tr>\n",
       "  </thead>\n",
       "  <tbody>\n",
       "    <tr>\n",
       "      <th>0</th>\n",
       "      <td>There is clear, compelling evidence that many ...</td>\n",
       "      <td>5_science_unreliable</td>\n",
       "    </tr>\n",
       "    <tr>\n",
       "      <th>1</th>\n",
       "      <td>For most of the Holocene (last 10k years), sea...</td>\n",
       "      <td>1_not_happening</td>\n",
       "    </tr>\n",
       "    <tr>\n",
       "      <th>2</th>\n",
       "      <td>China, which hosts U.N. climate talks next wee...</td>\n",
       "      <td>4_solutions_harmful_unnecessary</td>\n",
       "    </tr>\n",
       "    <tr>\n",
       "      <th>3</th>\n",
       "      <td>And the fabricated documents (which Dr. Mann a...</td>\n",
       "      <td>0_not_relevant</td>\n",
       "    </tr>\n",
       "    <tr>\n",
       "      <th>4</th>\n",
       "      <td>It's going to be 42 here today and the hottest...</td>\n",
       "      <td>1_not_happening</td>\n",
       "    </tr>\n",
       "  </tbody>\n",
       "</table>\n",
       "</div>"
      ],
      "text/plain": [
       "                                               quote  \\\n",
       "0  There is clear, compelling evidence that many ...   \n",
       "1  For most of the Holocene (last 10k years), sea...   \n",
       "2  China, which hosts U.N. climate talks next wee...   \n",
       "3  And the fabricated documents (which Dr. Mann a...   \n",
       "4  It's going to be 42 here today and the hottest...   \n",
       "\n",
       "                             label  \n",
       "0             5_science_unreliable  \n",
       "1                  1_not_happening  \n",
       "2  4_solutions_harmful_unnecessary  \n",
       "3                   0_not_relevant  \n",
       "4                  1_not_happening  "
      ]
     },
     "execution_count": 8,
     "metadata": {},
     "output_type": "execute_result"
    }
   ],
   "source": [
    "df = df[['quote', 'label']]\n",
    "df.head()"
   ]
  },
  {
   "cell_type": "markdown",
   "id": "44583e43-3572-42fb-98f6-70b27ee54488",
   "metadata": {},
   "source": [
    "**The label have 8 classes**"
   ]
  },
  {
   "cell_type": "code",
   "execution_count": 9,
   "id": "80a4ee62-9b16-46a7-8a0f-605a808216fb",
   "metadata": {},
   "outputs": [
    {
     "name": "stdout",
     "output_type": "stream",
     "text": [
      "unique values:\n",
      "label\n",
      " ['5_science_unreliable' '1_not_happening'\n",
      " '4_solutions_harmful_unnecessary' '0_not_relevant' '6_proponents_biased'\n",
      " '7_fossil_fuels_needed' '2_not_human' '3_not_bad']\n"
     ]
    }
   ],
   "source": [
    "print('unique values:')\n",
    "print('label\\n', df['label'].unique())"
   ]
  },
  {
   "cell_type": "markdown",
   "id": "9a5be8ac-fbeb-4c27-92cd-699e3e8304e1",
   "metadata": {},
   "source": [
    "**No duplicate quotes**"
   ]
  },
  {
   "cell_type": "code",
   "execution_count": 10,
   "id": "e45e2e44-de8e-4f98-8881-4f5f920e6029",
   "metadata": {},
   "outputs": [
    {
     "data": {
      "text/plain": [
       "0"
      ]
     },
     "execution_count": 10,
     "metadata": {},
     "output_type": "execute_result"
    }
   ],
   "source": [
    "df['quote'].duplicated().sum()"
   ]
  },
  {
   "cell_type": "markdown",
   "id": "95ab1fc4-47f5-4088-9de4-2a14a1aaa029",
   "metadata": {},
   "source": [
    "**But we have a bit of unbalanced classes (that we will have to take care of)**"
   ]
  },
  {
   "cell_type": "code",
   "execution_count": 11,
   "id": "bf814c75-e591-4843-9c25-3408cbd81e8b",
   "metadata": {},
   "outputs": [
    {
     "data": {
      "text/plain": [
       "label\n",
       "0_not_relevant                     0.265638\n",
       "1_not_happening                    0.121655\n",
       "2_not_human                        0.115252\n",
       "3_not_bad                          0.063372\n",
       "4_solutions_harmful_unnecessary    0.127073\n",
       "5_science_unreliable               0.131505\n",
       "6_proponents_biased                0.128386\n",
       "7_fossil_fuels_needed              0.047119\n",
       "Name: proportion, dtype: float64"
      ]
     },
     "execution_count": 11,
     "metadata": {},
     "output_type": "execute_result"
    }
   ],
   "source": [
    "class_distribution = df['label'].value_counts().sort_index()\n",
    "df['label'].value_counts(normalize=True).sort_index()"
   ]
  },
  {
   "cell_type": "code",
   "execution_count": 12,
   "id": "e9f8dc00-ee83-4a36-84c2-0d5b5856fdc9",
   "metadata": {},
   "outputs": [
    {
     "data": {
      "text/html": [
       "<iframe\n",
       "    scrolling=\"no\"\n",
       "    width=\"920px\"\n",
       "    height=\"420\"\n",
       "    src=\"iframe_figures/figure_12.html\"\n",
       "    frameborder=\"0\"\n",
       "    allowfullscreen\n",
       "></iframe>\n"
      ]
     },
     "metadata": {},
     "output_type": "display_data"
    }
   ],
   "source": [
    "import plotly.express as px\n",
    "\n",
    "fig = px.bar(x=class_distribution.index, y=class_distribution.values, \n",
    "             labels={'x': 'Label', 'y': 'Count'})\n",
    "fig.update_layout(width=900, height=400, title=\"Class Distribution\")\n",
    "fig.show(renderer='iframe')"
   ]
  },
  {
   "cell_type": "markdown",
   "id": "a242055b-9ed5-46e9-ba07-cbb370929a47",
   "metadata": {},
   "source": [
    "**No missing values**"
   ]
  },
  {
   "cell_type": "code",
   "execution_count": 13,
   "id": "54089e93-da70-487d-90f0-181ee8886ba4",
   "metadata": {},
   "outputs": [
    {
     "name": "stdout",
     "output_type": "stream",
     "text": [
      "quote    0\n",
      "label    0\n",
      "dtype: int64\n"
     ]
    }
   ],
   "source": [
    "missing_values = df.isnull().sum()\n",
    "print(missing_values)"
   ]
  },
  {
   "cell_type": "markdown",
   "id": "d54f0302-7fe7-4c3f-a74f-fd9232d9cc65",
   "metadata": {},
   "source": [
    "**We will need to crop some quotes**"
   ]
  },
  {
   "cell_type": "code",
   "execution_count": 14,
   "id": "ed6dcf12-b146-4179-add1-c33b60accaf6",
   "metadata": {},
   "outputs": [
    {
     "name": "stdout",
     "output_type": "stream",
     "text": [
      "count    6091.000000\n",
      "mean      293.528485\n",
      "std       258.330755\n",
      "min        19.000000\n",
      "25%       139.000000\n",
      "50%       228.000000\n",
      "75%       365.000000\n",
      "max      4703.000000\n",
      "Name: text_length, dtype: float64\n"
     ]
    }
   ],
   "source": [
    "df['text_length'] = df['quote'].str.len()\n",
    "print(df['text_length'].describe())"
   ]
  },
  {
   "cell_type": "code",
   "execution_count": 15,
   "id": "ae22f6ee-1051-4415-9f6c-3e95cfbd79da",
   "metadata": {},
   "outputs": [
    {
     "data": {
      "text/html": [
       "<iframe\n",
       "    scrolling=\"no\"\n",
       "    width=\"820px\"\n",
       "    height=\"320\"\n",
       "    src=\"iframe_figures/figure_15.html\"\n",
       "    frameborder=\"0\"\n",
       "    allowfullscreen\n",
       "></iframe>\n"
      ]
     },
     "metadata": {},
     "output_type": "display_data"
    }
   ],
   "source": [
    "fig = px.histogram(df, x='text_length', nbins=50)\n",
    "fig.update_layout(width=800, height=300, title=\"Sentence Length Distribution\")\n",
    "fig.show(renderer='iframe')"
   ]
  },
  {
   "cell_type": "code",
   "execution_count": 16,
   "id": "cf6c6999-0b40-4791-bb8f-34bd3011b744",
   "metadata": {},
   "outputs": [
    {
     "data": {
      "text/plain": [
       "722.5"
      ]
     },
     "execution_count": 16,
     "metadata": {},
     "output_type": "execute_result"
    }
   ],
   "source": [
    "threshold = np.percentile(df['text_length'], 95)\n",
    "threshold"
   ]
  },
  {
   "cell_type": "code",
   "execution_count": 17,
   "id": "95f8773b-d81d-4b63-a65b-7a5d16208a9b",
   "metadata": {},
   "outputs": [
    {
     "name": "stdout",
     "output_type": "stream",
     "text": [
      "Number of quotes above threshold:  305\n"
     ]
    }
   ],
   "source": [
    "long_quotes = df[df['text_length'] > threshold]\n",
    "print('Number of quotes above threshold: ', long_quotes.shape[0])"
   ]
  },
  {
   "cell_type": "markdown",
   "id": "4b2459ec-2937-4b9a-8259-298d1cd53e09",
   "metadata": {
    "jp-MarkdownHeadingCollapsed": true
   },
   "source": [
    "## **2. Preprocessing**"
   ]
  },
  {
   "cell_type": "markdown",
   "id": "a906348d-eb6b-42ec-9072-1ce8e84e11c4",
   "metadata": {},
   "source": [
    "### **Features and target**"
   ]
  },
  {
   "cell_type": "code",
   "execution_count": 18,
   "id": "6ebc10cc-75d9-4125-bc82-e792426f0732",
   "metadata": {},
   "outputs": [
    {
     "data": {
      "text/plain": [
       "((6091,), (6091,))"
      ]
     },
     "execution_count": 18,
     "metadata": {},
     "output_type": "execute_result"
    }
   ],
   "source": [
    "X = df['quote']\n",
    "y = df['label']\n",
    "X.shape, y.shape"
   ]
  },
  {
   "cell_type": "code",
   "execution_count": 19,
   "id": "7a74a5a8-1732-48bd-abd8-8e5d6119706e",
   "metadata": {},
   "outputs": [],
   "source": [
    "def print_head(df):\n",
    "    for i in range(3):\n",
    "        print(i, df[i], '\\n')\n",
    "    print('shape:',df.shape)"
   ]
  },
  {
   "cell_type": "markdown",
   "id": "af42e598-ca73-48f1-86a2-3feece3cf067",
   "metadata": {},
   "source": [
    "### **Cleaning**"
   ]
  },
  {
   "cell_type": "code",
   "execution_count": 20,
   "id": "7cc46fce-8393-40c2-81ca-b268a0a3e369",
   "metadata": {},
   "outputs": [],
   "source": [
    "import string\n",
    "import re\n",
    "import contractions\n",
    "import html\n",
    "import unicodedata\n",
    "from wordsegment import load, segment\n",
    "\n",
    "load()\n",
    "\n",
    "def segment_unseparated(sentence, threshold=20):\n",
    "    return \" \".join(\n",
    "        word if len(word) > threshold else \" \".join(segment(word))\n",
    "        for word in sentence.split()\n",
    "    )\n",
    " \n",
    "def basic_cleaning(sentence:str, threshold:int=15):\n",
    "    sentence = html.unescape(sentence)                        # convert html entities\n",
    "    sentence = re.sub(r'http\\S+|www\\S+', '', sentence)        # remove URLs\n",
    "    sentence = unicodedata.normalize('NFKC', sentence)        # normalize Unicode\n",
    "    sentence = sentence.encode(\"ascii\", \"ignore\").decode()    # remove non ASCII\n",
    "    sentence = contractions.fix(sentence)                     # expand contractions\n",
    "    sentence = sentence.lower()                               # lowercase\n",
    "    sentence = re.sub(r'\\d+', '', sentence)                   # remove digits\n",
    "    punctuation = string.punctuation.replace(\"-\", \"\")         # keep hyphens\n",
    "    translator = str.maketrans('', '', punctuation)\n",
    "    sentence = sentence.translate(translator)                 # remove punctuation\n",
    "    sentence = re.sub(r'\\s-\\s', ' ', sentence)                # removes \" - \" (hyphen surrounded by spaces)\n",
    "    sentence = re.sub(r'\\s-', ' ', sentence)                  # removes leading hyphens\n",
    "    sentence = re.sub(r'-\\s', ' ', sentence)                  # removes trailing hyphens\n",
    "    sentence = segment_unseparated(sentence, threshold=threshold) # separate words that should be separated\n",
    "    sentence = ' '.join(sentence.split()).strip()             # remove whitespace\n",
    "    return sentence"
   ]
  },
  {
   "cell_type": "code",
   "execution_count": 21,
   "id": "4957f925-f5a3-4643-9a1b-84587e196225",
   "metadata": {},
   "outputs": [],
   "source": [
    "X_clean = X.apply(basic_cleaning)\n",
    "#print_head(X_clean)"
   ]
  },
  {
   "cell_type": "markdown",
   "id": "67876840-ea4b-4740-85e4-258bf01bb940",
   "metadata": {},
   "source": [
    "### **Preprocessing**\n",
    "- tokenize\n",
    "- stopwords\n",
    "- lemmatize\n",
    "- crop sentence lenght\n",
    "- rejoin"
   ]
  },
  {
   "cell_type": "code",
   "execution_count": 22,
   "id": "2ed645f9-9929-44c9-9375-9b6ef1056c30",
   "metadata": {},
   "outputs": [],
   "source": [
    "def preproc(sentence, threshold=750):\n",
    "    tokens = word_tokenize(sentence)\n",
    "    tokens = [w for w in tokens if w.lower() not in stop_words]              # remove stop_words\n",
    "    tokens = [WordNetLemmatizer().lemmatize(w, pos = \"v\") for w in tokens]   # lemmatize\n",
    "    tokens = tokens[:threshold]\n",
    "    return \" \".join(tokens)"
   ]
  },
  {
   "cell_type": "markdown",
   "id": "813c785f-b6b9-43f9-9646-bc4a4badde73",
   "metadata": {},
   "source": [
    "#### **Details**"
   ]
  },
  {
   "cell_type": "markdown",
   "id": "95a07d85-080d-40cb-82f0-81d45d000665",
   "metadata": {},
   "source": [
    "**Tokenizing**"
   ]
  },
  {
   "cell_type": "code",
   "execution_count": 23,
   "id": "8fdc8d52-7fe9-4bbb-9dde-8a82711462a0",
   "metadata": {},
   "outputs": [],
   "source": [
    "import nltk\n",
    "from nltk.tokenize import word_tokenize"
   ]
  },
  {
   "cell_type": "code",
   "execution_count": 24,
   "id": "4f7dfbe4-85b1-45ab-b3a4-75a861ee5186",
   "metadata": {},
   "outputs": [],
   "source": [
    "# nltk_path = \"/Users/a.villa.massone/miniconda3/envs/frugal-notebooks-env/nltk_data\"\n",
    "# nltk.download('punkt_tab', download_dir=nltk_path)"
   ]
  },
  {
   "cell_type": "code",
   "execution_count": 25,
   "id": "e0cabfb4-9aef-4e6e-bd1d-0504b29e0634",
   "metadata": {},
   "outputs": [],
   "source": [
    "X_tokenized = X_clean.apply(word_tokenize)\n",
    "# print_head(X_tokenized)"
   ]
  },
  {
   "cell_type": "markdown",
   "id": "da23df09-1204-4ada-a81e-e146640b5523",
   "metadata": {},
   "source": [
    "**Stopwords**"
   ]
  },
  {
   "cell_type": "code",
   "execution_count": 26,
   "id": "b695d3ce-ac07-4fcd-a1db-23d315f8e83b",
   "metadata": {},
   "outputs": [],
   "source": [
    "from nltk.corpus import stopwords\n",
    "\n",
    "# nltk.download('stopwords', download_dir=nltk_path)\n",
    "stop_words = set(stopwords.words('english'))"
   ]
  },
  {
   "cell_type": "code",
   "execution_count": 27,
   "id": "efcf5954-1160-4e24-a257-6d836f2390d5",
   "metadata": {
    "scrolled": true
   },
   "outputs": [],
   "source": [
    "def remove_stopwords(sentence):\n",
    "    return [w for w in sentence if w.lower() not in stop_words]\n",
    "\n",
    "X_stopwords = X_tokenized.apply(remove_stopwords)\n",
    "\n",
    "# print_head(X_stopwords)"
   ]
  },
  {
   "cell_type": "markdown",
   "id": "52d346a5-332f-42af-9114-c8be21ab1032",
   "metadata": {},
   "source": [
    "**Lemmatizing**"
   ]
  },
  {
   "cell_type": "code",
   "execution_count": 28,
   "id": "193c3633-44a2-42aa-9e4e-cc8a28783d59",
   "metadata": {},
   "outputs": [],
   "source": [
    "from nltk.stem import WordNetLemmatizer\n",
    "\n",
    "# nltk.download('wordnet', download_dir=nltk_path)"
   ]
  },
  {
   "cell_type": "code",
   "execution_count": 29,
   "id": "0ebbd290-e7e5-4b2b-bc7d-6bb5df45a6b7",
   "metadata": {},
   "outputs": [],
   "source": [
    "def lemmatize_tokens(sentence):\n",
    "    return \" \".join([WordNetLemmatizer().lemmatize(w, pos = \"v\") for w in sentence])\n",
    "\n",
    "\n",
    "X_lemmatized = X_stopwords.apply(lemmatize_tokens)\n",
    "# print_head(X_lemmatized)"
   ]
  },
  {
   "cell_type": "markdown",
   "id": "316d0cc1-f334-40c4-9023-9d38d89bd018",
   "metadata": {},
   "source": [
    "**Crop quote lenght**"
   ]
  },
  {
   "cell_type": "code",
   "execution_count": 30,
   "id": "b7a4151a-8064-4e7e-8731-1747ee9b7006",
   "metadata": {},
   "outputs": [],
   "source": [
    "def crop_tokens(tokens, threshold=750):\n",
    "    return tokens[:threshold]\n",
    "\n",
    "X_cropped = X_lemmatized.apply(crop_tokens)\n",
    "# print_head(X_cropped)"
   ]
  },
  {
   "cell_type": "markdown",
   "id": "ee617542-6c86-4963-8d43-9342918a2785",
   "metadata": {},
   "source": [
    "**Rejoin sentence**"
   ]
  },
  {
   "cell_type": "code",
   "execution_count": 31,
   "id": "2a8d3275-b462-4a45-b617-c59d5e61beea",
   "metadata": {},
   "outputs": [],
   "source": [
    "def rejoin(words):\n",
    "    return \"\".join(words)\n",
    "\n",
    "X_lemmatized_text = X_cropped.apply(rejoin)\n",
    "# print_head(X_lemmatized_text)"
   ]
  },
  {
   "cell_type": "markdown",
   "id": "a9b15a50-ecd2-42c5-89c1-334be10b170b",
   "metadata": {},
   "source": [
    "### **Vectorizing**"
   ]
  },
  {
   "cell_type": "code",
   "execution_count": 32,
   "id": "650eea97-79da-4fc8-ab2b-7bd3c5032e2a",
   "metadata": {},
   "outputs": [
    {
     "name": "stdout",
     "output_type": "stream",
     "text": [
      "\n",
      "Vocabulary size: 12103\n",
      "\n",
      "Out-of-vocabulary words: 3862\n"
     ]
    }
   ],
   "source": [
    "from sklearn.feature_extraction.text import TfidfVectorizer\n",
    "\n",
    "vectorizer = TfidfVectorizer()\n",
    "\n",
    "X_vectorized = pd.DataFrame(\n",
    "    vectorizer.fit_transform(X_lemmatized_text).toarray(),\n",
    "    columns=vectorizer.get_feature_names_out(),\n",
    "    index=X_lemmatized.index\n",
    ")\n",
    "\n",
    "vocabulary = vectorizer.get_feature_names_out()\n",
    "\n",
    "word_occurrences = (X_vectorized > 0).sum(axis=0)\n",
    "word_count = dict(zip(vocabulary, np.asarray(word_occurrences).flatten()))\n",
    "\n",
    "print(f\"\\nVocabulary size: {len(vocabulary)}\")\n",
    "print()\n",
    "\n",
    "from nltk.corpus import words\n",
    "english_vocab = set(words.words())\n",
    "oov_words = [word for word in vocabulary if word.lower() not in english_vocab]\n",
    "print(f\"Out-of-vocabulary words: {len(oov_words)}\")\n",
    "# X_vectorized.head(3)\n",
    "# print('feature shape:', X_vectorized.shape)"
   ]
  },
  {
   "cell_type": "markdown",
   "id": "00a0be1d-2a49-4356-9263-e2b2500edea7",
   "metadata": {},
   "source": [
    "### **Checking quality of preprocessing**"
   ]
  },
  {
   "cell_type": "code",
   "execution_count": 33,
   "id": "46b0c62f-44c3-47e5-9653-7a1252914200",
   "metadata": {},
   "outputs": [
    {
     "name": "stdout",
     "output_type": "stream",
     "text": [
      "preprocessing alphanum errors: []\n",
      "---------------\n",
      "---------------\n",
      "Longest and shortest words:\n",
      "210 short words (≤2 chars):\n",
      " ['aa', 'ab', 'ac', 'ad', 'ae', 'af', 'ag', 'ah', 'ak', 'al', 'ao', 'ap', 'ar', 'as', 'au', 'ax', 'az', 'ba', 'bc', 'be']\n",
      "118 long words (>15 chars):\n",
      " ['absorptionemission', 'absorptivitiesemissivities', 'absorptivityemissivity', 'administrationand', 'administrationto', 'americansespecially', 'americaspowercom', 'americatraditional', 'antidiscrimination', 'antienvironmental', 'authoritarianism', 'baltimorewashington', 'bureaucratically', 'carefullyselected', 'catastrophically', 'centerdeveloping', 'changedismissing', 'characterization', 'characterizations', 'chlorflourocarbon']\n",
      "---------------\n",
      "Most common words:\n",
      " [('climate', 2201), ('change', 1596), ('warm', 1334), ('global', 1283), ('years', 702), ('say', 688), ('carbon', 657), ('would', 646), ('energy', 643), ('make', 603)]\n",
      "Least common words:\n",
      " [('zeller', 1), ('zi', 1), ('zing', 1), ('zinke', 1), ('zipper', 1), ('zir', 1), ('zoom', 1), ('zoonotic', 1), ('zurich', 1), ('zycher', 1)]\n",
      "---------------\n",
      "Out-of-vocabulary words: 3862\n",
      "Sample OOV words: ['ab', 'abbott', 'abc', 'abcs', 'abdus', 'abec', 'abel', 'abes', 'abetz', 'abilities', 'abortions', 'aboutjudeo', 'abramoff', 'absorbtion', 'absorptionemission', 'absorptivitiesemissivities', 'absorptivityemissivity', 'absurdum', 'abusers', 'ac']\n",
      "---------------\n"
     ]
    }
   ],
   "source": [
    "# non alphanum \n",
    "alphanum_error = [word for word in vocabulary if re.search(r\"[^a-zA-Z0-9'-]\", word)]\n",
    "print(\"preprocessing alphanum errors:\", alphanum_error[:20])\n",
    "print('---------------')\n",
    "\n",
    "# case-sensitive duplicates\n",
    "vocab_lower = set(word.lower() for word in vocabulary)\n",
    "if len(vocab_lower) != len(vocabulary):\n",
    "    print(\"Warning: Vocabulary contains case-sensitive duplicates!\")\n",
    "print('---------------')\n",
    "\n",
    "# short words and long words\n",
    "short_words = [word for word in vocabulary if len(word) <= 2]\n",
    "long_words = [word for word in vocabulary if len(word) > 15]\n",
    "\n",
    "print('Longest and shortest words:')\n",
    "print(len(short_words), \"short words (≤2 chars):\\n\", short_words[:20])\n",
    "print(len(long_words), \"long words (>15 chars):\\n\", long_words[:20])\n",
    "print('---------------')\n",
    "\n",
    "# most / least frequent\n",
    "from collections import Counter\n",
    "\n",
    "word_count_counter = Counter(word_count)\n",
    "print(\"Most common words:\\n\", word_count_counter.most_common(10))\n",
    "print(\"Least common words:\\n\", word_count_counter.most_common()[-10:])\n",
    "print('---------------')\n",
    "\n",
    "# out of vocabulary - not english\n",
    "#nltk.download('words', download_dir=nltk_path)\n",
    "from nltk.corpus import words\n",
    "\n",
    "english_vocab = set(words.words())\n",
    "\n",
    "oov_words = [word for word in vocabulary if word.lower() not in english_vocab]\n",
    "print(f\"Out-of-vocabulary words: {len(oov_words)}\")\n",
    "print(\"Sample OOV words:\", oov_words[:20])\n",
    "print('---------------')"
   ]
  },
  {
   "cell_type": "code",
   "execution_count": 34,
   "id": "45290205-be82-4b46-a4c5-651394552659",
   "metadata": {},
   "outputs": [],
   "source": [
    "long_words = [word for word in vocabulary if len(word) > 15 and len(word) < 20]\n",
    "test_df = pd.DataFrame({\n",
    "    'word' : long_words, \n",
    "    'length': [len(word) for word in long_words],\n",
    "    'separated' : [segment_unseparated(word) for word in long_words]\n",
    "} )\n",
    "#test_df.sort_values(by='length', ascending=False)\n"
   ]
  },
  {
   "cell_type": "markdown",
   "id": "42df14e9-4e9d-4020-8710-10d0917bf536",
   "metadata": {},
   "source": [
    "**Let's have a look at the most frequent words**"
   ]
  },
  {
   "cell_type": "code",
   "execution_count": 35,
   "id": "ad5886c7-52d9-4705-a4ea-f6643dc3d290",
   "metadata": {},
   "outputs": [],
   "source": [
    "#word_count_counter"
   ]
  },
  {
   "cell_type": "code",
   "execution_count": 36,
   "id": "0585eed4-1214-420d-a41e-26d91aa2860c",
   "metadata": {},
   "outputs": [
    {
     "data": {
      "image/png": "[encoded data removed]",
      "text/plain": [
       "<Figure size 1200x600 with 1 Axes>"
      ]
     },
     "metadata": {},
     "output_type": "display_data"
    },
    {
     "name": "stdout",
     "output_type": "stream",
     "text": [
      "\n",
      "Total words: 139036\n",
      "Unique words: 12103\n",
      "Average word frequency: 11.49\n",
      "\n",
      "\n"
     ]
    }
   ],
   "source": [
    "import matplotlib.pyplot as plt\n",
    "\n",
    "top_20_words = word_count_counter.most_common(40)\n",
    "df_word_freq = pd.DataFrame(top_20_words, columns=['Word', 'Frequency'])\n",
    "\n",
    "plt.figure(figsize=(12, 6))\n",
    "plt.bar(df_word_freq['Word'], df_word_freq['Frequency'])\n",
    "plt.title('Top 40 Most Frequent Words')\n",
    "plt.xlabel('Words')\n",
    "plt.ylabel('Frequency')\n",
    "plt.xticks(rotation=45, ha='right')\n",
    "plt.tight_layout()\n",
    "plt.show()\n",
    "\n",
    "total_words = sum(word_count_counter.values())\n",
    "unique_words = len(vocabulary)\n",
    "average_freq = total_words / unique_words\n",
    "\n",
    "print(f\"\\nTotal words: {total_words}\")\n",
    "print(f\"Unique words: {unique_words}\")\n",
    "print(f\"Average word frequency: {average_freq:.2f}\")\n",
    "print()\n",
    "print()"
   ]
  },
  {
   "cell_type": "markdown",
   "id": "e94936f2-2a31-41fc-93dd-057a136f4f88",
   "metadata": {},
   "source": [
    "### **Encode target**"
   ]
  },
  {
   "cell_type": "code",
   "execution_count": 37,
   "id": "667343b3-d65c-49dc-8ed1-8a6714a40e4b",
   "metadata": {},
   "outputs": [
    {
     "name": "stdout",
     "output_type": "stream",
     "text": [
      "['0_not_relevant' '1_not_happening' '2_not_human' '3_not_bad'\n",
      " '4_solutions_harmful_unnecessary' '5_science_unreliable'\n",
      " '6_proponents_biased' '7_fossil_fuels_needed']\n",
      "\n",
      "y_cat : [5 1 4 ... 0 5 1]\n"
     ]
    }
   ],
   "source": [
    "from sklearn.preprocessing import LabelEncoder\n",
    "\n",
    "le = LabelEncoder()\n",
    "y_cat = le.fit_transform(y)\n",
    "print(le.classes_)\n",
    "print()\n",
    "print('y_cat :', y_cat)"
   ]
  },
  {
   "cell_type": "markdown",
   "id": "9b526949-68d7-4786-8f3d-ead1b0208694",
   "metadata": {},
   "source": [
    "## **3. Baseline**"
   ]
  },
  {
   "cell_type": "markdown",
   "id": "70217102-fcef-4560-be6d-e0af728bc87d",
   "metadata": {
    "jp-MarkdownHeadingCollapsed": true
   },
   "source": [
    "### **Feature and target**"
   ]
  },
  {
   "cell_type": "code",
   "execution_count": 38,
   "id": "c2845087-3c87-43ba-ad17-f4e93797ecc6",
   "metadata": {},
   "outputs": [
    {
     "data": {
      "text/html": [
       "<div>\n",
       "<style scoped>\n",
       "    .dataframe tbody tr th:only-of-type {\n",
       "        vertical-align: middle;\n",
       "    }\n",
       "\n",
       "    .dataframe tbody tr th {\n",
       "        vertical-align: top;\n",
       "    }\n",
       "\n",
       "    .dataframe thead th {\n",
       "        text-align: right;\n",
       "    }\n",
       "</style>\n",
       "<table border=\"1\" class=\"dataframe\">\n",
       "  <thead>\n",
       "    <tr style=\"text-align: right;\">\n",
       "      <th></th>\n",
       "      <th>aa</th>\n",
       "      <th>ab</th>\n",
       "      <th>abandon</th>\n",
       "      <th>abandoned</th>\n",
       "      <th>abandonment</th>\n",
       "      <th>abate</th>\n",
       "      <th>abatement</th>\n",
       "      <th>abbot</th>\n",
       "      <th>abbott</th>\n",
       "      <th>abc</th>\n",
       "      <th>...</th>\n",
       "      <th>zika</th>\n",
       "      <th>zing</th>\n",
       "      <th>zinke</th>\n",
       "      <th>zipper</th>\n",
       "      <th>zir</th>\n",
       "      <th>zone</th>\n",
       "      <th>zoom</th>\n",
       "      <th>zoonotic</th>\n",
       "      <th>zurich</th>\n",
       "      <th>zycher</th>\n",
       "    </tr>\n",
       "  </thead>\n",
       "  <tbody>\n",
       "    <tr>\n",
       "      <th>0</th>\n",
       "      <td>0.0</td>\n",
       "      <td>0.0</td>\n",
       "      <td>0.0</td>\n",
       "      <td>0.0</td>\n",
       "      <td>0.0</td>\n",
       "      <td>0.0</td>\n",
       "      <td>0.0</td>\n",
       "      <td>0.0</td>\n",
       "      <td>0.0</td>\n",
       "      <td>0.0</td>\n",
       "      <td>...</td>\n",
       "      <td>0.0</td>\n",
       "      <td>0.0</td>\n",
       "      <td>0.0</td>\n",
       "      <td>0.0</td>\n",
       "      <td>0.0</td>\n",
       "      <td>0.0</td>\n",
       "      <td>0.0</td>\n",
       "      <td>0.0</td>\n",
       "      <td>0.0</td>\n",
       "      <td>0.0</td>\n",
       "    </tr>\n",
       "    <tr>\n",
       "      <th>1</th>\n",
       "      <td>0.0</td>\n",
       "      <td>0.0</td>\n",
       "      <td>0.0</td>\n",
       "      <td>0.0</td>\n",
       "      <td>0.0</td>\n",
       "      <td>0.0</td>\n",
       "      <td>0.0</td>\n",
       "      <td>0.0</td>\n",
       "      <td>0.0</td>\n",
       "      <td>0.0</td>\n",
       "      <td>...</td>\n",
       "      <td>0.0</td>\n",
       "      <td>0.0</td>\n",
       "      <td>0.0</td>\n",
       "      <td>0.0</td>\n",
       "      <td>0.0</td>\n",
       "      <td>0.0</td>\n",
       "      <td>0.0</td>\n",
       "      <td>0.0</td>\n",
       "      <td>0.0</td>\n",
       "      <td>0.0</td>\n",
       "    </tr>\n",
       "    <tr>\n",
       "      <th>2</th>\n",
       "      <td>0.0</td>\n",
       "      <td>0.0</td>\n",
       "      <td>0.0</td>\n",
       "      <td>0.0</td>\n",
       "      <td>0.0</td>\n",
       "      <td>0.0</td>\n",
       "      <td>0.0</td>\n",
       "      <td>0.0</td>\n",
       "      <td>0.0</td>\n",
       "      <td>0.0</td>\n",
       "      <td>...</td>\n",
       "      <td>0.0</td>\n",
       "      <td>0.0</td>\n",
       "      <td>0.0</td>\n",
       "      <td>0.0</td>\n",
       "      <td>0.0</td>\n",
       "      <td>0.0</td>\n",
       "      <td>0.0</td>\n",
       "      <td>0.0</td>\n",
       "      <td>0.0</td>\n",
       "      <td>0.0</td>\n",
       "    </tr>\n",
       "    <tr>\n",
       "      <th>3</th>\n",
       "      <td>0.0</td>\n",
       "      <td>0.0</td>\n",
       "      <td>0.0</td>\n",
       "      <td>0.0</td>\n",
       "      <td>0.0</td>\n",
       "      <td>0.0</td>\n",
       "      <td>0.0</td>\n",
       "      <td>0.0</td>\n",
       "      <td>0.0</td>\n",
       "      <td>0.0</td>\n",
       "      <td>...</td>\n",
       "      <td>0.0</td>\n",
       "      <td>0.0</td>\n",
       "      <td>0.0</td>\n",
       "      <td>0.0</td>\n",
       "      <td>0.0</td>\n",
       "      <td>0.0</td>\n",
       "      <td>0.0</td>\n",
       "      <td>0.0</td>\n",
       "      <td>0.0</td>\n",
       "      <td>0.0</td>\n",
       "    </tr>\n",
       "    <tr>\n",
       "      <th>4</th>\n",
       "      <td>0.0</td>\n",
       "      <td>0.0</td>\n",
       "      <td>0.0</td>\n",
       "      <td>0.0</td>\n",
       "      <td>0.0</td>\n",
       "      <td>0.0</td>\n",
       "      <td>0.0</td>\n",
       "      <td>0.0</td>\n",
       "      <td>0.0</td>\n",
       "      <td>0.0</td>\n",
       "      <td>...</td>\n",
       "      <td>0.0</td>\n",
       "      <td>0.0</td>\n",
       "      <td>0.0</td>\n",
       "      <td>0.0</td>\n",
       "      <td>0.0</td>\n",
       "      <td>0.0</td>\n",
       "      <td>0.0</td>\n",
       "      <td>0.0</td>\n",
       "      <td>0.0</td>\n",
       "      <td>0.0</td>\n",
       "    </tr>\n",
       "    <tr>\n",
       "      <th>...</th>\n",
       "      <td>...</td>\n",
       "      <td>...</td>\n",
       "      <td>...</td>\n",
       "      <td>...</td>\n",
       "      <td>...</td>\n",
       "      <td>...</td>\n",
       "      <td>...</td>\n",
       "      <td>...</td>\n",
       "      <td>...</td>\n",
       "      <td>...</td>\n",
       "      <td>...</td>\n",
       "      <td>...</td>\n",
       "      <td>...</td>\n",
       "      <td>...</td>\n",
       "      <td>...</td>\n",
       "      <td>...</td>\n",
       "      <td>...</td>\n",
       "      <td>...</td>\n",
       "      <td>...</td>\n",
       "      <td>...</td>\n",
       "      <td>...</td>\n",
       "    </tr>\n",
       "    <tr>\n",
       "      <th>6431</th>\n",
       "      <td>0.0</td>\n",
       "      <td>0.0</td>\n",
       "      <td>0.0</td>\n",
       "      <td>0.0</td>\n",
       "      <td>0.0</td>\n",
       "      <td>0.0</td>\n",
       "      <td>0.0</td>\n",
       "      <td>0.0</td>\n",
       "      <td>0.0</td>\n",
       "      <td>0.0</td>\n",
       "      <td>...</td>\n",
       "      <td>0.0</td>\n",
       "      <td>0.0</td>\n",
       "      <td>0.0</td>\n",
       "      <td>0.0</td>\n",
       "      <td>0.0</td>\n",
       "      <td>0.0</td>\n",
       "      <td>0.0</td>\n",
       "      <td>0.0</td>\n",
       "      <td>0.0</td>\n",
       "      <td>0.0</td>\n",
       "    </tr>\n",
       "    <tr>\n",
       "      <th>6432</th>\n",
       "      <td>0.0</td>\n",
       "      <td>0.0</td>\n",
       "      <td>0.0</td>\n",
       "      <td>0.0</td>\n",
       "      <td>0.0</td>\n",
       "      <td>0.0</td>\n",
       "      <td>0.0</td>\n",
       "      <td>0.0</td>\n",
       "      <td>0.0</td>\n",
       "      <td>0.0</td>\n",
       "      <td>...</td>\n",
       "      <td>0.0</td>\n",
       "      <td>0.0</td>\n",
       "      <td>0.0</td>\n",
       "      <td>0.0</td>\n",
       "      <td>0.0</td>\n",
       "      <td>0.0</td>\n",
       "      <td>0.0</td>\n",
       "      <td>0.0</td>\n",
       "      <td>0.0</td>\n",
       "      <td>0.0</td>\n",
       "    </tr>\n",
       "    <tr>\n",
       "      <th>6433</th>\n",
       "      <td>0.0</td>\n",
       "      <td>0.0</td>\n",
       "      <td>0.0</td>\n",
       "      <td>0.0</td>\n",
       "      <td>0.0</td>\n",
       "      <td>0.0</td>\n",
       "      <td>0.0</td>\n",
       "      <td>0.0</td>\n",
       "      <td>0.0</td>\n",
       "      <td>0.0</td>\n",
       "      <td>...</td>\n",
       "      <td>0.0</td>\n",
       "      <td>0.0</td>\n",
       "      <td>0.0</td>\n",
       "      <td>0.0</td>\n",
       "      <td>0.0</td>\n",
       "      <td>0.0</td>\n",
       "      <td>0.0</td>\n",
       "      <td>0.0</td>\n",
       "      <td>0.0</td>\n",
       "      <td>0.0</td>\n",
       "    </tr>\n",
       "    <tr>\n",
       "      <th>6435</th>\n",
       "      <td>0.0</td>\n",
       "      <td>0.0</td>\n",
       "      <td>0.0</td>\n",
       "      <td>0.0</td>\n",
       "      <td>0.0</td>\n",
       "      <td>0.0</td>\n",
       "      <td>0.0</td>\n",
       "      <td>0.0</td>\n",
       "      <td>0.0</td>\n",
       "      <td>0.0</td>\n",
       "      <td>...</td>\n",
       "      <td>0.0</td>\n",
       "      <td>0.0</td>\n",
       "      <td>0.0</td>\n",
       "      <td>0.0</td>\n",
       "      <td>0.0</td>\n",
       "      <td>0.0</td>\n",
       "      <td>0.0</td>\n",
       "      <td>0.0</td>\n",
       "      <td>0.0</td>\n",
       "      <td>0.0</td>\n",
       "    </tr>\n",
       "    <tr>\n",
       "      <th>6436</th>\n",
       "      <td>0.0</td>\n",
       "      <td>0.0</td>\n",
       "      <td>0.0</td>\n",
       "      <td>0.0</td>\n",
       "      <td>0.0</td>\n",
       "      <td>0.0</td>\n",
       "      <td>0.0</td>\n",
       "      <td>0.0</td>\n",
       "      <td>0.0</td>\n",
       "      <td>0.0</td>\n",
       "      <td>...</td>\n",
       "      <td>0.0</td>\n",
       "      <td>0.0</td>\n",
       "      <td>0.0</td>\n",
       "      <td>0.0</td>\n",
       "      <td>0.0</td>\n",
       "      <td>0.0</td>\n",
       "      <td>0.0</td>\n",
       "      <td>0.0</td>\n",
       "      <td>0.0</td>\n",
       "      <td>0.0</td>\n",
       "    </tr>\n",
       "  </tbody>\n",
       "</table>\n",
       "<p>6091 rows × 12103 columns</p>\n",
       "</div>"
      ],
      "text/plain": [
       "       aa   ab  abandon  abandoned  abandonment  abate  abatement  abbot  \\\n",
       "0     0.0  0.0      0.0        0.0          0.0    0.0        0.0    0.0   \n",
       "1     0.0  0.0      0.0        0.0          0.0    0.0        0.0    0.0   \n",
       "2     0.0  0.0      0.0        0.0          0.0    0.0        0.0    0.0   \n",
       "3     0.0  0.0      0.0        0.0          0.0    0.0        0.0    0.0   \n",
       "4     0.0  0.0      0.0        0.0          0.0    0.0        0.0    0.0   \n",
       "...   ...  ...      ...        ...          ...    ...        ...    ...   \n",
       "6431  0.0  0.0      0.0        0.0          0.0    0.0        0.0    0.0   \n",
       "6432  0.0  0.0      0.0        0.0          0.0    0.0        0.0    0.0   \n",
       "6433  0.0  0.0      0.0        0.0          0.0    0.0        0.0    0.0   \n",
       "6435  0.0  0.0      0.0        0.0          0.0    0.0        0.0    0.0   \n",
       "6436  0.0  0.0      0.0        0.0          0.0    0.0        0.0    0.0   \n",
       "\n",
       "      abbott  abc  ...  zika  zing  zinke  zipper  zir  zone  zoom  zoonotic  \\\n",
       "0        0.0  0.0  ...   0.0   0.0    0.0     0.0  0.0   0.0   0.0       0.0   \n",
       "1        0.0  0.0  ...   0.0   0.0    0.0     0.0  0.0   0.0   0.0       0.0   \n",
       "2        0.0  0.0  ...   0.0   0.0    0.0     0.0  0.0   0.0   0.0       0.0   \n",
       "3        0.0  0.0  ...   0.0   0.0    0.0     0.0  0.0   0.0   0.0       0.0   \n",
       "4        0.0  0.0  ...   0.0   0.0    0.0     0.0  0.0   0.0   0.0       0.0   \n",
       "...      ...  ...  ...   ...   ...    ...     ...  ...   ...   ...       ...   \n",
       "6431     0.0  0.0  ...   0.0   0.0    0.0     0.0  0.0   0.0   0.0       0.0   \n",
       "6432     0.0  0.0  ...   0.0   0.0    0.0     0.0  0.0   0.0   0.0       0.0   \n",
       "6433     0.0  0.0  ...   0.0   0.0    0.0     0.0  0.0   0.0   0.0       0.0   \n",
       "6435     0.0  0.0  ...   0.0   0.0    0.0     0.0  0.0   0.0   0.0       0.0   \n",
       "6436     0.0  0.0  ...   0.0   0.0    0.0     0.0  0.0   0.0   0.0       0.0   \n",
       "\n",
       "      zurich  zycher  \n",
       "0        0.0     0.0  \n",
       "1        0.0     0.0  \n",
       "2        0.0     0.0  \n",
       "3        0.0     0.0  \n",
       "4        0.0     0.0  \n",
       "...      ...     ...  \n",
       "6431     0.0     0.0  \n",
       "6432     0.0     0.0  \n",
       "6433     0.0     0.0  \n",
       "6435     0.0     0.0  \n",
       "6436     0.0     0.0  \n",
       "\n",
       "[6091 rows x 12103 columns]"
      ]
     },
     "execution_count": 38,
     "metadata": {},
     "output_type": "execute_result"
    }
   ],
   "source": [
    "X_vectorized"
   ]
  },
  {
   "cell_type": "code",
   "execution_count": 39,
   "id": "b3343cda-19cf-4940-afd1-b9aa03304272",
   "metadata": {},
   "outputs": [
    {
     "data": {
      "text/plain": [
       "array([5, 1, 4, ..., 0, 5, 1])"
      ]
     },
     "execution_count": 39,
     "metadata": {},
     "output_type": "execute_result"
    }
   ],
   "source": [
    "y_cat"
   ]
  },
  {
   "cell_type": "code",
   "execution_count": 40,
   "id": "b2423a36-b8a8-4cb8-b28f-6497bd74f5c8",
   "metadata": {},
   "outputs": [
    {
     "data": {
      "text/plain": [
       "((6091, 12103), (6091,), pandas.core.frame.DataFrame, numpy.ndarray)"
      ]
     },
     "execution_count": 40,
     "metadata": {},
     "output_type": "execute_result"
    }
   ],
   "source": [
    "X_vectorized.shape, y_cat.shape, type(X_vectorized), type(y_cat)"
   ]
  },
  {
   "cell_type": "markdown",
   "id": "1e2e712a-c23d-4558-a3e6-88a87cff9387",
   "metadata": {},
   "source": [
    "**Train test split**"
   ]
  },
  {
   "cell_type": "code",
   "execution_count": 41,
   "id": "221879fb-c87a-4e58-82a3-46fe4feaa11c",
   "metadata": {},
   "outputs": [
    {
     "name": "stdout",
     "output_type": "stream",
     "text": [
      "types <class 'pandas.core.frame.DataFrame'> <class 'pandas.core.frame.DataFrame'> <class 'numpy.ndarray'> <class 'numpy.ndarray'>\n"
     ]
    },
    {
     "data": {
      "text/plain": [
       "('Shapes', (4872, 12103), (1219, 12103), (4872,), (1219,))"
      ]
     },
     "execution_count": 41,
     "metadata": {},
     "output_type": "execute_result"
    }
   ],
   "source": [
    "from sklearn.model_selection import train_test_split\n",
    "\n",
    "X_train, X_test, y_train, y_test = train_test_split(X_vectorized, y_cat, test_size=0.2, stratify=y_cat, random_state=42)\n",
    "\n",
    "print('types', type(X_train), type(X_test), type(y_train), type(y_test))\n",
    "'Shapes', X_train.shape, X_test.shape, y_train.shape, y_test.shape"
   ]
  },
  {
   "cell_type": "markdown",
   "id": "1f4367c6-9dca-4cec-8265-6a9c3a132d33",
   "metadata": {
    "jp-MarkdownHeadingCollapsed": true
   },
   "source": [
    "### **Resampling for unbalanced classes**"
   ]
  },
  {
   "cell_type": "code",
   "execution_count": 42,
   "id": "815a4f37-dfb0-4a97-abb6-4d2dcd1456f1",
   "metadata": {},
   "outputs": [
    {
     "name": "stdout",
     "output_type": "stream",
     "text": [
      "0    0.265599\n",
      "5    0.131568\n",
      "6    0.128284\n",
      "4    0.127053\n",
      "1    0.121716\n",
      "2    0.115148\n",
      "3    0.063424\n",
      "7    0.047209\n",
      "Name: proportion, dtype: float64\n",
      "0    1294\n",
      "5     641\n",
      "6     625\n",
      "4     619\n",
      "1     593\n",
      "2     561\n",
      "3     309\n",
      "7     230\n",
      "Name: count, dtype: int64\n"
     ]
    }
   ],
   "source": [
    "print(pd.Series(y_train).value_counts(normalize=True))\n",
    "print(pd.Series(y_train).value_counts())"
   ]
  },
  {
   "cell_type": "code",
   "execution_count": 43,
   "id": "c7b90404-109b-46dd-a10a-0647d5293727",
   "metadata": {},
   "outputs": [
    {
     "name": "stdout",
     "output_type": "stream",
     "text": [
      "0    647\n",
      "1    647\n",
      "2    647\n",
      "3    647\n",
      "4    647\n",
      "5    647\n",
      "6    647\n",
      "7    647\n",
      "Name: count, dtype: int64\n"
     ]
    }
   ],
   "source": [
    "from imblearn.over_sampling import SMOTE\n",
    "from imblearn.under_sampling import RandomUnderSampler\n",
    "\n",
    "def resampling(X, y):\n",
    "    y = pd.Series(y)\n",
    "    \n",
    "    mean_count = int(max(y.value_counts()) / 2)\n",
    "    smote_strategy = {\n",
    "        label: mean_count if count < mean_count else count \n",
    "        for label, count in y.value_counts().items()\n",
    "    }\n",
    "    smote = SMOTE(sampling_strategy=smote_strategy, random_state=42)\n",
    "    X_resampled, y_resampled = smote.fit_resample(X, y)\n",
    "    \n",
    "    undersample_strategy = {label: mean_count for label in y.value_counts().keys()}\n",
    "    undersample = RandomUnderSampler(sampling_strategy=undersample_strategy, random_state=42)\n",
    "    X_resampled, y_resampled = undersample.fit_resample(X_resampled, y_resampled)\n",
    "\n",
    "    return X_resampled, y_resampled\n",
    "\n",
    "X_train, y_train = resampling(X_train, y_train)\n",
    "\n",
    "print(pd.Series(y_train).value_counts(normalize=False))"
   ]
  },
  {
   "cell_type": "markdown",
   "id": "54bfe11e-7883-4c77-a917-8b4a0ecbacde",
   "metadata": {},
   "source": [
    "**Check the category split**"
   ]
  },
  {
   "cell_type": "code",
   "execution_count": 44,
   "id": "2e3ffe2c-c328-49b6-b057-3539ac082b73",
   "metadata": {},
   "outputs": [
    {
     "name": "stdout",
     "output_type": "stream",
     "text": [
      "                                 total  train  test  total%  train%  test%\n",
      "label                                                                     \n",
      "0_not_relevant                    1618    647   324    0.27    0.12   0.27\n",
      "1_not_happening                    741    647   148    0.12    0.12   0.12\n",
      "2_not_human                        702    647   141    0.12    0.12   0.12\n",
      "3_not_bad                          386    647    77    0.06    0.12   0.06\n",
      "4_solutions_harmful_unnecessary    774    647   155    0.13    0.12   0.13\n",
      "5_science_unreliable               801    647   160    0.13    0.12   0.13\n",
      "6_proponents_biased                782    647   157    0.13    0.12   0.13\n",
      "7_fossil_fuels_needed              287    647    57    0.05    0.12   0.05\n"
     ]
    }
   ],
   "source": [
    "total_category_counts = pd.DataFrame(y).value_counts().sort_index()\n",
    "train_category_counts = pd.DataFrame(y_train).value_counts().sort_index()\n",
    "test_category_counts = pd.DataFrame(y_test).value_counts().sort_index()\n",
    "\n",
    "total_proportions = pd.DataFrame(y).value_counts(normalize=True).sort_index().round(2)\n",
    "train_proportions = pd.DataFrame(y_train).value_counts(normalize=True).sort_index().round(2)\n",
    "test_proportions = pd.DataFrame(y_test).value_counts(normalize=True).sort_index().round(2)\n",
    "\n",
    "category_distribution_df = pd.DataFrame({\n",
    "    \"total\": total_category_counts.values,\n",
    "    \"train\": train_category_counts.values,\n",
    "    \"test\": test_category_counts.values,\n",
    "    \"total%\": total_proportions.values,\n",
    "    \"train%\": train_proportions.values,\n",
    "    \"test%\": test_proportions.values\n",
    "}, index=total_category_counts.index)\n",
    "\n",
    "print(category_distribution_df)"
   ]
  },
  {
   "cell_type": "markdown",
   "id": "d0c23ea4-047c-4252-ae07-379b52ef6c37",
   "metadata": {},
   "source": [
    "### **Model : XGBoost**"
   ]
  },
  {
   "cell_type": "code",
   "execution_count": 45,
   "id": "7ee440a9-f1e2-481f-87a3-664292a0642b",
   "metadata": {},
   "outputs": [],
   "source": [
    "import xgboost as xgb\n",
    "\n",
    "baseline_model = xgb.XGBClassifier(use_label_encoder=False, eval_metric='mlogloss', random_state=42)"
   ]
  },
  {
   "cell_type": "markdown",
   "id": "fd2bce14-6970-47db-b1f4-8791e2eadffc",
   "metadata": {},
   "source": [
    "**Baseline : Cross validation**"
   ]
  },
  {
   "cell_type": "code",
   "execution_count": 46,
   "id": "a1eedc1f-f729-4950-aa4b-b5155e8718eb",
   "metadata": {},
   "outputs": [
    {
     "name": "stderr",
     "output_type": "stream",
     "text": [
      "/Users/a.villa.massone/miniconda3/envs/frugal-notebooks-env/lib/python3.9/site-packages/xgboost/core.py:158: UserWarning:\n",
      "\n",
      "[18:48:05] WARNING: /Users/runner/work/xgboost/xgboost/src/learner.cc:740: \n",
      "Parameters: { \"use_label_encoder\" } are not used.\n",
      "\n",
      "\n",
      "/Users/a.villa.massone/miniconda3/envs/frugal-notebooks-env/lib/python3.9/site-packages/xgboost/core.py:158: UserWarning:\n",
      "\n",
      "[18:48:50] WARNING: /Users/runner/work/xgboost/xgboost/src/learner.cc:740: \n",
      "Parameters: { \"use_label_encoder\" } are not used.\n",
      "\n",
      "\n",
      "/Users/a.villa.massone/miniconda3/envs/frugal-notebooks-env/lib/python3.9/site-packages/xgboost/core.py:158: UserWarning:\n",
      "\n",
      "[18:49:36] WARNING: /Users/runner/work/xgboost/xgboost/src/learner.cc:740: \n",
      "Parameters: { \"use_label_encoder\" } are not used.\n",
      "\n",
      "\n",
      "/Users/a.villa.massone/miniconda3/envs/frugal-notebooks-env/lib/python3.9/site-packages/xgboost/core.py:158: UserWarning:\n",
      "\n",
      "[18:50:26] WARNING: /Users/runner/work/xgboost/xgboost/src/learner.cc:740: \n",
      "Parameters: { \"use_label_encoder\" } are not used.\n",
      "\n",
      "\n",
      "/Users/a.villa.massone/miniconda3/envs/frugal-notebooks-env/lib/python3.9/site-packages/xgboost/core.py:158: UserWarning:\n",
      "\n",
      "[18:51:24] WARNING: /Users/runner/work/xgboost/xgboost/src/learner.cc:740: \n",
      "Parameters: { \"use_label_encoder\" } are not used.\n",
      "\n",
      "\n"
     ]
    },
    {
     "name": "stdout",
     "output_type": "stream",
     "text": [
      "Baseline\n",
      "Cross-validation accuracy on 5 folds: 0.67\n"
     ]
    }
   ],
   "source": [
    "from sklearn.model_selection import cross_val_score, StratifiedKFold\n",
    "\n",
    "skf = StratifiedKFold(n_splits=5, shuffle=True, random_state=42)\n",
    "baseline_accuracy = cross_val_score(baseline_model, X_train, y_train, cv=skf).mean()\n",
    "\n",
    "print(\"Baseline\")\n",
    "print(f\"Cross-validation accuracy on 5 folds: {round(baseline_accuracy, 2)}\")"
   ]
  },
  {
   "cell_type": "markdown",
   "id": "25db5b40-e62d-488d-8bb7-c11723cf7ec4",
   "metadata": {},
   "source": [
    "## 5. **Efficiency metrics : Tracking energy consumption**"
   ]
  },
  {
   "cell_type": "markdown",
   "id": "cf6d8401-4225-4818-a141-565cc81fb736",
   "metadata": {
    "jp-MarkdownHeadingCollapsed": true
   },
   "source": [
    "### **During training**"
   ]
  },
  {
   "cell_type": "code",
   "execution_count": 46,
   "id": "61f65a22-acef-45c2-b5bb-2b4325062116",
   "metadata": {},
   "outputs": [
    {
     "data": {
      "text/plain": [
       "((5176, 12103), (5176,))"
      ]
     },
     "execution_count": 46,
     "metadata": {},
     "output_type": "execute_result"
    }
   ],
   "source": [
    "X_train.shape, y_train.shape"
   ]
  },
  {
   "cell_type": "code",
   "execution_count": 47,
   "id": "9644bbbc-c6c4-4eea-a10c-8ce0ebc6893a",
   "metadata": {},
   "outputs": [
    {
     "name": "stdout",
     "output_type": "stream",
     "text": [
      "                              metrics\n",
      "total_latency_sec        1.989603e-01\n",
      "sample_latency_sec       3.843901e-05\n",
      "total_energy_conso_kWh   2.845615e-06\n",
      "sample_energy_conso_kWh  5.497711e-10\n",
      "total_emissions_kgCO₂eq  1.651424e-07\n",
      "\n"
     ]
    }
   ],
   "source": [
    "from codecarbon import EmissionsTracker\n",
    "\n",
    "def monitor_training(model, X_train, y_train):\n",
    "    tracker = EmissionsTracker(log_level=\"error\")\n",
    "    tracker.start()\n",
    "\n",
    "    model.fit(X_train, y_train)\n",
    "\n",
    "    training_emissions = tracker.stop()\n",
    "    training_time = tracker.final_emissions_data.duration\n",
    "    training_energy_conso = tracker.final_emissions_data.energy_consumed\n",
    "\n",
    "    train_efficiency_metrics = {\n",
    "        \"total_latency_sec\": training_time,\n",
    "        \"sample_latency_sec\": training_time / X_train.shape[0],\n",
    "        \"total_energy_conso_kWh\": training_energy_conso,\n",
    "        \"sample_energy_conso_kWh\": training_energy_conso / X_train.shape[0],\n",
    "        \"total_emissions_kgCO₂eq\": training_emissions,\n",
    "#        \"tracker_data\": tracker.final_emissions_data\n",
    "    }\n",
    "    train_efficiency_metrics_df = pd.DataFrame.from_dict(train_efficiency_metrics, columns=['metrics'], orient='index')\n",
    "\n",
    "    return model, train_efficiency_metrics_df\n",
    "\n",
    "baseline_model, train_efficiency_metrics_df = monitor_training(baseline_model, X_train, y_train)\n",
    "\n",
    "print(train_efficiency_metrics_df)\n",
    "print()"
   ]
  },
  {
   "cell_type": "markdown",
   "id": "8be0309c-6e50-4cda-bc4a-7ca44fe77ba0",
   "metadata": {
    "jp-MarkdownHeadingCollapsed": true
   },
   "source": [
    "### **During inference**"
   ]
  },
  {
   "cell_type": "code",
   "execution_count": 48,
   "id": "6feae580-d8cf-4b4b-9246-48139579b559",
   "metadata": {},
   "outputs": [
    {
     "data": {
      "text/plain": [
       "(1219, 12103)"
      ]
     },
     "execution_count": 48,
     "metadata": {},
     "output_type": "execute_result"
    }
   ],
   "source": [
    "X_test.shape"
   ]
  },
  {
   "cell_type": "code",
   "execution_count": 49,
   "id": "deb36280-f3be-422f-92dd-35b334e5e597",
   "metadata": {},
   "outputs": [
    {
     "name": "stdout",
     "output_type": "stream",
     "text": [
      "                              metrics\n",
      "total_latency_sec        6.663823e-02\n",
      "sample_latency_sec       5.466631e-05\n",
      "total_energy_conso_kWh   9.525356e-07\n",
      "sample_energy_conso_kWh  7.814074e-10\n",
      "total_emissions_kgCO₂eq  5.527945e-08\n",
      "\n"
     ]
    }
   ],
   "source": [
    "from codecarbon import EmissionsTracker\n",
    "\n",
    "def monitor_inference(model, X_test):\n",
    "    tracker = EmissionsTracker(log_level=\"error\")\n",
    "    tracker.start()\n",
    "    \n",
    "    y_pred = model.predict(X_test)\n",
    "\n",
    "    inference_emissions = tracker.stop()\n",
    "    inference_time = tracker.final_emissions_data.duration\n",
    "    inference_energy_conso = tracker.final_emissions_data.energy_consumed\n",
    "\n",
    "    inf_efficiency_metrics = {\n",
    "        \"total_latency_sec\": inference_time,\n",
    "        \"sample_latency_sec\": inference_time / X_test.shape[0],\n",
    "        \"total_energy_conso_kWh\": inference_energy_conso,\n",
    "        \"sample_energy_conso_kWh\": inference_energy_conso / X_test.shape[0],\n",
    "        \"total_emissions_kgCO₂eq\": inference_emissions,\n",
    "#        \"tracker_data\": tracker.final_emissions_data\n",
    "    }\n",
    "    inf_efficiency_metrics_df = pd.DataFrame.from_dict(inf_efficiency_metrics, columns=['metrics'], orient='index')\n",
    "\n",
    "    return y_pred, inf_efficiency_metrics_df\n",
    "\n",
    "y_pred, inf_efficiency_metrics_df = monitor_inference(baseline_model, X_test)\n",
    "\n",
    "print(inf_efficiency_metrics_df)\n",
    "print()"
   ]
  },
  {
   "cell_type": "markdown",
   "id": "ed7726c0-22aa-4827-80a7-1578f9babf4c",
   "metadata": {},
   "source": [
    "### **Summary table**"
   ]
  },
  {
   "cell_type": "code",
   "execution_count": 50,
   "id": "43fe69b8-8571-45b6-81a5-ed7719288618",
   "metadata": {},
   "outputs": [
    {
     "data": {
      "text/html": [
       "<div>\n",
       "<style scoped>\n",
       "    .dataframe tbody tr th:only-of-type {\n",
       "        vertical-align: middle;\n",
       "    }\n",
       "\n",
       "    .dataframe tbody tr th {\n",
       "        vertical-align: top;\n",
       "    }\n",
       "\n",
       "    .dataframe thead th {\n",
       "        text-align: right;\n",
       "    }\n",
       "</style>\n",
       "<table border=\"1\" class=\"dataframe\">\n",
       "  <thead>\n",
       "    <tr style=\"text-align: right;\">\n",
       "      <th></th>\n",
       "      <th>training</th>\n",
       "      <th>inference</th>\n",
       "    </tr>\n",
       "  </thead>\n",
       "  <tbody>\n",
       "    <tr>\n",
       "      <th>total_latency_sec</th>\n",
       "      <td>1.989603e-01</td>\n",
       "      <td>6.663823e-02</td>\n",
       "    </tr>\n",
       "    <tr>\n",
       "      <th>sample_latency_sec</th>\n",
       "      <td>3.843901e-05</td>\n",
       "      <td>5.466631e-05</td>\n",
       "    </tr>\n",
       "    <tr>\n",
       "      <th>total_energy_conso_kWh</th>\n",
       "      <td>2.845615e-06</td>\n",
       "      <td>9.525356e-07</td>\n",
       "    </tr>\n",
       "    <tr>\n",
       "      <th>sample_energy_conso_kWh</th>\n",
       "      <td>5.497711e-10</td>\n",
       "      <td>7.814074e-10</td>\n",
       "    </tr>\n",
       "    <tr>\n",
       "      <th>total_emissions_kgCO₂eq</th>\n",
       "      <td>1.651424e-07</td>\n",
       "      <td>5.527945e-08</td>\n",
       "    </tr>\n",
       "  </tbody>\n",
       "</table>\n",
       "</div>"
      ],
      "text/plain": [
       "                             training     inference\n",
       "total_latency_sec        1.989603e-01  6.663823e-02\n",
       "sample_latency_sec       3.843901e-05  5.466631e-05\n",
       "total_energy_conso_kWh   2.845615e-06  9.525356e-07\n",
       "sample_energy_conso_kWh  5.497711e-10  7.814074e-10\n",
       "total_emissions_kgCO₂eq  1.651424e-07  5.527945e-08"
      ]
     },
     "execution_count": 50,
     "metadata": {},
     "output_type": "execute_result"
    }
   ],
   "source": [
    "df_combined = pd.concat([train_efficiency_metrics_df, inf_efficiency_metrics_df], axis=1)\n",
    "df_combined.columns = ['training', 'inference']\n",
    "df_combined"
   ]
  },
  {
   "cell_type": "markdown",
   "id": "64c8f857-4a45-494c-9181-879205fd8547",
   "metadata": {},
   "source": [
    "## 4. **Performance metrics**"
   ]
  },
  {
   "cell_type": "markdown",
   "id": "c2e7981b-3444-42ef-b998-da0b9fd639d8",
   "metadata": {},
   "source": [
    "**Metrics**  \n",
    "evaluation with :  \n",
    "- accuracy  \n",
    "\n",
    "monitor:  \n",
    "- class_accuracy\n",
    "- precision\n",
    "- recall\n",
    "- f1"
   ]
  },
  {
   "cell_type": "markdown",
   "id": "19f73045-6b05-4d40-bfd6-ede5a67db9e4",
   "metadata": {},
   "source": [
    "### **functions**"
   ]
  },
  {
   "cell_type": "markdown",
   "id": "a4d25605-0a01-486e-a97e-cacbf10fa71f",
   "metadata": {},
   "source": [
    "**compute metrics**"
   ]
  },
  {
   "cell_type": "code",
   "execution_count": 51,
   "id": "8f0fd135-a804-4c71-afb9-76a99422c5ed",
   "metadata": {},
   "outputs": [
    {
     "data": {
      "text/plain": [
       "((1219,), (1219,))"
      ]
     },
     "execution_count": 51,
     "metadata": {},
     "output_type": "execute_result"
    }
   ],
   "source": [
    "y_test.shape, y_pred.shape"
   ]
  },
  {
   "cell_type": "code",
   "execution_count": 52,
   "id": "df03585a-f225-4767-9f6a-0f77ab2f2d2e",
   "metadata": {},
   "outputs": [
    {
     "data": {
      "text/plain": [
       "(array([0, 1, 2, 3, 4, 5, 6, 7]), array([0, 1, 2, 3, 4, 5, 6, 7]))"
      ]
     },
     "execution_count": 52,
     "metadata": {},
     "output_type": "execute_result"
    }
   ],
   "source": [
    "np.unique(y_test), np.unique(y_pred)"
   ]
  },
  {
   "cell_type": "code",
   "execution_count": 53,
   "id": "8fe81a14-e10d-4b28-8bf6-7674d7a1e331",
   "metadata": {},
   "outputs": [
    {
     "name": "stdout",
     "output_type": "stream",
     "text": [
      "\n",
      "Baseline Test accuracy: 0.561 \n",
      "\n",
      "Class metrics:\n",
      "\n"
     ]
    },
    {
     "data": {
      "text/html": [
       "<div>\n",
       "<style scoped>\n",
       "    .dataframe tbody tr th:only-of-type {\n",
       "        vertical-align: middle;\n",
       "    }\n",
       "\n",
       "    .dataframe tbody tr th {\n",
       "        vertical-align: top;\n",
       "    }\n",
       "\n",
       "    .dataframe thead th {\n",
       "        text-align: right;\n",
       "    }\n",
       "</style>\n",
       "<table border=\"1\" class=\"dataframe\">\n",
       "  <thead>\n",
       "    <tr style=\"text-align: right;\">\n",
       "      <th></th>\n",
       "      <th>Category</th>\n",
       "      <th>Accuracy</th>\n",
       "      <th>Precision</th>\n",
       "      <th>Recall</th>\n",
       "      <th>F1 Score</th>\n",
       "    </tr>\n",
       "  </thead>\n",
       "  <tbody>\n",
       "    <tr>\n",
       "      <th>0</th>\n",
       "      <td>0</td>\n",
       "      <td>0.33</td>\n",
       "      <td>0.86</td>\n",
       "      <td>0.33</td>\n",
       "      <td>0.47</td>\n",
       "    </tr>\n",
       "    <tr>\n",
       "      <th>1</th>\n",
       "      <td>1</td>\n",
       "      <td>0.65</td>\n",
       "      <td>0.68</td>\n",
       "      <td>0.65</td>\n",
       "      <td>0.66</td>\n",
       "    </tr>\n",
       "    <tr>\n",
       "      <th>2</th>\n",
       "      <td>2</td>\n",
       "      <td>0.74</td>\n",
       "      <td>0.54</td>\n",
       "      <td>0.74</td>\n",
       "      <td>0.63</td>\n",
       "    </tr>\n",
       "    <tr>\n",
       "      <th>3</th>\n",
       "      <td>3</td>\n",
       "      <td>0.62</td>\n",
       "      <td>0.59</td>\n",
       "      <td>0.62</td>\n",
       "      <td>0.60</td>\n",
       "    </tr>\n",
       "    <tr>\n",
       "      <th>4</th>\n",
       "      <td>4</td>\n",
       "      <td>0.63</td>\n",
       "      <td>0.49</td>\n",
       "      <td>0.63</td>\n",
       "      <td>0.55</td>\n",
       "    </tr>\n",
       "    <tr>\n",
       "      <th>5</th>\n",
       "      <td>5</td>\n",
       "      <td>0.61</td>\n",
       "      <td>0.51</td>\n",
       "      <td>0.61</td>\n",
       "      <td>0.55</td>\n",
       "    </tr>\n",
       "    <tr>\n",
       "      <th>6</th>\n",
       "      <td>6</td>\n",
       "      <td>0.57</td>\n",
       "      <td>0.51</td>\n",
       "      <td>0.57</td>\n",
       "      <td>0.54</td>\n",
       "    </tr>\n",
       "    <tr>\n",
       "      <th>7</th>\n",
       "      <td>7</td>\n",
       "      <td>0.77</td>\n",
       "      <td>0.39</td>\n",
       "      <td>0.77</td>\n",
       "      <td>0.52</td>\n",
       "    </tr>\n",
       "  </tbody>\n",
       "</table>\n",
       "</div>"
      ],
      "text/plain": [
       "   Category  Accuracy  Precision  Recall  F1 Score\n",
       "0         0      0.33       0.86    0.33      0.47\n",
       "1         1      0.65       0.68    0.65      0.66\n",
       "2         2      0.74       0.54    0.74      0.63\n",
       "3         3      0.62       0.59    0.62      0.60\n",
       "4         4      0.63       0.49    0.63      0.55\n",
       "5         5      0.61       0.51    0.61      0.55\n",
       "6         6      0.57       0.51    0.57      0.54\n",
       "7         7      0.77       0.39    0.77      0.52"
      ]
     },
     "execution_count": 53,
     "metadata": {},
     "output_type": "execute_result"
    }
   ],
   "source": [
    "from sklearn.metrics import accuracy_score     # tp + tn / all  : maximize correct predictions\n",
    "from sklearn.metrics import precision_score    # tp / (tp + fp) : minimize false positives\n",
    "from sklearn.metrics import recall_score       # tp / (tp + fn) : maximize true positives\n",
    "from sklearn.metrics import f1_score           # harmonic mean of the precision and recall\n",
    "\n",
    "def compute_class_accuracy(y_test, y_pred):\n",
    "    df = pd.DataFrame({'label': y_test, 'correct': y_test == y_pred})\n",
    "    return df.groupby('label')['correct'].mean()\n",
    "\n",
    "def evaluation(y_test, y_pred):    \n",
    "    accuracy = accuracy_score(y_test, y_pred)\n",
    "\n",
    "    labels = np.unique(y_pred)\n",
    "    class_accuracy = compute_class_accuracy(y_test, y_pred)\n",
    "    class_precision = precision_score(y_test, y_pred, average=None, labels=labels)\n",
    "    class_recall = recall_score(y_test, y_pred, average=None, labels=labels)\n",
    "    class_f1 = f1_score(y_test, y_pred, average=None, labels=labels)\n",
    "\n",
    "    eval_perf_metrics_df = pd.DataFrame({\n",
    "        \"Category\": labels,\n",
    "        \"Accuracy\": class_accuracy.values,\n",
    "        \"Precision\": class_precision,\n",
    "        \"Recall\": class_recall,\n",
    "        \"F1 Score\": class_f1\n",
    "    })\n",
    "\n",
    "    return accuracy, eval_perf_metrics_df\n",
    "\n",
    "baseline_test_accuracy, eval_perf_metrics_df = evaluation(y_test, y_pred)\n",
    "\n",
    "print('\\nBaseline Test accuracy:', round(baseline_test_accuracy, 3), '\\n')\n",
    "print('Class metrics:\\n')\n",
    "eval_perf_metrics_df.round(2)"
   ]
  },
  {
   "cell_type": "markdown",
   "id": "b93613c6-1c92-4c68-a173-af8410e52aa0",
   "metadata": {},
   "source": [
    "**Plot metrics**"
   ]
  },
  {
   "cell_type": "code",
   "execution_count": 54,
   "id": "f5dfec16-f0fe-4819-913a-857aac44f1ee",
   "metadata": {},
   "outputs": [],
   "source": [
    "import numpy as np\n",
    "import matplotlib.pyplot as plt\n",
    "\n",
    "def plot_metrics(accuracy, metrics_df):\n",
    "    '''\n",
    "        metrics_df : df with following format \n",
    "            metrics_df = pd.DataFrame({\n",
    "                \"Category\": labels,\n",
    "                \"Accuracy\": class_accuracy.values,\n",
    "                \"Precision\": class_precision,\n",
    "                \"Recall\": class_recall,\n",
    "                \"F1 Score\": class_f1\n",
    "            })\n",
    "    '''\n",
    "    categories = metrics_df['Category']\n",
    "    \n",
    "    plt.figure(figsize=(8, 5))\n",
    "    \n",
    "    plt.plot(categories, metrics_df['F1 Score'], marker='o', label='F1 Score')\n",
    "    plt.plot(categories, metrics_df['Precision'], marker='s', label='Precision')\n",
    "    plt.plot(categories, metrics_df['Recall'], marker='^', label='Recall')\n",
    "    plt.plot(categories, metrics_df['Accuracy'], marker='.', label='Accuracy')\n",
    "    \n",
    "    plt.axhline(y=accuracy, color='r', linestyle='--', label=f'Accuracy ({accuracy:.2f})')\n",
    "    \n",
    "    plt.xlabel(\"Category\")\n",
    "    plt.ylabel(\"Score\")\n",
    "    plt.title(\"Evaluation Metrics per Category\")\n",
    "    plt.xticks(categories, categories, rotation=45, ha=\"right\")\n",
    "    plt.legend()\n",
    "    plt.grid(True)\n",
    "    \n",
    "    print(\"Category distribution\")\n",
    "    print(category_distribution_df)\n",
    "    print()\n",
    "    print(\"Category metrics\")\n",
    "    print(metrics_df.round(2))\n",
    "    print()\n",
    "    plt.show()\n",
    "    print()"
   ]
  },
  {
   "cell_type": "markdown",
   "id": "d149d643-086a-4397-95b6-8714f8d384a4",
   "metadata": {},
   "source": [
    "**Confusion matrix**"
   ]
  },
  {
   "cell_type": "code",
   "execution_count": 55,
   "id": "ab667ce0-cf3e-40f7-94fe-29e38167c6d2",
   "metadata": {},
   "outputs": [],
   "source": [
    "from sklearn.metrics import confusion_matrix\n",
    "import seaborn as sns\n",
    "\n",
    "def plot_confusion_matrix(y_test, y_pred):\n",
    "    cm = confusion_matrix(y_test, y_pred)\n",
    "    plt.figure(figsize=(5, 3))\n",
    "    sns.heatmap(cm, annot=True, fmt='d', cmap='Blues', xticklabels=np.unique(y_test), yticklabels=np.unique(y_test))\n",
    "    plt.xlabel(\"Predicted Label\")\n",
    "    plt.ylabel(\"True Label\")\n",
    "    plt.title(\"Confusion Matrix\")\n",
    "    plt.show()"
   ]
  },
  {
   "cell_type": "markdown",
   "id": "caa2ec8a-d186-445f-a877-15c3e4cceba1",
   "metadata": {},
   "source": [
    "### ****"
   ]
  },
  {
   "cell_type": "code",
   "execution_count": 100,
   "id": "4e54541b-3e42-4330-a097-11137119fa50",
   "metadata": {},
   "outputs": [
    {
     "name": "stdout",
     "output_type": "stream",
     "text": [
      "\n",
      "Baseline Test accuracy: 0.56 \n",
      "\n",
      "Class metrics:\n",
      "\n"
     ]
    },
    {
     "data": {
      "text/html": [
       "<div>\n",
       "<style scoped>\n",
       "    .dataframe tbody tr th:only-of-type {\n",
       "        vertical-align: middle;\n",
       "    }\n",
       "\n",
       "    .dataframe tbody tr th {\n",
       "        vertical-align: top;\n",
       "    }\n",
       "\n",
       "    .dataframe thead th {\n",
       "        text-align: right;\n",
       "    }\n",
       "</style>\n",
       "<table border=\"1\" class=\"dataframe\">\n",
       "  <thead>\n",
       "    <tr style=\"text-align: right;\">\n",
       "      <th></th>\n",
       "      <th>Category</th>\n",
       "      <th>Accuracy</th>\n",
       "      <th>Precision</th>\n",
       "      <th>Recall</th>\n",
       "      <th>F1 Score</th>\n",
       "    </tr>\n",
       "  </thead>\n",
       "  <tbody>\n",
       "    <tr>\n",
       "      <th>0</th>\n",
       "      <td>0</td>\n",
       "      <td>0.81</td>\n",
       "      <td>0.47</td>\n",
       "      <td>0.81</td>\n",
       "      <td>0.60</td>\n",
       "    </tr>\n",
       "    <tr>\n",
       "      <th>1</th>\n",
       "      <td>1</td>\n",
       "      <td>0.60</td>\n",
       "      <td>0.72</td>\n",
       "      <td>0.60</td>\n",
       "      <td>0.65</td>\n",
       "    </tr>\n",
       "    <tr>\n",
       "      <th>2</th>\n",
       "      <td>2</td>\n",
       "      <td>0.65</td>\n",
       "      <td>0.60</td>\n",
       "      <td>0.65</td>\n",
       "      <td>0.62</td>\n",
       "    </tr>\n",
       "    <tr>\n",
       "      <th>3</th>\n",
       "      <td>3</td>\n",
       "      <td>0.29</td>\n",
       "      <td>0.92</td>\n",
       "      <td>0.29</td>\n",
       "      <td>0.44</td>\n",
       "    </tr>\n",
       "    <tr>\n",
       "      <th>4</th>\n",
       "      <td>4</td>\n",
       "      <td>0.45</td>\n",
       "      <td>0.54</td>\n",
       "      <td>0.45</td>\n",
       "      <td>0.49</td>\n",
       "    </tr>\n",
       "    <tr>\n",
       "      <th>5</th>\n",
       "      <td>5</td>\n",
       "      <td>0.55</td>\n",
       "      <td>0.61</td>\n",
       "      <td>0.55</td>\n",
       "      <td>0.58</td>\n",
       "    </tr>\n",
       "    <tr>\n",
       "      <th>6</th>\n",
       "      <td>6</td>\n",
       "      <td>0.35</td>\n",
       "      <td>0.65</td>\n",
       "      <td>0.35</td>\n",
       "      <td>0.45</td>\n",
       "    </tr>\n",
       "    <tr>\n",
       "      <th>7</th>\n",
       "      <td>7</td>\n",
       "      <td>0.07</td>\n",
       "      <td>1.00</td>\n",
       "      <td>0.07</td>\n",
       "      <td>0.13</td>\n",
       "    </tr>\n",
       "  </tbody>\n",
       "</table>\n",
       "</div>"
      ],
      "text/plain": [
       "   Category  Accuracy  Precision  Recall  F1 Score\n",
       "0         0      0.81       0.47    0.81      0.60\n",
       "1         1      0.60       0.72    0.60      0.65\n",
       "2         2      0.65       0.60    0.65      0.62\n",
       "3         3      0.29       0.92    0.29      0.44\n",
       "4         4      0.45       0.54    0.45      0.49\n",
       "5         5      0.55       0.61    0.55      0.58\n",
       "6         6      0.35       0.65    0.35      0.45\n",
       "7         7      0.07       1.00    0.07      0.13"
      ]
     },
     "execution_count": 100,
     "metadata": {},
     "output_type": "execute_result"
    }
   ],
   "source": [
    "baseline_test_accuracy, eval_perf_metrics_df = evaluation(y_test, y_pred)\n",
    "\n",
    "print('\\nBaseline Test accuracy:', round(baseline_test_accuracy, 3), '\\n')\n",
    "print('Class metrics:\\n')\n",
    "eval_perf_metrics_df.round(2)"
   ]
  },
  {
   "cell_type": "code",
   "execution_count": 57,
   "id": "4fd815cf-cc1b-4ff9-99e7-57bce9f34f0b",
   "metadata": {},
   "outputs": [
    {
     "name": "stdout",
     "output_type": "stream",
     "text": [
      "Category distribution\n",
      "                                 total  train  test  total%  train%  test%\n",
      "label                                                                     \n",
      "0_not_relevant                    1618    647   324    0.27    0.12   0.27\n",
      "1_not_happening                    741    647   148    0.12    0.12   0.12\n",
      "2_not_human                        702    647   141    0.12    0.12   0.12\n",
      "3_not_bad                          386    647    77    0.06    0.12   0.06\n",
      "4_solutions_harmful_unnecessary    774    647   155    0.13    0.12   0.13\n",
      "5_science_unreliable               801    647   160    0.13    0.12   0.13\n",
      "6_proponents_biased                782    647   157    0.13    0.12   0.13\n",
      "7_fossil_fuels_needed              287    647    57    0.05    0.12   0.05\n",
      "\n",
      "Category metrics\n",
      "   Category  Accuracy  Precision  Recall  F1 Score\n",
      "0         0      0.33       0.86    0.33      0.47\n",
      "1         1      0.65       0.68    0.65      0.66\n",
      "2         2      0.74       0.54    0.74      0.63\n",
      "3         3      0.62       0.59    0.62      0.60\n",
      "4         4      0.63       0.49    0.63      0.55\n",
      "5         5      0.61       0.51    0.61      0.55\n",
      "6         6      0.57       0.51    0.57      0.54\n",
      "7         7      0.77       0.39    0.77      0.52\n",
      "\n"
     ]
    },
    {
     "data": {
      "image/png": "[encoded data removed]",
      "text/plain": [
       "<Figure size 800x500 with 1 Axes>"
      ]
     },
     "metadata": {},
     "output_type": "display_data"
    },
    {
     "name": "stdout",
     "output_type": "stream",
     "text": [
      "\n"
     ]
    }
   ],
   "source": [
    "plot_metrics(baseline_test_accuracy, eval_perf_metrics_df)"
   ]
  },
  {
   "cell_type": "code",
   "execution_count": 58,
   "id": "ebba53b2-4c7c-416f-9f1b-1516e8d81008",
   "metadata": {},
   "outputs": [
    {
     "data": {
      "image/png": "[encoded data removed]",
      "text/plain": [
       "<Figure size 500x300 with 2 Axes>"
      ]
     },
     "metadata": {},
     "output_type": "display_data"
    }
   ],
   "source": [
    "plot_confusion_matrix(y_test, y_pred)"
   ]
  },
  {
   "cell_type": "markdown",
   "id": "87490e56-1349-4194-b2b5-c87483f75a1b",
   "metadata": {},
   "source": [
    "## 6. **Finding the best params with a Randomized Search**"
   ]
  },
  {
   "cell_type": "markdown",
   "id": "b6f340f3-050b-40d0-a93a-d71ebfc2b773",
   "metadata": {},
   "source": [
    "##### **Pipeline and randomized search- Details**"
   ]
  },
  {
   "cell_type": "markdown",
   "id": "51c6fe0e-334c-486e-97fa-3064e6d7e61d",
   "metadata": {},
   "source": [
    "**Preproc functions**"
   ]
  },
  {
   "cell_type": "code",
   "execution_count": 59,
   "id": "c2e13238-9fa7-4c9b-9916-a2f4598c9943",
   "metadata": {},
   "outputs": [],
   "source": [
    "clean_X = lambda X, threshold=20: [basic_cleaning(sentence, threshold) for sentence in X]\n",
    "preproc_X = lambda X, threshold=750: [preproc(sentence, threshold) for sentence in X]"
   ]
  },
  {
   "cell_type": "markdown",
   "id": "bb222529-f436-4a5a-8df0-46067106a0be",
   "metadata": {},
   "source": [
    "**Pipeline**"
   ]
  },
  {
   "cell_type": "code",
   "execution_count": 60,
   "id": "191d026f-9cae-4efe-acee-816bc1b03807",
   "metadata": {},
   "outputs": [],
   "source": [
    "from sklearn.pipeline import Pipeline\n",
    "from sklearn.preprocessing import FunctionTransformer\n",
    "from functools import partial\n",
    "\n",
    "resampling_wrapper = lambda X, y=None: resampling(X, y) if y is not None else X\n",
    "\n",
    "pipeline = Pipeline([\n",
    "    ('clean', FunctionTransformer(clean_X)),\n",
    "    ('preproc', FunctionTransformer(preproc_X)),\n",
    "    ('tfidf', TfidfVectorizer()),\n",
    "    ('resample', FunctionTransformer(partial(resampling_wrapper))),\n",
    "    ('estimator', MultinomialNB())\n",
    "])"
   ]
  },
  {
   "cell_type": "code",
   "execution_count": 61,
   "id": "d327458d-8ccf-469b-87f8-13a2b1e25595",
   "metadata": {},
   "outputs": [],
   "source": [
    "# debug \n",
    "# pipeline.named_steps.keys()"
   ]
  },
  {
   "cell_type": "code",
   "execution_count": 62,
   "id": "5d2bece6-46e0-4771-85c6-559d7e1419ae",
   "metadata": {},
   "outputs": [],
   "source": [
    "#for param, value in pipeline.get_params().items():\n",
    "#    print(f\"{param}: {value}\")"
   ]
  },
  {
   "cell_type": "markdown",
   "id": "c6e6fa6e-ad8a-4601-91d0-96c8b65ab26d",
   "metadata": {},
   "source": [
    "**Params to evaluate**"
   ]
  },
  {
   "cell_type": "code",
   "execution_count": 63,
   "id": "0b76dadb-de9e-4d99-93ed-d3cd2d568797",
   "metadata": {},
   "outputs": [
    {
     "name": "stdout",
     "output_type": "stream",
     "text": [
      "Total configurations: 3\n",
      "Estimated time to complete with grid search : 1.79 sec\n",
      "Estimated time to complete with randomized search : 11.94 sec\n"
     ]
    }
   ],
   "source": [
    "from itertools import product\n",
    "\n",
    "param_grid = {\n",
    "    'clean__kw_args': [{\"threshold\": 17}], \n",
    "    'preproc__kw_args': [{\"threshold\": 750}],\n",
    "\n",
    "    'tfidf__max_df' : [0.9],                             # limit high frequency words\n",
    "    'tfidf__max_features': [7500],    # vocabulary size\n",
    "\n",
    "    'estimator__n_estimators': [100, 300, 500],\n",
    "    'estimator__max_depth': [3, 5, 7, 10],\n",
    "    'estimator__learning_rate': [0.01, 0.1, 0.2],\n",
    "    'estimator__subsample': [0.6, 0.8, 1.0],\n",
    "    'estimator__colsample_bytree': [0.6, 0.8, 1.0],\n",
    "    'estimator__gamma': [0, 0.1, 0.2]\n",
    "}\n",
    "\n",
    "num_configurations = len(list(product(*param_grid.values())))\n",
    "grid_estimated_time = 3 * num_configurations * train_efficiency_metrics_df[\"metrics\"].loc[\"total_latency_sec\"]\n",
    "random_estimated_time = 3 * 20 * train_efficiency_metrics_df[\"metrics\"].loc[\"total_latency_sec\"]\n",
    "\n",
    "print(f\"Total configurations: {num_configurations}\")\n",
    "print(f'Estimated time to complete with grid search : {round(grid_estimated_time, 2)} sec')\n",
    "print(f'Estimated time to complete with randomized search : {round(random_estimated_time, 2)} sec')"
   ]
  },
  {
   "cell_type": "markdown",
   "id": "d59d40b1-fead-4998-8e48-646054db1efa",
   "metadata": {},
   "source": [
    "**Search**"
   ]
  },
  {
   "cell_type": "code",
   "execution_count": 64,
   "id": "67315ab6-9f62-4a01-b987-d99eff206070",
   "metadata": {},
   "outputs": [
    {
     "name": "stdout",
     "output_type": "stream",
     "text": [
      "Best parameters:\n",
      "{'clean__kw_args': {'threshold': 17}, 'estimator__alpha': 0.45, 'preproc__kw_args': {'threshold': 750}, 'tfidf__max_df': 0.9, 'tfidf__max_features': 7500}\n",
      "\n",
      "Best accuracy: 0.543\n",
      "\n",
      "CPU times: user 13.9 s, sys: 330 ms, total: 14.3 s\n",
      "Wall time: 1min 9s\n"
     ]
    }
   ],
   "source": [
    "%%time\n",
    "from sklearn.model_selection import GridSearchCV\n",
    "from sklearn.model_selection import RandomizedSearchCV\n",
    "from sklearn.preprocessing import LabelEncoder\n",
    "from sklearn.model_selection import train_test_split\n",
    "\n",
    "# Encode labels\n",
    "y = df['label']\n",
    "le = LabelEncoder()\n",
    "y_cat = le.fit_transform(y)\n",
    "\n",
    "# Split data\n",
    "X = df['quote']\n",
    "X_train, X_test, y_train, y_test = train_test_split(\n",
    "    X, y_cat, test_size=0.2, stratify=y_cat, random_state=42\n",
    ")\n",
    "\n",
    "# Run grid search\n",
    "search = RandomizedSearchCV(\n",
    "    estimator=pipeline, \n",
    "    param_distributions=param_grid, \n",
    "    n_iter=20,\n",
    "    cv=3, \n",
    "    scoring='accuracy', \n",
    "    n_jobs=-1,\n",
    "    random_state=42\n",
    ")\n",
    "search = GridSearchCV(\n",
    "    estimator=pipeline, \n",
    "    param_grid=param_grid, \n",
    "    cv=3, \n",
    "    scoring='accuracy', \n",
    "    n_jobs=-1,\n",
    ")\n",
    "search.fit(X_train, y_train)\n",
    "\n",
    "# Evaluate\n",
    "print('Best parameters:')\n",
    "print(search.best_params_)\n",
    "print(f\"\\nBest accuracy: {round(search.best_score_, 3)}\\n\")"
   ]
  },
  {
   "cell_type": "markdown",
   "id": "b624e7a9-a557-4e77-bec9-e7259a3f399e",
   "metadata": {},
   "source": [
    "##### **Best params**"
   ]
  },
  {
   "cell_type": "code",
   "execution_count": 65,
   "id": "12e9769f-138d-44cd-9fbb-73f58975c029",
   "metadata": {},
   "outputs": [
    {
     "name": "stdout",
     "output_type": "stream",
     "text": [
      "Best parameters:\n",
      "clean__kw_args:{'threshold': 17}\n",
      "estimator__alpha:0.45\n",
      "preproc__kw_args:{'threshold': 750}\n",
      "tfidf__max_df:0.9\n",
      "tfidf__max_features:7500\n",
      "\n",
      "Best accuracy: 0.543\n",
      "\n"
     ]
    }
   ],
   "source": [
    "print('Best parameters:')\n",
    "[print(f'{k}:{v}') for (k, v) in search.best_params_.items()]\n",
    "print(f\"\\nBest accuracy: {round(search.best_score_, 3)}\\n\")"
   ]
  },
  {
   "cell_type": "markdown",
   "id": "90e43c04-6824-421b-9f88-061ce175c752",
   "metadata": {},
   "source": [
    "## 7. **Evaluating the best model**"
   ]
  },
  {
   "cell_type": "markdown",
   "id": "34fb3bf9-14d7-4cd3-aa7d-227b42b91cb1",
   "metadata": {
    "jp-MarkdownHeadingCollapsed": true
   },
   "source": [
    "##### **Prepare data**"
   ]
  },
  {
   "cell_type": "markdown",
   "id": "3a8dcd1a-bc5c-420b-b0fe-160ebec82921",
   "metadata": {},
   "source": [
    "**Feature and target**"
   ]
  },
  {
   "cell_type": "code",
   "execution_count": 66,
   "id": "2d161896-ab90-460b-abcd-5ccf1bef2b2a",
   "metadata": {},
   "outputs": [],
   "source": [
    "X = df['quote']\n",
    "y = df['label']"
   ]
  },
  {
   "cell_type": "markdown",
   "id": "f9976967-3b3b-4f29-868c-07ee4c45492d",
   "metadata": {},
   "source": [
    "**Encode labels**"
   ]
  },
  {
   "cell_type": "code",
   "execution_count": 67,
   "id": "bf927086-b6eb-43f7-9268-c736a9aa9db0",
   "metadata": {},
   "outputs": [],
   "source": [
    "# Encode labels\n",
    "le = LabelEncoder()\n",
    "y_cat = le.fit_transform(y)"
   ]
  },
  {
   "cell_type": "markdown",
   "id": "29633940-34b0-4dfa-9fca-04a7684abc33",
   "metadata": {},
   "source": [
    "**Clean, preproc, vectorize X**"
   ]
  },
  {
   "cell_type": "code",
   "execution_count": 68,
   "id": "0ac9bc7c-ecc4-49d8-a730-50d3daf07827",
   "metadata": {},
   "outputs": [],
   "source": [
    "X_clean = X.apply(basic_cleaning)\n",
    "X_preproc = X_clean.apply(preproc)"
   ]
  },
  {
   "cell_type": "code",
   "execution_count": 69,
   "id": "0587ff90-e3ca-4cc7-ac0e-9fa6661312fd",
   "metadata": {},
   "outputs": [
    {
     "data": {
      "text/plain": [
       "{'clean__kw_args': {'threshold': 17},\n",
       " 'estimator__alpha': 0.45,\n",
       " 'preproc__kw_args': {'threshold': 750},\n",
       " 'tfidf__max_df': 0.9,\n",
       " 'tfidf__max_features': 7500}"
      ]
     },
     "execution_count": 69,
     "metadata": {},
     "output_type": "execute_result"
    }
   ],
   "source": [
    "search.best_params_"
   ]
  },
  {
   "cell_type": "code",
   "execution_count": 70,
   "id": "f8d3fcca-10d1-43e2-9fe5-bd92bdd97a8f",
   "metadata": {},
   "outputs": [
    {
     "data": {
      "text/plain": [
       "{'max_df': 0.9, 'max_features': 7500}"
      ]
     },
     "execution_count": 70,
     "metadata": {},
     "output_type": "execute_result"
    }
   ],
   "source": [
    "tfidf_params = {k.replace(\"tfidf__\", \"\"): v for k, v in search.best_params_.items() if k.startswith(\"tfidf__\")}\n",
    "tfidf_params"
   ]
  },
  {
   "cell_type": "code",
   "execution_count": 71,
   "id": "db42c209-f455-4af1-a6dd-e2199620e5d6",
   "metadata": {},
   "outputs": [],
   "source": [
    "vectorizer = TfidfVectorizer(**tfidf_params)\n",
    "\n",
    "X_vectorized = pd.DataFrame(\n",
    "    vectorizer.fit_transform(X_preproc).toarray(),\n",
    "    columns=vectorizer.get_feature_names_out(),\n",
    "    index=X_preproc.index\n",
    ")"
   ]
  },
  {
   "cell_type": "code",
   "execution_count": 72,
   "id": "d47bf5e4-a318-4ee2-9798-401eed57b6e1",
   "metadata": {},
   "outputs": [
    {
     "name": "stdout",
     "output_type": "stream",
     "text": [
      "TfidfVectorizer Parameters: {'analyzer': 'word', 'binary': False, 'decode_error': 'strict', 'dtype': <class 'numpy.float64'>, 'encoding': 'utf-8', 'input': 'content', 'lowercase': True, 'max_df': 0.9, 'max_features': 7500, 'min_df': 1, 'ngram_range': (1, 1), 'norm': 'l2', 'preprocessor': None, 'smooth_idf': True, 'stop_words': None, 'strip_accents': None, 'sublinear_tf': False, 'token_pattern': '(?u)\\\\b\\\\w\\\\w+\\\\b', 'tokenizer': None, 'use_idf': True, 'vocabulary': None}\n"
     ]
    }
   ],
   "source": [
    "print(\"TfidfVectorizer Parameters:\", vectorizer.get_params())"
   ]
  },
  {
   "cell_type": "markdown",
   "id": "13e8193e-1e8d-4a98-99f4-386c2eff5a6d",
   "metadata": {},
   "source": [
    "**Split data**"
   ]
  },
  {
   "cell_type": "code",
   "execution_count": 73,
   "id": "4b4cca30-ecd5-42c9-baee-669503300dcb",
   "metadata": {},
   "outputs": [
    {
     "name": "stdout",
     "output_type": "stream",
     "text": [
      "0    0.265638\n",
      "5    0.131505\n",
      "6    0.128386\n",
      "4    0.127073\n",
      "1    0.121655\n",
      "2    0.115252\n",
      "3    0.063372\n",
      "7    0.047119\n",
      "Name: proportion, dtype: float64\n"
     ]
    }
   ],
   "source": [
    "print(pd.Series(y_cat).value_counts(normalize=True))"
   ]
  },
  {
   "cell_type": "code",
   "execution_count": 74,
   "id": "69c0fcb3-b270-4ec6-a6de-5e0129d34f46",
   "metadata": {},
   "outputs": [
    {
     "name": "stdout",
     "output_type": "stream",
     "text": [
      "types <class 'pandas.core.frame.DataFrame'> <class 'pandas.core.frame.DataFrame'> <class 'numpy.ndarray'> <class 'numpy.ndarray'>\n"
     ]
    },
    {
     "data": {
      "text/plain": [
       "('Shapes', (4872, 7500), (1219, 7500), (4872,), (1219,))"
      ]
     },
     "execution_count": 74,
     "metadata": {},
     "output_type": "execute_result"
    }
   ],
   "source": [
    "X_train, X_test, y_train, y_test = train_test_split(\n",
    "    X_vectorized, y_cat, test_size=0.2, stratify=y_cat, random_state=42\n",
    ")\n",
    "print('types', type(X_train), type(X_test), type(y_train), type(y_test))\n",
    "'Shapes', X_train.shape, X_test.shape, y_train.shape, y_test.shape"
   ]
  },
  {
   "cell_type": "code",
   "execution_count": 75,
   "id": "cfe9ca10-b91d-45a5-ae1b-eba28c40578e",
   "metadata": {},
   "outputs": [
    {
     "name": "stdout",
     "output_type": "stream",
     "text": [
      "0    0.265599\n",
      "5    0.131568\n",
      "6    0.128284\n",
      "4    0.127053\n",
      "1    0.121716\n",
      "2    0.115148\n",
      "3    0.063424\n",
      "7    0.047209\n",
      "Name: proportion, dtype: float64\n"
     ]
    }
   ],
   "source": [
    "print(pd.Series(y_train).value_counts(normalize=True))"
   ]
  },
  {
   "cell_type": "code",
   "execution_count": 76,
   "id": "f0697eb8-582a-4cd5-bb25-168ae718bf03",
   "metadata": {},
   "outputs": [
    {
     "name": "stdout",
     "output_type": "stream",
     "text": [
      "0    0.265792\n",
      "5    0.131255\n",
      "6    0.128794\n",
      "4    0.127153\n",
      "1    0.121411\n",
      "2    0.115669\n",
      "3    0.063167\n",
      "7    0.046760\n",
      "Name: proportion, dtype: float64\n"
     ]
    }
   ],
   "source": [
    "print(pd.Series(y_test).value_counts(normalize=True))"
   ]
  },
  {
   "cell_type": "markdown",
   "id": "1d5f31fc-ddf6-462b-af57-1ec33cb2a30b",
   "metadata": {},
   "source": [
    "**Resample training data**"
   ]
  },
  {
   "cell_type": "code",
   "execution_count": 77,
   "id": "4bb6423d-64e4-4001-84cd-7e4507c6dc1e",
   "metadata": {},
   "outputs": [],
   "source": [
    "X_resampled, y_resampled = resampling(X_train, y_train)"
   ]
  },
  {
   "cell_type": "code",
   "execution_count": 78,
   "id": "ae6ed436-708f-4dbc-be37-d3c871063405",
   "metadata": {},
   "outputs": [
    {
     "name": "stdout",
     "output_type": "stream",
     "text": [
      "0    0.125\n",
      "1    0.125\n",
      "2    0.125\n",
      "3    0.125\n",
      "4    0.125\n",
      "5    0.125\n",
      "6    0.125\n",
      "7    0.125\n",
      "Name: proportion, dtype: float64\n"
     ]
    }
   ],
   "source": [
    "print(pd.Series(y_resampled).value_counts(normalize=True))"
   ]
  },
  {
   "cell_type": "markdown",
   "id": "37bf008a-e43c-49c0-b0e5-63a8d3636992",
   "metadata": {
    "jp-MarkdownHeadingCollapsed": true
   },
   "source": [
    "##### **Monitor best model energy consumption during training and inference - details**"
   ]
  },
  {
   "cell_type": "markdown",
   "id": "84b9042c-cb53-4988-a723-4e902ef70c65",
   "metadata": {},
   "source": [
    "**Monitor best model during training**"
   ]
  },
  {
   "cell_type": "code",
   "execution_count": 79,
   "id": "66dc5a62-4938-4a41-9c88-8ad36933ccf5",
   "metadata": {},
   "outputs": [
    {
     "data": {
      "text/plain": [
       "{'clean__kw_args': {'threshold': 17},\n",
       " 'estimator__alpha': 0.45,\n",
       " 'preproc__kw_args': {'threshold': 750},\n",
       " 'tfidf__max_df': 0.9,\n",
       " 'tfidf__max_features': 7500}"
      ]
     },
     "execution_count": 79,
     "metadata": {},
     "output_type": "execute_result"
    }
   ],
   "source": [
    "search.best_params_"
   ]
  },
  {
   "cell_type": "code",
   "execution_count": 80,
   "id": "14d6e541-692a-43ae-acba-e275e79ae941",
   "metadata": {},
   "outputs": [
    {
     "data": {
      "text/plain": [
       "{'alpha': 0.45}"
      ]
     },
     "execution_count": 80,
     "metadata": {},
     "output_type": "execute_result"
    }
   ],
   "source": [
    "estimator_params = {k.replace(\"estimator__\", \"\"): v for k, v in search.best_params_.items() if k.startswith(\"estimator__\")}\n",
    "estimator_params"
   ]
  },
  {
   "cell_type": "code",
   "execution_count": 81,
   "id": "523dce2f-e93c-460f-a8c5-2c19596d7e98",
   "metadata": {},
   "outputs": [
    {
     "name": "stdout",
     "output_type": "stream",
     "text": [
      "MultinomialNB Parameters: {'alpha': 0.45, 'class_prior': None, 'fit_prior': True, 'force_alpha': True}\n"
     ]
    }
   ],
   "source": [
    "best_model = MultinomialNB(**estimator_params)\n",
    "print(\"MultinomialNB Parameters:\", best_model.get_params())"
   ]
  },
  {
   "cell_type": "code",
   "execution_count": 82,
   "id": "74eb7876-071b-487f-b8b7-b0879019c8ca",
   "metadata": {},
   "outputs": [
    {
     "name": "stdout",
     "output_type": "stream",
     "text": [
      "                              metrics\n",
      "total_latency_sec        1.454358e-01\n",
      "sample_latency_sec       2.985136e-05\n",
      "total_energy_conso_kWh   2.079898e-06\n",
      "sample_energy_conso_kWh  4.269084e-10\n",
      "total_emissions_kgCO₂eq  1.207048e-07\n",
      "\n"
     ]
    }
   ],
   "source": [
    "best_model, best_model_train_metrics_df = monitor_training(best_model, X_train, y_train)\n",
    "print(best_model_train_metrics_df)\n",
    "print()"
   ]
  },
  {
   "cell_type": "markdown",
   "id": "ae0d58fa-d1e6-4add-9165-67138daf633a",
   "metadata": {},
   "source": [
    "**Monitor best model during inference**"
   ]
  },
  {
   "cell_type": "code",
   "execution_count": 83,
   "id": "24d3970b-b289-473c-8700-b368e5f54792",
   "metadata": {},
   "outputs": [
    {
     "name": "stdout",
     "output_type": "stream",
     "text": [
      "                              metrics\n",
      "total_latency_sec        3.742003e-02\n",
      "sample_latency_sec       3.069732e-05\n",
      "total_energy_conso_kWh   5.343454e-07\n",
      "sample_energy_conso_kWh  4.383473e-10\n",
      "total_emissions_kgCO₂eq  3.101020e-08\n",
      "\n"
     ]
    }
   ],
   "source": [
    "y_pred, best_model_inf_metrics_df = monitor_inference(best_model, X_test)\n",
    "\n",
    "print(best_model_inf_metrics_df)\n",
    "print()"
   ]
  },
  {
   "cell_type": "markdown",
   "id": "bee821ca-83f1-4c5b-9b71-05fb1bca8079",
   "metadata": {},
   "source": [
    "##### **Monitor best model energy consumption during training and inference - summary**"
   ]
  },
  {
   "cell_type": "code",
   "execution_count": 84,
   "id": "12ef23bf-4a07-4f51-ac2a-2b7e3a603ba2",
   "metadata": {},
   "outputs": [
    {
     "data": {
      "text/html": [
       "<div>\n",
       "<style scoped>\n",
       "    .dataframe tbody tr th:only-of-type {\n",
       "        vertical-align: middle;\n",
       "    }\n",
       "\n",
       "    .dataframe tbody tr th {\n",
       "        vertical-align: top;\n",
       "    }\n",
       "\n",
       "    .dataframe thead th {\n",
       "        text-align: right;\n",
       "    }\n",
       "</style>\n",
       "<table border=\"1\" class=\"dataframe\">\n",
       "  <thead>\n",
       "    <tr style=\"text-align: right;\">\n",
       "      <th></th>\n",
       "      <th>training</th>\n",
       "      <th>inference</th>\n",
       "    </tr>\n",
       "  </thead>\n",
       "  <tbody>\n",
       "    <tr>\n",
       "      <th>total_latency_sec</th>\n",
       "      <td>1.989603e-01</td>\n",
       "      <td>6.663823e-02</td>\n",
       "    </tr>\n",
       "    <tr>\n",
       "      <th>sample_latency_sec</th>\n",
       "      <td>3.843901e-05</td>\n",
       "      <td>5.466631e-05</td>\n",
       "    </tr>\n",
       "    <tr>\n",
       "      <th>total_energy_conso_kWh</th>\n",
       "      <td>2.845615e-06</td>\n",
       "      <td>9.525356e-07</td>\n",
       "    </tr>\n",
       "    <tr>\n",
       "      <th>sample_energy_conso_kWh</th>\n",
       "      <td>5.497711e-10</td>\n",
       "      <td>7.814074e-10</td>\n",
       "    </tr>\n",
       "    <tr>\n",
       "      <th>total_emissions_kgCO₂eq</th>\n",
       "      <td>1.651424e-07</td>\n",
       "      <td>5.527945e-08</td>\n",
       "    </tr>\n",
       "  </tbody>\n",
       "</table>\n",
       "</div>"
      ],
      "text/plain": [
       "                             training     inference\n",
       "total_latency_sec        1.989603e-01  6.663823e-02\n",
       "sample_latency_sec       3.843901e-05  5.466631e-05\n",
       "total_energy_conso_kWh   2.845615e-06  9.525356e-07\n",
       "sample_energy_conso_kWh  5.497711e-10  7.814074e-10\n",
       "total_emissions_kgCO₂eq  1.651424e-07  5.527945e-08"
      ]
     },
     "execution_count": 84,
     "metadata": {},
     "output_type": "execute_result"
    }
   ],
   "source": [
    "df_combined = pd.concat([train_efficiency_metrics_df, inf_efficiency_metrics_df], axis=1)\n",
    "df_combined.columns = ['training', 'inference']\n",
    "df_combined"
   ]
  },
  {
   "cell_type": "markdown",
   "id": "3a26d3a1-3a06-4fef-b5e5-aca507133064",
   "metadata": {},
   "source": [
    "##### **Evaluation**"
   ]
  },
  {
   "cell_type": "code",
   "execution_count": 85,
   "id": "26dd9d93-b9ea-4815-967f-941d62a687c0",
   "metadata": {},
   "outputs": [
    {
     "name": "stdout",
     "output_type": "stream",
     "text": [
      "\n",
      "best_model_test_accuracy: 0.56 \n",
      "\n",
      "Class metrics:\n"
     ]
    },
    {
     "data": {
      "text/html": [
       "<div>\n",
       "<style scoped>\n",
       "    .dataframe tbody tr th:only-of-type {\n",
       "        vertical-align: middle;\n",
       "    }\n",
       "\n",
       "    .dataframe tbody tr th {\n",
       "        vertical-align: top;\n",
       "    }\n",
       "\n",
       "    .dataframe thead th {\n",
       "        text-align: right;\n",
       "    }\n",
       "</style>\n",
       "<table border=\"1\" class=\"dataframe\">\n",
       "  <thead>\n",
       "    <tr style=\"text-align: right;\">\n",
       "      <th></th>\n",
       "      <th>Category</th>\n",
       "      <th>Accuracy</th>\n",
       "      <th>Precision</th>\n",
       "      <th>Recall</th>\n",
       "      <th>F1 Score</th>\n",
       "    </tr>\n",
       "  </thead>\n",
       "  <tbody>\n",
       "    <tr>\n",
       "      <th>0</th>\n",
       "      <td>0</td>\n",
       "      <td>0.81</td>\n",
       "      <td>0.47</td>\n",
       "      <td>0.81</td>\n",
       "      <td>0.60</td>\n",
       "    </tr>\n",
       "    <tr>\n",
       "      <th>1</th>\n",
       "      <td>1</td>\n",
       "      <td>0.60</td>\n",
       "      <td>0.72</td>\n",
       "      <td>0.60</td>\n",
       "      <td>0.65</td>\n",
       "    </tr>\n",
       "    <tr>\n",
       "      <th>2</th>\n",
       "      <td>2</td>\n",
       "      <td>0.65</td>\n",
       "      <td>0.60</td>\n",
       "      <td>0.65</td>\n",
       "      <td>0.62</td>\n",
       "    </tr>\n",
       "    <tr>\n",
       "      <th>3</th>\n",
       "      <td>3</td>\n",
       "      <td>0.29</td>\n",
       "      <td>0.92</td>\n",
       "      <td>0.29</td>\n",
       "      <td>0.44</td>\n",
       "    </tr>\n",
       "    <tr>\n",
       "      <th>4</th>\n",
       "      <td>4</td>\n",
       "      <td>0.45</td>\n",
       "      <td>0.54</td>\n",
       "      <td>0.45</td>\n",
       "      <td>0.49</td>\n",
       "    </tr>\n",
       "    <tr>\n",
       "      <th>5</th>\n",
       "      <td>5</td>\n",
       "      <td>0.55</td>\n",
       "      <td>0.61</td>\n",
       "      <td>0.55</td>\n",
       "      <td>0.58</td>\n",
       "    </tr>\n",
       "    <tr>\n",
       "      <th>6</th>\n",
       "      <td>6</td>\n",
       "      <td>0.35</td>\n",
       "      <td>0.65</td>\n",
       "      <td>0.35</td>\n",
       "      <td>0.45</td>\n",
       "    </tr>\n",
       "    <tr>\n",
       "      <th>7</th>\n",
       "      <td>7</td>\n",
       "      <td>0.07</td>\n",
       "      <td>1.00</td>\n",
       "      <td>0.07</td>\n",
       "      <td>0.13</td>\n",
       "    </tr>\n",
       "  </tbody>\n",
       "</table>\n",
       "</div>"
      ],
      "text/plain": [
       "   Category  Accuracy  Precision  Recall  F1 Score\n",
       "0         0      0.81       0.47    0.81      0.60\n",
       "1         1      0.60       0.72    0.60      0.65\n",
       "2         2      0.65       0.60    0.65      0.62\n",
       "3         3      0.29       0.92    0.29      0.44\n",
       "4         4      0.45       0.54    0.45      0.49\n",
       "5         5      0.55       0.61    0.55      0.58\n",
       "6         6      0.35       0.65    0.35      0.45\n",
       "7         7      0.07       1.00    0.07      0.13"
      ]
     },
     "execution_count": 85,
     "metadata": {},
     "output_type": "execute_result"
    }
   ],
   "source": [
    "best_model_test_accuracy, best_model_eval_perf_metrics_df = evaluation(y_test, y_pred)\n",
    "\n",
    "print('\\nbest_model_test_accuracy:', round(best_model_test_accuracy, 3), '\\n')\n",
    "print('Class metrics:')\n",
    "best_model_eval_perf_metrics_df.round(2)"
   ]
  },
  {
   "cell_type": "code",
   "execution_count": 86,
   "id": "fb40093b-382b-44b2-bd5a-ed8a7d303f72",
   "metadata": {},
   "outputs": [
    {
     "name": "stdout",
     "output_type": "stream",
     "text": [
      "Category distribution\n",
      "                                 total  train  test  total%  train%  test%\n",
      "label                                                                     \n",
      "0_not_relevant                    1618    647   324    0.27    0.12   0.27\n",
      "1_not_happening                    741    647   148    0.12    0.12   0.12\n",
      "2_not_human                        702    647   141    0.12    0.12   0.12\n",
      "3_not_bad                          386    647    77    0.06    0.12   0.06\n",
      "4_solutions_harmful_unnecessary    774    647   155    0.13    0.12   0.13\n",
      "5_science_unreliable               801    647   160    0.13    0.12   0.13\n",
      "6_proponents_biased                782    647   157    0.13    0.12   0.13\n",
      "7_fossil_fuels_needed              287    647    57    0.05    0.12   0.05\n",
      "\n",
      "Category metrics\n",
      "   Category  Accuracy  Precision  Recall  F1 Score\n",
      "0         0      0.81       0.47    0.81      0.60\n",
      "1         1      0.60       0.72    0.60      0.65\n",
      "2         2      0.65       0.60    0.65      0.62\n",
      "3         3      0.29       0.92    0.29      0.44\n",
      "4         4      0.45       0.54    0.45      0.49\n",
      "5         5      0.55       0.61    0.55      0.58\n",
      "6         6      0.35       0.65    0.35      0.45\n",
      "7         7      0.07       1.00    0.07      0.13\n",
      "\n"
     ]
    },
    {
     "data": {
      "image/png": "[encoded data removed]",
      "text/plain": [
       "<Figure size 800x500 with 1 Axes>"
      ]
     },
     "metadata": {},
     "output_type": "display_data"
    },
    {
     "name": "stdout",
     "output_type": "stream",
     "text": [
      "\n"
     ]
    }
   ],
   "source": [
    "plot_metrics(best_model_test_accuracy, best_model_eval_perf_metrics_df)"
   ]
  },
  {
   "cell_type": "markdown",
   "id": "7c36e748-51ae-46fa-b4dd-d7f88ffebca4",
   "metadata": {},
   "source": [
    "**Confusion matrix**"
   ]
  },
  {
   "cell_type": "code",
   "execution_count": 87,
   "id": "c3a5e5e5-3118-44ca-ad05-a7cdd653f8bf",
   "metadata": {},
   "outputs": [
    {
     "data": {
      "image/png": "[encoded data removed]",
      "text/plain": [
       "<Figure size 500x300 with 2 Axes>"
      ]
     },
     "metadata": {},
     "output_type": "display_data"
    }
   ],
   "source": [
    "plot_confusion_matrix(y_test, y_pred)"
   ]
  },
  {
   "cell_type": "markdown",
   "id": "c3f7e112-ebea-4dac-aede-3a67f08f09e7",
   "metadata": {},
   "source": [
    "## 8. **Save metadata**"
   ]
  },
  {
   "cell_type": "code",
   "execution_count": 88,
   "id": "d0a645dc-89f7-4d40-a224-ed5081e555ad",
   "metadata": {},
   "outputs": [
    {
     "data": {
      "text/plain": [
       "'2025-01-30_18:21:04'"
      ]
     },
     "execution_count": 88,
     "metadata": {},
     "output_type": "execute_result"
    }
   ],
   "source": [
    "import datetime\n",
    "timestamp = datetime.datetime.now().strftime(\"%Y-%m-%d_%H:%M:%S\")\n",
    "timestamp"
   ]
  },
  {
   "cell_type": "code",
   "execution_count": 94,
   "id": "767ba340-52d3-47ec-b1be-1a604c9e2cda",
   "metadata": {},
   "outputs": [],
   "source": [
    "note = \"Baseline ML, improved preproc, param search\"\n",
    "model_name = 'MultinomialNB'"
   ]
  },
  {
   "cell_type": "code",
   "execution_count": 95,
   "id": "e2e39b89-a95e-4f47-8aa6-280fe0cd1259",
   "metadata": {},
   "outputs": [
    {
     "data": {
      "text/plain": [
       "'metrics/MultinomialNB_accuracy_56_dt_20250130_182104.json'"
      ]
     },
     "execution_count": 95,
     "metadata": {},
     "output_type": "execute_result"
    }
   ],
   "source": [
    "filename = (\n",
    "    \"metrics/\"\n",
    "    f\"{'_'.join(model_name.split('/'))}\"\n",
    "    f\"_accuracy_{int(best_model_test_accuracy * 100)}\"\n",
    "    f\"_dt_{timestamp.replace(':', '').replace('-', '')}\"\n",
    "    \".json\"\n",
    ")\n",
    "filename"
   ]
  },
  {
   "cell_type": "code",
   "execution_count": 96,
   "id": "add0cead-3a52-4763-975d-c9c80212c1d5",
   "metadata": {},
   "outputs": [
    {
     "data": {
      "text/plain": [
       "{'model_name': 'MultinomialNB',\n",
       " 'timestamp': '2025-01-30_18:21:04',\n",
       " 'note': 'Baseline ML, improved preproc, param search',\n",
       " 'baseline_test_accuracy': 0.561115668580804,\n",
       " 'best_model_test_accuracy': 0.5602953240360952,\n",
       " 'total_training_latency_sec': 0.1989603042602539,\n",
       " 'total_training_energy_conso_kWh': 2.8456153141127695e-06,\n",
       " 'total_inference_latency_sec': 0.06663823127746582,\n",
       " 'total_inference_energy_conso_kWh': 9.525355696678163e-07,\n",
       " 'sample_inference_latency_sec': 5.466630949751093e-05,\n",
       " 'sample_inference_energy_conso_kWh': 7.81407358218061e-10,\n",
       " 'train_size': 4872,\n",
       " 'test_size': 1219,\n",
       " 'class_performance_metrics': [{'Category': 0,\n",
       "   'Accuracy': 0.3271604938271605,\n",
       "   'Precision': 0.8617886178861789,\n",
       "   'Recall': 0.3271604938271605,\n",
       "   'F1 Score': 0.4742729306487696},\n",
       "  {'Category': 1,\n",
       "   'Accuracy': 0.6486486486486487,\n",
       "   'Precision': 0.676056338028169,\n",
       "   'Recall': 0.6486486486486487,\n",
       "   'F1 Score': 0.6620689655172414},\n",
       "  {'Category': 2,\n",
       "   'Accuracy': 0.7446808510638298,\n",
       "   'Precision': 0.5440414507772021,\n",
       "   'Recall': 0.7446808510638298,\n",
       "   'F1 Score': 0.6287425149700598},\n",
       "  {'Category': 3,\n",
       "   'Accuracy': 0.6233766233766234,\n",
       "   'Precision': 0.5853658536585366,\n",
       "   'Recall': 0.6233766233766234,\n",
       "   'F1 Score': 0.6037735849056604},\n",
       "  {'Category': 4,\n",
       "   'Accuracy': 0.632258064516129,\n",
       "   'Precision': 0.49,\n",
       "   'Recall': 0.632258064516129,\n",
       "   'F1 Score': 0.5521126760563381},\n",
       "  {'Category': 5,\n",
       "   'Accuracy': 0.60625,\n",
       "   'Precision': 0.5078534031413613,\n",
       "   'Recall': 0.60625,\n",
       "   'F1 Score': 0.5527065527065527},\n",
       "  {'Category': 6,\n",
       "   'Accuracy': 0.5732484076433121,\n",
       "   'Precision': 0.5113636363636364,\n",
       "   'Recall': 0.5732484076433121,\n",
       "   'F1 Score': 0.5405405405405406},\n",
       "  {'Category': 7,\n",
       "   'Accuracy': 0.7719298245614035,\n",
       "   'Precision': 0.39285714285714285,\n",
       "   'Recall': 0.7719298245614035,\n",
       "   'F1 Score': 0.5207100591715976}],\n",
       " 'search_best_params': {'clean__kw_args': {'threshold': 17},\n",
       "  'estimator__alpha': 0.45,\n",
       "  'preproc__kw_args': {'threshold': 750},\n",
       "  'tfidf__max_df': 0.9,\n",
       "  'tfidf__max_features': 7500},\n",
       " 'training_efficiency_metrics': [{'metrics': 0.1989603042602539},\n",
       "  {'metrics': 3.8439007778256164e-05},\n",
       "  {'metrics': 2.8456153141127695e-06},\n",
       "  {'metrics': 5.49771119419005e-10},\n",
       "  {'metrics': 1.6514243913922047e-07}],\n",
       " 'inference_efficiency_metrics': [{'metrics': 0.06663823127746582},\n",
       "  {'metrics': 5.466630949751093e-05},\n",
       "  {'metrics': 9.525355696678163e-07},\n",
       "  {'metrics': 7.81407358218061e-10},\n",
       "  {'metrics': 5.527944925010205e-08}]}"
      ]
     },
     "execution_count": 96,
     "metadata": {},
     "output_type": "execute_result"
    }
   ],
   "source": [
    "import os\n",
    "\n",
    "os.makedirs(\"metrics\", exist_ok=True)\n",
    "\n",
    "data = {\n",
    "    \"model_name\": model_name,\n",
    "    \"timestamp\": timestamp,\n",
    "    \"note\": note,\n",
    "\n",
    "    \"baseline_test_accuracy\": baseline_test_accuracy,\n",
    "    \"best_model_test_accuracy\": best_model_test_accuracy,\n",
    "\n",
    "    \"total_training_latency_sec\": train_efficiency_metrics_df['metrics'].loc['total_latency_sec'],\n",
    "    \"total_training_energy_conso_kWh\": train_efficiency_metrics_df['metrics'].loc['total_energy_conso_kWh'],\n",
    "\n",
    "    \"total_inference_latency_sec\": inf_efficiency_metrics_df['metrics'].loc['total_latency_sec'],\n",
    "    \"total_inference_energy_conso_kWh\": inf_efficiency_metrics_df['metrics'].loc['total_energy_conso_kWh'],\n",
    "\n",
    "    \"sample_inference_latency_sec\": inf_efficiency_metrics_df['metrics'].loc['sample_latency_sec'],\n",
    "    \"sample_inference_energy_conso_kWh\": inf_efficiency_metrics_df['metrics'].loc['sample_energy_conso_kWh'],\n",
    "\n",
    "    \"train_size\" : y_train.shape[0],\n",
    "    \"test_size\" :  y_test.shape[0],\n",
    "    \"class_performance_metrics\": eval_perf_metrics_df.to_dict(orient=\"records\"),\n",
    "    \"search_best_params\" : search.best_params_,\n",
    "    \"training_efficiency_metrics\": train_efficiency_metrics_df.to_dict(orient=\"records\"),\n",
    "    \"inference_efficiency_metrics\": inf_efficiency_metrics_df.to_dict(orient=\"records\")\n",
    "}\n",
    "data"
   ]
  },
  {
   "cell_type": "code",
   "execution_count": 97,
   "id": "7ff80c55-58d5-456b-88f4-47a71ca17d3b",
   "metadata": {},
   "outputs": [
    {
     "name": "stdout",
     "output_type": "stream",
     "text": [
      "Metrics saved to metrics/MultinomialNB_accuracy_56_dt_20250130_182104.json\n"
     ]
    }
   ],
   "source": [
    "import json\n",
    "\n",
    "with open(filename, \"w\") as f:\n",
    "    json.dump(data, f, indent=4)\n",
    "\n",
    "print(f\"Metrics saved to {filename}\")"
   ]
  },
  {
   "cell_type": "code",
   "execution_count": null,
   "id": "66269154-c3e0-465c-b550-784177963b73",
   "metadata": {},
   "outputs": [],
   "source": []
  }
 ],
 "metadata": {
  "kernelspec": {
   "display_name": "Python 3 (ipykernel)",
   "language": "python",
   "name": "python3"
  },
  "language_info": {
   "codemirror_mode": {
    "name": "ipython",
    "version": 3
   },
   "file_extension": ".py",
   "mimetype": "text/x-python",
   "name": "python",
   "nbconvert_exporter": "python",
   "pygments_lexer": "ipython3",
   "version": "3.9.21"
  }
 },
 "nbformat": 4,
 "nbformat_minor": 5
}
